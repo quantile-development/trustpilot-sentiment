{
 "cells": [
  {
   "cell_type": "code",
   "execution_count": 1,
   "metadata": {},
   "outputs": [],
   "source": [
    "import requests\n",
    "from bs4 import BeautifulSoup\n",
    "import pandas as pd\n",
    "import numpy as np\n",
    "import json\n",
    "import time\n",
    "import random"
   ]
  },
  {
   "cell_type": "code",
   "execution_count": 2,
   "metadata": {},
   "outputs": [],
   "source": [
    "companies = [\n",
    "    'www.booking.com',\n",
    "    'www.cheaptickets.nl',\n",
    "    'www.bol.com',\n",
    "    'www.coolblue.nl',\n",
    "    'www.wehkamp.nl',\n",
    "    'www.zalando.nl',\n",
    "    'www.mediamarkt.nl',\n",
    "    'www.debijenkorf.nl',\n",
    "    \n",
    "]"
   ]
  },
  {
   "cell_type": "code",
   "execution_count": 22,
   "metadata": {},
   "outputs": [],
   "source": [
    "def get_no_pages(company_url):\n",
    "    \n",
    "    resp = requests.get(f'https://www.trustpilot.com/review/{company_url}')\n",
    "    \n",
    "    ### Select relevant HTML elements of webpage\n",
    "    soup = BeautifulSoup(resp.text, 'html.parser')\n",
    "    reviews = soup.find_all('article', class_='review')\n",
    "\n",
    "    total_reviews = json.loads(soup.find('script', attrs={'data-initial-state': 'review-list'}).string)['totalNumberOfReviews']\n",
    "    pages = round(total_reviews / 20)\n",
    "    \n",
    "    return pages\n",
    "    "
   ]
  },
  {
   "cell_type": "code",
   "execution_count": 16,
   "metadata": {},
   "outputs": [],
   "source": [
    "pages, soup = get_no_pages('www.booking.com')"
   ]
  },
  {
   "cell_type": "code",
   "execution_count": null,
   "metadata": {},
   "outputs": [],
   "source": [
    "review.find('div', attrs={'class': 'consumer-information__name'}):\n",
    "                tmp.append(review.find('div', attrs={'class': 'consumer-information__name'}).text.strip())\n"
   ]
  },
  {
   "cell_type": "code",
   "execution_count": 19,
   "metadata": {},
   "outputs": [
    {
     "data": {
      "text/plain": [
       "'/review/www.booking.com?b=MTYxODE1OTcwODAwMHw2MDczMjg1Y2Y4NWQ3NTA4NzA1NWYzMTc'"
      ]
     },
     "execution_count": 19,
     "metadata": {},
     "output_type": "execute_result"
    }
   ],
   "source": [
    "soup.find('a', attrs={'data-page-number': 'next-page'})['href']"
   ]
  },
  {
   "cell_type": "code",
   "execution_count": null,
   "metadata": {},
   "outputs": [],
   "source": []
  },
  {
   "cell_type": "code",
   "execution_count": 44,
   "metadata": {},
   "outputs": [],
   "source": [
    "def scrape_info(max_pages=5):\n",
    "    \n",
    "    ### Get url to make request to\n",
    "    company_url = input(\"Enter url-adress of company of interest\")\n",
    "    \n",
    "    pages = get_no_pages(company_url)\n",
    "    \n",
    "    request_url = f'https://www.trustpilot.com/review/{company_url}'\n",
    "    \n",
    "    records = []\n",
    "    \n",
    "    for page in range(1, pages+1):\n",
    "        if page > max_pages:\n",
    "            break\n",
    "        \n",
    "#         request_url = f'https://www.trustpilot.com/review/{company_url}?languages=nl&page={page}'\n",
    "#         request_url = f'https://www.trustpilot.com/review/{company_url}?page={page}'\n",
    "\n",
    "        \n",
    "        time.sleep(random.uniform(2, 6))\n",
    "        \n",
    "        ### Make the request\n",
    "        resp = requests.get(request_url)\n",
    "        print(f'response: {resp}')\n",
    "\n",
    "        ### Select relevant HTML elements of webpage\n",
    "        soup = BeautifulSoup(resp.text, 'html.parser')\n",
    "        reviews = soup.find_all('article', class_='review')\n",
    "        \n",
    "        next_url = soup.find('a', attrs={'data-page-number': 'next-page'})['href']\n",
    "        request_url = f'https://www.trustpilot.com{next_url}'\n",
    "\n",
    "        ### Extract the desired information\n",
    "        for review in reviews:\n",
    "            tmp = []\n",
    "\n",
    "            # name\n",
    "            if review.find('div', attrs={'class': 'consumer-information__name'}):\n",
    "                tmp.append(review.find('div', attrs={'class': 'consumer-information__name'}).text.strip())\n",
    "\n",
    "            # number of reviews\n",
    "            if review.find('div', attrs={'class': 'consumer-information__review-count'}):\n",
    "                tmp.append(review.find('div', attrs={'class': 'consumer-information__review-count'}).text.strip())\n",
    "\n",
    "            # location\n",
    "            if review.find('div', attrs={'class': 'consumer-information__location'}):\n",
    "                tmp.append(review.find('div', attrs={'class': 'consumer-information__location'}).text.strip())\n",
    "\n",
    "            # rating\n",
    "            if review.find(\"div\", {\"class\":\"star-rating star-rating--medium\"}):\n",
    "                tmp.append(review.find(\"div\", {\"class\":\"star-rating star-rating--medium\"}).find('img').get('alt'))\n",
    "\n",
    "            # review header\n",
    "            tmp.append(json.loads(review.find('script').string)['reviewHeader'])\n",
    "\n",
    "            # review text\n",
    "            tmp.append(json.loads(review.find('script').string)['reviewBody'])\n",
    "\n",
    "            # time published\n",
    "            tmp.append(json.loads(review.find('script', attrs={'data-initial-state': 'review-dates'}).string)['publishedDate'])\n",
    "\n",
    "            # if company reply\n",
    "            if review.find('div', attrs={'class': 'review__company-reply'}):\n",
    "                # responded\n",
    "                tmp.append(1)\n",
    "\n",
    "                # time published\n",
    "                tmp.append(json.loads(review.find('script', attrs={'data-initial-state': 'review-reply-dates'}).string)['publishedDate'])\n",
    "\n",
    "                # response\n",
    "                tmp.append(review.find('div', attrs={'class': 'brand-company-reply__content'}).text.strip()) \n",
    "            else:\n",
    "                # not responded\n",
    "                tmp.append(0)\n",
    "                tmp.append(None)\n",
    "                tmp.append(None)\n",
    "                \n",
    "            records.append(tmp)\n",
    "\n",
    "        \n",
    "    ### Build pandas dataframe with review data\n",
    "    \n",
    "    # column names\n",
    "    labels = ['name', 'nb_reviews', 'location', 'rating', 'header', 'content', 'date', 'responded', 'response_date', 'response']\n",
    "    \n",
    "    # create dataframe\n",
    "    df = pd.DataFrame.from_records(records, columns=labels)\n",
    "    \n",
    "    ### Clean data\n",
    "    \n",
    "    df['nb_reviews'] = df['nb_reviews'].apply(lambda x: int(x.split()[0]))\n",
    "    df['rating'] = df['rating'].apply(lambda x: int(x.split()[0]))\n",
    "    df['date'] = pd.to_datetime(df['date'])\n",
    "    df['response_date'] = pd.to_datetime(df['response_date'])\n",
    "    df['response'] = df['response'].fillna('-')\n",
    "    \n",
    "    return df"
   ]
  },
  {
   "cell_type": "code",
   "execution_count": 5,
   "metadata": {},
   "outputs": [
    {
     "data": {
      "text/plain": [
       "['www.booking.com',\n",
       " 'www.cheaptickets.nl',\n",
       " 'www.bol.com',\n",
       " 'www.coolblue.nl',\n",
       " 'www.wehkamp.nl',\n",
       " 'www.zalando.nl',\n",
       " 'www.mediamarkt.nl',\n",
       " 'www.debijenkorf.nl']"
      ]
     },
     "execution_count": 5,
     "metadata": {},
     "output_type": "execute_result"
    }
   ],
   "source": [
    "companies"
   ]
  },
  {
   "cell_type": "code",
   "execution_count": 45,
   "metadata": {
    "scrolled": false
   },
   "outputs": [
    {
     "name": "stdout",
     "output_type": "stream",
     "text": [
      "Enter url-adress of company of interestwww.booking.com\n",
      "response: <Response [200]>\n",
      "response: <Response [200]>\n",
      "response: <Response [200]>\n",
      "response: <Response [200]>\n",
      "response: <Response [200]>\n"
     ]
    }
   ],
   "source": [
    "# Scrape reviews\n",
    "booking = scrape_info(max_pages=5)"
   ]
  },
  {
   "cell_type": "code",
   "execution_count": 47,
   "metadata": {},
   "outputs": [
    {
     "name": "stdout",
     "output_type": "stream",
     "text": [
      "Enter url-adress of company of interestwww.cheaptickets.nl\n",
      "response: <Response [200]>\n",
      "response: <Response [200]>\n",
      "response: <Response [200]>\n",
      "response: <Response [200]>\n",
      "response: <Response [200]>\n"
     ]
    }
   ],
   "source": [
    "cheaptickets = scrape_info(max_pages=5)"
   ]
  },
  {
   "cell_type": "code",
   "execution_count": 48,
   "metadata": {},
   "outputs": [
    {
     "name": "stdout",
     "output_type": "stream",
     "text": [
      "Enter url-adress of company of interestwww.bol.com\n",
      "response: <Response [200]>\n",
      "response: <Response [200]>\n",
      "response: <Response [200]>\n",
      "response: <Response [200]>\n",
      "response: <Response [200]>\n"
     ]
    }
   ],
   "source": [
    "bol = scrape_info(max_pages=5)"
   ]
  },
  {
   "cell_type": "code",
   "execution_count": 49,
   "metadata": {},
   "outputs": [
    {
     "name": "stdout",
     "output_type": "stream",
     "text": [
      "Enter url-adress of company of interestwww.coolblue.nl\n",
      "response: <Response [200]>\n",
      "response: <Response [200]>\n",
      "response: <Response [200]>\n",
      "response: <Response [200]>\n",
      "response: <Response [200]>\n"
     ]
    }
   ],
   "source": [
    "coolblue = scrape_info(max_pages=5)"
   ]
  },
  {
   "cell_type": "code",
   "execution_count": 50,
   "metadata": {},
   "outputs": [
    {
     "name": "stdout",
     "output_type": "stream",
     "text": [
      "Enter url-adress of company of interestwww.wehkamp.nl\n",
      "response: <Response [200]>\n",
      "response: <Response [200]>\n",
      "response: <Response [200]>\n",
      "response: <Response [200]>\n"
     ]
    }
   ],
   "source": [
    "wehkamp = scrape_info(max_pages=5)"
   ]
  },
  {
   "cell_type": "code",
   "execution_count": 51,
   "metadata": {},
   "outputs": [
    {
     "name": "stdout",
     "output_type": "stream",
     "text": [
      "Enter url-adress of company of interestwww.zalando.nl\n",
      "response: <Response [200]>\n",
      "response: <Response [200]>\n",
      "response: <Response [200]>\n",
      "response: <Response [200]>\n",
      "response: <Response [200]>\n"
     ]
    }
   ],
   "source": [
    "zalando = scrape_info(max_pages=5)"
   ]
  },
  {
   "cell_type": "code",
   "execution_count": 52,
   "metadata": {},
   "outputs": [
    {
     "name": "stdout",
     "output_type": "stream",
     "text": [
      "Enter url-adress of company of interestwww.mediamarkt.nl\n",
      "response: <Response [200]>\n",
      "response: <Response [200]>\n",
      "response: <Response [200]>\n",
      "response: <Response [200]>\n",
      "response: <Response [200]>\n"
     ]
    }
   ],
   "source": [
    "mediamarkt = scrape_info(max_pages=5)"
   ]
  },
  {
   "cell_type": "code",
   "execution_count": 53,
   "metadata": {},
   "outputs": [
    {
     "name": "stdout",
     "output_type": "stream",
     "text": [
      "Enter url-adress of company of interestwww.debijenkorf.nl\n",
      "response: <Response [200]>\n",
      "response: <Response [200]>\n",
      "response: <Response [200]>\n"
     ]
    }
   ],
   "source": [
    "debijenkorf = scrape_info(max_pages=5)"
   ]
  },
  {
   "cell_type": "code",
   "execution_count": 54,
   "metadata": {},
   "outputs": [],
   "source": [
    "# Add company column to dataframe\n",
    "booking['company'] = 'booking.com' \n",
    "\n",
    "cheaptickets['company'] = 'cheaptickets.nl' \n",
    "\n",
    "bol['company'] = 'bol.com' \n",
    "\n",
    "coolblue['company'] = 'coolblue.nl' \n",
    "\n",
    "wehkamp['company'] = 'wehkamp.nl' \n",
    "\n",
    "zalando['company'] = 'zalando.nl' \n",
    "\n",
    "mediamarkt['company'] = 'mediamarkt.nl' \n",
    "\n",
    "debijenkorf['company'] = 'debijenkorf.nl' "
   ]
  },
  {
   "cell_type": "code",
   "execution_count": 55,
   "metadata": {},
   "outputs": [
    {
     "data": {
      "text/html": [
       "<div>\n",
       "<style scoped>\n",
       "    .dataframe tbody tr th:only-of-type {\n",
       "        vertical-align: middle;\n",
       "    }\n",
       "\n",
       "    .dataframe tbody tr th {\n",
       "        vertical-align: top;\n",
       "    }\n",
       "\n",
       "    .dataframe thead th {\n",
       "        text-align: right;\n",
       "    }\n",
       "</style>\n",
       "<table border=\"1\" class=\"dataframe\">\n",
       "  <thead>\n",
       "    <tr style=\"text-align: right;\">\n",
       "      <th></th>\n",
       "      <th>name</th>\n",
       "      <th>nb_reviews</th>\n",
       "      <th>location</th>\n",
       "      <th>rating</th>\n",
       "      <th>header</th>\n",
       "      <th>content</th>\n",
       "      <th>date</th>\n",
       "      <th>responded</th>\n",
       "      <th>response_date</th>\n",
       "      <th>response</th>\n",
       "      <th>company</th>\n",
       "    </tr>\n",
       "  </thead>\n",
       "  <tbody>\n",
       "    <tr>\n",
       "      <th>0</th>\n",
       "      <td>Sherry Angel</td>\n",
       "      <td>1</td>\n",
       "      <td>US</td>\n",
       "      <td>1</td>\n",
       "      <td>Bad Bad Bad Company</td>\n",
       "      <td>I booked a villa through this company, found a...</td>\n",
       "      <td>2021-04-20 05:57:52+00:00</td>\n",
       "      <td>0</td>\n",
       "      <td>NaT</td>\n",
       "      <td>-</td>\n",
       "      <td>booking.com</td>\n",
       "    </tr>\n",
       "    <tr>\n",
       "      <th>1</th>\n",
       "      <td>David</td>\n",
       "      <td>1</td>\n",
       "      <td>US</td>\n",
       "      <td>1</td>\n",
       "      <td>I cancelled my reservation and booking.com nev...</td>\n",
       "      <td>If I could give them a negative 5 star review,...</td>\n",
       "      <td>2021-04-20 01:40:14+00:00</td>\n",
       "      <td>0</td>\n",
       "      <td>NaT</td>\n",
       "      <td>-</td>\n",
       "      <td>booking.com</td>\n",
       "    </tr>\n",
       "    <tr>\n",
       "      <th>2</th>\n",
       "      <td>Alexander Santos</td>\n",
       "      <td>1</td>\n",
       "      <td>US</td>\n",
       "      <td>1</td>\n",
       "      <td>Terrible experience with this website</td>\n",
       "      <td>Terrible experience with this website. I made ...</td>\n",
       "      <td>2021-04-19 19:26:11+00:00</td>\n",
       "      <td>0</td>\n",
       "      <td>NaT</td>\n",
       "      <td>-</td>\n",
       "      <td>booking.com</td>\n",
       "    </tr>\n",
       "    <tr>\n",
       "      <th>3</th>\n",
       "      <td>G May</td>\n",
       "      <td>27</td>\n",
       "      <td>GB</td>\n",
       "      <td>1</td>\n",
       "      <td>BUY ANYWHERE ELSE</td>\n",
       "      <td>Booked a holiday...took my money.  Then a few ...</td>\n",
       "      <td>2021-04-18 21:19:41+00:00</td>\n",
       "      <td>0</td>\n",
       "      <td>NaT</td>\n",
       "      <td>-</td>\n",
       "      <td>booking.com</td>\n",
       "    </tr>\n",
       "    <tr>\n",
       "      <th>4</th>\n",
       "      <td>Lee Mac</td>\n",
       "      <td>3</td>\n",
       "      <td>GB</td>\n",
       "      <td>1</td>\n",
       "      <td>Avoid Booking.com</td>\n",
       "      <td>I would just like to take the time to warn eve...</td>\n",
       "      <td>2021-04-18 19:11:58+00:00</td>\n",
       "      <td>0</td>\n",
       "      <td>NaT</td>\n",
       "      <td>-</td>\n",
       "      <td>booking.com</td>\n",
       "    </tr>\n",
       "  </tbody>\n",
       "</table>\n",
       "</div>"
      ],
      "text/plain": [
       "               name  nb_reviews location  rating  \\\n",
       "0      Sherry Angel           1       US       1   \n",
       "1             David           1       US       1   \n",
       "2  Alexander Santos           1       US       1   \n",
       "3             G May          27       GB       1   \n",
       "4           Lee Mac           3       GB       1   \n",
       "\n",
       "                                              header  \\\n",
       "0                                Bad Bad Bad Company   \n",
       "1  I cancelled my reservation and booking.com nev...   \n",
       "2              Terrible experience with this website   \n",
       "3                                  BUY ANYWHERE ELSE   \n",
       "4                                  Avoid Booking.com   \n",
       "\n",
       "                                             content  \\\n",
       "0  I booked a villa through this company, found a...   \n",
       "1  If I could give them a negative 5 star review,...   \n",
       "2  Terrible experience with this website. I made ...   \n",
       "3  Booked a holiday...took my money.  Then a few ...   \n",
       "4  I would just like to take the time to warn eve...   \n",
       "\n",
       "                       date  responded response_date response      company  \n",
       "0 2021-04-20 05:57:52+00:00          0           NaT        -  booking.com  \n",
       "1 2021-04-20 01:40:14+00:00          0           NaT        -  booking.com  \n",
       "2 2021-04-19 19:26:11+00:00          0           NaT        -  booking.com  \n",
       "3 2021-04-18 21:19:41+00:00          0           NaT        -  booking.com  \n",
       "4 2021-04-18 19:11:58+00:00          0           NaT        -  booking.com  "
      ]
     },
     "execution_count": 55,
     "metadata": {},
     "output_type": "execute_result"
    }
   ],
   "source": [
    "combined = pd.concat([booking, cheaptickets, bol, \n",
    "                      coolblue, wehkamp, zalando, \n",
    "                      mediamarkt, debijenkorf])\n",
    "combined.head()"
   ]
  },
  {
   "cell_type": "code",
   "execution_count": 63,
   "metadata": {},
   "outputs": [],
   "source": [
    "combined.to_csv('combined_reviews_eng.csv')"
   ]
  }
 ],
 "metadata": {
  "kernelspec": {
   "display_name": "Python 3",
   "language": "python",
   "name": "python3"
  },
  "language_info": {
   "codemirror_mode": {
    "name": "ipython",
    "version": 3
   },
   "file_extension": ".py",
   "mimetype": "text/x-python",
   "name": "python",
   "nbconvert_exporter": "python",
   "pygments_lexer": "ipython3",
   "version": "3.8.5"
  }
 },
 "nbformat": 4,
 "nbformat_minor": 4
}
