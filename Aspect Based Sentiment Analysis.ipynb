{
 "cells": [
  {
   "cell_type": "code",
   "execution_count": 1,
   "metadata": {},
   "outputs": [],
   "source": [
    "import pandas as pd\n",
    "import numpy as np\n",
    "import nltk\n",
    "from nltk.corpus import stopwords\n",
    "from nltk.corpus import wordnet\n",
    "from nltk.tokenize import word_tokenize, sent_tokenize\n",
    "from nltk.stem.wordnet import WordNetLemmatizer \n",
    "import stanza"
   ]
  },
  {
   "cell_type": "code",
   "execution_count": 12,
   "metadata": {},
   "outputs": [
    {
     "name": "stdout",
     "output_type": "stream",
     "text": [
      "Collecting beautifulsoup4\n",
      "  Downloading beautifulsoup4-4.9.3-py3-none-any.whl (115 kB)\n",
      "Collecting soupsieve>1.2\n",
      "  Downloading soupsieve-2.2.1-py3-none-any.whl (33 kB)\n",
      "Installing collected packages: soupsieve, beautifulsoup4\n",
      "Successfully installed beautifulsoup4-4.9.3 soupsieve-2.2.1\n",
      "Note: you may need to restart the kernel to use updated packages.\n"
     ]
    }
   ],
   "source": [
    "pip install beautifulsoup4"
   ]
  },
  {
   "cell_type": "code",
   "execution_count": 15,
   "metadata": {},
   "outputs": [
    {
     "name": "stdout",
     "output_type": "stream",
     "text": [
      "20\n"
     ]
    }
   ],
   "source": [
    "from bs4 import BeautifulSoup\n",
    "soup = BeautifulSoup('<div id=\"remository\">20</div>')\n",
    "tag=soup.div\n",
    "print(tag.string)"
   ]
  },
  {
   "cell_type": "code",
   "execution_count": 20,
   "metadata": {},
   "outputs": [],
   "source": [
    "soup = BeautifulSoup('<div><span style=\"background-color:rgba(242, 136, 136,0.075);\">then</span> <span style=\"background-color:rgba(242, 136, 136,0.0625);\">a</span> <span style=\"background-color:rgba(242, 136, 136,0.0375);\">few</span> <span style=\"background-color:rgba(242, 136, 136,0.125);\">days</span> <span style=\"background-color:rgba(242, 136, 136,0.125);\">later</span> <span style=\"background-color:rgba(242, 136, 136,0.17500000000000002);\">tell</span> <span style=\"background-color:rgba(242, 136, 136,0.075);\">me</span> <span style=\"background-color:rgba(242, 136, 136,0.26249999999999996);\">the</span> <span style=\"background-color:rgba(242, 136, 136,1.25);\">price</span> <span style=\"background-color:rgba(242, 136, 136,0.5);\">was</span> <span style=\"background-color:rgba(242, 136, 136,0.44999999999999996);\">too</span> <span style=\"background-color:rgba(242, 136, 136,1.25);\">low</span> <span style=\"background-color:rgba(242, 136, 136,0.3375);\">and</span> <span style=\"background-color:rgba(242, 136, 136,0.1625);\">ask</span> <span style=\"background-color:rgba(242, 136, 136,0.13749999999999998);\">for</span> <span style=\"background-color:rgba(242, 136, 136,0.125);\">more</span> <span style=\"background-color:rgba(242, 136, 136,0.125);\">.</span></div>')"
   ]
  },
  {
   "cell_type": "code",
   "execution_count": 27,
   "metadata": {},
   "outputs": [
    {
     "data": {
      "text/plain": [
       "70"
      ]
     },
     "execution_count": 27,
     "metadata": {},
     "output_type": "execute_result"
    }
   ],
   "source": [
    "len(' '.join([tag.string for tag in soup.find_all('span')]))"
   ]
  },
  {
   "cell_type": "code",
   "execution_count": 22,
   "metadata": {},
   "outputs": [
    {
     "data": {
      "text/plain": [
       "'then'"
      ]
     },
     "execution_count": 22,
     "metadata": {},
     "output_type": "execute_result"
    }
   ],
   "source": [
    "tag.string"
   ]
  },
  {
   "cell_type": "code",
   "execution_count": null,
   "metadata": {},
   "outputs": [],
   "source": []
  },
  {
   "cell_type": "code",
   "execution_count": 10,
   "metadata": {},
   "outputs": [
    {
     "data": {
      "text/plain": [
       "9"
      ]
     },
     "execution_count": 10,
     "metadata": {},
     "output_type": "execute_result"
    }
   ],
   "source": [
    "1232 // 127"
   ]
  },
  {
   "cell_type": "code",
   "execution_count": 2,
   "metadata": {},
   "outputs": [],
   "source": [
    "combined = pd.read_csv('combined_reviews_eng.csv')"
   ]
  },
  {
   "cell_type": "code",
   "execution_count": 3,
   "metadata": {},
   "outputs": [],
   "source": [
    "from nltk import tokenize"
   ]
  },
  {
   "cell_type": "code",
   "execution_count": 4,
   "metadata": {},
   "outputs": [],
   "source": [
    "combined['content'] = combined.content.str.replace('\\n', '. ') # quick little cleaning step \n",
    "# bol['content'] = bol.content.str.replace('. .', '. ', regex=False) # quick little cleaning step \n",
    "\n",
    "combined['sentences'] = combined['content'].apply(lambda x: tokenize.sent_tokenize(x))"
   ]
  },
  {
   "cell_type": "code",
   "execution_count": 7,
   "metadata": {},
   "outputs": [],
   "source": [
    "combined = combined.explode('sentences').reset_index(drop=True)"
   ]
  },
  {
   "cell_type": "code",
   "execution_count": 8,
   "metadata": {},
   "outputs": [],
   "source": [
    "combined = combined[(combined['sentences'].str.len() > 15)].reset_index(drop=True)"
   ]
  },
  {
   "cell_type": "code",
   "execution_count": 9,
   "metadata": {},
   "outputs": [],
   "source": [
    "combined.to_csv('combined_reviews_eng_CLEAN.csv')"
   ]
  },
  {
   "cell_type": "code",
   "execution_count": 16,
   "metadata": {},
   "outputs": [
    {
     "data": {
      "text/html": [
       "<div>\n",
       "<style scoped>\n",
       "    .dataframe tbody tr th:only-of-type {\n",
       "        vertical-align: middle;\n",
       "    }\n",
       "\n",
       "    .dataframe tbody tr th {\n",
       "        vertical-align: top;\n",
       "    }\n",
       "\n",
       "    .dataframe thead th {\n",
       "        text-align: right;\n",
       "    }\n",
       "</style>\n",
       "<table border=\"1\" class=\"dataframe\">\n",
       "  <thead>\n",
       "    <tr style=\"text-align: right;\">\n",
       "      <th></th>\n",
       "      <th>Unnamed: 0</th>\n",
       "      <th>name</th>\n",
       "      <th>nb_reviews</th>\n",
       "      <th>location</th>\n",
       "      <th>rating</th>\n",
       "      <th>header</th>\n",
       "      <th>content</th>\n",
       "      <th>date</th>\n",
       "      <th>responded</th>\n",
       "      <th>response_date</th>\n",
       "      <th>response</th>\n",
       "      <th>company</th>\n",
       "      <th>sentences</th>\n",
       "    </tr>\n",
       "  </thead>\n",
       "  <tbody>\n",
       "    <tr>\n",
       "      <th>2</th>\n",
       "      <td>0</td>\n",
       "      <td>Alexander Santos</td>\n",
       "      <td>1</td>\n",
       "      <td>US</td>\n",
       "      <td>1</td>\n",
       "      <td>Terrible experience with this website</td>\n",
       "      <td>Terrible experience with this website. I made ...</td>\n",
       "      <td>2021-04-19 19:26:11+00:00</td>\n",
       "      <td>0</td>\n",
       "      <td>NaN</td>\n",
       "      <td>-</td>\n",
       "      <td>booking.com</td>\n",
       "      <td>Customer service is awful, I have spent three ...</td>\n",
       "    </tr>\n",
       "    <tr>\n",
       "      <th>55</th>\n",
       "      <td>9</td>\n",
       "      <td>Roberta</td>\n",
       "      <td>3</td>\n",
       "      <td>GB</td>\n",
       "      <td>1</td>\n",
       "      <td>No customer service…</td>\n",
       "      <td>Had a hotel booking in 2020 which was paid on ...</td>\n",
       "      <td>2021-04-14 15:45:28+00:00</td>\n",
       "      <td>0</td>\n",
       "      <td>NaN</td>\n",
       "      <td>-</td>\n",
       "      <td>booking.com</td>\n",
       "      <td>Awful customer service.</td>\n",
       "    </tr>\n",
       "    <tr>\n",
       "      <th>64</th>\n",
       "      <td>11</td>\n",
       "      <td>Rotem</td>\n",
       "      <td>1</td>\n",
       "      <td>IL</td>\n",
       "      <td>2</td>\n",
       "      <td>Don't book Isrotel hotel rooms on booking.com</td>\n",
       "      <td>I used to use booking.com for hotel reservatio...</td>\n",
       "      <td>2021-04-13 11:17:23+00:00</td>\n",
       "      <td>0</td>\n",
       "      <td>NaN</td>\n",
       "      <td>-</td>\n",
       "      <td>booking.com</td>\n",
       "      <td>They finally agreed to do the change but were ...</td>\n",
       "    </tr>\n",
       "    <tr>\n",
       "      <th>88</th>\n",
       "      <td>17</td>\n",
       "      <td>Daniel  Mardasy</td>\n",
       "      <td>5</td>\n",
       "      <td>NL</td>\n",
       "      <td>1</td>\n",
       "      <td>Booked a room through their website</td>\n",
       "      <td>Booked a room through their website. When we w...</td>\n",
       "      <td>2021-04-11 16:48:28+00:00</td>\n",
       "      <td>0</td>\n",
       "      <td>NaN</td>\n",
       "      <td>-</td>\n",
       "      <td>booking.com</td>\n",
       "      <td>We've called booking.com but it took us almost...</td>\n",
       "    </tr>\n",
       "    <tr>\n",
       "      <th>91</th>\n",
       "      <td>17</td>\n",
       "      <td>Daniel  Mardasy</td>\n",
       "      <td>5</td>\n",
       "      <td>NL</td>\n",
       "      <td>1</td>\n",
       "      <td>Booked a room through their website</td>\n",
       "      <td>Booked a room through their website. When we w...</td>\n",
       "      <td>2021-04-11 16:48:28+00:00</td>\n",
       "      <td>0</td>\n",
       "      <td>NaN</td>\n",
       "      <td>-</td>\n",
       "      <td>booking.com</td>\n",
       "      <td>An awful experience and an unexpected service ...</td>\n",
       "    </tr>\n",
       "    <tr>\n",
       "      <th>116</th>\n",
       "      <td>20</td>\n",
       "      <td>Alexander Santos</td>\n",
       "      <td>1</td>\n",
       "      <td>US</td>\n",
       "      <td>1</td>\n",
       "      <td>Terrible experience with this website</td>\n",
       "      <td>Terrible experience with this website. I made ...</td>\n",
       "      <td>2021-04-19 19:26:11+00:00</td>\n",
       "      <td>0</td>\n",
       "      <td>NaN</td>\n",
       "      <td>-</td>\n",
       "      <td>booking.com</td>\n",
       "      <td>Customer service is awful, I have spent three ...</td>\n",
       "    </tr>\n",
       "    <tr>\n",
       "      <th>169</th>\n",
       "      <td>29</td>\n",
       "      <td>Roberta</td>\n",
       "      <td>3</td>\n",
       "      <td>GB</td>\n",
       "      <td>1</td>\n",
       "      <td>No customer service…</td>\n",
       "      <td>Had a hotel booking in 2020 which was paid on ...</td>\n",
       "      <td>2021-04-14 15:45:28+00:00</td>\n",
       "      <td>0</td>\n",
       "      <td>NaN</td>\n",
       "      <td>-</td>\n",
       "      <td>booking.com</td>\n",
       "      <td>Awful customer service.</td>\n",
       "    </tr>\n",
       "    <tr>\n",
       "      <th>178</th>\n",
       "      <td>31</td>\n",
       "      <td>Rotem</td>\n",
       "      <td>1</td>\n",
       "      <td>IL</td>\n",
       "      <td>2</td>\n",
       "      <td>Don't book Isrotel hotel rooms on booking.com</td>\n",
       "      <td>I used to use booking.com for hotel reservatio...</td>\n",
       "      <td>2021-04-13 11:17:23+00:00</td>\n",
       "      <td>0</td>\n",
       "      <td>NaN</td>\n",
       "      <td>-</td>\n",
       "      <td>booking.com</td>\n",
       "      <td>They finally agreed to do the change but were ...</td>\n",
       "    </tr>\n",
       "    <tr>\n",
       "      <th>202</th>\n",
       "      <td>37</td>\n",
       "      <td>Daniel  Mardasy</td>\n",
       "      <td>5</td>\n",
       "      <td>NL</td>\n",
       "      <td>1</td>\n",
       "      <td>Booked a room through their website</td>\n",
       "      <td>Booked a room through their website. When we w...</td>\n",
       "      <td>2021-04-11 16:48:28+00:00</td>\n",
       "      <td>0</td>\n",
       "      <td>NaN</td>\n",
       "      <td>-</td>\n",
       "      <td>booking.com</td>\n",
       "      <td>We've called booking.com but it took us almost...</td>\n",
       "    </tr>\n",
       "    <tr>\n",
       "      <th>205</th>\n",
       "      <td>37</td>\n",
       "      <td>Daniel  Mardasy</td>\n",
       "      <td>5</td>\n",
       "      <td>NL</td>\n",
       "      <td>1</td>\n",
       "      <td>Booked a room through their website</td>\n",
       "      <td>Booked a room through their website. When we w...</td>\n",
       "      <td>2021-04-11 16:48:28+00:00</td>\n",
       "      <td>0</td>\n",
       "      <td>NaN</td>\n",
       "      <td>-</td>\n",
       "      <td>booking.com</td>\n",
       "      <td>An awful experience and an unexpected service ...</td>\n",
       "    </tr>\n",
       "    <tr>\n",
       "      <th>230</th>\n",
       "      <td>40</td>\n",
       "      <td>Alexander Santos</td>\n",
       "      <td>1</td>\n",
       "      <td>US</td>\n",
       "      <td>1</td>\n",
       "      <td>Terrible experience with this website</td>\n",
       "      <td>Terrible experience with this website. I made ...</td>\n",
       "      <td>2021-04-19 19:26:11+00:00</td>\n",
       "      <td>0</td>\n",
       "      <td>NaN</td>\n",
       "      <td>-</td>\n",
       "      <td>booking.com</td>\n",
       "      <td>Customer service is awful, I have spent three ...</td>\n",
       "    </tr>\n",
       "    <tr>\n",
       "      <th>283</th>\n",
       "      <td>49</td>\n",
       "      <td>Roberta</td>\n",
       "      <td>3</td>\n",
       "      <td>GB</td>\n",
       "      <td>1</td>\n",
       "      <td>No customer service…</td>\n",
       "      <td>Had a hotel booking in 2020 which was paid on ...</td>\n",
       "      <td>2021-04-14 15:45:28+00:00</td>\n",
       "      <td>0</td>\n",
       "      <td>NaN</td>\n",
       "      <td>-</td>\n",
       "      <td>booking.com</td>\n",
       "      <td>Awful customer service.</td>\n",
       "    </tr>\n",
       "    <tr>\n",
       "      <th>292</th>\n",
       "      <td>51</td>\n",
       "      <td>Rotem</td>\n",
       "      <td>1</td>\n",
       "      <td>IL</td>\n",
       "      <td>2</td>\n",
       "      <td>Don't book Isrotel hotel rooms on booking.com</td>\n",
       "      <td>I used to use booking.com for hotel reservatio...</td>\n",
       "      <td>2021-04-13 11:17:23+00:00</td>\n",
       "      <td>0</td>\n",
       "      <td>NaN</td>\n",
       "      <td>-</td>\n",
       "      <td>booking.com</td>\n",
       "      <td>They finally agreed to do the change but were ...</td>\n",
       "    </tr>\n",
       "    <tr>\n",
       "      <th>316</th>\n",
       "      <td>57</td>\n",
       "      <td>Daniel  Mardasy</td>\n",
       "      <td>5</td>\n",
       "      <td>NL</td>\n",
       "      <td>1</td>\n",
       "      <td>Booked a room through their website</td>\n",
       "      <td>Booked a room through their website. When we w...</td>\n",
       "      <td>2021-04-11 16:48:28+00:00</td>\n",
       "      <td>0</td>\n",
       "      <td>NaN</td>\n",
       "      <td>-</td>\n",
       "      <td>booking.com</td>\n",
       "      <td>We've called booking.com but it took us almost...</td>\n",
       "    </tr>\n",
       "    <tr>\n",
       "      <th>319</th>\n",
       "      <td>57</td>\n",
       "      <td>Daniel  Mardasy</td>\n",
       "      <td>5</td>\n",
       "      <td>NL</td>\n",
       "      <td>1</td>\n",
       "      <td>Booked a room through their website</td>\n",
       "      <td>Booked a room through their website. When we w...</td>\n",
       "      <td>2021-04-11 16:48:28+00:00</td>\n",
       "      <td>0</td>\n",
       "      <td>NaN</td>\n",
       "      <td>-</td>\n",
       "      <td>booking.com</td>\n",
       "      <td>An awful experience and an unexpected service ...</td>\n",
       "    </tr>\n",
       "    <tr>\n",
       "      <th>344</th>\n",
       "      <td>60</td>\n",
       "      <td>Alexander Santos</td>\n",
       "      <td>1</td>\n",
       "      <td>US</td>\n",
       "      <td>1</td>\n",
       "      <td>Terrible experience with this website</td>\n",
       "      <td>Terrible experience with this website. I made ...</td>\n",
       "      <td>2021-04-19 19:26:11+00:00</td>\n",
       "      <td>0</td>\n",
       "      <td>NaN</td>\n",
       "      <td>-</td>\n",
       "      <td>booking.com</td>\n",
       "      <td>Customer service is awful, I have spent three ...</td>\n",
       "    </tr>\n",
       "    <tr>\n",
       "      <th>397</th>\n",
       "      <td>69</td>\n",
       "      <td>Roberta</td>\n",
       "      <td>3</td>\n",
       "      <td>GB</td>\n",
       "      <td>1</td>\n",
       "      <td>No customer service…</td>\n",
       "      <td>Had a hotel booking in 2020 which was paid on ...</td>\n",
       "      <td>2021-04-14 15:45:28+00:00</td>\n",
       "      <td>0</td>\n",
       "      <td>NaN</td>\n",
       "      <td>-</td>\n",
       "      <td>booking.com</td>\n",
       "      <td>Awful customer service.</td>\n",
       "    </tr>\n",
       "    <tr>\n",
       "      <th>406</th>\n",
       "      <td>71</td>\n",
       "      <td>Rotem</td>\n",
       "      <td>1</td>\n",
       "      <td>IL</td>\n",
       "      <td>2</td>\n",
       "      <td>Don't book Isrotel hotel rooms on booking.com</td>\n",
       "      <td>I used to use booking.com for hotel reservatio...</td>\n",
       "      <td>2021-04-13 11:17:23+00:00</td>\n",
       "      <td>0</td>\n",
       "      <td>NaN</td>\n",
       "      <td>-</td>\n",
       "      <td>booking.com</td>\n",
       "      <td>They finally agreed to do the change but were ...</td>\n",
       "    </tr>\n",
       "    <tr>\n",
       "      <th>430</th>\n",
       "      <td>77</td>\n",
       "      <td>Daniel  Mardasy</td>\n",
       "      <td>5</td>\n",
       "      <td>NL</td>\n",
       "      <td>1</td>\n",
       "      <td>Booked a room through their website</td>\n",
       "      <td>Booked a room through their website. When we w...</td>\n",
       "      <td>2021-04-11 16:48:28+00:00</td>\n",
       "      <td>0</td>\n",
       "      <td>NaN</td>\n",
       "      <td>-</td>\n",
       "      <td>booking.com</td>\n",
       "      <td>We've called booking.com but it took us almost...</td>\n",
       "    </tr>\n",
       "    <tr>\n",
       "      <th>433</th>\n",
       "      <td>77</td>\n",
       "      <td>Daniel  Mardasy</td>\n",
       "      <td>5</td>\n",
       "      <td>NL</td>\n",
       "      <td>1</td>\n",
       "      <td>Booked a room through their website</td>\n",
       "      <td>Booked a room through their website. When we w...</td>\n",
       "      <td>2021-04-11 16:48:28+00:00</td>\n",
       "      <td>0</td>\n",
       "      <td>NaN</td>\n",
       "      <td>-</td>\n",
       "      <td>booking.com</td>\n",
       "      <td>An awful experience and an unexpected service ...</td>\n",
       "    </tr>\n",
       "    <tr>\n",
       "      <th>458</th>\n",
       "      <td>80</td>\n",
       "      <td>Alexander Santos</td>\n",
       "      <td>1</td>\n",
       "      <td>US</td>\n",
       "      <td>1</td>\n",
       "      <td>Terrible experience with this website</td>\n",
       "      <td>Terrible experience with this website. I made ...</td>\n",
       "      <td>2021-04-19 19:26:11+00:00</td>\n",
       "      <td>0</td>\n",
       "      <td>NaN</td>\n",
       "      <td>-</td>\n",
       "      <td>booking.com</td>\n",
       "      <td>Customer service is awful, I have spent three ...</td>\n",
       "    </tr>\n",
       "    <tr>\n",
       "      <th>511</th>\n",
       "      <td>89</td>\n",
       "      <td>Roberta</td>\n",
       "      <td>3</td>\n",
       "      <td>GB</td>\n",
       "      <td>1</td>\n",
       "      <td>No customer service…</td>\n",
       "      <td>Had a hotel booking in 2020 which was paid on ...</td>\n",
       "      <td>2021-04-14 15:45:28+00:00</td>\n",
       "      <td>0</td>\n",
       "      <td>NaN</td>\n",
       "      <td>-</td>\n",
       "      <td>booking.com</td>\n",
       "      <td>Awful customer service.</td>\n",
       "    </tr>\n",
       "    <tr>\n",
       "      <th>520</th>\n",
       "      <td>91</td>\n",
       "      <td>Rotem</td>\n",
       "      <td>1</td>\n",
       "      <td>IL</td>\n",
       "      <td>2</td>\n",
       "      <td>Don't book Isrotel hotel rooms on booking.com</td>\n",
       "      <td>I used to use booking.com for hotel reservatio...</td>\n",
       "      <td>2021-04-13 11:17:23+00:00</td>\n",
       "      <td>0</td>\n",
       "      <td>NaN</td>\n",
       "      <td>-</td>\n",
       "      <td>booking.com</td>\n",
       "      <td>They finally agreed to do the change but were ...</td>\n",
       "    </tr>\n",
       "    <tr>\n",
       "      <th>544</th>\n",
       "      <td>97</td>\n",
       "      <td>Daniel  Mardasy</td>\n",
       "      <td>5</td>\n",
       "      <td>NL</td>\n",
       "      <td>1</td>\n",
       "      <td>Booked a room through their website</td>\n",
       "      <td>Booked a room through their website. When we w...</td>\n",
       "      <td>2021-04-11 16:48:28+00:00</td>\n",
       "      <td>0</td>\n",
       "      <td>NaN</td>\n",
       "      <td>-</td>\n",
       "      <td>booking.com</td>\n",
       "      <td>We've called booking.com but it took us almost...</td>\n",
       "    </tr>\n",
       "    <tr>\n",
       "      <th>547</th>\n",
       "      <td>97</td>\n",
       "      <td>Daniel  Mardasy</td>\n",
       "      <td>5</td>\n",
       "      <td>NL</td>\n",
       "      <td>1</td>\n",
       "      <td>Booked a room through their website</td>\n",
       "      <td>Booked a room through their website. When we w...</td>\n",
       "      <td>2021-04-11 16:48:28+00:00</td>\n",
       "      <td>0</td>\n",
       "      <td>NaN</td>\n",
       "      <td>-</td>\n",
       "      <td>booking.com</td>\n",
       "      <td>An awful experience and an unexpected service ...</td>\n",
       "    </tr>\n",
       "  </tbody>\n",
       "</table>\n",
       "</div>"
      ],
      "text/plain": [
       "     Unnamed: 0              name  nb_reviews location  rating  \\\n",
       "2             0  Alexander Santos           1       US       1   \n",
       "55            9           Roberta           3       GB       1   \n",
       "64           11             Rotem           1       IL       2   \n",
       "88           17   Daniel  Mardasy           5       NL       1   \n",
       "91           17   Daniel  Mardasy           5       NL       1   \n",
       "116          20  Alexander Santos           1       US       1   \n",
       "169          29           Roberta           3       GB       1   \n",
       "178          31             Rotem           1       IL       2   \n",
       "202          37   Daniel  Mardasy           5       NL       1   \n",
       "205          37   Daniel  Mardasy           5       NL       1   \n",
       "230          40  Alexander Santos           1       US       1   \n",
       "283          49           Roberta           3       GB       1   \n",
       "292          51             Rotem           1       IL       2   \n",
       "316          57   Daniel  Mardasy           5       NL       1   \n",
       "319          57   Daniel  Mardasy           5       NL       1   \n",
       "344          60  Alexander Santos           1       US       1   \n",
       "397          69           Roberta           3       GB       1   \n",
       "406          71             Rotem           1       IL       2   \n",
       "430          77   Daniel  Mardasy           5       NL       1   \n",
       "433          77   Daniel  Mardasy           5       NL       1   \n",
       "458          80  Alexander Santos           1       US       1   \n",
       "511          89           Roberta           3       GB       1   \n",
       "520          91             Rotem           1       IL       2   \n",
       "544          97   Daniel  Mardasy           5       NL       1   \n",
       "547          97   Daniel  Mardasy           5       NL       1   \n",
       "\n",
       "                                            header  \\\n",
       "2            Terrible experience with this website   \n",
       "55                            No customer service…   \n",
       "64   Don't book Isrotel hotel rooms on booking.com   \n",
       "88             Booked a room through their website   \n",
       "91             Booked a room through their website   \n",
       "116          Terrible experience with this website   \n",
       "169                           No customer service…   \n",
       "178  Don't book Isrotel hotel rooms on booking.com   \n",
       "202            Booked a room through their website   \n",
       "205            Booked a room through their website   \n",
       "230          Terrible experience with this website   \n",
       "283                           No customer service…   \n",
       "292  Don't book Isrotel hotel rooms on booking.com   \n",
       "316            Booked a room through their website   \n",
       "319            Booked a room through their website   \n",
       "344          Terrible experience with this website   \n",
       "397                           No customer service…   \n",
       "406  Don't book Isrotel hotel rooms on booking.com   \n",
       "430            Booked a room through their website   \n",
       "433            Booked a room through their website   \n",
       "458          Terrible experience with this website   \n",
       "511                           No customer service…   \n",
       "520  Don't book Isrotel hotel rooms on booking.com   \n",
       "544            Booked a room through their website   \n",
       "547            Booked a room through their website   \n",
       "\n",
       "                                               content  \\\n",
       "2    Terrible experience with this website. I made ...   \n",
       "55   Had a hotel booking in 2020 which was paid on ...   \n",
       "64   I used to use booking.com for hotel reservatio...   \n",
       "88   Booked a room through their website. When we w...   \n",
       "91   Booked a room through their website. When we w...   \n",
       "116  Terrible experience with this website. I made ...   \n",
       "169  Had a hotel booking in 2020 which was paid on ...   \n",
       "178  I used to use booking.com for hotel reservatio...   \n",
       "202  Booked a room through their website. When we w...   \n",
       "205  Booked a room through their website. When we w...   \n",
       "230  Terrible experience with this website. I made ...   \n",
       "283  Had a hotel booking in 2020 which was paid on ...   \n",
       "292  I used to use booking.com for hotel reservatio...   \n",
       "316  Booked a room through their website. When we w...   \n",
       "319  Booked a room through their website. When we w...   \n",
       "344  Terrible experience with this website. I made ...   \n",
       "397  Had a hotel booking in 2020 which was paid on ...   \n",
       "406  I used to use booking.com for hotel reservatio...   \n",
       "430  Booked a room through their website. When we w...   \n",
       "433  Booked a room through their website. When we w...   \n",
       "458  Terrible experience with this website. I made ...   \n",
       "511  Had a hotel booking in 2020 which was paid on ...   \n",
       "520  I used to use booking.com for hotel reservatio...   \n",
       "544  Booked a room through their website. When we w...   \n",
       "547  Booked a room through their website. When we w...   \n",
       "\n",
       "                          date  responded response_date response      company  \\\n",
       "2    2021-04-19 19:26:11+00:00          0           NaN        -  booking.com   \n",
       "55   2021-04-14 15:45:28+00:00          0           NaN        -  booking.com   \n",
       "64   2021-04-13 11:17:23+00:00          0           NaN        -  booking.com   \n",
       "88   2021-04-11 16:48:28+00:00          0           NaN        -  booking.com   \n",
       "91   2021-04-11 16:48:28+00:00          0           NaN        -  booking.com   \n",
       "116  2021-04-19 19:26:11+00:00          0           NaN        -  booking.com   \n",
       "169  2021-04-14 15:45:28+00:00          0           NaN        -  booking.com   \n",
       "178  2021-04-13 11:17:23+00:00          0           NaN        -  booking.com   \n",
       "202  2021-04-11 16:48:28+00:00          0           NaN        -  booking.com   \n",
       "205  2021-04-11 16:48:28+00:00          0           NaN        -  booking.com   \n",
       "230  2021-04-19 19:26:11+00:00          0           NaN        -  booking.com   \n",
       "283  2021-04-14 15:45:28+00:00          0           NaN        -  booking.com   \n",
       "292  2021-04-13 11:17:23+00:00          0           NaN        -  booking.com   \n",
       "316  2021-04-11 16:48:28+00:00          0           NaN        -  booking.com   \n",
       "319  2021-04-11 16:48:28+00:00          0           NaN        -  booking.com   \n",
       "344  2021-04-19 19:26:11+00:00          0           NaN        -  booking.com   \n",
       "397  2021-04-14 15:45:28+00:00          0           NaN        -  booking.com   \n",
       "406  2021-04-13 11:17:23+00:00          0           NaN        -  booking.com   \n",
       "430  2021-04-11 16:48:28+00:00          0           NaN        -  booking.com   \n",
       "433  2021-04-11 16:48:28+00:00          0           NaN        -  booking.com   \n",
       "458  2021-04-19 19:26:11+00:00          0           NaN        -  booking.com   \n",
       "511  2021-04-14 15:45:28+00:00          0           NaN        -  booking.com   \n",
       "520  2021-04-13 11:17:23+00:00          0           NaN        -  booking.com   \n",
       "544  2021-04-11 16:48:28+00:00          0           NaN        -  booking.com   \n",
       "547  2021-04-11 16:48:28+00:00          0           NaN        -  booking.com   \n",
       "\n",
       "                                             sentences  \n",
       "2    Customer service is awful, I have spent three ...  \n",
       "55                             Awful customer service.  \n",
       "64   They finally agreed to do the change but were ...  \n",
       "88   We've called booking.com but it took us almost...  \n",
       "91   An awful experience and an unexpected service ...  \n",
       "116  Customer service is awful, I have spent three ...  \n",
       "169                            Awful customer service.  \n",
       "178  They finally agreed to do the change but were ...  \n",
       "202  We've called booking.com but it took us almost...  \n",
       "205  An awful experience and an unexpected service ...  \n",
       "230  Customer service is awful, I have spent three ...  \n",
       "283                            Awful customer service.  \n",
       "292  They finally agreed to do the change but were ...  \n",
       "316  We've called booking.com but it took us almost...  \n",
       "319  An awful experience and an unexpected service ...  \n",
       "344  Customer service is awful, I have spent three ...  \n",
       "397                            Awful customer service.  \n",
       "406  They finally agreed to do the change but were ...  \n",
       "430  We've called booking.com but it took us almost...  \n",
       "433  An awful experience and an unexpected service ...  \n",
       "458  Customer service is awful, I have spent three ...  \n",
       "511                            Awful customer service.  \n",
       "520  They finally agreed to do the change but were ...  \n",
       "544  We've called booking.com but it took us almost...  \n",
       "547  An awful experience and an unexpected service ...  "
      ]
     },
     "execution_count": 16,
     "metadata": {},
     "output_type": "execute_result"
    }
   ],
   "source": [
    "combined[(combined['company'] == 'booking.com') & (\n",
    "    combined['sentences'].str.contains('service'))]"
   ]
  },
  {
   "cell_type": "code",
   "execution_count": 8,
   "metadata": {
    "scrolled": false
   },
   "outputs": [],
   "source": [
    "customer_service_df = combined[combined['sentences'].str.contains('customer service')]"
   ]
  },
  {
   "cell_type": "code",
   "execution_count": 9,
   "metadata": {},
   "outputs": [],
   "source": [
    "import aspect_based_sentiment_analysis as absa\n",
    "recognizer = absa.aux_models.BasicPatternRecognizer()\n",
    "NLP = absa.load(pattern_recognizer=recognizer)"
   ]
  },
  {
   "cell_type": "code",
   "execution_count": 10,
   "metadata": {},
   "outputs": [
    {
     "name": "stderr",
     "output_type": "stream",
     "text": [
      "100%|██████████████████████████████████████████████████████████████████████████████████| 25/25 [00:09<00:00,  2.52it/s]\n"
     ]
    }
   ],
   "source": [
    "from tqdm import tqdm\n",
    "\n",
    "examples = []\n",
    "\n",
    "for sentence in tqdm(customer_service_df['sentences']):\n",
    "    \n",
    "    run = NLP(text=sentence, aspects=['customer service'])\n",
    "    \n",
    "    examples.append(run.examples[0])\n",
    "    \n"
   ]
  },
  {
   "cell_type": "code",
   "execution_count": 11,
   "metadata": {},
   "outputs": [],
   "source": [
    "import numpy as np"
   ]
  },
  {
   "cell_type": "code",
   "execution_count": 12,
   "metadata": {},
   "outputs": [
    {
     "name": "stdout",
     "output_type": "stream",
     "text": [
      "Reviews mentioning customer service\n"
     ]
    },
    {
     "data": {
      "text/plain": [
       "array([0.05962507, 0.7127558 , 0.22761922], dtype=float32)"
      ]
     },
     "execution_count": 12,
     "metadata": {},
     "output_type": "execute_result"
    }
   ],
   "source": [
    "aspect = 'customer service'\n",
    "\n",
    "# Average distribution (neutral | negative | positive)\n",
    "avg_distribution = np.sum(np.array([example.scores for example in examples]), axis=0) / len(examples)\n",
    "\n",
    "print(f'Reviews mentioning {aspect}')\n",
    "avg_distribution"
   ]
  },
  {
   "cell_type": "code",
   "execution_count": null,
   "metadata": {},
   "outputs": [],
   "source": []
  },
  {
   "cell_type": "code",
   "execution_count": 38,
   "metadata": {},
   "outputs": [],
   "source": [
    "sentiment_scores = [example.scores[2] - example.scores[1] for idx, example in enumerate(examples)]"
   ]
  },
  {
   "cell_type": "code",
   "execution_count": 82,
   "metadata": {},
   "outputs": [
    {
     "data": {
      "text/plain": [
       "[0.99726415,\n",
       " 0.99751806,\n",
       " -0.9805648,\n",
       " -0.71340114,\n",
       " -0.9855761,\n",
       " -0.9879231,\n",
       " 0.9974816,\n",
       " 0.99731296,\n",
       " -0.9870893,\n",
       " -0.9166326,\n",
       " -0.5877112,\n",
       " 0.9974704,\n",
       " -0.98729986,\n",
       " -0.15822676,\n",
       " -0.9850764,\n",
       " -0.9873056,\n",
       " -0.6892363,\n",
       " -0.6380442,\n",
       " -0.9784847,\n",
       " -0.96192706,\n",
       " -0.95916384,\n",
       " -0.96119434,\n",
       " -0.9751521,\n",
       " -0.6888849,\n",
       " -0.98656595]"
      ]
     },
     "execution_count": 82,
     "metadata": {},
     "output_type": "execute_result"
    }
   ],
   "source": [
    "sentiment_scores"
   ]
  },
  {
   "cell_type": "code",
   "execution_count": 98,
   "metadata": {},
   "outputs": [
    {
     "data": {
      "application/vnd.plotly.v1+json": {
       "config": {
        "plotlyServerURL": "https://plot.ly"
       },
       "data": [
        {
         "alignmentgroup": "True",
         "bingroup": "x",
         "hovertemplate": "<i><b>Count</i>: %{y}<br><b>Sentiment Range</b>: %{x}<br><extra></extra>",
         "legendgroup": "0",
         "marker": {
          "color": "#636efa"
         },
         "name": "0",
         "nbinsx": 25,
         "offsetgroup": "0",
         "orientation": "v",
         "showlegend": true,
         "type": "histogram",
         "x": [
          0.9972641468048096,
          0.9975180625915527,
          -0.9805647730827332,
          -0.7134011387825012,
          -0.9855760931968689,
          -0.9879230856895447,
          0.9974815845489502,
          0.9973129630088806,
          -0.9870892763137817,
          -0.9166325926780701,
          -0.5877112150192261,
          0.9974703788757324,
          -0.9872998595237732,
          -0.15822675824165344,
          -0.9850764274597168,
          -0.9873055815696716,
          -0.6892362833023071,
          -0.6380441784858704,
          -0.9784846901893616,
          -0.961927056312561,
          -0.9591638445854187,
          -0.9611943364143372,
          -0.9751520752906799,
          -0.6888849139213562,
          -0.9865659475326538
         ],
         "xaxis": "x",
         "yaxis": "y"
        }
       ],
       "layout": {
        "bargap": 0.2,
        "barmode": "relative",
        "clickmode": "none",
        "dragmode": false,
        "legend": {
         "title": {
          "text": "variable"
         },
         "tracegroupgap": 0
        },
        "margin": {
         "t": 60
        },
        "showlegend": false,
        "template": {
         "data": {
          "bar": [
           {
            "error_x": {
             "color": "#2a3f5f"
            },
            "error_y": {
             "color": "#2a3f5f"
            },
            "marker": {
             "line": {
              "color": "#E5ECF6",
              "width": 0.5
             }
            },
            "type": "bar"
           }
          ],
          "barpolar": [
           {
            "marker": {
             "line": {
              "color": "#E5ECF6",
              "width": 0.5
             }
            },
            "type": "barpolar"
           }
          ],
          "carpet": [
           {
            "aaxis": {
             "endlinecolor": "#2a3f5f",
             "gridcolor": "white",
             "linecolor": "white",
             "minorgridcolor": "white",
             "startlinecolor": "#2a3f5f"
            },
            "baxis": {
             "endlinecolor": "#2a3f5f",
             "gridcolor": "white",
             "linecolor": "white",
             "minorgridcolor": "white",
             "startlinecolor": "#2a3f5f"
            },
            "type": "carpet"
           }
          ],
          "choropleth": [
           {
            "colorbar": {
             "outlinewidth": 0,
             "ticks": ""
            },
            "type": "choropleth"
           }
          ],
          "contour": [
           {
            "colorbar": {
             "outlinewidth": 0,
             "ticks": ""
            },
            "colorscale": [
             [
              0,
              "#0d0887"
             ],
             [
              0.1111111111111111,
              "#46039f"
             ],
             [
              0.2222222222222222,
              "#7201a8"
             ],
             [
              0.3333333333333333,
              "#9c179e"
             ],
             [
              0.4444444444444444,
              "#bd3786"
             ],
             [
              0.5555555555555556,
              "#d8576b"
             ],
             [
              0.6666666666666666,
              "#ed7953"
             ],
             [
              0.7777777777777778,
              "#fb9f3a"
             ],
             [
              0.8888888888888888,
              "#fdca26"
             ],
             [
              1,
              "#f0f921"
             ]
            ],
            "type": "contour"
           }
          ],
          "contourcarpet": [
           {
            "colorbar": {
             "outlinewidth": 0,
             "ticks": ""
            },
            "type": "contourcarpet"
           }
          ],
          "heatmap": [
           {
            "colorbar": {
             "outlinewidth": 0,
             "ticks": ""
            },
            "colorscale": [
             [
              0,
              "#0d0887"
             ],
             [
              0.1111111111111111,
              "#46039f"
             ],
             [
              0.2222222222222222,
              "#7201a8"
             ],
             [
              0.3333333333333333,
              "#9c179e"
             ],
             [
              0.4444444444444444,
              "#bd3786"
             ],
             [
              0.5555555555555556,
              "#d8576b"
             ],
             [
              0.6666666666666666,
              "#ed7953"
             ],
             [
              0.7777777777777778,
              "#fb9f3a"
             ],
             [
              0.8888888888888888,
              "#fdca26"
             ],
             [
              1,
              "#f0f921"
             ]
            ],
            "type": "heatmap"
           }
          ],
          "heatmapgl": [
           {
            "colorbar": {
             "outlinewidth": 0,
             "ticks": ""
            },
            "colorscale": [
             [
              0,
              "#0d0887"
             ],
             [
              0.1111111111111111,
              "#46039f"
             ],
             [
              0.2222222222222222,
              "#7201a8"
             ],
             [
              0.3333333333333333,
              "#9c179e"
             ],
             [
              0.4444444444444444,
              "#bd3786"
             ],
             [
              0.5555555555555556,
              "#d8576b"
             ],
             [
              0.6666666666666666,
              "#ed7953"
             ],
             [
              0.7777777777777778,
              "#fb9f3a"
             ],
             [
              0.8888888888888888,
              "#fdca26"
             ],
             [
              1,
              "#f0f921"
             ]
            ],
            "type": "heatmapgl"
           }
          ],
          "histogram": [
           {
            "marker": {
             "colorbar": {
              "outlinewidth": 0,
              "ticks": ""
             }
            },
            "type": "histogram"
           }
          ],
          "histogram2d": [
           {
            "colorbar": {
             "outlinewidth": 0,
             "ticks": ""
            },
            "colorscale": [
             [
              0,
              "#0d0887"
             ],
             [
              0.1111111111111111,
              "#46039f"
             ],
             [
              0.2222222222222222,
              "#7201a8"
             ],
             [
              0.3333333333333333,
              "#9c179e"
             ],
             [
              0.4444444444444444,
              "#bd3786"
             ],
             [
              0.5555555555555556,
              "#d8576b"
             ],
             [
              0.6666666666666666,
              "#ed7953"
             ],
             [
              0.7777777777777778,
              "#fb9f3a"
             ],
             [
              0.8888888888888888,
              "#fdca26"
             ],
             [
              1,
              "#f0f921"
             ]
            ],
            "type": "histogram2d"
           }
          ],
          "histogram2dcontour": [
           {
            "colorbar": {
             "outlinewidth": 0,
             "ticks": ""
            },
            "colorscale": [
             [
              0,
              "#0d0887"
             ],
             [
              0.1111111111111111,
              "#46039f"
             ],
             [
              0.2222222222222222,
              "#7201a8"
             ],
             [
              0.3333333333333333,
              "#9c179e"
             ],
             [
              0.4444444444444444,
              "#bd3786"
             ],
             [
              0.5555555555555556,
              "#d8576b"
             ],
             [
              0.6666666666666666,
              "#ed7953"
             ],
             [
              0.7777777777777778,
              "#fb9f3a"
             ],
             [
              0.8888888888888888,
              "#fdca26"
             ],
             [
              1,
              "#f0f921"
             ]
            ],
            "type": "histogram2dcontour"
           }
          ],
          "mesh3d": [
           {
            "colorbar": {
             "outlinewidth": 0,
             "ticks": ""
            },
            "type": "mesh3d"
           }
          ],
          "parcoords": [
           {
            "line": {
             "colorbar": {
              "outlinewidth": 0,
              "ticks": ""
             }
            },
            "type": "parcoords"
           }
          ],
          "pie": [
           {
            "automargin": true,
            "type": "pie"
           }
          ],
          "scatter": [
           {
            "marker": {
             "colorbar": {
              "outlinewidth": 0,
              "ticks": ""
             }
            },
            "type": "scatter"
           }
          ],
          "scatter3d": [
           {
            "line": {
             "colorbar": {
              "outlinewidth": 0,
              "ticks": ""
             }
            },
            "marker": {
             "colorbar": {
              "outlinewidth": 0,
              "ticks": ""
             }
            },
            "type": "scatter3d"
           }
          ],
          "scattercarpet": [
           {
            "marker": {
             "colorbar": {
              "outlinewidth": 0,
              "ticks": ""
             }
            },
            "type": "scattercarpet"
           }
          ],
          "scattergeo": [
           {
            "marker": {
             "colorbar": {
              "outlinewidth": 0,
              "ticks": ""
             }
            },
            "type": "scattergeo"
           }
          ],
          "scattergl": [
           {
            "marker": {
             "colorbar": {
              "outlinewidth": 0,
              "ticks": ""
             }
            },
            "type": "scattergl"
           }
          ],
          "scattermapbox": [
           {
            "marker": {
             "colorbar": {
              "outlinewidth": 0,
              "ticks": ""
             }
            },
            "type": "scattermapbox"
           }
          ],
          "scatterpolar": [
           {
            "marker": {
             "colorbar": {
              "outlinewidth": 0,
              "ticks": ""
             }
            },
            "type": "scatterpolar"
           }
          ],
          "scatterpolargl": [
           {
            "marker": {
             "colorbar": {
              "outlinewidth": 0,
              "ticks": ""
             }
            },
            "type": "scatterpolargl"
           }
          ],
          "scatterternary": [
           {
            "marker": {
             "colorbar": {
              "outlinewidth": 0,
              "ticks": ""
             }
            },
            "type": "scatterternary"
           }
          ],
          "surface": [
           {
            "colorbar": {
             "outlinewidth": 0,
             "ticks": ""
            },
            "colorscale": [
             [
              0,
              "#0d0887"
             ],
             [
              0.1111111111111111,
              "#46039f"
             ],
             [
              0.2222222222222222,
              "#7201a8"
             ],
             [
              0.3333333333333333,
              "#9c179e"
             ],
             [
              0.4444444444444444,
              "#bd3786"
             ],
             [
              0.5555555555555556,
              "#d8576b"
             ],
             [
              0.6666666666666666,
              "#ed7953"
             ],
             [
              0.7777777777777778,
              "#fb9f3a"
             ],
             [
              0.8888888888888888,
              "#fdca26"
             ],
             [
              1,
              "#f0f921"
             ]
            ],
            "type": "surface"
           }
          ],
          "table": [
           {
            "cells": {
             "fill": {
              "color": "#EBF0F8"
             },
             "line": {
              "color": "white"
             }
            },
            "header": {
             "fill": {
              "color": "#C8D4E3"
             },
             "line": {
              "color": "white"
             }
            },
            "type": "table"
           }
          ]
         },
         "layout": {
          "annotationdefaults": {
           "arrowcolor": "#2a3f5f",
           "arrowhead": 0,
           "arrowwidth": 1
          },
          "autotypenumbers": "strict",
          "coloraxis": {
           "colorbar": {
            "outlinewidth": 0,
            "ticks": ""
           }
          },
          "colorscale": {
           "diverging": [
            [
             0,
             "#8e0152"
            ],
            [
             0.1,
             "#c51b7d"
            ],
            [
             0.2,
             "#de77ae"
            ],
            [
             0.3,
             "#f1b6da"
            ],
            [
             0.4,
             "#fde0ef"
            ],
            [
             0.5,
             "#f7f7f7"
            ],
            [
             0.6,
             "#e6f5d0"
            ],
            [
             0.7,
             "#b8e186"
            ],
            [
             0.8,
             "#7fbc41"
            ],
            [
             0.9,
             "#4d9221"
            ],
            [
             1,
             "#276419"
            ]
           ],
           "sequential": [
            [
             0,
             "#0d0887"
            ],
            [
             0.1111111111111111,
             "#46039f"
            ],
            [
             0.2222222222222222,
             "#7201a8"
            ],
            [
             0.3333333333333333,
             "#9c179e"
            ],
            [
             0.4444444444444444,
             "#bd3786"
            ],
            [
             0.5555555555555556,
             "#d8576b"
            ],
            [
             0.6666666666666666,
             "#ed7953"
            ],
            [
             0.7777777777777778,
             "#fb9f3a"
            ],
            [
             0.8888888888888888,
             "#fdca26"
            ],
            [
             1,
             "#f0f921"
            ]
           ],
           "sequentialminus": [
            [
             0,
             "#0d0887"
            ],
            [
             0.1111111111111111,
             "#46039f"
            ],
            [
             0.2222222222222222,
             "#7201a8"
            ],
            [
             0.3333333333333333,
             "#9c179e"
            ],
            [
             0.4444444444444444,
             "#bd3786"
            ],
            [
             0.5555555555555556,
             "#d8576b"
            ],
            [
             0.6666666666666666,
             "#ed7953"
            ],
            [
             0.7777777777777778,
             "#fb9f3a"
            ],
            [
             0.8888888888888888,
             "#fdca26"
            ],
            [
             1,
             "#f0f921"
            ]
           ]
          },
          "colorway": [
           "#636efa",
           "#EF553B",
           "#00cc96",
           "#ab63fa",
           "#FFA15A",
           "#19d3f3",
           "#FF6692",
           "#B6E880",
           "#FF97FF",
           "#FECB52"
          ],
          "font": {
           "color": "#2a3f5f"
          },
          "geo": {
           "bgcolor": "white",
           "lakecolor": "white",
           "landcolor": "#E5ECF6",
           "showlakes": true,
           "showland": true,
           "subunitcolor": "white"
          },
          "hoverlabel": {
           "align": "left"
          },
          "hovermode": "closest",
          "mapbox": {
           "style": "light"
          },
          "paper_bgcolor": "white",
          "plot_bgcolor": "#E5ECF6",
          "polar": {
           "angularaxis": {
            "gridcolor": "white",
            "linecolor": "white",
            "ticks": ""
           },
           "bgcolor": "#E5ECF6",
           "radialaxis": {
            "gridcolor": "white",
            "linecolor": "white",
            "ticks": ""
           }
          },
          "scene": {
           "xaxis": {
            "backgroundcolor": "#E5ECF6",
            "gridcolor": "white",
            "gridwidth": 2,
            "linecolor": "white",
            "showbackground": true,
            "ticks": "",
            "zerolinecolor": "white"
           },
           "yaxis": {
            "backgroundcolor": "#E5ECF6",
            "gridcolor": "white",
            "gridwidth": 2,
            "linecolor": "white",
            "showbackground": true,
            "ticks": "",
            "zerolinecolor": "white"
           },
           "zaxis": {
            "backgroundcolor": "#E5ECF6",
            "gridcolor": "white",
            "gridwidth": 2,
            "linecolor": "white",
            "showbackground": true,
            "ticks": "",
            "zerolinecolor": "white"
           }
          },
          "shapedefaults": {
           "line": {
            "color": "#2a3f5f"
           }
          },
          "ternary": {
           "aaxis": {
            "gridcolor": "white",
            "linecolor": "white",
            "ticks": ""
           },
           "baxis": {
            "gridcolor": "white",
            "linecolor": "white",
            "ticks": ""
           },
           "bgcolor": "#E5ECF6",
           "caxis": {
            "gridcolor": "white",
            "linecolor": "white",
            "ticks": ""
           }
          },
          "title": {
           "x": 0.05
          },
          "xaxis": {
           "automargin": true,
           "gridcolor": "white",
           "linecolor": "white",
           "ticks": "",
           "title": {
            "standoff": 15
           },
           "zerolinecolor": "white",
           "zerolinewidth": 2
          },
          "yaxis": {
           "automargin": true,
           "gridcolor": "white",
           "linecolor": "white",
           "ticks": "",
           "title": {
            "standoff": 15
           },
           "zerolinecolor": "white",
           "zerolinewidth": 2
          }
         }
        },
        "xaxis": {
         "anchor": "y",
         "domain": [
          0,
          1
         ],
         "title": {
          "text": "Sentiment"
         }
        },
        "yaxis": {
         "anchor": "x",
         "domain": [
          0,
          1
         ],
         "title": {
          "text": "Count"
         }
        }
       }
      },
      "text/html": [
       "<div>                            <div id=\"ce1d3442-5980-4c47-b400-2a89fe8bc73c\" class=\"plotly-graph-div\" style=\"height:525px; width:100%;\"></div>            <script type=\"text/javascript\">                require([\"plotly\"], function(Plotly) {                    window.PLOTLYENV=window.PLOTLYENV || {};                                    if (document.getElementById(\"ce1d3442-5980-4c47-b400-2a89fe8bc73c\")) {                    Plotly.newPlot(                        \"ce1d3442-5980-4c47-b400-2a89fe8bc73c\",                        [{\"alignmentgroup\": \"True\", \"bingroup\": \"x\", \"hovertemplate\": \"<i><b>Count</i>: %{y}<br><b>Sentiment Range</b>: %{x}<br><extra></extra>\", \"legendgroup\": \"0\", \"marker\": {\"color\": \"#636efa\"}, \"name\": \"0\", \"nbinsx\": 25, \"offsetgroup\": \"0\", \"orientation\": \"v\", \"showlegend\": true, \"type\": \"histogram\", \"x\": [0.9972641468048096, 0.9975180625915527, -0.9805647730827332, -0.7134011387825012, -0.9855760931968689, -0.9879230856895447, 0.9974815845489502, 0.9973129630088806, -0.9870892763137817, -0.9166325926780701, -0.5877112150192261, 0.9974703788757324, -0.9872998595237732, -0.15822675824165344, -0.9850764274597168, -0.9873055815696716, -0.6892362833023071, -0.6380441784858704, -0.9784846901893616, -0.961927056312561, -0.9591638445854187, -0.9611943364143372, -0.9751520752906799, -0.6888849139213562, -0.9865659475326538], \"xaxis\": \"x\", \"yaxis\": \"y\"}],                        {\"bargap\": 0.2, \"barmode\": \"relative\", \"clickmode\": \"none\", \"dragmode\": false, \"legend\": {\"title\": {\"text\": \"variable\"}, \"tracegroupgap\": 0}, \"margin\": {\"t\": 60}, \"showlegend\": false, \"template\": {\"data\": {\"bar\": [{\"error_x\": {\"color\": \"#2a3f5f\"}, \"error_y\": {\"color\": \"#2a3f5f\"}, \"marker\": {\"line\": {\"color\": \"#E5ECF6\", \"width\": 0.5}}, \"type\": \"bar\"}], \"barpolar\": [{\"marker\": {\"line\": {\"color\": \"#E5ECF6\", \"width\": 0.5}}, \"type\": \"barpolar\"}], \"carpet\": [{\"aaxis\": {\"endlinecolor\": \"#2a3f5f\", \"gridcolor\": \"white\", \"linecolor\": \"white\", \"minorgridcolor\": \"white\", \"startlinecolor\": \"#2a3f5f\"}, \"baxis\": {\"endlinecolor\": \"#2a3f5f\", \"gridcolor\": \"white\", \"linecolor\": \"white\", \"minorgridcolor\": \"white\", \"startlinecolor\": \"#2a3f5f\"}, \"type\": \"carpet\"}], \"choropleth\": [{\"colorbar\": {\"outlinewidth\": 0, \"ticks\": \"\"}, \"type\": \"choropleth\"}], \"contour\": [{\"colorbar\": {\"outlinewidth\": 0, \"ticks\": \"\"}, \"colorscale\": [[0.0, \"#0d0887\"], [0.1111111111111111, \"#46039f\"], [0.2222222222222222, \"#7201a8\"], [0.3333333333333333, \"#9c179e\"], [0.4444444444444444, \"#bd3786\"], [0.5555555555555556, \"#d8576b\"], [0.6666666666666666, \"#ed7953\"], [0.7777777777777778, \"#fb9f3a\"], [0.8888888888888888, \"#fdca26\"], [1.0, \"#f0f921\"]], \"type\": \"contour\"}], \"contourcarpet\": [{\"colorbar\": {\"outlinewidth\": 0, \"ticks\": \"\"}, \"type\": \"contourcarpet\"}], \"heatmap\": [{\"colorbar\": {\"outlinewidth\": 0, \"ticks\": \"\"}, \"colorscale\": [[0.0, \"#0d0887\"], [0.1111111111111111, \"#46039f\"], [0.2222222222222222, \"#7201a8\"], [0.3333333333333333, \"#9c179e\"], [0.4444444444444444, \"#bd3786\"], [0.5555555555555556, \"#d8576b\"], [0.6666666666666666, \"#ed7953\"], [0.7777777777777778, \"#fb9f3a\"], [0.8888888888888888, \"#fdca26\"], [1.0, \"#f0f921\"]], \"type\": \"heatmap\"}], \"heatmapgl\": [{\"colorbar\": {\"outlinewidth\": 0, \"ticks\": \"\"}, \"colorscale\": [[0.0, \"#0d0887\"], [0.1111111111111111, \"#46039f\"], [0.2222222222222222, \"#7201a8\"], [0.3333333333333333, \"#9c179e\"], [0.4444444444444444, \"#bd3786\"], [0.5555555555555556, \"#d8576b\"], [0.6666666666666666, \"#ed7953\"], [0.7777777777777778, \"#fb9f3a\"], [0.8888888888888888, \"#fdca26\"], [1.0, \"#f0f921\"]], \"type\": \"heatmapgl\"}], \"histogram\": [{\"marker\": {\"colorbar\": {\"outlinewidth\": 0, \"ticks\": \"\"}}, \"type\": \"histogram\"}], \"histogram2d\": [{\"colorbar\": {\"outlinewidth\": 0, \"ticks\": \"\"}, \"colorscale\": [[0.0, \"#0d0887\"], [0.1111111111111111, \"#46039f\"], [0.2222222222222222, \"#7201a8\"], [0.3333333333333333, \"#9c179e\"], [0.4444444444444444, \"#bd3786\"], [0.5555555555555556, \"#d8576b\"], [0.6666666666666666, \"#ed7953\"], [0.7777777777777778, \"#fb9f3a\"], [0.8888888888888888, \"#fdca26\"], [1.0, \"#f0f921\"]], \"type\": \"histogram2d\"}], \"histogram2dcontour\": [{\"colorbar\": {\"outlinewidth\": 0, \"ticks\": \"\"}, \"colorscale\": [[0.0, \"#0d0887\"], [0.1111111111111111, \"#46039f\"], [0.2222222222222222, \"#7201a8\"], [0.3333333333333333, \"#9c179e\"], [0.4444444444444444, \"#bd3786\"], [0.5555555555555556, \"#d8576b\"], [0.6666666666666666, \"#ed7953\"], [0.7777777777777778, \"#fb9f3a\"], [0.8888888888888888, \"#fdca26\"], [1.0, \"#f0f921\"]], \"type\": \"histogram2dcontour\"}], \"mesh3d\": [{\"colorbar\": {\"outlinewidth\": 0, \"ticks\": \"\"}, \"type\": \"mesh3d\"}], \"parcoords\": [{\"line\": {\"colorbar\": {\"outlinewidth\": 0, \"ticks\": \"\"}}, \"type\": \"parcoords\"}], \"pie\": [{\"automargin\": true, \"type\": \"pie\"}], \"scatter\": [{\"marker\": {\"colorbar\": {\"outlinewidth\": 0, \"ticks\": \"\"}}, \"type\": \"scatter\"}], \"scatter3d\": [{\"line\": {\"colorbar\": {\"outlinewidth\": 0, \"ticks\": \"\"}}, \"marker\": {\"colorbar\": {\"outlinewidth\": 0, \"ticks\": \"\"}}, \"type\": \"scatter3d\"}], \"scattercarpet\": [{\"marker\": {\"colorbar\": {\"outlinewidth\": 0, \"ticks\": \"\"}}, \"type\": \"scattercarpet\"}], \"scattergeo\": [{\"marker\": {\"colorbar\": {\"outlinewidth\": 0, \"ticks\": \"\"}}, \"type\": \"scattergeo\"}], \"scattergl\": [{\"marker\": {\"colorbar\": {\"outlinewidth\": 0, \"ticks\": \"\"}}, \"type\": \"scattergl\"}], \"scattermapbox\": [{\"marker\": {\"colorbar\": {\"outlinewidth\": 0, \"ticks\": \"\"}}, \"type\": \"scattermapbox\"}], \"scatterpolar\": [{\"marker\": {\"colorbar\": {\"outlinewidth\": 0, \"ticks\": \"\"}}, \"type\": \"scatterpolar\"}], \"scatterpolargl\": [{\"marker\": {\"colorbar\": {\"outlinewidth\": 0, \"ticks\": \"\"}}, \"type\": \"scatterpolargl\"}], \"scatterternary\": [{\"marker\": {\"colorbar\": {\"outlinewidth\": 0, \"ticks\": \"\"}}, \"type\": \"scatterternary\"}], \"surface\": [{\"colorbar\": {\"outlinewidth\": 0, \"ticks\": \"\"}, \"colorscale\": [[0.0, \"#0d0887\"], [0.1111111111111111, \"#46039f\"], [0.2222222222222222, \"#7201a8\"], [0.3333333333333333, \"#9c179e\"], [0.4444444444444444, \"#bd3786\"], [0.5555555555555556, \"#d8576b\"], [0.6666666666666666, \"#ed7953\"], [0.7777777777777778, \"#fb9f3a\"], [0.8888888888888888, \"#fdca26\"], [1.0, \"#f0f921\"]], \"type\": \"surface\"}], \"table\": [{\"cells\": {\"fill\": {\"color\": \"#EBF0F8\"}, \"line\": {\"color\": \"white\"}}, \"header\": {\"fill\": {\"color\": \"#C8D4E3\"}, \"line\": {\"color\": \"white\"}}, \"type\": \"table\"}]}, \"layout\": {\"annotationdefaults\": {\"arrowcolor\": \"#2a3f5f\", \"arrowhead\": 0, \"arrowwidth\": 1}, \"autotypenumbers\": \"strict\", \"coloraxis\": {\"colorbar\": {\"outlinewidth\": 0, \"ticks\": \"\"}}, \"colorscale\": {\"diverging\": [[0, \"#8e0152\"], [0.1, \"#c51b7d\"], [0.2, \"#de77ae\"], [0.3, \"#f1b6da\"], [0.4, \"#fde0ef\"], [0.5, \"#f7f7f7\"], [0.6, \"#e6f5d0\"], [0.7, \"#b8e186\"], [0.8, \"#7fbc41\"], [0.9, \"#4d9221\"], [1, \"#276419\"]], \"sequential\": [[0.0, \"#0d0887\"], [0.1111111111111111, \"#46039f\"], [0.2222222222222222, \"#7201a8\"], [0.3333333333333333, \"#9c179e\"], [0.4444444444444444, \"#bd3786\"], [0.5555555555555556, \"#d8576b\"], [0.6666666666666666, \"#ed7953\"], [0.7777777777777778, \"#fb9f3a\"], [0.8888888888888888, \"#fdca26\"], [1.0, \"#f0f921\"]], \"sequentialminus\": [[0.0, \"#0d0887\"], [0.1111111111111111, \"#46039f\"], [0.2222222222222222, \"#7201a8\"], [0.3333333333333333, \"#9c179e\"], [0.4444444444444444, \"#bd3786\"], [0.5555555555555556, \"#d8576b\"], [0.6666666666666666, \"#ed7953\"], [0.7777777777777778, \"#fb9f3a\"], [0.8888888888888888, \"#fdca26\"], [1.0, \"#f0f921\"]]}, \"colorway\": [\"#636efa\", \"#EF553B\", \"#00cc96\", \"#ab63fa\", \"#FFA15A\", \"#19d3f3\", \"#FF6692\", \"#B6E880\", \"#FF97FF\", \"#FECB52\"], \"font\": {\"color\": \"#2a3f5f\"}, \"geo\": {\"bgcolor\": \"white\", \"lakecolor\": \"white\", \"landcolor\": \"#E5ECF6\", \"showlakes\": true, \"showland\": true, \"subunitcolor\": \"white\"}, \"hoverlabel\": {\"align\": \"left\"}, \"hovermode\": \"closest\", \"mapbox\": {\"style\": \"light\"}, \"paper_bgcolor\": \"white\", \"plot_bgcolor\": \"#E5ECF6\", \"polar\": {\"angularaxis\": {\"gridcolor\": \"white\", \"linecolor\": \"white\", \"ticks\": \"\"}, \"bgcolor\": \"#E5ECF6\", \"radialaxis\": {\"gridcolor\": \"white\", \"linecolor\": \"white\", \"ticks\": \"\"}}, \"scene\": {\"xaxis\": {\"backgroundcolor\": \"#E5ECF6\", \"gridcolor\": \"white\", \"gridwidth\": 2, \"linecolor\": \"white\", \"showbackground\": true, \"ticks\": \"\", \"zerolinecolor\": \"white\"}, \"yaxis\": {\"backgroundcolor\": \"#E5ECF6\", \"gridcolor\": \"white\", \"gridwidth\": 2, \"linecolor\": \"white\", \"showbackground\": true, \"ticks\": \"\", \"zerolinecolor\": \"white\"}, \"zaxis\": {\"backgroundcolor\": \"#E5ECF6\", \"gridcolor\": \"white\", \"gridwidth\": 2, \"linecolor\": \"white\", \"showbackground\": true, \"ticks\": \"\", \"zerolinecolor\": \"white\"}}, \"shapedefaults\": {\"line\": {\"color\": \"#2a3f5f\"}}, \"ternary\": {\"aaxis\": {\"gridcolor\": \"white\", \"linecolor\": \"white\", \"ticks\": \"\"}, \"baxis\": {\"gridcolor\": \"white\", \"linecolor\": \"white\", \"ticks\": \"\"}, \"bgcolor\": \"#E5ECF6\", \"caxis\": {\"gridcolor\": \"white\", \"linecolor\": \"white\", \"ticks\": \"\"}}, \"title\": {\"x\": 0.05}, \"xaxis\": {\"automargin\": true, \"gridcolor\": \"white\", \"linecolor\": \"white\", \"ticks\": \"\", \"title\": {\"standoff\": 15}, \"zerolinecolor\": \"white\", \"zerolinewidth\": 2}, \"yaxis\": {\"automargin\": true, \"gridcolor\": \"white\", \"linecolor\": \"white\", \"ticks\": \"\", \"title\": {\"standoff\": 15}, \"zerolinecolor\": \"white\", \"zerolinewidth\": 2}}}, \"xaxis\": {\"anchor\": \"y\", \"domain\": [0.0, 1.0], \"title\": {\"text\": \"Sentiment\"}}, \"yaxis\": {\"anchor\": \"x\", \"domain\": [0.0, 1.0], \"title\": {\"text\": \"Count\"}}},                        {\"responsive\": true}                    ).then(function(){\n",
       "                            \n",
       "var gd = document.getElementById('ce1d3442-5980-4c47-b400-2a89fe8bc73c');\n",
       "var x = new MutationObserver(function (mutations, observer) {{\n",
       "        var display = window.getComputedStyle(gd).display;\n",
       "        if (!display || display === 'none') {{\n",
       "            console.log([gd, 'removed!']);\n",
       "            Plotly.purge(gd);\n",
       "            observer.disconnect();\n",
       "        }}\n",
       "}});\n",
       "\n",
       "// Listen for the removal of the full notebook cells\n",
       "var notebookContainer = gd.closest('#notebook-container');\n",
       "if (notebookContainer) {{\n",
       "    x.observe(notebookContainer, {childList: true});\n",
       "}}\n",
       "\n",
       "// Listen for the clearing of the current output cell\n",
       "var outputEl = gd.closest('.output');\n",
       "if (outputEl) {{\n",
       "    x.observe(outputEl, {childList: true});\n",
       "}}\n",
       "\n",
       "                        })                };                });            </script>        </div>"
      ]
     },
     "metadata": {},
     "output_type": "display_data"
    }
   ],
   "source": [
    "fig = px.histogram(sentiment_scores, nbins=25)\n",
    "\n",
    "fig.update_layout(\n",
    "    xaxis_title_text = 'Sentiment',\n",
    "    yaxis_title_text = 'Count',\n",
    "    bargap=0.2,\n",
    "    showlegend=False,\n",
    "    dragmode=False,\n",
    "    clickmode='none',\n",
    ")\n",
    "\n",
    "\n",
    "# fig.update_traces(hovertemplate=None)\n",
    "fig.update_traces(hovertemplate=\n",
    "                  '<i><b>Count</i>: %{y}' + \n",
    "                  '<br><b>Sentiment Range</b>: %{x}' +\n",
    "                  '<br><extra></extra>')\n",
    "\n",
    "\n",
    "\n",
    "fig.show()"
   ]
  },
  {
   "cell_type": "code",
   "execution_count": 87,
   "metadata": {},
   "outputs": [
    {
     "data": {
      "text/plain": [
       "[0.99726415,\n",
       " 0.99751806,\n",
       " -0.9805648,\n",
       " -0.71340114,\n",
       " -0.9855761,\n",
       " -0.9879231,\n",
       " 0.9974816,\n",
       " 0.99731296,\n",
       " -0.9870893,\n",
       " -0.9166326,\n",
       " -0.5877112,\n",
       " 0.9974704,\n",
       " -0.98729986,\n",
       " -0.15822676,\n",
       " -0.9850764,\n",
       " -0.9873056,\n",
       " -0.6892363,\n",
       " -0.6380442,\n",
       " -0.9784847,\n",
       " -0.96192706,\n",
       " -0.95916384,\n",
       " -0.96119434,\n",
       " -0.9751521,\n",
       " -0.6888849,\n",
       " -0.98656595]"
      ]
     },
     "execution_count": 87,
     "metadata": {},
     "output_type": "execute_result"
    }
   ],
   "source": [
    "sentiment_scores"
   ]
  },
  {
   "cell_type": "code",
   "execution_count": null,
   "metadata": {},
   "outputs": [],
   "source": []
  },
  {
   "cell_type": "code",
   "execution_count": 15,
   "metadata": {},
   "outputs": [
    {
     "data": {
      "text/plain": [
       "array([11,  6,  1,  7,  0], dtype=int64)"
      ]
     },
     "execution_count": 15,
     "metadata": {},
     "output_type": "execute_result"
    }
   ],
   "source": [
    "pos_scores.argsort()[-5:][::-1]"
   ]
  },
  {
   "cell_type": "code",
   "execution_count": 14,
   "metadata": {},
   "outputs": [
    {
     "data": {
      "text/plain": [
       "array([0.99834883, 0.99845755, 0.0055188 , 0.10376485, 0.00646426,\n",
       "       0.00528512, 0.99850106, 0.9984359 , 0.00569052, 0.01087566,\n",
       "       0.14215325, 0.99853694, 0.00552637, 0.04802295, 0.00426602,\n",
       "       0.005228  , 0.14547388, 0.04720908, 0.01017662, 0.00662997,\n",
       "       0.00800654, 0.01455655, 0.0069249 , 0.11073714, 0.00568936],\n",
       "      dtype=float32)"
      ]
     },
     "execution_count": 14,
     "metadata": {},
     "output_type": "execute_result"
    }
   ],
   "source": [
    "# positive scores\n",
    "pos_scores = np.array([example.scores[2] for idx, example in enumerate(examples)])\n",
    "pos_scores"
   ]
  },
  {
   "cell_type": "code",
   "execution_count": 24,
   "metadata": {},
   "outputs": [],
   "source": [
    "best_ordered = np.array([example.scores[2] for idx, example in enumerate(examples)]).argsort()[::-1]"
   ]
  },
  {
   "cell_type": "code",
   "execution_count": 28,
   "metadata": {},
   "outputs": [
    {
     "data": {
      "text/plain": [
       "[0.99853694, 0.99850106, 0.99845755, 0.9984359, 0.99834883]"
      ]
     },
     "execution_count": 28,
     "metadata": {},
     "output_type": "execute_result"
    }
   ],
   "source": [
    "[score for score in pos_scores[best_ordered] if score > 0.6][:5]"
   ]
  },
  {
   "cell_type": "code",
   "execution_count": 23,
   "metadata": {},
   "outputs": [
    {
     "data": {
      "text/plain": [
       "array([0.99834883, 0.99845755, 0.0055188 , 0.10376485, 0.00646426,\n",
       "       0.00528512, 0.99850106, 0.9984359 , 0.00569052, 0.01087566,\n",
       "       0.14215325, 0.99853694, 0.00552637, 0.04802295, 0.00426602,\n",
       "       0.005228  , 0.14547388, 0.04720908, 0.01017662, 0.00662997,\n",
       "       0.00800654, 0.01455655, 0.0069249 , 0.11073714, 0.00568936],\n",
       "      dtype=float32)"
      ]
     },
     "execution_count": 23,
     "metadata": {},
     "output_type": "execute_result"
    }
   ],
   "source": [
    "pos_scores"
   ]
  },
  {
   "cell_type": "code",
   "execution_count": 19,
   "metadata": {},
   "outputs": [
    {
     "data": {
      "text/plain": [
       "array([1.0846786e-03, 9.3948544e-04, 9.8608357e-01, 8.1716597e-01,\n",
       "       9.9204034e-01, 9.9320823e-01, 1.0194661e-03, 1.1229619e-03,\n",
       "       9.9277979e-01, 9.2750823e-01, 7.2986448e-01, 1.0665880e-03,\n",
       "       9.9282622e-01, 2.0624970e-01, 9.8934245e-01, 9.9253356e-01,\n",
       "       8.3471018e-01, 6.8525326e-01, 9.8866129e-01, 9.6855700e-01,\n",
       "       9.6717036e-01, 9.7575086e-01, 9.8207700e-01, 7.9962206e-01,\n",
       "       9.9225533e-01], dtype=float32)"
      ]
     },
     "execution_count": 19,
     "metadata": {},
     "output_type": "execute_result"
    }
   ],
   "source": [
    "# negative scores\n",
    "np.array([example.scores[1] for idx, example in enumerate(examples)])"
   ]
  },
  {
   "cell_type": "code",
   "execution_count": 17,
   "metadata": {},
   "outputs": [
    {
     "data": {
      "text/plain": [
       "[[0.0005665521, 0.0010846786, 0.99834883],\n",
       " [0.0006029623, 0.00093948544, 0.99845755],\n",
       " [0.008397679, 0.98608357, 0.005518797],\n",
       " [0.0790692, 0.817166, 0.10376485],\n",
       " [0.0014954025, 0.99204034, 0.0064642555],\n",
       " [0.0015066285, 0.9932082, 0.0052851154],\n",
       " [0.00047944364, 0.0010194661, 0.99850106],\n",
       " [0.0004410581, 0.0011229619, 0.9984359],\n",
       " [0.0015296724, 0.9927798, 0.005690519],\n",
       " [0.061616074, 0.92750823, 0.01087566],\n",
       " [0.12798229, 0.7298645, 0.14215325],\n",
       " [0.00039649796, 0.001066588, 0.99853694],\n",
       " [0.0016474467, 0.9928262, 0.0055263657],\n",
       " [0.74572736, 0.2062497, 0.04802295],\n",
       " [0.0063915257, 0.98934245, 0.0042660222],\n",
       " [0.0022383155, 0.99253356, 0.005228005],\n",
       " [0.019815892, 0.8347102, 0.14547388],\n",
       " [0.26753768, 0.68525326, 0.047209077],\n",
       " [0.0011621026, 0.9886613, 0.010176622],\n",
       " [0.024813004, 0.968557, 0.0066299695],\n",
       " [0.024823045, 0.96717036, 0.008006539],\n",
       " [0.009692586, 0.97575086, 0.014556548],\n",
       " [0.010998204, 0.982077, 0.006924901],\n",
       " [0.08964077, 0.79962206, 0.11073714],\n",
       " [0.0020553458, 0.99225533, 0.0056893574]]"
      ]
     },
     "execution_count": 17,
     "metadata": {},
     "output_type": "execute_result"
    }
   ],
   "source": [
    "[example.scores for idx, example in enumerate(examples)]"
   ]
  },
  {
   "cell_type": "code",
   "execution_count": 46,
   "metadata": {},
   "outputs": [
    {
     "data": {
      "text/plain": [
       "[0.0005665521, 0.0010846786, 0.99834883]"
      ]
     },
     "execution_count": 46,
     "metadata": {},
     "output_type": "execute_result"
    }
   ],
   "source": [
    "examples[0].scores"
   ]
  },
  {
   "cell_type": "code",
   "execution_count": 21,
   "metadata": {
    "scrolled": true
   },
   "outputs": [
    {
     "name": "stdout",
     "output_type": "stream",
     "text": [
      "Sentiment.positive for \"customer service\"\n",
      "Scores (neutral/negative/positive): [0.001 0.001 0.998]\n"
     ]
    },
    {
     "data": {
      "text/html": [
       "<span style=\"background-color:rgba(180,180,180,1.1111111111111112);\">Importance 1.00</span> <span style=\"background-color:rgba(135,206,250,0.2375);\">good</span> <span style=\"background-color:rgba(135,206,250,0.075);\">delivery</span> <span style=\"background-color:rgba(135,206,250,0.08750000000000001);\">service</span> <span style=\"background-color:rgba(135,206,250,0.075);\">with</span> <span style=\"background-color:rgba(135,206,250,0.09999999999999999);\">options</span> <span style=\"background-color:rgba(135,206,250,0.049999999999999996);\">for</span> <span style=\"background-color:rgba(135,206,250,0.0375);\">evening</span> <span style=\"background-color:rgba(135,206,250,0.024999999999999998);\">,</span> <span style=\"background-color:rgba(135,206,250,0.0375);\">same</span> <span style=\"background-color:rgba(135,206,250,0.024999999999999998);\">day</span> <span style=\"background-color:rgba(135,206,250,0.0375);\">,</span> <span style=\"background-color:rgba(135,206,250,0.0375);\">etc</span> <span style=\"background-color:rgba(135,206,250,0.0625);\">;</span> <span style=\"background-color:rgba(135,206,250,0.08750000000000001);\">loads</span> <span style=\"background-color:rgba(135,206,250,0.049999999999999996);\">of</span> <span style=\"background-color:rgba(135,206,250,0.075);\">available</span> <span style=\"background-color:rgba(135,206,250,0.075);\">products</span> <span style=\"background-color:rgba(135,206,250,0.39999999999999997);\">;</span> <span style=\"background-color:rgba(135,206,250,1.25);\">customer</span> <span style=\"background-color:rgba(135,206,250,0.5499999999999999);\">service</span> <span style=\"background-color:rgba(135,206,250,0.5);\">is</span> <span style=\"background-color:rgba(135,206,250,1.25);\">good</span> <span style=\"background-color:rgba(135,206,250,1.25);\">aswell</span> <span style=\"background-color:rgba(135,206,250,0.3125);\">.</span><br> <span style=\"background-color:rgba(180,180,180,0.6444444444444444);\">Importance 0.58</span> <span style=\"background-color:rgba(135,206,250,0.35000000000000003);\">good</span> <span style=\"background-color:rgba(135,206,250,0.17500000000000002);\">delivery</span> <span style=\"background-color:rgba(135,206,250,0.09999999999999999);\">service</span> <span style=\"background-color:rgba(135,206,250,0.075);\">with</span> <span style=\"background-color:rgba(135,206,250,0.075);\">options</span> <span style=\"background-color:rgba(135,206,250,0.0625);\">for</span> <span style=\"background-color:rgba(135,206,250,0.0625);\">evening</span> <span style=\"background-color:rgba(135,206,250,0.08750000000000001);\">,</span> <span style=\"background-color:rgba(135,206,250,0.0375);\">same</span> <span style=\"background-color:rgba(135,206,250,0.0375);\">day</span> <span style=\"background-color:rgba(135,206,250,0.08750000000000001);\">,</span> <span style=\"background-color:rgba(135,206,250,0.075);\">etc</span> <span style=\"background-color:rgba(135,206,250,0.2875);\">;</span> <span style=\"background-color:rgba(135,206,250,0.075);\">loads</span> <span style=\"background-color:rgba(135,206,250,0.049999999999999996);\">of</span> <span style=\"background-color:rgba(135,206,250,0.0625);\">available</span> <span style=\"background-color:rgba(135,206,250,0.08750000000000001);\">products</span> <span style=\"background-color:rgba(135,206,250,0.5);\">;</span> <span style=\"background-color:rgba(135,206,250,0.125);\">customer</span> <span style=\"background-color:rgba(135,206,250,0.125);\">service</span> <span style=\"background-color:rgba(135,206,250,0.18749999999999997);\">is</span> <span style=\"background-color:rgba(135,206,250,0.2875);\">good</span> <span style=\"background-color:rgba(135,206,250,0.6875);\">aswell</span> <span style=\"background-color:rgba(135,206,250,0.7249999999999999);\">.</span><br> <span style=\"background-color:rgba(180,180,180,0.6);\">Importance 0.54</span> <span style=\"background-color:rgba(135,206,250,0.675);\">good</span> <span style=\"background-color:rgba(135,206,250,0.475);\">delivery</span> <span style=\"background-color:rgba(135,206,250,0.675);\">service</span> <span style=\"background-color:rgba(135,206,250,0.36249999999999993);\">with</span> <span style=\"background-color:rgba(135,206,250,0.5375);\">options</span> <span style=\"background-color:rgba(135,206,250,0.125);\">for</span> <span style=\"background-color:rgba(135,206,250,0.0625);\">evening</span> <span style=\"background-color:rgba(135,206,250,0.049999999999999996);\">,</span> <span style=\"background-color:rgba(135,206,250,0.09999999999999999);\">same</span> <span style=\"background-color:rgba(135,206,250,0.049999999999999996);\">day</span> <span style=\"background-color:rgba(135,206,250,0.0625);\">,</span> <span style=\"background-color:rgba(135,206,250,0.11249999999999999);\">etc</span> <span style=\"background-color:rgba(135,206,250,0.2125);\">;</span> <span style=\"background-color:rgba(135,206,250,0.15);\">loads</span> <span style=\"background-color:rgba(135,206,250,0.0625);\">of</span> <span style=\"background-color:rgba(135,206,250,0.125);\">available</span> <span style=\"background-color:rgba(135,206,250,0.09999999999999999);\">products</span> <span style=\"background-color:rgba(135,206,250,0.22499999999999998);\">;</span> <span style=\"background-color:rgba(135,206,250,0.125);\">customer</span> <span style=\"background-color:rgba(135,206,250,0.09999999999999999);\">service</span> <span style=\"background-color:rgba(135,206,250,0.125);\">is</span> <span style=\"background-color:rgba(135,206,250,0.36249999999999993);\">good</span> <span style=\"background-color:rgba(135,206,250,0.17500000000000002);\">aswell</span> <span style=\"background-color:rgba(135,206,250,0.25);\">.</span><br> <span style=\"background-color:rgba(180,180,180,0.5333333333333333);\">Importance 0.48</span> <span style=\"background-color:rgba(135,206,250,0.22499999999999998);\">good</span> <span style=\"background-color:rgba(135,206,250,0.0625);\">delivery</span> <span style=\"background-color:rgba(135,206,250,0.075);\">service</span> <span style=\"background-color:rgba(135,206,250,0.125);\">with</span> <span style=\"background-color:rgba(135,206,250,0.09999999999999999);\">options</span> <span style=\"background-color:rgba(135,206,250,0.0375);\">for</span> <span style=\"background-color:rgba(135,206,250,0.049999999999999996);\">evening</span> <span style=\"background-color:rgba(135,206,250,0.049999999999999996);\">,</span> <span style=\"background-color:rgba(135,206,250,0.024999999999999998);\">same</span> <span style=\"background-color:rgba(135,206,250,0.012499999999999999);\">day</span> <span style=\"background-color:rgba(135,206,250,0.075);\">,</span> <span style=\"background-color:rgba(135,206,250,0.13749999999999998);\">etc</span> <span style=\"background-color:rgba(135,206,250,0.4125);\">;</span> <span style=\"background-color:rgba(135,206,250,0.1625);\">loads</span> <span style=\"background-color:rgba(135,206,250,0.11249999999999999);\">of</span> <span style=\"background-color:rgba(135,206,250,0.15);\">available</span> <span style=\"background-color:rgba(135,206,250,0.17500000000000002);\">products</span> <span style=\"background-color:rgba(135,206,250,0.6);\">;</span> <span style=\"background-color:rgba(135,206,250,0.6);\">customer</span> <span style=\"background-color:rgba(135,206,250,0.3);\">service</span> <span style=\"background-color:rgba(135,206,250,0.3125);\">is</span> <span style=\"background-color:rgba(135,206,250,0.44999999999999996);\">good</span> <span style=\"background-color:rgba(135,206,250,0.3);\">aswell</span> <span style=\"background-color:rgba(135,206,250,0.44999999999999996);\">.</span><br> <span style=\"background-color:rgba(180,180,180,0.4888888888888889);\">Importance 0.44</span> <span style=\"background-color:rgba(135,206,250,0.049999999999999996);\">good</span> <span style=\"background-color:rgba(135,206,250,0.0375);\">delivery</span> <span style=\"background-color:rgba(135,206,250,0.024999999999999998);\">service</span> <span style=\"background-color:rgba(135,206,250,0.024999999999999998);\">with</span> <span style=\"background-color:rgba(135,206,250,0.024999999999999998);\">options</span> <span style=\"background-color:rgba(135,206,250,0.024999999999999998);\">for</span> <span style=\"background-color:rgba(135,206,250,0.024999999999999998);\">evening</span> <span style=\"background-color:rgba(135,206,250,0.024999999999999998);\">,</span> <span style=\"background-color:rgba(135,206,250,0.024999999999999998);\">same</span> <span style=\"background-color:rgba(135,206,250,0.012499999999999999);\">day</span> <span style=\"background-color:rgba(135,206,250,0.024999999999999998);\">,</span> <span style=\"background-color:rgba(135,206,250,0.024999999999999998);\">etc</span> <span style=\"background-color:rgba(135,206,250,0.0375);\">;</span> <span style=\"background-color:rgba(135,206,250,0.049999999999999996);\">loads</span> <span style=\"background-color:rgba(135,206,250,0.024999999999999998);\">of</span> <span style=\"background-color:rgba(135,206,250,0.024999999999999998);\">available</span> <span style=\"background-color:rgba(135,206,250,0.049999999999999996);\">products</span> <span style=\"background-color:rgba(135,206,250,0.13749999999999998);\">;</span> <span style=\"background-color:rgba(135,206,250,0.15);\">customer</span> <span style=\"background-color:rgba(135,206,250,0.125);\">service</span> <span style=\"background-color:rgba(135,206,250,0.13749999999999998);\">is</span> <span style=\"background-color:rgba(135,206,250,0.39999999999999997);\">good</span> <span style=\"background-color:rgba(135,206,250,0.5499999999999999);\">aswell</span> <span style=\"background-color:rgba(135,206,250,0.18749999999999997);\">.</span><br>"
      ],
      "text/plain": [
       "<IPython.core.display.HTML object>"
      ]
     },
     "metadata": {},
     "output_type": "display_data"
    },
    {
     "name": "stdout",
     "output_type": "stream",
     "text": [
      "Sentiment.positive for \"customer service\"\n",
      "Scores (neutral/negative/positive): [0.001 0.001 0.998]\n"
     ]
    },
    {
     "data": {
      "text/html": [
       "<span style=\"background-color:rgba(180,180,180,1.1111111111111112);\">Importance 1.00</span> <span style=\"background-color:rgba(135,206,250,0.125);\">in</span> <span style=\"background-color:rgba(135,206,250,0.08750000000000001);\">the</span> <span style=\"background-color:rgba(135,206,250,0.38749999999999996);\">end</span> <span style=\"background-color:rgba(135,206,250,0.17500000000000002);\">,</span> <span style=\"background-color:rgba(135,206,250,0.425);\">customer</span> <span style=\"background-color:rgba(135,206,250,0.38749999999999996);\">service</span> <span style=\"background-color:rgba(135,206,250,0.7249999999999999);\">provided</span> <span style=\"background-color:rgba(135,206,250,0.46249999999999997);\">a</span> <span style=\"background-color:rgba(135,206,250,1.25);\">good</span> <span style=\"background-color:rgba(135,206,250,1.25);\">service</span> <span style=\"background-color:rgba(135,206,250,0.36249999999999993);\">.</span><br> <span style=\"background-color:rgba(180,180,180,0.7888888888888889);\">Importance 0.71</span> <span style=\"background-color:rgba(135,206,250,0.11249999999999999);\">in</span> <span style=\"background-color:rgba(135,206,250,0.08750000000000001);\">the</span> <span style=\"background-color:rgba(135,206,250,0.2125);\">end</span> <span style=\"background-color:rgba(135,206,250,0.475);\">,</span> <span style=\"background-color:rgba(135,206,250,0.8875);\">customer</span> <span style=\"background-color:rgba(135,206,250,0.825);\">service</span> <span style=\"background-color:rgba(135,206,250,0.8875);\">provided</span> <span style=\"background-color:rgba(135,206,250,0.2125);\">a</span> <span style=\"background-color:rgba(135,206,250,0.7499999999999999);\">good</span> <span style=\"background-color:rgba(135,206,250,0.2375);\">service</span> <span style=\"background-color:rgba(135,206,250,0.3125);\">.</span><br> <span style=\"background-color:rgba(180,180,180,0.6);\">Importance 0.54</span> <span style=\"background-color:rgba(135,206,250,0.125);\">in</span> <span style=\"background-color:rgba(135,206,250,0.075);\">the</span> <span style=\"background-color:rgba(135,206,250,0.26249999999999996);\">end</span> <span style=\"background-color:rgba(135,206,250,0.325);\">,</span> <span style=\"background-color:rgba(135,206,250,0.35000000000000003);\">customer</span> <span style=\"background-color:rgba(135,206,250,0.475);\">service</span> <span style=\"background-color:rgba(135,206,250,0.675);\">provided</span> <span style=\"background-color:rgba(135,206,250,0.35000000000000003);\">a</span> <span style=\"background-color:rgba(135,206,250,0.675);\">good</span> <span style=\"background-color:rgba(135,206,250,0.5874999999999999);\">service</span> <span style=\"background-color:rgba(135,206,250,0.2375);\">.</span><br> <span style=\"background-color:rgba(180,180,180,0.3666666666666667);\">Importance 0.33</span> <span style=\"background-color:rgba(135,206,250,0.0375);\">in</span> <span style=\"background-color:rgba(135,206,250,0.0375);\">the</span> <span style=\"background-color:rgba(135,206,250,0.0625);\">end</span> <span style=\"background-color:rgba(135,206,250,0.13749999999999998);\">,</span> <span style=\"background-color:rgba(135,206,250,0.4125);\">customer</span> <span style=\"background-color:rgba(135,206,250,0.4125);\">service</span> <span style=\"background-color:rgba(135,206,250,0.3375);\">provided</span> <span style=\"background-color:rgba(135,206,250,0.075);\">a</span> <span style=\"background-color:rgba(135,206,250,0.2125);\">good</span> <span style=\"background-color:rgba(135,206,250,0.125);\">service</span> <span style=\"background-color:rgba(135,206,250,0.09999999999999999);\">.</span><br> <span style=\"background-color:rgba(180,180,180,0.3333333333333333);\">Importance 0.30</span> <span style=\"background-color:rgba(135,206,250,0.049999999999999996);\">in</span> <span style=\"background-color:rgba(135,206,250,0.0375);\">the</span> <span style=\"background-color:rgba(135,206,250,0.049999999999999996);\">end</span> <span style=\"background-color:rgba(135,206,250,0.09999999999999999);\">,</span> <span style=\"background-color:rgba(135,206,250,0.0625);\">customer</span> <span style=\"background-color:rgba(135,206,250,0.049999999999999996);\">service</span> <span style=\"background-color:rgba(135,206,250,0.09999999999999999);\">provided</span> <span style=\"background-color:rgba(135,206,250,0.049999999999999996);\">a</span> <span style=\"background-color:rgba(135,206,250,0.075);\">good</span> <span style=\"background-color:rgba(135,206,250,0.09999999999999999);\">service</span> <span style=\"background-color:rgba(135,206,250,0.37499999999999994);\">.</span><br>"
      ],
      "text/plain": [
       "<IPython.core.display.HTML object>"
      ]
     },
     "metadata": {},
     "output_type": "display_data"
    },
    {
     "name": "stdout",
     "output_type": "stream",
     "text": [
      "Sentiment.negative for \"customer service\"\n",
      "Scores (neutral/negative/positive): [0.008 0.986 0.006]\n"
     ]
    },
    {
     "data": {
      "text/html": [
       "<span style=\"background-color:rgba(180,180,180,1.1111111111111112);\">Importance 1.00</span> <span style=\"background-color:rgba(135,206,250,0.39999999999999997);\">i</span> <span style=\"background-color:rgba(135,206,250,1.25);\">called</span> <span style=\"background-color:rgba(135,206,250,0.9625);\">customer</span> <span style=\"background-color:rgba(135,206,250,0.8875);\">service</span> <span style=\"background-color:rgba(135,206,250,0.7999999999999999);\">but</span> <span style=\"background-color:rgba(135,206,250,0.4875);\">they</span> <span style=\"background-color:rgba(135,206,250,0.2375);\">were</span> <span style=\"background-color:rgba(135,206,250,0.125);\">so</span> <span style=\"background-color:rgba(135,206,250,0.25);\">rude</span> <span style=\"background-color:rgba(135,206,250,0.075);\">and</span> <span style=\"background-color:rgba(135,206,250,0.17500000000000002);\">rigid</span> <span style=\"background-color:rgba(135,206,250,0.08750000000000001);\">and</span> <span style=\"background-color:rgba(135,206,250,0.13749999999999998);\">kept</span> <span style=\"background-color:rgba(135,206,250,0.11249999999999999);\">referring</span> <span style=\"background-color:rgba(135,206,250,0.0375);\">to</span> <span style=\"background-color:rgba(135,206,250,0.0625);\">what</span> <span style=\"background-color:rgba(135,206,250,0.049999999999999996);\">the</span> <span style=\"background-color:rgba(135,206,250,0.11249999999999999);\">system</span> <span style=\"background-color:rgba(135,206,250,0.08750000000000001);\">records</span> <span style=\"background-color:rgba(135,206,250,0.075);\">are</span> <span style=\"background-color:rgba(135,206,250,0.17500000000000002);\">.</span><br> <span style=\"background-color:rgba(180,180,180,0.5888888888888889);\">Importance 0.53</span> <span style=\"background-color:rgba(135,206,250,0.08750000000000001);\">i</span> <span style=\"background-color:rgba(135,206,250,0.25);\">called</span> <span style=\"background-color:rgba(135,206,250,0.22499999999999998);\">customer</span> <span style=\"background-color:rgba(135,206,250,0.325);\">service</span> <span style=\"background-color:rgba(135,206,250,0.27499999999999997);\">but</span> <span style=\"background-color:rgba(135,206,250,0.25);\">they</span> <span style=\"background-color:rgba(135,206,250,0.5125);\">were</span> <span style=\"background-color:rgba(135,206,250,0.3);\">so</span> <span style=\"background-color:rgba(135,206,250,0.6625);\">rude</span> <span style=\"background-color:rgba(135,206,250,0.5125);\">and</span> <span style=\"background-color:rgba(135,206,250,0.36249999999999993);\">rigid</span> <span style=\"background-color:rgba(135,206,250,0.36249999999999993);\">and</span> <span style=\"background-color:rgba(135,206,250,0.3);\">kept</span> <span style=\"background-color:rgba(135,206,250,0.2125);\">referring</span> <span style=\"background-color:rgba(135,206,250,0.125);\">to</span> <span style=\"background-color:rgba(135,206,250,0.09999999999999999);\">what</span> <span style=\"background-color:rgba(135,206,250,0.09999999999999999);\">the</span> <span style=\"background-color:rgba(135,206,250,0.1625);\">system</span> <span style=\"background-color:rgba(135,206,250,0.2375);\">records</span> <span style=\"background-color:rgba(135,206,250,0.0625);\">are</span> <span style=\"background-color:rgba(135,206,250,0.3375);\">.</span><br> <span style=\"background-color:rgba(180,180,180,0.4666666666666666);\">Importance 0.42</span> <span style=\"background-color:rgba(135,206,250,0.0375);\">i</span> <span style=\"background-color:rgba(135,206,250,0.0625);\">called</span> <span style=\"background-color:rgba(135,206,250,0.0625);\">customer</span> <span style=\"background-color:rgba(135,206,250,0.049999999999999996);\">service</span> <span style=\"background-color:rgba(135,206,250,0.18749999999999997);\">but</span> <span style=\"background-color:rgba(135,206,250,0.11249999999999999);\">they</span> <span style=\"background-color:rgba(135,206,250,0.17500000000000002);\">were</span> <span style=\"background-color:rgba(135,206,250,0.5249999999999999);\">so</span> <span style=\"background-color:rgba(135,206,250,0.5249999999999999);\">rude</span> <span style=\"background-color:rgba(135,206,250,0.13749999999999998);\">and</span> <span style=\"background-color:rgba(135,206,250,0.17500000000000002);\">rigid</span> <span style=\"background-color:rgba(135,206,250,0.13749999999999998);\">and</span> <span style=\"background-color:rgba(135,206,250,0.18749999999999997);\">kept</span> <span style=\"background-color:rgba(135,206,250,0.075);\">referring</span> <span style=\"background-color:rgba(135,206,250,0.0375);\">to</span> <span style=\"background-color:rgba(135,206,250,0.049999999999999996);\">what</span> <span style=\"background-color:rgba(135,206,250,0.024999999999999998);\">the</span> <span style=\"background-color:rgba(135,206,250,0.024999999999999998);\">system</span> <span style=\"background-color:rgba(135,206,250,0.049999999999999996);\">records</span> <span style=\"background-color:rgba(135,206,250,0.049999999999999996);\">are</span> <span style=\"background-color:rgba(135,206,250,0.08750000000000001);\">.</span><br> <span style=\"background-color:rgba(180,180,180,0.3666666666666667);\">Importance 0.33</span> <span style=\"background-color:rgba(135,206,250,0.049999999999999996);\">i</span> <span style=\"background-color:rgba(135,206,250,0.125);\">called</span> <span style=\"background-color:rgba(135,206,250,0.08750000000000001);\">customer</span> <span style=\"background-color:rgba(135,206,250,0.08750000000000001);\">service</span> <span style=\"background-color:rgba(135,206,250,0.11249999999999999);\">but</span> <span style=\"background-color:rgba(135,206,250,0.09999999999999999);\">they</span> <span style=\"background-color:rgba(135,206,250,0.2875);\">were</span> <span style=\"background-color:rgba(135,206,250,0.125);\">so</span> <span style=\"background-color:rgba(135,206,250,0.4125);\">rude</span> <span style=\"background-color:rgba(135,206,250,0.25);\">and</span> <span style=\"background-color:rgba(135,206,250,0.4125);\">rigid</span> <span style=\"background-color:rgba(135,206,250,0.26249999999999996);\">and</span> <span style=\"background-color:rgba(135,206,250,0.17500000000000002);\">kept</span> <span style=\"background-color:rgba(135,206,250,0.13749999999999998);\">referring</span> <span style=\"background-color:rgba(135,206,250,0.0625);\">to</span> <span style=\"background-color:rgba(135,206,250,0.0625);\">what</span> <span style=\"background-color:rgba(135,206,250,0.08750000000000001);\">the</span> <span style=\"background-color:rgba(135,206,250,0.13749999999999998);\">system</span> <span style=\"background-color:rgba(135,206,250,0.1625);\">records</span> <span style=\"background-color:rgba(135,206,250,0.049999999999999996);\">are</span> <span style=\"background-color:rgba(135,206,250,0.09999999999999999);\">.</span><br> <span style=\"background-color:rgba(180,180,180,0.35555555555555557);\">Importance 0.32</span> <span style=\"background-color:rgba(135,206,250,0.0625);\">i</span> <span style=\"background-color:rgba(135,206,250,0.17500000000000002);\">called</span> <span style=\"background-color:rgba(135,206,250,0.08750000000000001);\">customer</span> <span style=\"background-color:rgba(135,206,250,0.11249999999999999);\">service</span> <span style=\"background-color:rgba(135,206,250,0.22499999999999998);\">but</span> <span style=\"background-color:rgba(135,206,250,0.325);\">they</span> <span style=\"background-color:rgba(135,206,250,0.39999999999999997);\">were</span> <span style=\"background-color:rgba(135,206,250,0.2125);\">so</span> <span style=\"background-color:rgba(135,206,250,0.39999999999999997);\">rude</span> <span style=\"background-color:rgba(135,206,250,0.11249999999999999);\">and</span> <span style=\"background-color:rgba(135,206,250,0.2125);\">rigid</span> <span style=\"background-color:rgba(135,206,250,0.09999999999999999);\">and</span> <span style=\"background-color:rgba(135,206,250,0.1625);\">kept</span> <span style=\"background-color:rgba(135,206,250,0.075);\">referring</span> <span style=\"background-color:rgba(135,206,250,0.024999999999999998);\">to</span> <span style=\"background-color:rgba(135,206,250,0.0375);\">what</span> <span style=\"background-color:rgba(135,206,250,0.012499999999999999);\">the</span> <span style=\"background-color:rgba(135,206,250,0.0375);\">system</span> <span style=\"background-color:rgba(135,206,250,0.0625);\">records</span> <span style=\"background-color:rgba(135,206,250,0.0625);\">are</span> <span style=\"background-color:rgba(135,206,250,0.0625);\">.</span><br>"
      ],
      "text/plain": [
       "<IPython.core.display.HTML object>"
      ]
     },
     "metadata": {},
     "output_type": "display_data"
    },
    {
     "name": "stdout",
     "output_type": "stream",
     "text": [
      "Sentiment.negative for \"customer service\"\n",
      "Scores (neutral/negative/positive): [0.079 0.817 0.104]\n"
     ]
    },
    {
     "data": {
      "text/html": [
       "<span style=\"background-color:rgba(180,180,180,1.1111111111111112);\">Importance 1.00</span> <span style=\"background-color:rgba(135,206,250,0.43749999999999994);\">my</span> <span style=\"background-color:rgba(135,206,250,1.0374999999999999);\">advice</span> <span style=\"background-color:rgba(135,206,250,0.5);\">to</span> <span style=\"background-color:rgba(135,206,250,0.18749999999999997);\">bol</span> <span style=\"background-color:rgba(135,206,250,0.19999999999999998);\">.</span> <span style=\"background-color:rgba(135,206,250,0.44999999999999996);\">com</span> <span style=\"background-color:rgba(135,206,250,0.85);\">give</span> <span style=\"background-color:rgba(135,206,250,1.25);\">your</span> <span style=\"background-color:rgba(135,206,250,0.9375);\">customer</span> <span style=\"background-color:rgba(135,206,250,0.8375);\">service</span> <span style=\"background-color:rgba(135,206,250,1.25);\">people</span> <span style=\"background-color:rgba(135,206,250,0.22499999999999998);\">some</span> <span style=\"background-color:rgba(135,206,250,0.11249999999999999);\">emotional</span> <span style=\"background-color:rgba(135,206,250,0.2125);\">intelligence</span> <span style=\"background-color:rgba(135,206,250,0.38749999999999996);\">training</span> <span style=\"background-color:rgba(135,206,250,0.2125);\">because</span> <span style=\"background-color:rgba(135,206,250,0.09999999999999999);\">it</span> <span style=\"background-color:rgba(135,206,250,0.075);\">is</span> <span style=\"background-color:rgba(135,206,250,0.19999999999999998);\">obvious</span> <span style=\"background-color:rgba(135,206,250,0.13749999999999998);\">they</span> <span style=\"background-color:rgba(135,206,250,0.0625);\">are</span> <span style=\"background-color:rgba(135,206,250,0.0375);\">very</span> <span style=\"background-color:rgba(135,206,250,0.0625);\">much</span> <span style=\"background-color:rgba(135,206,250,0.08750000000000001);\">short</span> <span style=\"background-color:rgba(135,206,250,0.049999999999999996);\">of</span> <span style=\"background-color:rgba(135,206,250,0.1625);\">.</span><br> <span style=\"background-color:rgba(180,180,180,1.0333333333333334);\">Importance 0.93</span> <span style=\"background-color:rgba(135,206,250,0.18749999999999997);\">my</span> <span style=\"background-color:rgba(135,206,250,1.1625);\">advice</span> <span style=\"background-color:rgba(135,206,250,0.17500000000000002);\">to</span> <span style=\"background-color:rgba(135,206,250,0.075);\">bol</span> <span style=\"background-color:rgba(135,206,250,0.075);\">.</span> <span style=\"background-color:rgba(135,206,250,0.3375);\">com</span> <span style=\"background-color:rgba(135,206,250,1.1625);\">give</span> <span style=\"background-color:rgba(135,206,250,0.825);\">your</span> <span style=\"background-color:rgba(135,206,250,0.18749999999999997);\">customer</span> <span style=\"background-color:rgba(135,206,250,0.22499999999999998);\">service</span> <span style=\"background-color:rgba(135,206,250,0.5125);\">people</span> <span style=\"background-color:rgba(135,206,250,0.3375);\">some</span> <span style=\"background-color:rgba(135,206,250,0.09999999999999999);\">emotional</span> <span style=\"background-color:rgba(135,206,250,0.11249999999999999);\">intelligence</span> <span style=\"background-color:rgba(135,206,250,0.425);\">training</span> <span style=\"background-color:rgba(135,206,250,0.36249999999999993);\">because</span> <span style=\"background-color:rgba(135,206,250,0.049999999999999996);\">it</span> <span style=\"background-color:rgba(135,206,250,0.08750000000000001);\">is</span> <span style=\"background-color:rgba(135,206,250,0.22499999999999998);\">obvious</span> <span style=\"background-color:rgba(135,206,250,0.0625);\">they</span> <span style=\"background-color:rgba(135,206,250,0.0625);\">are</span> <span style=\"background-color:rgba(135,206,250,0.049999999999999996);\">very</span> <span style=\"background-color:rgba(135,206,250,0.08750000000000001);\">much</span> <span style=\"background-color:rgba(135,206,250,0.27499999999999997);\">short</span> <span style=\"background-color:rgba(135,206,250,0.0375);\">of</span> <span style=\"background-color:rgba(135,206,250,0.09999999999999999);\">.</span><br> <span style=\"background-color:rgba(180,180,180,0.8555555555555555);\">Importance 0.77</span> <span style=\"background-color:rgba(135,206,250,0.7374999999999999);\">my</span> <span style=\"background-color:rgba(135,206,250,0.9625);\">advice</span> <span style=\"background-color:rgba(135,206,250,0.9249999999999999);\">to</span> <span style=\"background-color:rgba(135,206,250,0.27499999999999997);\">bol</span> <span style=\"background-color:rgba(135,206,250,0.15);\">.</span> <span style=\"background-color:rgba(135,206,250,0.26249999999999996);\">com</span> <span style=\"background-color:rgba(135,206,250,0.9625);\">give</span> <span style=\"background-color:rgba(135,206,250,0.5125);\">your</span> <span style=\"background-color:rgba(135,206,250,0.18749999999999997);\">customer</span> <span style=\"background-color:rgba(135,206,250,0.11249999999999999);\">service</span> <span style=\"background-color:rgba(135,206,250,0.17500000000000002);\">people</span> <span style=\"background-color:rgba(135,206,250,0.11249999999999999);\">some</span> <span style=\"background-color:rgba(135,206,250,0.09999999999999999);\">emotional</span> <span style=\"background-color:rgba(135,206,250,0.13749999999999998);\">intelligence</span> <span style=\"background-color:rgba(135,206,250,0.17500000000000002);\">training</span> <span style=\"background-color:rgba(135,206,250,0.18749999999999997);\">because</span> <span style=\"background-color:rgba(135,206,250,0.049999999999999996);\">it</span> <span style=\"background-color:rgba(135,206,250,0.049999999999999996);\">is</span> <span style=\"background-color:rgba(135,206,250,0.13749999999999998);\">obvious</span> <span style=\"background-color:rgba(135,206,250,0.0625);\">they</span> <span style=\"background-color:rgba(135,206,250,0.049999999999999996);\">are</span> <span style=\"background-color:rgba(135,206,250,0.0625);\">very</span> <span style=\"background-color:rgba(135,206,250,0.075);\">much</span> <span style=\"background-color:rgba(135,206,250,0.09999999999999999);\">short</span> <span style=\"background-color:rgba(135,206,250,0.0625);\">of</span> <span style=\"background-color:rgba(135,206,250,0.2125);\">.</span><br> <span style=\"background-color:rgba(180,180,180,0.6);\">Importance 0.54</span> <span style=\"background-color:rgba(135,206,250,0.0625);\">my</span> <span style=\"background-color:rgba(135,206,250,0.18749999999999997);\">advice</span> <span style=\"background-color:rgba(135,206,250,0.08750000000000001);\">to</span> <span style=\"background-color:rgba(135,206,250,0.09999999999999999);\">bol</span> <span style=\"background-color:rgba(135,206,250,0.0625);\">.</span> <span style=\"background-color:rgba(135,206,250,0.17500000000000002);\">com</span> <span style=\"background-color:rgba(135,206,250,0.2375);\">give</span> <span style=\"background-color:rgba(135,206,250,0.36249999999999993);\">your</span> <span style=\"background-color:rgba(135,206,250,0.675);\">customer</span> <span style=\"background-color:rgba(135,206,250,0.675);\">service</span> <span style=\"background-color:rgba(135,206,250,0.25);\">people</span> <span style=\"background-color:rgba(135,206,250,0.18749999999999997);\">some</span> <span style=\"background-color:rgba(135,206,250,0.25);\">emotional</span> <span style=\"background-color:rgba(135,206,250,0.2375);\">intelligence</span> <span style=\"background-color:rgba(135,206,250,0.5);\">training</span> <span style=\"background-color:rgba(135,206,250,0.11249999999999999);\">because</span> <span style=\"background-color:rgba(135,206,250,0.024999999999999998);\">it</span> <span style=\"background-color:rgba(135,206,250,0.0375);\">is</span> <span style=\"background-color:rgba(135,206,250,0.08750000000000001);\">obvious</span> <span style=\"background-color:rgba(135,206,250,0.075);\">they</span> <span style=\"background-color:rgba(135,206,250,0.049999999999999996);\">are</span> <span style=\"background-color:rgba(135,206,250,0.0375);\">very</span> <span style=\"background-color:rgba(135,206,250,0.0375);\">much</span> <span style=\"background-color:rgba(135,206,250,0.08750000000000001);\">short</span> <span style=\"background-color:rgba(135,206,250,0.049999999999999996);\">of</span> <span style=\"background-color:rgba(135,206,250,0.2125);\">.</span><br> <span style=\"background-color:rgba(180,180,180,0.5555555555555556);\">Importance 0.50</span> <span style=\"background-color:rgba(135,206,250,0.049999999999999996);\">my</span> <span style=\"background-color:rgba(135,206,250,0.125);\">advice</span> <span style=\"background-color:rgba(135,206,250,0.075);\">to</span> <span style=\"background-color:rgba(135,206,250,0.08750000000000001);\">bol</span> <span style=\"background-color:rgba(135,206,250,0.0625);\">.</span> <span style=\"background-color:rgba(135,206,250,0.13749999999999998);\">com</span> <span style=\"background-color:rgba(135,206,250,0.25);\">give</span> <span style=\"background-color:rgba(135,206,250,0.37499999999999994);\">your</span> <span style=\"background-color:rgba(135,206,250,0.5874999999999999);\">customer</span> <span style=\"background-color:rgba(135,206,250,0.625);\">service</span> <span style=\"background-color:rgba(135,206,250,0.625);\">people</span> <span style=\"background-color:rgba(135,206,250,0.09999999999999999);\">some</span> <span style=\"background-color:rgba(135,206,250,0.17500000000000002);\">emotional</span> <span style=\"background-color:rgba(135,206,250,0.18749999999999997);\">intelligence</span> <span style=\"background-color:rgba(135,206,250,0.27499999999999997);\">training</span> <span style=\"background-color:rgba(135,206,250,0.0625);\">because</span> <span style=\"background-color:rgba(135,206,250,0.024999999999999998);\">it</span> <span style=\"background-color:rgba(135,206,250,0.0375);\">is</span> <span style=\"background-color:rgba(135,206,250,0.0625);\">obvious</span> <span style=\"background-color:rgba(135,206,250,0.0375);\">they</span> <span style=\"background-color:rgba(135,206,250,0.0375);\">are</span> <span style=\"background-color:rgba(135,206,250,0.012499999999999999);\">very</span> <span style=\"background-color:rgba(135,206,250,0.024999999999999998);\">much</span> <span style=\"background-color:rgba(135,206,250,0.075);\">short</span> <span style=\"background-color:rgba(135,206,250,0.0375);\">of</span> <span style=\"background-color:rgba(135,206,250,0.125);\">.</span><br>"
      ],
      "text/plain": [
       "<IPython.core.display.HTML object>"
      ]
     },
     "metadata": {},
     "output_type": "display_data"
    },
    {
     "name": "stdout",
     "output_type": "stream",
     "text": [
      "Sentiment.negative for \"customer service\"\n",
      "Scores (neutral/negative/positive): [0.001 0.992 0.006]\n"
     ]
    },
    {
     "data": {
      "text/html": [
       "<span style=\"background-color:rgba(180,180,180,1.1111111111111112);\">Importance 1.00</span> <span style=\"background-color:rgba(135,206,250,0.17500000000000002);\">support</span> <span style=\"background-color:rgba(135,206,250,0.049999999999999996);\">a</span> <span style=\"background-color:rgba(135,206,250,0.08750000000000001);\">different</span> <span style=\"background-color:rgba(135,206,250,0.075);\">business</span> <span style=\"background-color:rgba(135,206,250,0.08750000000000001);\">as</span> <span style=\"background-color:rgba(135,206,250,0.0625);\">this</span> <span style=\"background-color:rgba(135,206,250,0.075);\">one</span> <span style=\"background-color:rgba(135,206,250,0.425);\">with</span> <span style=\"background-color:rgba(135,206,250,0.7625);\">their</span> <span style=\"background-color:rgba(135,206,250,1.25);\">rude</span> <span style=\"background-color:rgba(135,206,250,0.7374999999999999);\">customer</span> <span style=\"background-color:rgba(135,206,250,1.0625);\">service</span> <span style=\"background-color:rgba(135,206,250,0.3);\">deserves</span> <span style=\"background-color:rgba(135,206,250,0.09999999999999999);\">a</span> <span style=\"background-color:rgba(135,206,250,0.25);\">0</span> <span style=\"background-color:rgba(135,206,250,0.075);\">/</span> <span style=\"background-color:rgba(135,206,250,0.11249999999999999);\">5</span> <span style=\"background-color:rgba(135,206,250,0.22499999999999998);\">rating</span> <span style=\"background-color:rgba(135,206,250,0.18749999999999997);\">.</span><br> <span style=\"background-color:rgba(180,180,180,0.22222222222222224);\">Importance 0.20</span> <span style=\"background-color:rgba(135,206,250,0.024999999999999998);\">support</span> <span style=\"background-color:rgba(135,206,250,0.012499999999999999);\">a</span> <span style=\"background-color:rgba(135,206,250,0.024999999999999998);\">different</span> <span style=\"background-color:rgba(135,206,250,0.012499999999999999);\">business</span> <span style=\"background-color:rgba(135,206,250,0.024999999999999998);\">as</span> <span style=\"background-color:rgba(135,206,250,0.012499999999999999);\">this</span> <span style=\"background-color:rgba(135,206,250,0.012499999999999999);\">one</span> <span style=\"background-color:rgba(135,206,250,0.075);\">with</span> <span style=\"background-color:rgba(135,206,250,0.13749999999999998);\">their</span> <span style=\"background-color:rgba(135,206,250,0.15);\">rude</span> <span style=\"background-color:rgba(135,206,250,0.075);\">customer</span> <span style=\"background-color:rgba(135,206,250,0.125);\">service</span> <span style=\"background-color:rgba(135,206,250,0.09999999999999999);\">deserves</span> <span style=\"background-color:rgba(135,206,250,0.075);\">a</span> <span style=\"background-color:rgba(135,206,250,0.25);\">0</span> <span style=\"background-color:rgba(135,206,250,0.25);\">/</span> <span style=\"background-color:rgba(135,206,250,0.1625);\">5</span> <span style=\"background-color:rgba(135,206,250,0.1625);\">rating</span> <span style=\"background-color:rgba(135,206,250,0.075);\">.</span><br> <span style=\"background-color:rgba(180,180,180,0.17777777777777778);\">Importance 0.16</span> <span style=\"background-color:rgba(135,206,250,0.049999999999999996);\">support</span> <span style=\"background-color:rgba(135,206,250,0.012499999999999999);\">a</span> <span style=\"background-color:rgba(135,206,250,0.0375);\">different</span> <span style=\"background-color:rgba(135,206,250,0.024999999999999998);\">business</span> <span style=\"background-color:rgba(135,206,250,0.0375);\">as</span> <span style=\"background-color:rgba(135,206,250,0.0375);\">this</span> <span style=\"background-color:rgba(135,206,250,0.024999999999999998);\">one</span> <span style=\"background-color:rgba(135,206,250,0.0625);\">with</span> <span style=\"background-color:rgba(135,206,250,0.0375);\">their</span> <span style=\"background-color:rgba(135,206,250,0.19999999999999998);\">rude</span> <span style=\"background-color:rgba(135,206,250,0.049999999999999996);\">customer</span> <span style=\"background-color:rgba(135,206,250,0.075);\">service</span> <span style=\"background-color:rgba(135,206,250,0.19999999999999998);\">deserves</span> <span style=\"background-color:rgba(135,206,250,0.0625);\">a</span> <span style=\"background-color:rgba(135,206,250,0.15);\">0</span> <span style=\"background-color:rgba(135,206,250,0.0375);\">/</span> <span style=\"background-color:rgba(135,206,250,0.0375);\">5</span> <span style=\"background-color:rgba(135,206,250,0.13749999999999998);\">rating</span> <span style=\"background-color:rgba(135,206,250,0.075);\">.</span><br> <span style=\"background-color:rgba(180,180,180,0.14444444444444446);\">Importance 0.13</span> <span style=\"background-color:rgba(135,206,250,0.049999999999999996);\">support</span> <span style=\"background-color:rgba(135,206,250,0.012499999999999999);\">a</span> <span style=\"background-color:rgba(135,206,250,0.012499999999999999);\">different</span> <span style=\"background-color:rgba(135,206,250,0.012499999999999999);\">business</span> <span style=\"background-color:rgba(135,206,250,0.024999999999999998);\">as</span> <span style=\"background-color:rgba(135,206,250,0.012499999999999999);\">this</span> <span style=\"background-color:rgba(135,206,250,0.012499999999999999);\">one</span> <span style=\"background-color:rgba(135,206,250,0.024999999999999998);\">with</span> <span style=\"background-color:rgba(135,206,250,0.024999999999999998);\">their</span> <span style=\"background-color:rgba(135,206,250,0.0375);\">rude</span> <span style=\"background-color:rgba(135,206,250,0.012499999999999999);\">customer</span> <span style=\"background-color:rgba(135,206,250,0.024999999999999998);\">service</span> <span style=\"background-color:rgba(135,206,250,0.0625);\">deserves</span> <span style=\"background-color:rgba(135,206,250,0.024999999999999998);\">a</span> <span style=\"background-color:rgba(135,206,250,0.049999999999999996);\">0</span> <span style=\"background-color:rgba(135,206,250,0.024999999999999998);\">/</span> <span style=\"background-color:rgba(135,206,250,0.049999999999999996);\">5</span> <span style=\"background-color:rgba(135,206,250,0.0625);\">rating</span> <span style=\"background-color:rgba(135,206,250,0.1625);\">.</span><br> <span style=\"background-color:rgba(180,180,180,0.12222222222222222);\">Importance 0.11</span> <span style=\"background-color:rgba(135,206,250,0.049999999999999996);\">support</span> <span style=\"background-color:rgba(135,206,250,0.012499999999999999);\">a</span> <span style=\"background-color:rgba(135,206,250,0.012499999999999999);\">different</span> <span style=\"background-color:rgba(135,206,250,0.012499999999999999);\">business</span> <span style=\"background-color:rgba(135,206,250,0.0375);\">as</span> <span style=\"background-color:rgba(135,206,250,0.012499999999999999);\">this</span> <span style=\"background-color:rgba(135,206,250,0.024999999999999998);\">one</span> <span style=\"background-color:rgba(135,206,250,0.13749999999999998);\">with</span> <span style=\"background-color:rgba(135,206,250,0.08750000000000001);\">their</span> <span style=\"background-color:rgba(135,206,250,0.13749999999999998);\">rude</span> <span style=\"background-color:rgba(135,206,250,0.024999999999999998);\">customer</span> <span style=\"background-color:rgba(135,206,250,0.049999999999999996);\">service</span> <span style=\"background-color:rgba(135,206,250,0.049999999999999996);\">deserves</span> <span style=\"background-color:rgba(135,206,250,0.012499999999999999);\">a</span> <span style=\"background-color:rgba(135,206,250,0.012499999999999999);\">0</span> <span style=\"background-color:rgba(135,206,250,0.0);\">/</span> <span style=\"background-color:rgba(135,206,250,0.0);\">5</span> <span style=\"background-color:rgba(135,206,250,0.012499999999999999);\">rating</span> <span style=\"background-color:rgba(135,206,250,0.012499999999999999);\">.</span><br>"
      ],
      "text/plain": [
       "<IPython.core.display.HTML object>"
      ]
     },
     "metadata": {},
     "output_type": "display_data"
    },
    {
     "name": "stdout",
     "output_type": "stream",
     "text": [
      "Sentiment.negative for \"customer service\"\n",
      "Scores (neutral/negative/positive): [0.002 0.993 0.005]\n"
     ]
    },
    {
     "data": {
      "text/html": [
       "<span style=\"background-color:rgba(180,180,180,1.1111111111111112);\">Importance 1.00</span> <span style=\"background-color:rgba(135,206,250,1.25);\">disgusting</span> <span style=\"background-color:rgba(135,206,250,0.7875);\">customer</span> <span style=\"background-color:rgba(135,206,250,0.95);\">service</span> <span style=\"background-color:rgba(135,206,250,0.18749999999999997);\">,</span> <span style=\"background-color:rgba(135,206,250,0.2875);\">that</span> <span style=\"background-color:rgba(135,206,250,0.0375);\">&#x27;</span> <span style=\"background-color:rgba(135,206,250,0.0375);\">s</span> <span style=\"background-color:rgba(135,206,250,0.15);\">not</span> <span style=\"background-color:rgba(135,206,250,0.075);\">how</span> <span style=\"background-color:rgba(135,206,250,0.075);\">you</span> <span style=\"background-color:rgba(135,206,250,0.0375);\">should</span> <span style=\"background-color:rgba(135,206,250,0.11249999999999999);\">notify</span> <span style=\"background-color:rgba(135,206,250,0.0375);\">the</span> <span style=\"background-color:rgba(135,206,250,0.049999999999999996);\">customer</span> <span style=\"background-color:rgba(135,206,250,0.0375);\">about</span> <span style=\"background-color:rgba(135,206,250,0.0375);\">the</span> <span style=\"background-color:rgba(135,206,250,0.075);\">rejected</span> <span style=\"background-color:rgba(135,206,250,0.075);\">payment</span> <span style=\"background-color:rgba(135,206,250,0.2125);\">.</span><br> <span style=\"background-color:rgba(180,180,180,0.15555555555555556);\">Importance 0.14</span> <span style=\"background-color:rgba(135,206,250,0.17500000000000002);\">disgusting</span> <span style=\"background-color:rgba(135,206,250,0.13749999999999998);\">customer</span> <span style=\"background-color:rgba(135,206,250,0.17500000000000002);\">service</span> <span style=\"background-color:rgba(135,206,250,0.049999999999999996);\">,</span> <span style=\"background-color:rgba(135,206,250,0.0375);\">that</span> <span style=\"background-color:rgba(135,206,250,0.0);\">&#x27;</span> <span style=\"background-color:rgba(135,206,250,0.0);\">s</span> <span style=\"background-color:rgba(135,206,250,0.012499999999999999);\">not</span> <span style=\"background-color:rgba(135,206,250,0.012499999999999999);\">how</span> <span style=\"background-color:rgba(135,206,250,0.012499999999999999);\">you</span> <span style=\"background-color:rgba(135,206,250,0.012499999999999999);\">should</span> <span style=\"background-color:rgba(135,206,250,0.024999999999999998);\">notify</span> <span style=\"background-color:rgba(135,206,250,0.012499999999999999);\">the</span> <span style=\"background-color:rgba(135,206,250,0.012499999999999999);\">customer</span> <span style=\"background-color:rgba(135,206,250,0.012499999999999999);\">about</span> <span style=\"background-color:rgba(135,206,250,0.012499999999999999);\">the</span> <span style=\"background-color:rgba(135,206,250,0.012499999999999999);\">rejected</span> <span style=\"background-color:rgba(135,206,250,0.012499999999999999);\">payment</span> <span style=\"background-color:rgba(135,206,250,0.024999999999999998);\">.</span><br> <span style=\"background-color:rgba(180,180,180,0.09999999999999999);\">Importance 0.09</span> <span style=\"background-color:rgba(135,206,250,0.11249999999999999);\">disgusting</span> <span style=\"background-color:rgba(135,206,250,0.11249999999999999);\">customer</span> <span style=\"background-color:rgba(135,206,250,0.049999999999999996);\">service</span> <span style=\"background-color:rgba(135,206,250,0.012499999999999999);\">,</span> <span style=\"background-color:rgba(135,206,250,0.012499999999999999);\">that</span> <span style=\"background-color:rgba(135,206,250,0.0);\">&#x27;</span> <span style=\"background-color:rgba(135,206,250,0.0);\">s</span> <span style=\"background-color:rgba(135,206,250,0.0);\">not</span> <span style=\"background-color:rgba(135,206,250,0.0);\">how</span> <span style=\"background-color:rgba(135,206,250,0.0);\">you</span> <span style=\"background-color:rgba(135,206,250,0.0);\">should</span> <span style=\"background-color:rgba(135,206,250,0.012499999999999999);\">notify</span> <span style=\"background-color:rgba(135,206,250,0.0);\">the</span> <span style=\"background-color:rgba(135,206,250,0.012499999999999999);\">customer</span> <span style=\"background-color:rgba(135,206,250,0.0);\">about</span> <span style=\"background-color:rgba(135,206,250,0.012499999999999999);\">the</span> <span style=\"background-color:rgba(135,206,250,0.012499999999999999);\">rejected</span> <span style=\"background-color:rgba(135,206,250,0.012499999999999999);\">payment</span> <span style=\"background-color:rgba(135,206,250,0.012499999999999999);\">.</span><br> <span style=\"background-color:rgba(180,180,180,0.07777777777777778);\">Importance 0.07</span> <span style=\"background-color:rgba(135,206,250,0.0625);\">disgusting</span> <span style=\"background-color:rgba(135,206,250,0.012499999999999999);\">customer</span> <span style=\"background-color:rgba(135,206,250,0.024999999999999998);\">service</span> <span style=\"background-color:rgba(135,206,250,0.012499999999999999);\">,</span> <span style=\"background-color:rgba(135,206,250,0.049999999999999996);\">that</span> <span style=\"background-color:rgba(135,206,250,0.012499999999999999);\">&#x27;</span> <span style=\"background-color:rgba(135,206,250,0.024999999999999998);\">s</span> <span style=\"background-color:rgba(135,206,250,0.08750000000000001);\">not</span> <span style=\"background-color:rgba(135,206,250,0.08750000000000001);\">how</span> <span style=\"background-color:rgba(135,206,250,0.012499999999999999);\">you</span> <span style=\"background-color:rgba(135,206,250,0.049999999999999996);\">should</span> <span style=\"background-color:rgba(135,206,250,0.0375);\">notify</span> <span style=\"background-color:rgba(135,206,250,0.0);\">the</span> <span style=\"background-color:rgba(135,206,250,0.0);\">customer</span> <span style=\"background-color:rgba(135,206,250,0.012499999999999999);\">about</span> <span style=\"background-color:rgba(135,206,250,0.0);\">the</span> <span style=\"background-color:rgba(135,206,250,0.012499999999999999);\">rejected</span> <span style=\"background-color:rgba(135,206,250,0.012499999999999999);\">payment</span> <span style=\"background-color:rgba(135,206,250,0.024999999999999998);\">.</span><br> <span style=\"background-color:rgba(180,180,180,0.07777777777777778);\">Importance 0.07</span> <span style=\"background-color:rgba(135,206,250,0.0375);\">disgusting</span> <span style=\"background-color:rgba(135,206,250,0.012499999999999999);\">customer</span> <span style=\"background-color:rgba(135,206,250,0.012499999999999999);\">service</span> <span style=\"background-color:rgba(135,206,250,0.012499999999999999);\">,</span> <span style=\"background-color:rgba(135,206,250,0.012499999999999999);\">that</span> <span style=\"background-color:rgba(135,206,250,0.0);\">&#x27;</span> <span style=\"background-color:rgba(135,206,250,0.012499999999999999);\">s</span> <span style=\"background-color:rgba(135,206,250,0.012499999999999999);\">not</span> <span style=\"background-color:rgba(135,206,250,0.0);\">how</span> <span style=\"background-color:rgba(135,206,250,0.0);\">you</span> <span style=\"background-color:rgba(135,206,250,0.0);\">should</span> <span style=\"background-color:rgba(135,206,250,0.012499999999999999);\">notify</span> <span style=\"background-color:rgba(135,206,250,0.0);\">the</span> <span style=\"background-color:rgba(135,206,250,0.0);\">customer</span> <span style=\"background-color:rgba(135,206,250,0.012499999999999999);\">about</span> <span style=\"background-color:rgba(135,206,250,0.012499999999999999);\">the</span> <span style=\"background-color:rgba(135,206,250,0.012499999999999999);\">rejected</span> <span style=\"background-color:rgba(135,206,250,0.012499999999999999);\">payment</span> <span style=\"background-color:rgba(135,206,250,0.08750000000000001);\">.</span><br>"
      ],
      "text/plain": [
       "<IPython.core.display.HTML object>"
      ]
     },
     "metadata": {},
     "output_type": "display_data"
    },
    {
     "name": "stdout",
     "output_type": "stream",
     "text": [
      "Sentiment.positive for \"customer service\"\n",
      "Scores (neutral/negative/positive): [0.    0.001 0.999]\n"
     ]
    },
    {
     "data": {
      "text/html": [
       "<span style=\"background-color:rgba(180,180,180,1.1111111111111112);\">Importance 1.00</span> <span style=\"background-color:rgba(135,206,250,0.5499999999999999);\">super</span> <span style=\"background-color:rgba(135,206,250,0.46249999999999997);\">fast</span> <span style=\"background-color:rgba(135,206,250,0.4125);\">delivery</span> <span style=\"background-color:rgba(135,206,250,0.5249999999999999);\">,</span> <span style=\"background-color:rgba(135,206,250,1.25);\">great</span> <span style=\"background-color:rgba(135,206,250,0.7749999999999999);\">customer</span> <span style=\"background-color:rgba(135,206,250,0.825);\">service</span> <span style=\"background-color:rgba(135,206,250,0.37499999999999994);\">and</span> <span style=\"background-color:rgba(135,206,250,0.1625);\">a</span> <span style=\"background-color:rgba(135,206,250,0.25);\">huge</span> <span style=\"background-color:rgba(135,206,250,0.1625);\">selection</span> <span style=\"background-color:rgba(135,206,250,0.075);\">of</span> <span style=\"background-color:rgba(135,206,250,0.125);\">products</span> <span style=\"background-color:rgba(135,206,250,0.36249999999999993);\">.</span><br> <span style=\"background-color:rgba(180,180,180,0.4111111111111111);\">Importance 0.37</span> <span style=\"background-color:rgba(135,206,250,0.0625);\">super</span> <span style=\"background-color:rgba(135,206,250,0.0625);\">fast</span> <span style=\"background-color:rgba(135,206,250,0.0375);\">delivery</span> <span style=\"background-color:rgba(135,206,250,0.075);\">,</span> <span style=\"background-color:rgba(135,206,250,0.075);\">great</span> <span style=\"background-color:rgba(135,206,250,0.0375);\">customer</span> <span style=\"background-color:rgba(135,206,250,0.024999999999999998);\">service</span> <span style=\"background-color:rgba(135,206,250,0.08750000000000001);\">and</span> <span style=\"background-color:rgba(135,206,250,0.0375);\">a</span> <span style=\"background-color:rgba(135,206,250,0.075);\">huge</span> <span style=\"background-color:rgba(135,206,250,0.09999999999999999);\">selection</span> <span style=\"background-color:rgba(135,206,250,0.0375);\">of</span> <span style=\"background-color:rgba(135,206,250,0.075);\">products</span> <span style=\"background-color:rgba(135,206,250,0.46249999999999997);\">.</span><br> <span style=\"background-color:rgba(180,180,180,0.39999999999999997);\">Importance 0.36</span> <span style=\"background-color:rgba(135,206,250,0.0625);\">super</span> <span style=\"background-color:rgba(135,206,250,0.0625);\">fast</span> <span style=\"background-color:rgba(135,206,250,0.08750000000000001);\">delivery</span> <span style=\"background-color:rgba(135,206,250,0.049999999999999996);\">,</span> <span style=\"background-color:rgba(135,206,250,0.44999999999999996);\">great</span> <span style=\"background-color:rgba(135,206,250,0.44999999999999996);\">customer</span> <span style=\"background-color:rgba(135,206,250,0.18749999999999997);\">service</span> <span style=\"background-color:rgba(135,206,250,0.049999999999999996);\">and</span> <span style=\"background-color:rgba(135,206,250,0.024999999999999998);\">a</span> <span style=\"background-color:rgba(135,206,250,0.024999999999999998);\">huge</span> <span style=\"background-color:rgba(135,206,250,0.049999999999999996);\">selection</span> <span style=\"background-color:rgba(135,206,250,0.024999999999999998);\">of</span> <span style=\"background-color:rgba(135,206,250,0.0375);\">products</span> <span style=\"background-color:rgba(135,206,250,0.049999999999999996);\">.</span><br> <span style=\"background-color:rgba(180,180,180,0.3333333333333333);\">Importance 0.30</span> <span style=\"background-color:rgba(135,206,250,0.125);\">super</span> <span style=\"background-color:rgba(135,206,250,0.125);\">fast</span> <span style=\"background-color:rgba(135,206,250,0.1625);\">delivery</span> <span style=\"background-color:rgba(135,206,250,0.37499999999999994);\">,</span> <span style=\"background-color:rgba(135,206,250,0.37499999999999994);\">great</span> <span style=\"background-color:rgba(135,206,250,0.075);\">customer</span> <span style=\"background-color:rgba(135,206,250,0.125);\">service</span> <span style=\"background-color:rgba(135,206,250,0.15);\">and</span> <span style=\"background-color:rgba(135,206,250,0.0375);\">a</span> <span style=\"background-color:rgba(135,206,250,0.0375);\">huge</span> <span style=\"background-color:rgba(135,206,250,0.0375);\">selection</span> <span style=\"background-color:rgba(135,206,250,0.024999999999999998);\">of</span> <span style=\"background-color:rgba(135,206,250,0.0375);\">products</span> <span style=\"background-color:rgba(135,206,250,0.09999999999999999);\">.</span><br> <span style=\"background-color:rgba(180,180,180,0.3333333333333333);\">Importance 0.30</span> <span style=\"background-color:rgba(135,206,250,0.0625);\">super</span> <span style=\"background-color:rgba(135,206,250,0.075);\">fast</span> <span style=\"background-color:rgba(135,206,250,0.09999999999999999);\">delivery</span> <span style=\"background-color:rgba(135,206,250,0.0625);\">,</span> <span style=\"background-color:rgba(135,206,250,0.37499999999999994);\">great</span> <span style=\"background-color:rgba(135,206,250,0.22499999999999998);\">customer</span> <span style=\"background-color:rgba(135,206,250,0.37499999999999994);\">service</span> <span style=\"background-color:rgba(135,206,250,0.13749999999999998);\">and</span> <span style=\"background-color:rgba(135,206,250,0.024999999999999998);\">a</span> <span style=\"background-color:rgba(135,206,250,0.0375);\">huge</span> <span style=\"background-color:rgba(135,206,250,0.075);\">selection</span> <span style=\"background-color:rgba(135,206,250,0.024999999999999998);\">of</span> <span style=\"background-color:rgba(135,206,250,0.049999999999999996);\">products</span> <span style=\"background-color:rgba(135,206,250,0.0625);\">.</span><br>"
      ],
      "text/plain": [
       "<IPython.core.display.HTML object>"
      ]
     },
     "metadata": {},
     "output_type": "display_data"
    },
    {
     "name": "stdout",
     "output_type": "stream",
     "text": [
      "Sentiment.positive for \"customer service\"\n",
      "Scores (neutral/negative/positive): [0.    0.001 0.998]\n"
     ]
    },
    {
     "data": {
      "text/html": [
       "<span style=\"background-color:rgba(180,180,180,1.1111111111111112);\">Importance 1.00</span> <span style=\"background-color:rgba(135,206,250,0.11249999999999999);\">bol</span> <span style=\"background-color:rgba(135,206,250,0.049999999999999996);\">.</span> <span style=\"background-color:rgba(135,206,250,0.08750000000000001);\">com</span> <span style=\"background-color:rgba(135,206,250,0.15);\">is</span> <span style=\"background-color:rgba(135,206,250,0.1625);\">a</span> <span style=\"background-color:rgba(135,206,250,0.425);\">perfect</span> <span style=\"background-color:rgba(135,206,250,0.2375);\">webstore</span> <span style=\"background-color:rgba(135,206,250,0.11249999999999999);\">,</span> <span style=\"background-color:rgba(135,206,250,0.3125);\">with</span> <span style=\"background-color:rgba(135,206,250,0.39999999999999997);\">an</span> <span style=\"background-color:rgba(135,206,250,1.25);\">excellent</span> <span style=\"background-color:rgba(135,206,250,0.7124999999999999);\">customer</span> <span style=\"background-color:rgba(135,206,250,0.575);\">service</span> <span style=\"background-color:rgba(135,206,250,1.25);\">policy</span> <span style=\"background-color:rgba(135,206,250,0.3);\">.</span><br> <span style=\"background-color:rgba(180,180,180,0.5888888888888889);\">Importance 0.53</span> <span style=\"background-color:rgba(135,206,250,0.0625);\">bol</span> <span style=\"background-color:rgba(135,206,250,0.0625);\">.</span> <span style=\"background-color:rgba(135,206,250,0.08750000000000001);\">com</span> <span style=\"background-color:rgba(135,206,250,0.09999999999999999);\">is</span> <span style=\"background-color:rgba(135,206,250,0.049999999999999996);\">a</span> <span style=\"background-color:rgba(135,206,250,0.22499999999999998);\">perfect</span> <span style=\"background-color:rgba(135,206,250,0.325);\">webstore</span> <span style=\"background-color:rgba(135,206,250,0.09999999999999999);\">,</span> <span style=\"background-color:rgba(135,206,250,0.2375);\">with</span> <span style=\"background-color:rgba(135,206,250,0.125);\">an</span> <span style=\"background-color:rgba(135,206,250,0.575);\">excellent</span> <span style=\"background-color:rgba(135,206,250,0.5874999999999999);\">customer</span> <span style=\"background-color:rgba(135,206,250,0.6625);\">service</span> <span style=\"background-color:rgba(135,206,250,0.6625);\">policy</span> <span style=\"background-color:rgba(135,206,250,0.27499999999999997);\">.</span><br> <span style=\"background-color:rgba(180,180,180,0.5222222222222221);\">Importance 0.47</span> <span style=\"background-color:rgba(135,206,250,0.18749999999999997);\">bol</span> <span style=\"background-color:rgba(135,206,250,0.1625);\">.</span> <span style=\"background-color:rgba(135,206,250,0.19999999999999998);\">com</span> <span style=\"background-color:rgba(135,206,250,0.17500000000000002);\">is</span> <span style=\"background-color:rgba(135,206,250,0.075);\">a</span> <span style=\"background-color:rgba(135,206,250,0.1625);\">perfect</span> <span style=\"background-color:rgba(135,206,250,0.1625);\">webstore</span> <span style=\"background-color:rgba(135,206,250,0.18749999999999997);\">,</span> <span style=\"background-color:rgba(135,206,250,0.18749999999999997);\">with</span> <span style=\"background-color:rgba(135,206,250,0.075);\">an</span> <span style=\"background-color:rgba(135,206,250,0.2875);\">excellent</span> <span style=\"background-color:rgba(135,206,250,0.08750000000000001);\">customer</span> <span style=\"background-color:rgba(135,206,250,0.13749999999999998);\">service</span> <span style=\"background-color:rgba(135,206,250,0.19999999999999998);\">policy</span> <span style=\"background-color:rgba(135,206,250,0.5874999999999999);\">.</span><br> <span style=\"background-color:rgba(180,180,180,0.3666666666666667);\">Importance 0.33</span> <span style=\"background-color:rgba(135,206,250,0.0625);\">bol</span> <span style=\"background-color:rgba(135,206,250,0.0375);\">.</span> <span style=\"background-color:rgba(135,206,250,0.0625);\">com</span> <span style=\"background-color:rgba(135,206,250,0.09999999999999999);\">is</span> <span style=\"background-color:rgba(135,206,250,0.08750000000000001);\">a</span> <span style=\"background-color:rgba(135,206,250,0.4125);\">perfect</span> <span style=\"background-color:rgba(135,206,250,0.4125);\">webstore</span> <span style=\"background-color:rgba(135,206,250,0.09999999999999999);\">,</span> <span style=\"background-color:rgba(135,206,250,0.13749999999999998);\">with</span> <span style=\"background-color:rgba(135,206,250,0.08750000000000001);\">an</span> <span style=\"background-color:rgba(135,206,250,0.2375);\">excellent</span> <span style=\"background-color:rgba(135,206,250,0.0625);\">customer</span> <span style=\"background-color:rgba(135,206,250,0.0625);\">service</span> <span style=\"background-color:rgba(135,206,250,0.13749999999999998);\">policy</span> <span style=\"background-color:rgba(135,206,250,0.08750000000000001);\">.</span><br> <span style=\"background-color:rgba(180,180,180,0.3111111111111111);\">Importance 0.28</span> <span style=\"background-color:rgba(135,206,250,0.049999999999999996);\">bol</span> <span style=\"background-color:rgba(135,206,250,0.0375);\">.</span> <span style=\"background-color:rgba(135,206,250,0.09999999999999999);\">com</span> <span style=\"background-color:rgba(135,206,250,0.0375);\">is</span> <span style=\"background-color:rgba(135,206,250,0.0375);\">a</span> <span style=\"background-color:rgba(135,206,250,0.0625);\">perfect</span> <span style=\"background-color:rgba(135,206,250,0.25);\">webstore</span> <span style=\"background-color:rgba(135,206,250,0.049999999999999996);\">,</span> <span style=\"background-color:rgba(135,206,250,0.0625);\">with</span> <span style=\"background-color:rgba(135,206,250,0.075);\">an</span> <span style=\"background-color:rgba(135,206,250,0.26249999999999996);\">excellent</span> <span style=\"background-color:rgba(135,206,250,0.35000000000000003);\">customer</span> <span style=\"background-color:rgba(135,206,250,0.35000000000000003);\">service</span> <span style=\"background-color:rgba(135,206,250,0.35000000000000003);\">policy</span> <span style=\"background-color:rgba(135,206,250,0.1625);\">.</span><br>"
      ],
      "text/plain": [
       "<IPython.core.display.HTML object>"
      ]
     },
     "metadata": {},
     "output_type": "display_data"
    },
    {
     "name": "stdout",
     "output_type": "stream",
     "text": [
      "Sentiment.negative for \"customer service\"\n",
      "Scores (neutral/negative/positive): [0.002 0.993 0.006]\n"
     ]
    },
    {
     "data": {
      "text/html": [
       "<span style=\"background-color:rgba(180,180,180,1.1111111111111112);\">Importance 1.00</span> <span style=\"background-color:rgba(135,206,250,0.5125);\">really</span> <span style=\"background-color:rgba(135,206,250,1.25);\">bad</span> <span style=\"background-color:rgba(135,206,250,0.5874999999999999);\">customer</span> <span style=\"background-color:rgba(135,206,250,0.6625);\">service</span> <span style=\"background-color:rgba(135,206,250,0.26249999999999996);\">.</span><br> <span style=\"background-color:rgba(180,180,180,0.47777777777777775);\">Importance 0.43</span> <span style=\"background-color:rgba(135,206,250,0.5375);\">really</span> <span style=\"background-color:rgba(135,206,250,0.5375);\">bad</span> <span style=\"background-color:rgba(135,206,250,0.125);\">customer</span> <span style=\"background-color:rgba(135,206,250,0.11249999999999999);\">service</span> <span style=\"background-color:rgba(135,206,250,0.09999999999999999);\">.</span><br> <span style=\"background-color:rgba(180,180,180,0.24444444444444444);\">Importance 0.22</span> <span style=\"background-color:rgba(135,206,250,0.0375);\">really</span> <span style=\"background-color:rgba(135,206,250,0.27499999999999997);\">bad</span> <span style=\"background-color:rgba(135,206,250,0.13749999999999998);\">customer</span> <span style=\"background-color:rgba(135,206,250,0.27499999999999997);\">service</span> <span style=\"background-color:rgba(135,206,250,0.0625);\">.</span><br> <span style=\"background-color:rgba(180,180,180,0.2111111111111111);\">Importance 0.19</span> <span style=\"background-color:rgba(135,206,250,0.0625);\">really</span> <span style=\"background-color:rgba(135,206,250,0.2375);\">bad</span> <span style=\"background-color:rgba(135,206,250,0.2375);\">customer</span> <span style=\"background-color:rgba(135,206,250,0.08750000000000001);\">service</span> <span style=\"background-color:rgba(135,206,250,0.0375);\">.</span><br> <span style=\"background-color:rgba(180,180,180,0.16666666666666666);\">Importance 0.15</span> <span style=\"background-color:rgba(135,206,250,0.09999999999999999);\">really</span> <span style=\"background-color:rgba(135,206,250,0.15);\">bad</span> <span style=\"background-color:rgba(135,206,250,0.049999999999999996);\">customer</span> <span style=\"background-color:rgba(135,206,250,0.075);\">service</span> <span style=\"background-color:rgba(135,206,250,0.18749999999999997);\">.</span><br>"
      ],
      "text/plain": [
       "<IPython.core.display.HTML object>"
      ]
     },
     "metadata": {},
     "output_type": "display_data"
    },
    {
     "name": "stdout",
     "output_type": "stream",
     "text": [
      "Sentiment.negative for \"customer service\"\n",
      "Scores (neutral/negative/positive): [0.062 0.928 0.011]\n"
     ]
    },
    {
     "data": {
      "text/html": [
       "<span style=\"background-color:rgba(180,180,180,1.1111111111111112);\">Importance 1.00</span> <span style=\"background-color:rgba(135,206,250,0.2875);\">i</span> <span style=\"background-color:rgba(135,206,250,1.25);\">call</span> <span style=\"background-color:rgba(135,206,250,1.25);\">the</span> <span style=\"background-color:rgba(135,206,250,1.1375);\">customer</span> <span style=\"background-color:rgba(135,206,250,1.125);\">service</span> <span style=\"background-color:rgba(135,206,250,0.27499999999999997);\">to</span> <span style=\"background-color:rgba(135,206,250,0.3);\">explain</span> <span style=\"background-color:rgba(135,206,250,0.049999999999999996);\">i</span> <span style=\"background-color:rgba(135,206,250,0.024999999999999998);\">&#x27;</span> <span style=\"background-color:rgba(135,206,250,0.024999999999999998);\">m</span> <span style=\"background-color:rgba(135,206,250,0.0375);\">not</span> <span style=\"background-color:rgba(135,206,250,0.024999999999999998);\">going</span> <span style=\"background-color:rgba(135,206,250,0.024999999999999998);\">to</span> <span style=\"background-color:rgba(135,206,250,0.024999999999999998);\">pay</span> <span style=\"background-color:rgba(135,206,250,0.024999999999999998);\">for</span> <span style=\"background-color:rgba(135,206,250,0.0375);\">the</span> <span style=\"background-color:rgba(135,206,250,0.075);\">wrong</span> <span style=\"background-color:rgba(135,206,250,0.049999999999999996);\">book</span> <span style=\"background-color:rgba(135,206,250,0.22499999999999998);\">and</span> <span style=\"background-color:rgba(135,206,250,0.7499999999999999);\">they</span> <span style=\"background-color:rgba(135,206,250,0.475);\">refuse</span> <span style=\"background-color:rgba(135,206,250,0.024999999999999998);\">to</span> <span style=\"background-color:rgba(135,206,250,0.0375);\">fix</span> <span style=\"background-color:rgba(135,206,250,0.0375);\">the</span> <span style=\"background-color:rgba(135,206,250,0.049999999999999996);\">situation</span> <span style=\"background-color:rgba(135,206,250,0.0375);\">and</span> <span style=\"background-color:rgba(135,206,250,0.075);\">demand</span> <span style=\"background-color:rgba(135,206,250,0.024999999999999998);\">i</span> <span style=\"background-color:rgba(135,206,250,0.024999999999999998);\">pay</span> <span style=\"background-color:rgba(135,206,250,0.0375);\">or</span> <span style=\"background-color:rgba(135,206,250,0.0375);\">return</span> <span style=\"background-color:rgba(135,206,250,0.024999999999999998);\">it</span> <span style=\"background-color:rgba(135,206,250,0.049999999999999996);\">,</span> <span style=\"background-color:rgba(135,206,250,0.0375);\">despite</span> <span style=\"background-color:rgba(135,206,250,0.075);\">them</span> <span style=\"background-color:rgba(135,206,250,0.024999999999999998);\">making</span> <span style=\"background-color:rgba(135,206,250,0.024999999999999998);\">the</span> <span style=\"background-color:rgba(135,206,250,0.0375);\">mistake</span> <span style=\"background-color:rgba(135,206,250,0.13749999999999998);\">.</span><br> <span style=\"background-color:rgba(180,180,180,1.1111111111111112);\">Importance 1.00</span> <span style=\"background-color:rgba(135,206,250,0.125);\">i</span> <span style=\"background-color:rgba(135,206,250,0.37499999999999994);\">call</span> <span style=\"background-color:rgba(135,206,250,0.125);\">the</span> <span style=\"background-color:rgba(135,206,250,0.15);\">customer</span> <span style=\"background-color:rgba(135,206,250,0.15);\">service</span> <span style=\"background-color:rgba(135,206,250,0.125);\">to</span> <span style=\"background-color:rgba(135,206,250,0.6);\">explain</span> <span style=\"background-color:rgba(135,206,250,0.09999999999999999);\">i</span> <span style=\"background-color:rgba(135,206,250,0.0625);\">&#x27;</span> <span style=\"background-color:rgba(135,206,250,0.11249999999999999);\">m</span> <span style=\"background-color:rgba(135,206,250,0.18749999999999997);\">not</span> <span style=\"background-color:rgba(135,206,250,0.08750000000000001);\">going</span> <span style=\"background-color:rgba(135,206,250,0.125);\">to</span> <span style=\"background-color:rgba(135,206,250,0.11249999999999999);\">pay</span> <span style=\"background-color:rgba(135,206,250,0.09999999999999999);\">for</span> <span style=\"background-color:rgba(135,206,250,0.08750000000000001);\">the</span> <span style=\"background-color:rgba(135,206,250,0.15);\">wrong</span> <span style=\"background-color:rgba(135,206,250,0.13749999999999998);\">book</span> <span style=\"background-color:rgba(135,206,250,0.39999999999999997);\">and</span> <span style=\"background-color:rgba(135,206,250,1.0999999999999999);\">they</span> <span style=\"background-color:rgba(135,206,250,1.25);\">refuse</span> <span style=\"background-color:rgba(135,206,250,0.6875);\">to</span> <span style=\"background-color:rgba(135,206,250,0.5874999999999999);\">fix</span> <span style=\"background-color:rgba(135,206,250,0.1625);\">the</span> <span style=\"background-color:rgba(135,206,250,0.26249999999999996);\">situation</span> <span style=\"background-color:rgba(135,206,250,0.36249999999999993);\">and</span> <span style=\"background-color:rgba(135,206,250,0.3125);\">demand</span> <span style=\"background-color:rgba(135,206,250,0.1625);\">i</span> <span style=\"background-color:rgba(135,206,250,0.18749999999999997);\">pay</span> <span style=\"background-color:rgba(135,206,250,0.1625);\">or</span> <span style=\"background-color:rgba(135,206,250,0.1625);\">return</span> <span style=\"background-color:rgba(135,206,250,0.075);\">it</span> <span style=\"background-color:rgba(135,206,250,0.13749999999999998);\">,</span> <span style=\"background-color:rgba(135,206,250,0.2125);\">despite</span> <span style=\"background-color:rgba(135,206,250,0.09999999999999999);\">them</span> <span style=\"background-color:rgba(135,206,250,0.0625);\">making</span> <span style=\"background-color:rgba(135,206,250,0.049999999999999996);\">the</span> <span style=\"background-color:rgba(135,206,250,0.15);\">mistake</span> <span style=\"background-color:rgba(135,206,250,0.2125);\">.</span><br> <span style=\"background-color:rgba(180,180,180,0.6777777777777777);\">Importance 0.61</span> <span style=\"background-color:rgba(135,206,250,0.11249999999999999);\">i</span> <span style=\"background-color:rgba(135,206,250,0.3125);\">call</span> <span style=\"background-color:rgba(135,206,250,0.125);\">the</span> <span style=\"background-color:rgba(135,206,250,0.2375);\">customer</span> <span style=\"background-color:rgba(135,206,250,0.2875);\">service</span> <span style=\"background-color:rgba(135,206,250,0.0625);\">to</span> <span style=\"background-color:rgba(135,206,250,0.18749999999999997);\">explain</span> <span style=\"background-color:rgba(135,206,250,0.075);\">i</span> <span style=\"background-color:rgba(135,206,250,0.024999999999999998);\">&#x27;</span> <span style=\"background-color:rgba(135,206,250,0.049999999999999996);\">m</span> <span style=\"background-color:rgba(135,206,250,0.049999999999999996);\">not</span> <span style=\"background-color:rgba(135,206,250,0.049999999999999996);\">going</span> <span style=\"background-color:rgba(135,206,250,0.012499999999999999);\">to</span> <span style=\"background-color:rgba(135,206,250,0.0375);\">pay</span> <span style=\"background-color:rgba(135,206,250,0.024999999999999998);\">for</span> <span style=\"background-color:rgba(135,206,250,0.0375);\">the</span> <span style=\"background-color:rgba(135,206,250,0.0625);\">wrong</span> <span style=\"background-color:rgba(135,206,250,0.09999999999999999);\">book</span> <span style=\"background-color:rgba(135,206,250,0.3);\">and</span> <span style=\"background-color:rgba(135,206,250,0.7625);\">they</span> <span style=\"background-color:rgba(135,206,250,0.7625);\">refuse</span> <span style=\"background-color:rgba(135,206,250,0.08750000000000001);\">to</span> <span style=\"background-color:rgba(135,206,250,0.125);\">fix</span> <span style=\"background-color:rgba(135,206,250,0.0375);\">the</span> <span style=\"background-color:rgba(135,206,250,0.075);\">situation</span> <span style=\"background-color:rgba(135,206,250,0.08750000000000001);\">and</span> <span style=\"background-color:rgba(135,206,250,0.11249999999999999);\">demand</span> <span style=\"background-color:rgba(135,206,250,0.09999999999999999);\">i</span> <span style=\"background-color:rgba(135,206,250,0.0625);\">pay</span> <span style=\"background-color:rgba(135,206,250,0.049999999999999996);\">or</span> <span style=\"background-color:rgba(135,206,250,0.049999999999999996);\">return</span> <span style=\"background-color:rgba(135,206,250,0.0375);\">it</span> <span style=\"background-color:rgba(135,206,250,0.0375);\">,</span> <span style=\"background-color:rgba(135,206,250,0.0625);\">despite</span> <span style=\"background-color:rgba(135,206,250,0.13749999999999998);\">them</span> <span style=\"background-color:rgba(135,206,250,0.012499999999999999);\">making</span> <span style=\"background-color:rgba(135,206,250,0.012499999999999999);\">the</span> <span style=\"background-color:rgba(135,206,250,0.024999999999999998);\">mistake</span> <span style=\"background-color:rgba(135,206,250,0.08750000000000001);\">.</span><br> <span style=\"background-color:rgba(180,180,180,0.5444444444444444);\">Importance 0.49</span> <span style=\"background-color:rgba(135,206,250,0.425);\">i</span> <span style=\"background-color:rgba(135,206,250,0.6124999999999999);\">call</span> <span style=\"background-color:rgba(135,206,250,0.37499999999999994);\">the</span> <span style=\"background-color:rgba(135,206,250,0.425);\">customer</span> <span style=\"background-color:rgba(135,206,250,0.6124999999999999);\">service</span> <span style=\"background-color:rgba(135,206,250,0.3);\">to</span> <span style=\"background-color:rgba(135,206,250,0.44999999999999996);\">explain</span> <span style=\"background-color:rgba(135,206,250,0.049999999999999996);\">i</span> <span style=\"background-color:rgba(135,206,250,0.024999999999999998);\">&#x27;</span> <span style=\"background-color:rgba(135,206,250,0.049999999999999996);\">m</span> <span style=\"background-color:rgba(135,206,250,0.049999999999999996);\">not</span> <span style=\"background-color:rgba(135,206,250,0.049999999999999996);\">going</span> <span style=\"background-color:rgba(135,206,250,0.0375);\">to</span> <span style=\"background-color:rgba(135,206,250,0.0375);\">pay</span> <span style=\"background-color:rgba(135,206,250,0.0375);\">for</span> <span style=\"background-color:rgba(135,206,250,0.0375);\">the</span> <span style=\"background-color:rgba(135,206,250,0.049999999999999996);\">wrong</span> <span style=\"background-color:rgba(135,206,250,0.049999999999999996);\">book</span> <span style=\"background-color:rgba(135,206,250,0.1625);\">and</span> <span style=\"background-color:rgba(135,206,250,0.2125);\">they</span> <span style=\"background-color:rgba(135,206,250,0.3375);\">refuse</span> <span style=\"background-color:rgba(135,206,250,0.024999999999999998);\">to</span> <span style=\"background-color:rgba(135,206,250,0.049999999999999996);\">fix</span> <span style=\"background-color:rgba(135,206,250,0.0375);\">the</span> <span style=\"background-color:rgba(135,206,250,0.0625);\">situation</span> <span style=\"background-color:rgba(135,206,250,0.049999999999999996);\">and</span> <span style=\"background-color:rgba(135,206,250,0.075);\">demand</span> <span style=\"background-color:rgba(135,206,250,0.0375);\">i</span> <span style=\"background-color:rgba(135,206,250,0.024999999999999998);\">pay</span> <span style=\"background-color:rgba(135,206,250,0.0375);\">or</span> <span style=\"background-color:rgba(135,206,250,0.0375);\">return</span> <span style=\"background-color:rgba(135,206,250,0.024999999999999998);\">it</span> <span style=\"background-color:rgba(135,206,250,0.049999999999999996);\">,</span> <span style=\"background-color:rgba(135,206,250,0.024999999999999998);\">despite</span> <span style=\"background-color:rgba(135,206,250,0.0375);\">them</span> <span style=\"background-color:rgba(135,206,250,0.012499999999999999);\">making</span> <span style=\"background-color:rgba(135,206,250,0.012499999999999999);\">the</span> <span style=\"background-color:rgba(135,206,250,0.0375);\">mistake</span> <span style=\"background-color:rgba(135,206,250,0.09999999999999999);\">.</span><br> <span style=\"background-color:rgba(180,180,180,0.4444444444444445);\">Importance 0.40</span> <span style=\"background-color:rgba(135,206,250,0.11249999999999999);\">i</span> <span style=\"background-color:rgba(135,206,250,0.09999999999999999);\">call</span> <span style=\"background-color:rgba(135,206,250,0.024999999999999998);\">the</span> <span style=\"background-color:rgba(135,206,250,0.0625);\">customer</span> <span style=\"background-color:rgba(135,206,250,0.075);\">service</span> <span style=\"background-color:rgba(135,206,250,0.0375);\">to</span> <span style=\"background-color:rgba(135,206,250,0.22499999999999998);\">explain</span> <span style=\"background-color:rgba(135,206,250,0.0625);\">i</span> <span style=\"background-color:rgba(135,206,250,0.012499999999999999);\">&#x27;</span> <span style=\"background-color:rgba(135,206,250,0.049999999999999996);\">m</span> <span style=\"background-color:rgba(135,206,250,0.13749999999999998);\">not</span> <span style=\"background-color:rgba(135,206,250,0.0375);\">going</span> <span style=\"background-color:rgba(135,206,250,0.0375);\">to</span> <span style=\"background-color:rgba(135,206,250,0.0375);\">pay</span> <span style=\"background-color:rgba(135,206,250,0.0375);\">for</span> <span style=\"background-color:rgba(135,206,250,0.024999999999999998);\">the</span> <span style=\"background-color:rgba(135,206,250,0.049999999999999996);\">wrong</span> <span style=\"background-color:rgba(135,206,250,0.0625);\">book</span> <span style=\"background-color:rgba(135,206,250,0.5);\">and</span> <span style=\"background-color:rgba(135,206,250,0.2125);\">they</span> <span style=\"background-color:rgba(135,206,250,0.5);\">refuse</span> <span style=\"background-color:rgba(135,206,250,0.049999999999999996);\">to</span> <span style=\"background-color:rgba(135,206,250,0.0625);\">fix</span> <span style=\"background-color:rgba(135,206,250,0.024999999999999998);\">the</span> <span style=\"background-color:rgba(135,206,250,0.024999999999999998);\">situation</span> <span style=\"background-color:rgba(135,206,250,0.049999999999999996);\">and</span> <span style=\"background-color:rgba(135,206,250,0.0375);\">demand</span> <span style=\"background-color:rgba(135,206,250,0.024999999999999998);\">i</span> <span style=\"background-color:rgba(135,206,250,0.024999999999999998);\">pay</span> <span style=\"background-color:rgba(135,206,250,0.049999999999999996);\">or</span> <span style=\"background-color:rgba(135,206,250,0.024999999999999998);\">return</span> <span style=\"background-color:rgba(135,206,250,0.0375);\">it</span> <span style=\"background-color:rgba(135,206,250,0.0375);\">,</span> <span style=\"background-color:rgba(135,206,250,0.0625);\">despite</span> <span style=\"background-color:rgba(135,206,250,0.012499999999999999);\">them</span> <span style=\"background-color:rgba(135,206,250,0.012499999999999999);\">making</span> <span style=\"background-color:rgba(135,206,250,0.012499999999999999);\">the</span> <span style=\"background-color:rgba(135,206,250,0.012499999999999999);\">mistake</span> <span style=\"background-color:rgba(135,206,250,0.049999999999999996);\">.</span><br>"
      ],
      "text/plain": [
       "<IPython.core.display.HTML object>"
      ]
     },
     "metadata": {},
     "output_type": "display_data"
    },
    {
     "name": "stdout",
     "output_type": "stream",
     "text": [
      "Sentiment.negative for \"customer service\"\n",
      "Scores (neutral/negative/positive): [0.128 0.73  0.142]\n"
     ]
    },
    {
     "data": {
      "text/html": [
       "<span style=\"background-color:rgba(180,180,180,1.1111111111111112);\">Importance 1.00</span> <span style=\"background-color:rgba(135,206,250,1.25);\">my</span> <span style=\"background-color:rgba(135,206,250,1.25);\">criticism</span> <span style=\"background-color:rgba(135,206,250,0.8875);\">of</span> <span style=\"background-color:rgba(135,206,250,0.5874999999999999);\">customer</span> <span style=\"background-color:rgba(135,206,250,0.5249999999999999);\">service</span> <span style=\"background-color:rgba(135,206,250,0.44999999999999996);\">still</span> <span style=\"background-color:rgba(135,206,250,0.6375);\">stands</span> <span style=\"background-color:rgba(135,206,250,0.5249999999999999);\">nonetheless</span><br> <span style=\"background-color:rgba(180,180,180,0.4666666666666666);\">Importance 0.42</span> <span style=\"background-color:rgba(135,206,250,0.11249999999999999);\">my</span> <span style=\"background-color:rgba(135,206,250,0.5249999999999999);\">criticism</span> <span style=\"background-color:rgba(135,206,250,0.5249999999999999);\">of</span> <span style=\"background-color:rgba(135,206,250,0.17500000000000002);\">customer</span> <span style=\"background-color:rgba(135,206,250,0.26249999999999996);\">service</span> <span style=\"background-color:rgba(135,206,250,0.11249999999999999);\">still</span> <span style=\"background-color:rgba(135,206,250,0.09999999999999999);\">stands</span> <span style=\"background-color:rgba(135,206,250,0.13749999999999998);\">nonetheless</span><br> <span style=\"background-color:rgba(180,180,180,0.4222222222222222);\">Importance 0.38</span> <span style=\"background-color:rgba(135,206,250,0.09999999999999999);\">my</span> <span style=\"background-color:rgba(135,206,250,0.39999999999999997);\">criticism</span> <span style=\"background-color:rgba(135,206,250,0.11249999999999999);\">of</span> <span style=\"background-color:rgba(135,206,250,0.125);\">customer</span> <span style=\"background-color:rgba(135,206,250,0.1625);\">service</span> <span style=\"background-color:rgba(135,206,250,0.25);\">still</span> <span style=\"background-color:rgba(135,206,250,0.475);\">stands</span> <span style=\"background-color:rgba(135,206,250,0.475);\">nonetheless</span><br> <span style=\"background-color:rgba(180,180,180,0.2777777777777778);\">Importance 0.25</span> <span style=\"background-color:rgba(135,206,250,0.0625);\">my</span> <span style=\"background-color:rgba(135,206,250,0.3125);\">criticism</span> <span style=\"background-color:rgba(135,206,250,0.17500000000000002);\">of</span> <span style=\"background-color:rgba(135,206,250,0.3125);\">customer</span> <span style=\"background-color:rgba(135,206,250,0.2125);\">service</span> <span style=\"background-color:rgba(135,206,250,0.075);\">still</span> <span style=\"background-color:rgba(135,206,250,0.075);\">stands</span> <span style=\"background-color:rgba(135,206,250,0.125);\">nonetheless</span><br> <span style=\"background-color:rgba(180,180,180,0.24444444444444444);\">Importance 0.22</span> <span style=\"background-color:rgba(135,206,250,0.049999999999999996);\">my</span> <span style=\"background-color:rgba(135,206,250,0.27499999999999997);\">criticism</span> <span style=\"background-color:rgba(135,206,250,0.19999999999999998);\">of</span> <span style=\"background-color:rgba(135,206,250,0.26249999999999996);\">customer</span> <span style=\"background-color:rgba(135,206,250,0.27499999999999997);\">service</span> <span style=\"background-color:rgba(135,206,250,0.11249999999999999);\">still</span> <span style=\"background-color:rgba(135,206,250,0.13749999999999998);\">stands</span> <span style=\"background-color:rgba(135,206,250,0.13749999999999998);\">nonetheless</span><br>"
      ],
      "text/plain": [
       "<IPython.core.display.HTML object>"
      ]
     },
     "metadata": {},
     "output_type": "display_data"
    },
    {
     "name": "stdout",
     "output_type": "stream",
     "text": [
      "Sentiment.positive for \"customer service\"\n",
      "Scores (neutral/negative/positive): [0.    0.001 0.999]\n"
     ]
    },
    {
     "data": {
      "text/html": [
       "<span style=\"background-color:rgba(180,180,180,1.1111111111111112);\">Importance 1.00</span> <span style=\"background-color:rgba(135,206,250,1.25);\">perfect</span> <span style=\"background-color:rgba(135,206,250,0.9125);\">app</span> <span style=\"background-color:rgba(135,206,250,0.4875);\">and</span> <span style=\"background-color:rgba(135,206,250,0.6);\">customer</span> <span style=\"background-color:rgba(135,206,250,0.85);\">service</span> <span style=\"background-color:rgba(135,206,250,0.5249999999999999);\">!</span><br> <span style=\"background-color:rgba(180,180,180,0.7666666666666666);\">Importance 0.69</span> <span style=\"background-color:rgba(135,206,250,0.8624999999999999);\">perfect</span> <span style=\"background-color:rgba(135,206,250,0.5125);\">app</span> <span style=\"background-color:rgba(135,206,250,0.39999999999999997);\">and</span> <span style=\"background-color:rgba(135,206,250,0.7124999999999999);\">customer</span> <span style=\"background-color:rgba(135,206,250,0.8624999999999999);\">service</span> <span style=\"background-color:rgba(135,206,250,0.38749999999999996);\">!</span><br> <span style=\"background-color:rgba(180,180,180,0.5);\">Importance 0.45</span> <span style=\"background-color:rgba(135,206,250,0.475);\">perfect</span> <span style=\"background-color:rgba(135,206,250,0.4875);\">app</span> <span style=\"background-color:rgba(135,206,250,0.35000000000000003);\">and</span> <span style=\"background-color:rgba(135,206,250,0.5625);\">customer</span> <span style=\"background-color:rgba(135,206,250,0.5625);\">service</span> <span style=\"background-color:rgba(135,206,250,0.17500000000000002);\">!</span><br> <span style=\"background-color:rgba(180,180,180,0.47777777777777775);\">Importance 0.43</span> <span style=\"background-color:rgba(135,206,250,0.5375);\">perfect</span> <span style=\"background-color:rgba(135,206,250,0.46249999999999997);\">app</span> <span style=\"background-color:rgba(135,206,250,0.5375);\">and</span> <span style=\"background-color:rgba(135,206,250,0.25);\">customer</span> <span style=\"background-color:rgba(135,206,250,0.26249999999999996);\">service</span> <span style=\"background-color:rgba(135,206,250,0.2125);\">!</span><br> <span style=\"background-color:rgba(180,180,180,0.4666666666666666);\">Importance 0.42</span> <span style=\"background-color:rgba(135,206,250,0.5249999999999999);\">perfect</span> <span style=\"background-color:rgba(135,206,250,0.5249999999999999);\">app</span> <span style=\"background-color:rgba(135,206,250,0.35000000000000003);\">and</span> <span style=\"background-color:rgba(135,206,250,0.2125);\">customer</span> <span style=\"background-color:rgba(135,206,250,0.17500000000000002);\">service</span> <span style=\"background-color:rgba(135,206,250,0.15);\">!</span><br>"
      ],
      "text/plain": [
       "<IPython.core.display.HTML object>"
      ]
     },
     "metadata": {},
     "output_type": "display_data"
    },
    {
     "name": "stdout",
     "output_type": "stream",
     "text": [
      "Sentiment.negative for \"customer service\"\n",
      "Scores (neutral/negative/positive): [0.002 0.993 0.006]\n"
     ]
    },
    {
     "data": {
      "text/html": [
       "<span style=\"background-color:rgba(180,180,180,1.1111111111111112);\">Importance 1.00</span> <span style=\"background-color:rgba(135,206,250,1.25);\">worst</span> <span style=\"background-color:rgba(135,206,250,1.125);\">is</span> <span style=\"background-color:rgba(135,206,250,0.2125);\">their</span> <span style=\"background-color:rgba(135,206,250,0.325);\">customer</span> <span style=\"background-color:rgba(135,206,250,0.38749999999999996);\">service</span> <span style=\"background-color:rgba(135,206,250,0.17500000000000002);\">.</span><br> <span style=\"background-color:rgba(180,180,180,0.26666666666666666);\">Importance 0.24</span> <span style=\"background-color:rgba(135,206,250,0.3);\">worst</span> <span style=\"background-color:rgba(135,206,250,0.3);\">is</span> <span style=\"background-color:rgba(135,206,250,0.09999999999999999);\">their</span> <span style=\"background-color:rgba(135,206,250,0.049999999999999996);\">customer</span> <span style=\"background-color:rgba(135,206,250,0.0625);\">service</span> <span style=\"background-color:rgba(135,206,250,0.0375);\">.</span><br> <span style=\"background-color:rgba(180,180,180,0.24444444444444444);\">Importance 0.22</span> <span style=\"background-color:rgba(135,206,250,0.26249999999999996);\">worst</span> <span style=\"background-color:rgba(135,206,250,0.13749999999999998);\">is</span> <span style=\"background-color:rgba(135,206,250,0.11249999999999999);\">their</span> <span style=\"background-color:rgba(135,206,250,0.27499999999999997);\">customer</span> <span style=\"background-color:rgba(135,206,250,0.27499999999999997);\">service</span> <span style=\"background-color:rgba(135,206,250,0.09999999999999999);\">.</span><br> <span style=\"background-color:rgba(180,180,180,0.18888888888888888);\">Importance 0.17</span> <span style=\"background-color:rgba(135,206,250,0.2125);\">worst</span> <span style=\"background-color:rgba(135,206,250,0.09999999999999999);\">is</span> <span style=\"background-color:rgba(135,206,250,0.08750000000000001);\">their</span> <span style=\"background-color:rgba(135,206,250,0.2125);\">customer</span> <span style=\"background-color:rgba(135,206,250,0.11249999999999999);\">service</span> <span style=\"background-color:rgba(135,206,250,0.049999999999999996);\">.</span><br> <span style=\"background-color:rgba(180,180,180,0.16666666666666666);\">Importance 0.15</span> <span style=\"background-color:rgba(135,206,250,0.18749999999999997);\">worst</span> <span style=\"background-color:rgba(135,206,250,0.13749999999999998);\">is</span> <span style=\"background-color:rgba(135,206,250,0.18749999999999997);\">their</span> <span style=\"background-color:rgba(135,206,250,0.09999999999999999);\">customer</span> <span style=\"background-color:rgba(135,206,250,0.049999999999999996);\">service</span> <span style=\"background-color:rgba(135,206,250,0.049999999999999996);\">.</span><br>"
      ],
      "text/plain": [
       "<IPython.core.display.HTML object>"
      ]
     },
     "metadata": {},
     "output_type": "display_data"
    },
    {
     "name": "stdout",
     "output_type": "stream",
     "text": [
      "Sentiment.neutral for \"customer service\"\n",
      "Scores (neutral/negative/positive): [0.746 0.206 0.048]\n"
     ]
    },
    {
     "data": {
      "text/html": [
       "<span style=\"background-color:rgba(180,180,180,1.1111111111111112);\">Importance 1.00</span> <span style=\"background-color:rgba(135,206,250,1.25);\">contacted</span> <span style=\"background-color:rgba(135,206,250,0.37499999999999994);\">customer</span> <span style=\"background-color:rgba(135,206,250,0.38749999999999996);\">service</span> <span style=\"background-color:rgba(135,206,250,0.37499999999999994);\">via</span> <span style=\"background-color:rgba(135,206,250,0.11249999999999999);\">the</span> <span style=\"background-color:rgba(135,206,250,0.0625);\">chat</span> <span style=\"background-color:rgba(135,206,250,0.08750000000000001);\">widget</span> <span style=\"background-color:rgba(135,206,250,0.0375);\">on</span> <span style=\"background-color:rgba(135,206,250,0.08750000000000001);\">their</span> <span style=\"background-color:rgba(135,206,250,0.0375);\">website</span> <span style=\"background-color:rgba(135,206,250,0.11249999999999999);\">after</span> <span style=\"background-color:rgba(135,206,250,0.024999999999999998);\">a</span> <span style=\"background-color:rgba(135,206,250,0.0625);\">missing</span> <span style=\"background-color:rgba(135,206,250,0.024999999999999998);\">delivery</span> <span style=\"background-color:rgba(135,206,250,0.09999999999999999);\">to</span> <span style=\"background-color:rgba(135,206,250,0.0625);\">get</span> <span style=\"background-color:rgba(135,206,250,0.0375);\">a</span> <span style=\"background-color:rgba(135,206,250,0.0375);\">member</span> <span style=\"background-color:rgba(135,206,250,0.012499999999999999);\">of</span> <span style=\"background-color:rgba(135,206,250,0.0375);\">staff</span> <span style=\"background-color:rgba(135,206,250,0.024999999999999998);\">to</span> <span style=\"background-color:rgba(135,206,250,0.024999999999999998);\">say</span> <span style=\"background-color:rgba(135,206,250,0.012499999999999999);\">&quot;</span> <span style=\"background-color:rgba(135,206,250,0.012499999999999999);\">too</span> <span style=\"background-color:rgba(135,206,250,0.0375);\">bad</span> <span style=\"background-color:rgba(135,206,250,0.012499999999999999);\">&quot;</span> <span style=\"background-color:rgba(135,206,250,0.024999999999999998);\">during</span> <span style=\"background-color:rgba(135,206,250,0.0375);\">our</span> <span style=\"background-color:rgba(135,206,250,0.075);\">chat</span> <span style=\"background-color:rgba(135,206,250,0.0375);\">.</span> <span style=\"background-color:rgba(135,206,250,0.09999999999999999);\">.</span> <span style=\"background-color:rgba(135,206,250,0.08750000000000001);\">bol</span> <span style=\"background-color:rgba(135,206,250,0.0375);\">customer</span> <span style=\"background-color:rgba(135,206,250,0.049999999999999996);\">staff</span> <span style=\"background-color:rgba(135,206,250,0.19999999999999998);\">now</span> <span style=\"background-color:rgba(135,206,250,0.075);\">rely</span> <span style=\"background-color:rgba(135,206,250,0.012499999999999999);\">on</span> <span style=\"background-color:rgba(135,206,250,0.012499999999999999);\">the</span> <span style=\"background-color:rgba(135,206,250,0.0375);\">excuse</span> <span style=\"background-color:rgba(135,206,250,0.012499999999999999);\">that</span> <span style=\"background-color:rgba(135,206,250,0.012499999999999999);\">is</span> <span style=\"background-color:rgba(135,206,250,0.012499999999999999);\">&quot;</span> <span style=\"background-color:rgba(135,206,250,0.012499999999999999);\">corona</span> <span style=\"background-color:rgba(135,206,250,0.012499999999999999);\">&quot;</span> <span style=\"background-color:rgba(135,206,250,0.024999999999999998);\">and</span> <span style=\"background-color:rgba(135,206,250,0.0375);\">ask</span> <span style=\"background-color:rgba(135,206,250,0.012499999999999999);\">me</span> <span style=\"background-color:rgba(135,206,250,0.012499999999999999);\">to</span> <span style=\"background-color:rgba(135,206,250,0.012499999999999999);\">understand</span> <span style=\"background-color:rgba(135,206,250,0.012499999999999999);\">that</span> <span style=\"background-color:rgba(135,206,250,0.024999999999999998);\">.</span> <span style=\"background-color:rgba(135,206,250,0.0375);\">.</span> <span style=\"background-color:rgba(135,206,250,0.024999999999999998);\">will</span> <span style=\"background-color:rgba(135,206,250,0.024999999999999998);\">never</span> <span style=\"background-color:rgba(135,206,250,0.024999999999999998);\">buy</span> <span style=\"background-color:rgba(135,206,250,0.012499999999999999);\">anything</span> <span style=\"background-color:rgba(135,206,250,0.012499999999999999);\">else</span> <span style=\"background-color:rgba(135,206,250,0.012499999999999999);\">from</span> <span style=\"background-color:rgba(135,206,250,0.024999999999999998);\">bol</span> <span style=\"background-color:rgba(135,206,250,0.012499999999999999);\">.</span> <span style=\"background-color:rgba(135,206,250,0.0375);\">com</span> <span style=\"background-color:rgba(135,206,250,0.075);\">.</span><br> <span style=\"background-color:rgba(180,180,180,0.25555555555555554);\">Importance 0.23</span> <span style=\"background-color:rgba(135,206,250,0.17500000000000002);\">contacted</span> <span style=\"background-color:rgba(135,206,250,0.012499999999999999);\">customer</span> <span style=\"background-color:rgba(135,206,250,0.012499999999999999);\">service</span> <span style=\"background-color:rgba(135,206,250,0.024999999999999998);\">via</span> <span style=\"background-color:rgba(135,206,250,0.012499999999999999);\">the</span> <span style=\"background-color:rgba(135,206,250,0.0);\">chat</span> <span style=\"background-color:rgba(135,206,250,0.012499999999999999);\">widget</span> <span style=\"background-color:rgba(135,206,250,0.0);\">on</span> <span style=\"background-color:rgba(135,206,250,0.012499999999999999);\">their</span> <span style=\"background-color:rgba(135,206,250,0.012499999999999999);\">website</span> <span style=\"background-color:rgba(135,206,250,0.024999999999999998);\">after</span> <span style=\"background-color:rgba(135,206,250,0.012499999999999999);\">a</span> <span style=\"background-color:rgba(135,206,250,0.012499999999999999);\">missing</span> <span style=\"background-color:rgba(135,206,250,0.0);\">delivery</span> <span style=\"background-color:rgba(135,206,250,0.012499999999999999);\">to</span> <span style=\"background-color:rgba(135,206,250,0.012499999999999999);\">get</span> <span style=\"background-color:rgba(135,206,250,0.012499999999999999);\">a</span> <span style=\"background-color:rgba(135,206,250,0.012499999999999999);\">member</span> <span style=\"background-color:rgba(135,206,250,0.0);\">of</span> <span style=\"background-color:rgba(135,206,250,0.012499999999999999);\">staff</span> <span style=\"background-color:rgba(135,206,250,0.012499999999999999);\">to</span> <span style=\"background-color:rgba(135,206,250,0.012499999999999999);\">say</span> <span style=\"background-color:rgba(135,206,250,0.012499999999999999);\">&quot;</span> <span style=\"background-color:rgba(135,206,250,0.012499999999999999);\">too</span> <span style=\"background-color:rgba(135,206,250,0.012499999999999999);\">bad</span> <span style=\"background-color:rgba(135,206,250,0.0);\">&quot;</span> <span style=\"background-color:rgba(135,206,250,0.012499999999999999);\">during</span> <span style=\"background-color:rgba(135,206,250,0.012499999999999999);\">our</span> <span style=\"background-color:rgba(135,206,250,0.012499999999999999);\">chat</span> <span style=\"background-color:rgba(135,206,250,0.012499999999999999);\">.</span> <span style=\"background-color:rgba(135,206,250,0.09999999999999999);\">.</span> <span style=\"background-color:rgba(135,206,250,0.0625);\">bol</span> <span style=\"background-color:rgba(135,206,250,0.049999999999999996);\">customer</span> <span style=\"background-color:rgba(135,206,250,0.09999999999999999);\">staff</span> <span style=\"background-color:rgba(135,206,250,0.2875);\">now</span> <span style=\"background-color:rgba(135,206,250,0.2875);\">rely</span> <span style=\"background-color:rgba(135,206,250,0.0375);\">on</span> <span style=\"background-color:rgba(135,206,250,0.024999999999999998);\">the</span> <span style=\"background-color:rgba(135,206,250,0.0625);\">excuse</span> <span style=\"background-color:rgba(135,206,250,0.012499999999999999);\">that</span> <span style=\"background-color:rgba(135,206,250,0.0375);\">is</span> <span style=\"background-color:rgba(135,206,250,0.012499999999999999);\">&quot;</span> <span style=\"background-color:rgba(135,206,250,0.012499999999999999);\">corona</span> <span style=\"background-color:rgba(135,206,250,0.012499999999999999);\">&quot;</span> <span style=\"background-color:rgba(135,206,250,0.0375);\">and</span> <span style=\"background-color:rgba(135,206,250,0.125);\">ask</span> <span style=\"background-color:rgba(135,206,250,0.024999999999999998);\">me</span> <span style=\"background-color:rgba(135,206,250,0.012499999999999999);\">to</span> <span style=\"background-color:rgba(135,206,250,0.024999999999999998);\">understand</span> <span style=\"background-color:rgba(135,206,250,0.012499999999999999);\">that</span> <span style=\"background-color:rgba(135,206,250,0.012499999999999999);\">.</span> <span style=\"background-color:rgba(135,206,250,0.024999999999999998);\">.</span> <span style=\"background-color:rgba(135,206,250,0.0375);\">will</span> <span style=\"background-color:rgba(135,206,250,0.024999999999999998);\">never</span> <span style=\"background-color:rgba(135,206,250,0.0);\">buy</span> <span style=\"background-color:rgba(135,206,250,0.0);\">anything</span> <span style=\"background-color:rgba(135,206,250,0.0);\">else</span> <span style=\"background-color:rgba(135,206,250,0.0);\">from</span> <span style=\"background-color:rgba(135,206,250,0.012499999999999999);\">bol</span> <span style=\"background-color:rgba(135,206,250,0.0);\">.</span> <span style=\"background-color:rgba(135,206,250,0.0);\">com</span> <span style=\"background-color:rgba(135,206,250,0.024999999999999998);\">.</span><br> <span style=\"background-color:rgba(180,180,180,0.11111111111111112);\">Importance 0.10</span> <span style=\"background-color:rgba(135,206,250,0.11249999999999999);\">contacted</span> <span style=\"background-color:rgba(135,206,250,0.125);\">customer</span> <span style=\"background-color:rgba(135,206,250,0.125);\">service</span> <span style=\"background-color:rgba(135,206,250,0.0375);\">via</span> <span style=\"background-color:rgba(135,206,250,0.012499999999999999);\">the</span> <span style=\"background-color:rgba(135,206,250,0.012499999999999999);\">chat</span> <span style=\"background-color:rgba(135,206,250,0.012499999999999999);\">widget</span> <span style=\"background-color:rgba(135,206,250,0.012499999999999999);\">on</span> <span style=\"background-color:rgba(135,206,250,0.012499999999999999);\">their</span> <span style=\"background-color:rgba(135,206,250,0.024999999999999998);\">website</span> <span style=\"background-color:rgba(135,206,250,0.012499999999999999);\">after</span> <span style=\"background-color:rgba(135,206,250,0.0);\">a</span> <span style=\"background-color:rgba(135,206,250,0.012499999999999999);\">missing</span> <span style=\"background-color:rgba(135,206,250,0.012499999999999999);\">delivery</span> <span style=\"background-color:rgba(135,206,250,0.0);\">to</span> <span style=\"background-color:rgba(135,206,250,0.0);\">get</span> <span style=\"background-color:rgba(135,206,250,0.0);\">a</span> <span style=\"background-color:rgba(135,206,250,0.0);\">member</span> <span style=\"background-color:rgba(135,206,250,0.0);\">of</span> <span style=\"background-color:rgba(135,206,250,0.012499999999999999);\">staff</span> <span style=\"background-color:rgba(135,206,250,0.0);\">to</span> <span style=\"background-color:rgba(135,206,250,0.0);\">say</span> <span style=\"background-color:rgba(135,206,250,0.0);\">&quot;</span> <span style=\"background-color:rgba(135,206,250,0.0);\">too</span> <span style=\"background-color:rgba(135,206,250,0.0);\">bad</span> <span style=\"background-color:rgba(135,206,250,0.0);\">&quot;</span> <span style=\"background-color:rgba(135,206,250,0.0);\">during</span> <span style=\"background-color:rgba(135,206,250,0.0);\">our</span> <span style=\"background-color:rgba(135,206,250,0.0);\">chat</span> <span style=\"background-color:rgba(135,206,250,0.0);\">.</span> <span style=\"background-color:rgba(135,206,250,0.0);\">.</span> <span style=\"background-color:rgba(135,206,250,0.012499999999999999);\">bol</span> <span style=\"background-color:rgba(135,206,250,0.024999999999999998);\">customer</span> <span style=\"background-color:rgba(135,206,250,0.012499999999999999);\">staff</span> <span style=\"background-color:rgba(135,206,250,0.0);\">now</span> <span style=\"background-color:rgba(135,206,250,0.012499999999999999);\">rely</span> <span style=\"background-color:rgba(135,206,250,0.0);\">on</span> <span style=\"background-color:rgba(135,206,250,0.0);\">the</span> <span style=\"background-color:rgba(135,206,250,0.012499999999999999);\">excuse</span> <span style=\"background-color:rgba(135,206,250,0.0);\">that</span> <span style=\"background-color:rgba(135,206,250,0.0);\">is</span> <span style=\"background-color:rgba(135,206,250,0.0);\">&quot;</span> <span style=\"background-color:rgba(135,206,250,0.0);\">corona</span> <span style=\"background-color:rgba(135,206,250,0.0);\">&quot;</span> <span style=\"background-color:rgba(135,206,250,0.0);\">and</span> <span style=\"background-color:rgba(135,206,250,0.0);\">ask</span> <span style=\"background-color:rgba(135,206,250,0.0);\">me</span> <span style=\"background-color:rgba(135,206,250,0.0);\">to</span> <span style=\"background-color:rgba(135,206,250,0.0);\">understand</span> <span style=\"background-color:rgba(135,206,250,0.0);\">that</span> <span style=\"background-color:rgba(135,206,250,0.0);\">.</span> <span style=\"background-color:rgba(135,206,250,0.0);\">.</span> <span style=\"background-color:rgba(135,206,250,0.0);\">will</span> <span style=\"background-color:rgba(135,206,250,0.0);\">never</span> <span style=\"background-color:rgba(135,206,250,0.012499999999999999);\">buy</span> <span style=\"background-color:rgba(135,206,250,0.0);\">anything</span> <span style=\"background-color:rgba(135,206,250,0.0);\">else</span> <span style=\"background-color:rgba(135,206,250,0.0);\">from</span> <span style=\"background-color:rgba(135,206,250,0.012499999999999999);\">bol</span> <span style=\"background-color:rgba(135,206,250,0.0);\">.</span> <span style=\"background-color:rgba(135,206,250,0.012499999999999999);\">com</span> <span style=\"background-color:rgba(135,206,250,0.012499999999999999);\">.</span><br> <span style=\"background-color:rgba(180,180,180,0.11111111111111112);\">Importance 0.10</span> <span style=\"background-color:rgba(135,206,250,0.125);\">contacted</span> <span style=\"background-color:rgba(135,206,250,0.11249999999999999);\">customer</span> <span style=\"background-color:rgba(135,206,250,0.125);\">service</span> <span style=\"background-color:rgba(135,206,250,0.049999999999999996);\">via</span> <span style=\"background-color:rgba(135,206,250,0.012499999999999999);\">the</span> <span style=\"background-color:rgba(135,206,250,0.012499999999999999);\">chat</span> <span style=\"background-color:rgba(135,206,250,0.012499999999999999);\">widget</span> <span style=\"background-color:rgba(135,206,250,0.012499999999999999);\">on</span> <span style=\"background-color:rgba(135,206,250,0.012499999999999999);\">their</span> <span style=\"background-color:rgba(135,206,250,0.012499999999999999);\">website</span> <span style=\"background-color:rgba(135,206,250,0.012499999999999999);\">after</span> <span style=\"background-color:rgba(135,206,250,0.0);\">a</span> <span style=\"background-color:rgba(135,206,250,0.012499999999999999);\">missing</span> <span style=\"background-color:rgba(135,206,250,0.012499999999999999);\">delivery</span> <span style=\"background-color:rgba(135,206,250,0.012499999999999999);\">to</span> <span style=\"background-color:rgba(135,206,250,0.0);\">get</span> <span style=\"background-color:rgba(135,206,250,0.0);\">a</span> <span style=\"background-color:rgba(135,206,250,0.0);\">member</span> <span style=\"background-color:rgba(135,206,250,0.0);\">of</span> <span style=\"background-color:rgba(135,206,250,0.024999999999999998);\">staff</span> <span style=\"background-color:rgba(135,206,250,0.0);\">to</span> <span style=\"background-color:rgba(135,206,250,0.0);\">say</span> <span style=\"background-color:rgba(135,206,250,0.0);\">&quot;</span> <span style=\"background-color:rgba(135,206,250,0.0);\">too</span> <span style=\"background-color:rgba(135,206,250,0.0);\">bad</span> <span style=\"background-color:rgba(135,206,250,0.0);\">&quot;</span> <span style=\"background-color:rgba(135,206,250,0.0);\">during</span> <span style=\"background-color:rgba(135,206,250,0.0);\">our</span> <span style=\"background-color:rgba(135,206,250,0.0);\">chat</span> <span style=\"background-color:rgba(135,206,250,0.0);\">.</span> <span style=\"background-color:rgba(135,206,250,0.0);\">.</span> <span style=\"background-color:rgba(135,206,250,0.012499999999999999);\">bol</span> <span style=\"background-color:rgba(135,206,250,0.012499999999999999);\">customer</span> <span style=\"background-color:rgba(135,206,250,0.024999999999999998);\">staff</span> <span style=\"background-color:rgba(135,206,250,0.012499999999999999);\">now</span> <span style=\"background-color:rgba(135,206,250,0.0);\">rely</span> <span style=\"background-color:rgba(135,206,250,0.0);\">on</span> <span style=\"background-color:rgba(135,206,250,0.0);\">the</span> <span style=\"background-color:rgba(135,206,250,0.0);\">excuse</span> <span style=\"background-color:rgba(135,206,250,0.0);\">that</span> <span style=\"background-color:rgba(135,206,250,0.0);\">is</span> <span style=\"background-color:rgba(135,206,250,0.0);\">&quot;</span> <span style=\"background-color:rgba(135,206,250,0.0);\">corona</span> <span style=\"background-color:rgba(135,206,250,0.0);\">&quot;</span> <span style=\"background-color:rgba(135,206,250,0.0);\">and</span> <span style=\"background-color:rgba(135,206,250,0.0);\">ask</span> <span style=\"background-color:rgba(135,206,250,0.0);\">me</span> <span style=\"background-color:rgba(135,206,250,0.0);\">to</span> <span style=\"background-color:rgba(135,206,250,0.0);\">understand</span> <span style=\"background-color:rgba(135,206,250,0.0);\">that</span> <span style=\"background-color:rgba(135,206,250,0.0);\">.</span> <span style=\"background-color:rgba(135,206,250,0.0);\">.</span> <span style=\"background-color:rgba(135,206,250,0.0);\">will</span> <span style=\"background-color:rgba(135,206,250,0.0);\">never</span> <span style=\"background-color:rgba(135,206,250,0.012499999999999999);\">buy</span> <span style=\"background-color:rgba(135,206,250,0.0);\">anything</span> <span style=\"background-color:rgba(135,206,250,0.0);\">else</span> <span style=\"background-color:rgba(135,206,250,0.0);\">from</span> <span style=\"background-color:rgba(135,206,250,0.012499999999999999);\">bol</span> <span style=\"background-color:rgba(135,206,250,0.0);\">.</span> <span style=\"background-color:rgba(135,206,250,0.0);\">com</span> <span style=\"background-color:rgba(135,206,250,0.012499999999999999);\">.</span><br> <span style=\"background-color:rgba(180,180,180,0.11111111111111112);\">Importance 0.10</span> <span style=\"background-color:rgba(135,206,250,0.125);\">contacted</span> <span style=\"background-color:rgba(135,206,250,0.024999999999999998);\">customer</span> <span style=\"background-color:rgba(135,206,250,0.024999999999999998);\">service</span> <span style=\"background-color:rgba(135,206,250,0.125);\">via</span> <span style=\"background-color:rgba(135,206,250,0.0375);\">the</span> <span style=\"background-color:rgba(135,206,250,0.024999999999999998);\">chat</span> <span style=\"background-color:rgba(135,206,250,0.049999999999999996);\">widget</span> <span style=\"background-color:rgba(135,206,250,0.024999999999999998);\">on</span> <span style=\"background-color:rgba(135,206,250,0.012499999999999999);\">their</span> <span style=\"background-color:rgba(135,206,250,0.012499999999999999);\">website</span> <span style=\"background-color:rgba(135,206,250,0.012499999999999999);\">after</span> <span style=\"background-color:rgba(135,206,250,0.0);\">a</span> <span style=\"background-color:rgba(135,206,250,0.0);\">missing</span> <span style=\"background-color:rgba(135,206,250,0.0);\">delivery</span> <span style=\"background-color:rgba(135,206,250,0.012499999999999999);\">to</span> <span style=\"background-color:rgba(135,206,250,0.0);\">get</span> <span style=\"background-color:rgba(135,206,250,0.0);\">a</span> <span style=\"background-color:rgba(135,206,250,0.0);\">member</span> <span style=\"background-color:rgba(135,206,250,0.0);\">of</span> <span style=\"background-color:rgba(135,206,250,0.0);\">staff</span> <span style=\"background-color:rgba(135,206,250,0.0);\">to</span> <span style=\"background-color:rgba(135,206,250,0.0);\">say</span> <span style=\"background-color:rgba(135,206,250,0.0);\">&quot;</span> <span style=\"background-color:rgba(135,206,250,0.0);\">too</span> <span style=\"background-color:rgba(135,206,250,0.0);\">bad</span> <span style=\"background-color:rgba(135,206,250,0.0);\">&quot;</span> <span style=\"background-color:rgba(135,206,250,0.0);\">during</span> <span style=\"background-color:rgba(135,206,250,0.0);\">our</span> <span style=\"background-color:rgba(135,206,250,0.0);\">chat</span> <span style=\"background-color:rgba(135,206,250,0.0);\">.</span> <span style=\"background-color:rgba(135,206,250,0.0);\">.</span> <span style=\"background-color:rgba(135,206,250,0.0);\">bol</span> <span style=\"background-color:rgba(135,206,250,0.0);\">customer</span> <span style=\"background-color:rgba(135,206,250,0.0);\">staff</span> <span style=\"background-color:rgba(135,206,250,0.012499999999999999);\">now</span> <span style=\"background-color:rgba(135,206,250,0.0);\">rely</span> <span style=\"background-color:rgba(135,206,250,0.0);\">on</span> <span style=\"background-color:rgba(135,206,250,0.0);\">the</span> <span style=\"background-color:rgba(135,206,250,0.0);\">excuse</span> <span style=\"background-color:rgba(135,206,250,0.0);\">that</span> <span style=\"background-color:rgba(135,206,250,0.0);\">is</span> <span style=\"background-color:rgba(135,206,250,0.0);\">&quot;</span> <span style=\"background-color:rgba(135,206,250,0.0);\">corona</span> <span style=\"background-color:rgba(135,206,250,0.0);\">&quot;</span> <span style=\"background-color:rgba(135,206,250,0.0);\">and</span> <span style=\"background-color:rgba(135,206,250,0.0);\">ask</span> <span style=\"background-color:rgba(135,206,250,0.0);\">me</span> <span style=\"background-color:rgba(135,206,250,0.0);\">to</span> <span style=\"background-color:rgba(135,206,250,0.0);\">understand</span> <span style=\"background-color:rgba(135,206,250,0.0);\">that</span> <span style=\"background-color:rgba(135,206,250,0.0);\">.</span> <span style=\"background-color:rgba(135,206,250,0.0);\">.</span> <span style=\"background-color:rgba(135,206,250,0.0);\">will</span> <span style=\"background-color:rgba(135,206,250,0.0);\">never</span> <span style=\"background-color:rgba(135,206,250,0.0);\">buy</span> <span style=\"background-color:rgba(135,206,250,0.0);\">anything</span> <span style=\"background-color:rgba(135,206,250,0.0);\">else</span> <span style=\"background-color:rgba(135,206,250,0.0);\">from</span> <span style=\"background-color:rgba(135,206,250,0.0);\">bol</span> <span style=\"background-color:rgba(135,206,250,0.0);\">.</span> <span style=\"background-color:rgba(135,206,250,0.012499999999999999);\">com</span> <span style=\"background-color:rgba(135,206,250,0.0);\">.</span><br>"
      ],
      "text/plain": [
       "<IPython.core.display.HTML object>"
      ]
     },
     "metadata": {},
     "output_type": "display_data"
    },
    {
     "name": "stdout",
     "output_type": "stream",
     "text": [
      "Sentiment.negative for \"customer service\"\n",
      "Scores (neutral/negative/positive): [0.006 0.989 0.004]\n"
     ]
    },
    {
     "data": {
      "text/html": [
       "<span style=\"background-color:rgba(180,180,180,1.1111111111111112);\">Importance 1.00</span> <span style=\"background-color:rgba(135,206,250,0.012499999999999999);\">i</span> <span style=\"background-color:rgba(135,206,250,0.0625);\">called</span> <span style=\"background-color:rgba(135,206,250,0.024999999999999998);\">them</span> <span style=\"background-color:rgba(135,206,250,0.024999999999999998);\">once</span> <span style=\"background-color:rgba(135,206,250,0.012499999999999999);\">i</span> <span style=\"background-color:rgba(135,206,250,0.024999999999999998);\">noticed</span> <span style=\"background-color:rgba(135,206,250,0.0375);\">that</span> <span style=\"background-color:rgba(135,206,250,0.024999999999999998);\">the</span> <span style=\"background-color:rgba(135,206,250,0.012499999999999999);\">address</span> <span style=\"background-color:rgba(135,206,250,0.012499999999999999);\">was</span> <span style=\"background-color:rgba(135,206,250,0.0375);\">wrong</span> <span style=\"background-color:rgba(135,206,250,0.012499999999999999);\">(</span> <span style=\"background-color:rgba(135,206,250,0.012499999999999999);\">before</span> <span style=\"background-color:rgba(135,206,250,0.024999999999999998);\">delivery</span> <span style=\"background-color:rgba(135,206,250,0.0);\">)</span> <span style=\"background-color:rgba(135,206,250,0.012499999999999999);\">,</span> <span style=\"background-color:rgba(135,206,250,0.024999999999999998);\">and</span> <span style=\"background-color:rgba(135,206,250,0.0375);\">they</span> <span style=\"background-color:rgba(135,206,250,0.125);\">accused</span> <span style=\"background-color:rgba(135,206,250,0.024999999999999998);\">me</span> <span style=\"background-color:rgba(135,206,250,0.075);\">of</span> <span style=\"background-color:rgba(135,206,250,0.049999999999999996);\">changing</span> <span style=\"background-color:rgba(135,206,250,0.024999999999999998);\">the</span> <span style=\"background-color:rgba(135,206,250,0.024999999999999998);\">address</span> <span style=\"background-color:rgba(135,206,250,0.024999999999999998);\">in</span> <span style=\"background-color:rgba(135,206,250,0.024999999999999998);\">the</span> <span style=\"background-color:rgba(135,206,250,0.0375);\">system</span> <span style=\"background-color:rgba(135,206,250,0.0375);\">after</span> <span style=\"background-color:rgba(135,206,250,0.024999999999999998);\">the</span> <span style=\"background-color:rgba(135,206,250,0.024999999999999998);\">order</span> <span style=\"background-color:rgba(135,206,250,0.075);\">(</span> <span style=\"background-color:rgba(135,206,250,0.049999999999999996);\">well</span> <span style=\"background-color:rgba(135,206,250,0.024999999999999998);\">,</span> <span style=\"background-color:rgba(135,206,250,0.0375);\">they</span> <span style=\"background-color:rgba(135,206,250,0.075);\">could</span> <span style=\"background-color:rgba(135,206,250,0.049999999999999996);\">check</span> <span style=\"background-color:rgba(135,206,250,0.0375);\">that</span> <span style=\"background-color:rgba(135,206,250,0.0375);\">if</span> <span style=\"background-color:rgba(135,206,250,0.0375);\">they</span> <span style=\"background-color:rgba(135,206,250,0.0375);\">wanted</span> <span style=\"background-color:rgba(135,206,250,0.0375);\">,</span> <span style=\"background-color:rgba(135,206,250,0.5125);\">but</span> <span style=\"background-color:rgba(135,206,250,0.19999999999999998);\">there</span> <span style=\"background-color:rgba(135,206,250,0.325);\">is</span> <span style=\"background-color:rgba(135,206,250,1.25);\">no</span> <span style=\"background-color:rgba(135,206,250,0.625);\">l2</span> <span style=\"background-color:rgba(135,206,250,0.35000000000000003);\">customer</span> <span style=\"background-color:rgba(135,206,250,1.25);\">service</span> <span style=\"background-color:rgba(135,206,250,0.19999999999999998);\">with</span> <span style=\"background-color:rgba(135,206,250,0.17500000000000002);\">privilege</span> <span style=\"background-color:rgba(135,206,250,0.17500000000000002);\">to</span> <span style=\"background-color:rgba(135,206,250,0.13749999999999998);\">check</span> <span style=\"background-color:rgba(135,206,250,0.125);\">that</span> <span style=\"background-color:rgba(135,206,250,0.17500000000000002);\">)</span> <span style=\"background-color:rgba(135,206,250,0.08750000000000001);\">.</span><br> <span style=\"background-color:rgba(180,180,180,0.6);\">Importance 0.54</span> <span style=\"background-color:rgba(135,206,250,0.049999999999999996);\">i</span> <span style=\"background-color:rgba(135,206,250,0.1625);\">called</span> <span style=\"background-color:rgba(135,206,250,0.0375);\">them</span> <span style=\"background-color:rgba(135,206,250,0.049999999999999996);\">once</span> <span style=\"background-color:rgba(135,206,250,0.0375);\">i</span> <span style=\"background-color:rgba(135,206,250,0.09999999999999999);\">noticed</span> <span style=\"background-color:rgba(135,206,250,0.11249999999999999);\">that</span> <span style=\"background-color:rgba(135,206,250,0.024999999999999998);\">the</span> <span style=\"background-color:rgba(135,206,250,0.049999999999999996);\">address</span> <span style=\"background-color:rgba(135,206,250,0.075);\">was</span> <span style=\"background-color:rgba(135,206,250,0.11249999999999999);\">wrong</span> <span style=\"background-color:rgba(135,206,250,0.024999999999999998);\">(</span> <span style=\"background-color:rgba(135,206,250,0.049999999999999996);\">before</span> <span style=\"background-color:rgba(135,206,250,0.0625);\">delivery</span> <span style=\"background-color:rgba(135,206,250,0.0375);\">)</span> <span style=\"background-color:rgba(135,206,250,0.0625);\">,</span> <span style=\"background-color:rgba(135,206,250,0.2125);\">and</span> <span style=\"background-color:rgba(135,206,250,0.6124999999999999);\">they</span> <span style=\"background-color:rgba(135,206,250,0.675);\">accused</span> <span style=\"background-color:rgba(135,206,250,0.26249999999999996);\">me</span> <span style=\"background-color:rgba(135,206,250,0.675);\">of</span> <span style=\"background-color:rgba(135,206,250,0.3);\">changing</span> <span style=\"background-color:rgba(135,206,250,0.0625);\">the</span> <span style=\"background-color:rgba(135,206,250,0.08750000000000001);\">address</span> <span style=\"background-color:rgba(135,206,250,0.049999999999999996);\">in</span> <span style=\"background-color:rgba(135,206,250,0.0375);\">the</span> <span style=\"background-color:rgba(135,206,250,0.075);\">system</span> <span style=\"background-color:rgba(135,206,250,0.049999999999999996);\">after</span> <span style=\"background-color:rgba(135,206,250,0.0375);\">the</span> <span style=\"background-color:rgba(135,206,250,0.0625);\">order</span> <span style=\"background-color:rgba(135,206,250,0.3375);\">(</span> <span style=\"background-color:rgba(135,206,250,0.15);\">well</span> <span style=\"background-color:rgba(135,206,250,0.049999999999999996);\">,</span> <span style=\"background-color:rgba(135,206,250,0.075);\">they</span> <span style=\"background-color:rgba(135,206,250,0.125);\">could</span> <span style=\"background-color:rgba(135,206,250,0.125);\">check</span> <span style=\"background-color:rgba(135,206,250,0.0375);\">that</span> <span style=\"background-color:rgba(135,206,250,0.0375);\">if</span> <span style=\"background-color:rgba(135,206,250,0.024999999999999998);\">they</span> <span style=\"background-color:rgba(135,206,250,0.024999999999999998);\">wanted</span> <span style=\"background-color:rgba(135,206,250,0.0375);\">,</span> <span style=\"background-color:rgba(135,206,250,0.049999999999999996);\">but</span> <span style=\"background-color:rgba(135,206,250,0.0375);\">there</span> <span style=\"background-color:rgba(135,206,250,0.0625);\">is</span> <span style=\"background-color:rgba(135,206,250,0.09999999999999999);\">no</span> <span style=\"background-color:rgba(135,206,250,0.0625);\">l2</span> <span style=\"background-color:rgba(135,206,250,0.3125);\">customer</span> <span style=\"background-color:rgba(135,206,250,0.25);\">service</span> <span style=\"background-color:rgba(135,206,250,0.024999999999999998);\">with</span> <span style=\"background-color:rgba(135,206,250,0.075);\">privilege</span> <span style=\"background-color:rgba(135,206,250,0.0375);\">to</span> <span style=\"background-color:rgba(135,206,250,0.049999999999999996);\">check</span> <span style=\"background-color:rgba(135,206,250,0.0375);\">that</span> <span style=\"background-color:rgba(135,206,250,0.08750000000000001);\">)</span> <span style=\"background-color:rgba(135,206,250,0.1625);\">.</span><br> <span style=\"background-color:rgba(180,180,180,0.4555555555555555);\">Importance 0.41</span> <span style=\"background-color:rgba(135,206,250,0.012499999999999999);\">i</span> <span style=\"background-color:rgba(135,206,250,0.0625);\">called</span> <span style=\"background-color:rgba(135,206,250,0.012499999999999999);\">them</span> <span style=\"background-color:rgba(135,206,250,0.012499999999999999);\">once</span> <span style=\"background-color:rgba(135,206,250,0.012499999999999999);\">i</span> <span style=\"background-color:rgba(135,206,250,0.024999999999999998);\">noticed</span> <span style=\"background-color:rgba(135,206,250,0.012499999999999999);\">that</span> <span style=\"background-color:rgba(135,206,250,0.012499999999999999);\">the</span> <span style=\"background-color:rgba(135,206,250,0.012499999999999999);\">address</span> <span style=\"background-color:rgba(135,206,250,0.0375);\">was</span> <span style=\"background-color:rgba(135,206,250,0.012499999999999999);\">wrong</span> <span style=\"background-color:rgba(135,206,250,0.012499999999999999);\">(</span> <span style=\"background-color:rgba(135,206,250,0.012499999999999999);\">before</span> <span style=\"background-color:rgba(135,206,250,0.012499999999999999);\">delivery</span> <span style=\"background-color:rgba(135,206,250,0.0);\">)</span> <span style=\"background-color:rgba(135,206,250,0.012499999999999999);\">,</span> <span style=\"background-color:rgba(135,206,250,0.012499999999999999);\">and</span> <span style=\"background-color:rgba(135,206,250,0.024999999999999998);\">they</span> <span style=\"background-color:rgba(135,206,250,0.08750000000000001);\">accused</span> <span style=\"background-color:rgba(135,206,250,0.024999999999999998);\">me</span> <span style=\"background-color:rgba(135,206,250,0.0375);\">of</span> <span style=\"background-color:rgba(135,206,250,0.012499999999999999);\">changing</span> <span style=\"background-color:rgba(135,206,250,0.012499999999999999);\">the</span> <span style=\"background-color:rgba(135,206,250,0.012499999999999999);\">address</span> <span style=\"background-color:rgba(135,206,250,0.012499999999999999);\">in</span> <span style=\"background-color:rgba(135,206,250,0.012499999999999999);\">the</span> <span style=\"background-color:rgba(135,206,250,0.012499999999999999);\">system</span> <span style=\"background-color:rgba(135,206,250,0.024999999999999998);\">after</span> <span style=\"background-color:rgba(135,206,250,0.012499999999999999);\">the</span> <span style=\"background-color:rgba(135,206,250,0.012499999999999999);\">order</span> <span style=\"background-color:rgba(135,206,250,0.08750000000000001);\">(</span> <span style=\"background-color:rgba(135,206,250,0.024999999999999998);\">well</span> <span style=\"background-color:rgba(135,206,250,0.012499999999999999);\">,</span> <span style=\"background-color:rgba(135,206,250,0.024999999999999998);\">they</span> <span style=\"background-color:rgba(135,206,250,0.075);\">could</span> <span style=\"background-color:rgba(135,206,250,0.024999999999999998);\">check</span> <span style=\"background-color:rgba(135,206,250,0.012499999999999999);\">that</span> <span style=\"background-color:rgba(135,206,250,0.024999999999999998);\">if</span> <span style=\"background-color:rgba(135,206,250,0.012499999999999999);\">they</span> <span style=\"background-color:rgba(135,206,250,0.0375);\">wanted</span> <span style=\"background-color:rgba(135,206,250,0.024999999999999998);\">,</span> <span style=\"background-color:rgba(135,206,250,0.25);\">but</span> <span style=\"background-color:rgba(135,206,250,0.2375);\">there</span> <span style=\"background-color:rgba(135,206,250,0.5125);\">is</span> <span style=\"background-color:rgba(135,206,250,0.5);\">no</span> <span style=\"background-color:rgba(135,206,250,0.08750000000000001);\">l2</span> <span style=\"background-color:rgba(135,206,250,0.11249999999999999);\">customer</span> <span style=\"background-color:rgba(135,206,250,0.5125);\">service</span> <span style=\"background-color:rgba(135,206,250,0.049999999999999996);\">with</span> <span style=\"background-color:rgba(135,206,250,0.09999999999999999);\">privilege</span> <span style=\"background-color:rgba(135,206,250,0.075);\">to</span> <span style=\"background-color:rgba(135,206,250,0.0375);\">check</span> <span style=\"background-color:rgba(135,206,250,0.0625);\">that</span> <span style=\"background-color:rgba(135,206,250,0.09999999999999999);\">)</span> <span style=\"background-color:rgba(135,206,250,0.0625);\">.</span><br> <span style=\"background-color:rgba(180,180,180,0.2888888888888889);\">Importance 0.26</span> <span style=\"background-color:rgba(135,206,250,0.0375);\">i</span> <span style=\"background-color:rgba(135,206,250,0.11249999999999999);\">called</span> <span style=\"background-color:rgba(135,206,250,0.024999999999999998);\">them</span> <span style=\"background-color:rgba(135,206,250,0.024999999999999998);\">once</span> <span style=\"background-color:rgba(135,206,250,0.012499999999999999);\">i</span> <span style=\"background-color:rgba(135,206,250,0.024999999999999998);\">noticed</span> <span style=\"background-color:rgba(135,206,250,0.024999999999999998);\">that</span> <span style=\"background-color:rgba(135,206,250,0.024999999999999998);\">the</span> <span style=\"background-color:rgba(135,206,250,0.012499999999999999);\">address</span> <span style=\"background-color:rgba(135,206,250,0.012499999999999999);\">was</span> <span style=\"background-color:rgba(135,206,250,0.012499999999999999);\">wrong</span> <span style=\"background-color:rgba(135,206,250,0.012499999999999999);\">(</span> <span style=\"background-color:rgba(135,206,250,0.012499999999999999);\">before</span> <span style=\"background-color:rgba(135,206,250,0.012499999999999999);\">delivery</span> <span style=\"background-color:rgba(135,206,250,0.012499999999999999);\">)</span> <span style=\"background-color:rgba(135,206,250,0.024999999999999998);\">,</span> <span style=\"background-color:rgba(135,206,250,0.0375);\">and</span> <span style=\"background-color:rgba(135,206,250,0.024999999999999998);\">they</span> <span style=\"background-color:rgba(135,206,250,0.049999999999999996);\">accused</span> <span style=\"background-color:rgba(135,206,250,0.012499999999999999);\">me</span> <span style=\"background-color:rgba(135,206,250,0.024999999999999998);\">of</span> <span style=\"background-color:rgba(135,206,250,0.012499999999999999);\">changing</span> <span style=\"background-color:rgba(135,206,250,0.012499999999999999);\">the</span> <span style=\"background-color:rgba(135,206,250,0.012499999999999999);\">address</span> <span style=\"background-color:rgba(135,206,250,0.012499999999999999);\">in</span> <span style=\"background-color:rgba(135,206,250,0.012499999999999999);\">the</span> <span style=\"background-color:rgba(135,206,250,0.012499999999999999);\">system</span> <span style=\"background-color:rgba(135,206,250,0.012499999999999999);\">after</span> <span style=\"background-color:rgba(135,206,250,0.012499999999999999);\">the</span> <span style=\"background-color:rgba(135,206,250,0.012499999999999999);\">order</span> <span style=\"background-color:rgba(135,206,250,0.1625);\">(</span> <span style=\"background-color:rgba(135,206,250,0.024999999999999998);\">well</span> <span style=\"background-color:rgba(135,206,250,0.0375);\">,</span> <span style=\"background-color:rgba(135,206,250,0.012499999999999999);\">they</span> <span style=\"background-color:rgba(135,206,250,0.024999999999999998);\">could</span> <span style=\"background-color:rgba(135,206,250,0.012499999999999999);\">check</span> <span style=\"background-color:rgba(135,206,250,0.012499999999999999);\">that</span> <span style=\"background-color:rgba(135,206,250,0.024999999999999998);\">if</span> <span style=\"background-color:rgba(135,206,250,0.012499999999999999);\">they</span> <span style=\"background-color:rgba(135,206,250,0.012499999999999999);\">wanted</span> <span style=\"background-color:rgba(135,206,250,0.049999999999999996);\">,</span> <span style=\"background-color:rgba(135,206,250,0.0375);\">but</span> <span style=\"background-color:rgba(135,206,250,0.024999999999999998);\">there</span> <span style=\"background-color:rgba(135,206,250,0.0375);\">is</span> <span style=\"background-color:rgba(135,206,250,0.0375);\">no</span> <span style=\"background-color:rgba(135,206,250,0.0625);\">l2</span> <span style=\"background-color:rgba(135,206,250,0.024999999999999998);\">customer</span> <span style=\"background-color:rgba(135,206,250,0.024999999999999998);\">service</span> <span style=\"background-color:rgba(135,206,250,0.0375);\">with</span> <span style=\"background-color:rgba(135,206,250,0.024999999999999998);\">privilege</span> <span style=\"background-color:rgba(135,206,250,0.024999999999999998);\">to</span> <span style=\"background-color:rgba(135,206,250,0.0375);\">check</span> <span style=\"background-color:rgba(135,206,250,0.049999999999999996);\">that</span> <span style=\"background-color:rgba(135,206,250,0.26249999999999996);\">)</span> <span style=\"background-color:rgba(135,206,250,0.325);\">.</span><br> <span style=\"background-color:rgba(180,180,180,0.22222222222222224);\">Importance 0.20</span> <span style=\"background-color:rgba(135,206,250,0.0);\">i</span> <span style=\"background-color:rgba(135,206,250,0.0);\">called</span> <span style=\"background-color:rgba(135,206,250,0.0);\">them</span> <span style=\"background-color:rgba(135,206,250,0.0);\">once</span> <span style=\"background-color:rgba(135,206,250,0.0);\">i</span> <span style=\"background-color:rgba(135,206,250,0.0);\">noticed</span> <span style=\"background-color:rgba(135,206,250,0.0);\">that</span> <span style=\"background-color:rgba(135,206,250,0.0);\">the</span> <span style=\"background-color:rgba(135,206,250,0.012499999999999999);\">address</span> <span style=\"background-color:rgba(135,206,250,0.0);\">was</span> <span style=\"background-color:rgba(135,206,250,0.0);\">wrong</span> <span style=\"background-color:rgba(135,206,250,0.0);\">(</span> <span style=\"background-color:rgba(135,206,250,0.0);\">before</span> <span style=\"background-color:rgba(135,206,250,0.012499999999999999);\">delivery</span> <span style=\"background-color:rgba(135,206,250,0.0);\">)</span> <span style=\"background-color:rgba(135,206,250,0.012499999999999999);\">,</span> <span style=\"background-color:rgba(135,206,250,0.012499999999999999);\">and</span> <span style=\"background-color:rgba(135,206,250,0.0);\">they</span> <span style=\"background-color:rgba(135,206,250,0.012499999999999999);\">accused</span> <span style=\"background-color:rgba(135,206,250,0.0);\">me</span> <span style=\"background-color:rgba(135,206,250,0.0);\">of</span> <span style=\"background-color:rgba(135,206,250,0.0);\">changing</span> <span style=\"background-color:rgba(135,206,250,0.0);\">the</span> <span style=\"background-color:rgba(135,206,250,0.012499999999999999);\">address</span> <span style=\"background-color:rgba(135,206,250,0.0);\">in</span> <span style=\"background-color:rgba(135,206,250,0.0);\">the</span> <span style=\"background-color:rgba(135,206,250,0.012499999999999999);\">system</span> <span style=\"background-color:rgba(135,206,250,0.0);\">after</span> <span style=\"background-color:rgba(135,206,250,0.012499999999999999);\">the</span> <span style=\"background-color:rgba(135,206,250,0.012499999999999999);\">order</span> <span style=\"background-color:rgba(135,206,250,0.012499999999999999);\">(</span> <span style=\"background-color:rgba(135,206,250,0.0);\">well</span> <span style=\"background-color:rgba(135,206,250,0.0);\">,</span> <span style=\"background-color:rgba(135,206,250,0.0);\">they</span> <span style=\"background-color:rgba(135,206,250,0.0);\">could</span> <span style=\"background-color:rgba(135,206,250,0.0);\">check</span> <span style=\"background-color:rgba(135,206,250,0.0);\">that</span> <span style=\"background-color:rgba(135,206,250,0.0);\">if</span> <span style=\"background-color:rgba(135,206,250,0.0);\">they</span> <span style=\"background-color:rgba(135,206,250,0.0);\">wanted</span> <span style=\"background-color:rgba(135,206,250,0.012499999999999999);\">,</span> <span style=\"background-color:rgba(135,206,250,0.012499999999999999);\">but</span> <span style=\"background-color:rgba(135,206,250,0.012499999999999999);\">there</span> <span style=\"background-color:rgba(135,206,250,0.012499999999999999);\">is</span> <span style=\"background-color:rgba(135,206,250,0.0375);\">no</span> <span style=\"background-color:rgba(135,206,250,0.25);\">l2</span> <span style=\"background-color:rgba(135,206,250,0.075);\">customer</span> <span style=\"background-color:rgba(135,206,250,0.0625);\">service</span> <span style=\"background-color:rgba(135,206,250,0.024999999999999998);\">with</span> <span style=\"background-color:rgba(135,206,250,0.012499999999999999);\">privilege</span> <span style=\"background-color:rgba(135,206,250,0.012499999999999999);\">to</span> <span style=\"background-color:rgba(135,206,250,0.012499999999999999);\">check</span> <span style=\"background-color:rgba(135,206,250,0.012499999999999999);\">that</span> <span style=\"background-color:rgba(135,206,250,0.012499999999999999);\">)</span> <span style=\"background-color:rgba(135,206,250,0.024999999999999998);\">.</span><br>"
      ],
      "text/plain": [
       "<IPython.core.display.HTML object>"
      ]
     },
     "metadata": {},
     "output_type": "display_data"
    },
    {
     "name": "stdout",
     "output_type": "stream",
     "text": [
      "Sentiment.negative for \"customer service\"\n",
      "Scores (neutral/negative/positive): [0.002 0.993 0.005]\n"
     ]
    },
    {
     "data": {
      "text/html": [
       "<span style=\"background-color:rgba(180,180,180,1.1111111111111112);\">Importance 1.00</span> <span style=\"background-color:rgba(135,206,250,0.4125);\">when</span> <span style=\"background-color:rgba(135,206,250,0.08750000000000001);\">i</span> <span style=\"background-color:rgba(135,206,250,0.575);\">insisted</span> <span style=\"background-color:rgba(135,206,250,0.325);\">this</span> <span style=\"background-color:rgba(135,206,250,0.36249999999999993);\">is</span> <span style=\"background-color:rgba(135,206,250,1.25);\">horrible</span> <span style=\"background-color:rgba(135,206,250,0.6);\">customer</span> <span style=\"background-color:rgba(135,206,250,1.0374999999999999);\">service</span> <span style=\"background-color:rgba(135,206,250,0.26249999999999996);\">and</span> <span style=\"background-color:rgba(135,206,250,0.0625);\">i</span> <span style=\"background-color:rgba(135,206,250,0.19999999999999998);\">cannot</span> <span style=\"background-color:rgba(135,206,250,0.08750000000000001);\">be</span> <span style=\"background-color:rgba(135,206,250,0.075);\">held</span> <span style=\"background-color:rgba(135,206,250,0.09999999999999999);\">responsible</span> <span style=\"background-color:rgba(135,206,250,0.08750000000000001);\">to</span> <span style=\"background-color:rgba(135,206,250,0.125);\">fix</span> <span style=\"background-color:rgba(135,206,250,0.0375);\">the</span> <span style=\"background-color:rgba(135,206,250,0.08750000000000001);\">issue</span> <span style=\"background-color:rgba(135,206,250,0.0625);\">their</span> <span style=\"background-color:rgba(135,206,250,0.08750000000000001);\">system</span> <span style=\"background-color:rgba(135,206,250,0.075);\">created</span> <span style=\"background-color:rgba(135,206,250,0.13749999999999998);\">,</span> <span style=\"background-color:rgba(135,206,250,0.17500000000000002);\">they</span> <span style=\"background-color:rgba(135,206,250,0.125);\">simply</span> <span style=\"background-color:rgba(135,206,250,0.13749999999999998);\">hung</span> <span style=\"background-color:rgba(135,206,250,0.049999999999999996);\">up</span> <span style=\"background-color:rgba(135,206,250,0.049999999999999996);\">on</span> <span style=\"background-color:rgba(135,206,250,0.0375);\">me</span> <span style=\"background-color:rgba(135,206,250,0.13749999999999998);\">.</span><br> <span style=\"background-color:rgba(180,180,180,0.17777777777777778);\">Importance 0.16</span> <span style=\"background-color:rgba(135,206,250,0.125);\">when</span> <span style=\"background-color:rgba(135,206,250,0.0625);\">i</span> <span style=\"background-color:rgba(135,206,250,0.19999999999999998);\">insisted</span> <span style=\"background-color:rgba(135,206,250,0.17500000000000002);\">this</span> <span style=\"background-color:rgba(135,206,250,0.08750000000000001);\">is</span> <span style=\"background-color:rgba(135,206,250,0.19999999999999998);\">horrible</span> <span style=\"background-color:rgba(135,206,250,0.08750000000000001);\">customer</span> <span style=\"background-color:rgba(135,206,250,0.125);\">service</span> <span style=\"background-color:rgba(135,206,250,0.049999999999999996);\">and</span> <span style=\"background-color:rgba(135,206,250,0.024999999999999998);\">i</span> <span style=\"background-color:rgba(135,206,250,0.0375);\">cannot</span> <span style=\"background-color:rgba(135,206,250,0.024999999999999998);\">be</span> <span style=\"background-color:rgba(135,206,250,0.012499999999999999);\">held</span> <span style=\"background-color:rgba(135,206,250,0.024999999999999998);\">responsible</span> <span style=\"background-color:rgba(135,206,250,0.012499999999999999);\">to</span> <span style=\"background-color:rgba(135,206,250,0.012499999999999999);\">fix</span> <span style=\"background-color:rgba(135,206,250,0.012499999999999999);\">the</span> <span style=\"background-color:rgba(135,206,250,0.012499999999999999);\">issue</span> <span style=\"background-color:rgba(135,206,250,0.012499999999999999);\">their</span> <span style=\"background-color:rgba(135,206,250,0.012499999999999999);\">system</span> <span style=\"background-color:rgba(135,206,250,0.012499999999999999);\">created</span> <span style=\"background-color:rgba(135,206,250,0.024999999999999998);\">,</span> <span style=\"background-color:rgba(135,206,250,0.024999999999999998);\">they</span> <span style=\"background-color:rgba(135,206,250,0.024999999999999998);\">simply</span> <span style=\"background-color:rgba(135,206,250,0.0375);\">hung</span> <span style=\"background-color:rgba(135,206,250,0.012499999999999999);\">up</span> <span style=\"background-color:rgba(135,206,250,0.012499999999999999);\">on</span> <span style=\"background-color:rgba(135,206,250,0.012499999999999999);\">me</span> <span style=\"background-color:rgba(135,206,250,0.0375);\">.</span><br> <span style=\"background-color:rgba(180,180,180,0.09999999999999999);\">Importance 0.09</span> <span style=\"background-color:rgba(135,206,250,0.024999999999999998);\">when</span> <span style=\"background-color:rgba(135,206,250,0.012499999999999999);\">i</span> <span style=\"background-color:rgba(135,206,250,0.049999999999999996);\">insisted</span> <span style=\"background-color:rgba(135,206,250,0.049999999999999996);\">this</span> <span style=\"background-color:rgba(135,206,250,0.11249999999999999);\">is</span> <span style=\"background-color:rgba(135,206,250,0.11249999999999999);\">horrible</span> <span style=\"background-color:rgba(135,206,250,0.024999999999999998);\">customer</span> <span style=\"background-color:rgba(135,206,250,0.0375);\">service</span> <span style=\"background-color:rgba(135,206,250,0.012499999999999999);\">and</span> <span style=\"background-color:rgba(135,206,250,0.0);\">i</span> <span style=\"background-color:rgba(135,206,250,0.012499999999999999);\">cannot</span> <span style=\"background-color:rgba(135,206,250,0.0);\">be</span> <span style=\"background-color:rgba(135,206,250,0.0);\">held</span> <span style=\"background-color:rgba(135,206,250,0.0);\">responsible</span> <span style=\"background-color:rgba(135,206,250,0.0);\">to</span> <span style=\"background-color:rgba(135,206,250,0.0);\">fix</span> <span style=\"background-color:rgba(135,206,250,0.0);\">the</span> <span style=\"background-color:rgba(135,206,250,0.0);\">issue</span> <span style=\"background-color:rgba(135,206,250,0.0);\">their</span> <span style=\"background-color:rgba(135,206,250,0.012499999999999999);\">system</span> <span style=\"background-color:rgba(135,206,250,0.0);\">created</span> <span style=\"background-color:rgba(135,206,250,0.0);\">,</span> <span style=\"background-color:rgba(135,206,250,0.0);\">they</span> <span style=\"background-color:rgba(135,206,250,0.0);\">simply</span> <span style=\"background-color:rgba(135,206,250,0.0);\">hung</span> <span style=\"background-color:rgba(135,206,250,0.0);\">up</span> <span style=\"background-color:rgba(135,206,250,0.0);\">on</span> <span style=\"background-color:rgba(135,206,250,0.0);\">me</span> <span style=\"background-color:rgba(135,206,250,0.012499999999999999);\">.</span><br> <span style=\"background-color:rgba(180,180,180,0.08888888888888889);\">Importance 0.08</span> <span style=\"background-color:rgba(135,206,250,0.0375);\">when</span> <span style=\"background-color:rgba(135,206,250,0.012499999999999999);\">i</span> <span style=\"background-color:rgba(135,206,250,0.075);\">insisted</span> <span style=\"background-color:rgba(135,206,250,0.09999999999999999);\">this</span> <span style=\"background-color:rgba(135,206,250,0.0375);\">is</span> <span style=\"background-color:rgba(135,206,250,0.09999999999999999);\">horrible</span> <span style=\"background-color:rgba(135,206,250,0.024999999999999998);\">customer</span> <span style=\"background-color:rgba(135,206,250,0.0375);\">service</span> <span style=\"background-color:rgba(135,206,250,0.024999999999999998);\">and</span> <span style=\"background-color:rgba(135,206,250,0.012499999999999999);\">i</span> <span style=\"background-color:rgba(135,206,250,0.012499999999999999);\">cannot</span> <span style=\"background-color:rgba(135,206,250,0.0);\">be</span> <span style=\"background-color:rgba(135,206,250,0.0);\">held</span> <span style=\"background-color:rgba(135,206,250,0.012499999999999999);\">responsible</span> <span style=\"background-color:rgba(135,206,250,0.0);\">to</span> <span style=\"background-color:rgba(135,206,250,0.012499999999999999);\">fix</span> <span style=\"background-color:rgba(135,206,250,0.012499999999999999);\">the</span> <span style=\"background-color:rgba(135,206,250,0.0);\">issue</span> <span style=\"background-color:rgba(135,206,250,0.0);\">their</span> <span style=\"background-color:rgba(135,206,250,0.012499999999999999);\">system</span> <span style=\"background-color:rgba(135,206,250,0.012499999999999999);\">created</span> <span style=\"background-color:rgba(135,206,250,0.012499999999999999);\">,</span> <span style=\"background-color:rgba(135,206,250,0.012499999999999999);\">they</span> <span style=\"background-color:rgba(135,206,250,0.0);\">simply</span> <span style=\"background-color:rgba(135,206,250,0.012499999999999999);\">hung</span> <span style=\"background-color:rgba(135,206,250,0.0);\">up</span> <span style=\"background-color:rgba(135,206,250,0.0);\">on</span> <span style=\"background-color:rgba(135,206,250,0.0);\">me</span> <span style=\"background-color:rgba(135,206,250,0.012499999999999999);\">.</span><br> <span style=\"background-color:rgba(180,180,180,0.08888888888888889);\">Importance 0.08</span> <span style=\"background-color:rgba(135,206,250,0.012499999999999999);\">when</span> <span style=\"background-color:rgba(135,206,250,0.0);\">i</span> <span style=\"background-color:rgba(135,206,250,0.012499999999999999);\">insisted</span> <span style=\"background-color:rgba(135,206,250,0.012499999999999999);\">this</span> <span style=\"background-color:rgba(135,206,250,0.012499999999999999);\">is</span> <span style=\"background-color:rgba(135,206,250,0.09999999999999999);\">horrible</span> <span style=\"background-color:rgba(135,206,250,0.09999999999999999);\">customer</span> <span style=\"background-color:rgba(135,206,250,0.049999999999999996);\">service</span> <span style=\"background-color:rgba(135,206,250,0.012499999999999999);\">and</span> <span style=\"background-color:rgba(135,206,250,0.012499999999999999);\">i</span> <span style=\"background-color:rgba(135,206,250,0.0);\">cannot</span> <span style=\"background-color:rgba(135,206,250,0.0);\">be</span> <span style=\"background-color:rgba(135,206,250,0.0);\">held</span> <span style=\"background-color:rgba(135,206,250,0.012499999999999999);\">responsible</span> <span style=\"background-color:rgba(135,206,250,0.0);\">to</span> <span style=\"background-color:rgba(135,206,250,0.012499999999999999);\">fix</span> <span style=\"background-color:rgba(135,206,250,0.0);\">the</span> <span style=\"background-color:rgba(135,206,250,0.0);\">issue</span> <span style=\"background-color:rgba(135,206,250,0.0);\">their</span> <span style=\"background-color:rgba(135,206,250,0.012499999999999999);\">system</span> <span style=\"background-color:rgba(135,206,250,0.0);\">created</span> <span style=\"background-color:rgba(135,206,250,0.0);\">,</span> <span style=\"background-color:rgba(135,206,250,0.012499999999999999);\">they</span> <span style=\"background-color:rgba(135,206,250,0.0);\">simply</span> <span style=\"background-color:rgba(135,206,250,0.012499999999999999);\">hung</span> <span style=\"background-color:rgba(135,206,250,0.0);\">up</span> <span style=\"background-color:rgba(135,206,250,0.0);\">on</span> <span style=\"background-color:rgba(135,206,250,0.0);\">me</span> <span style=\"background-color:rgba(135,206,250,0.012499999999999999);\">.</span><br>"
      ],
      "text/plain": [
       "<IPython.core.display.HTML object>"
      ]
     },
     "metadata": {},
     "output_type": "display_data"
    },
    {
     "name": "stdout",
     "output_type": "stream",
     "text": [
      "Sentiment.negative for \"customer service\"\n",
      "Scores (neutral/negative/positive): [0.02  0.835 0.145]\n"
     ]
    },
    {
     "data": {
      "text/html": [
       "<span style=\"background-color:rgba(180,180,180,1.1111111111111112);\">Importance 1.00</span> <span style=\"background-color:rgba(135,206,250,0.012499999999999999);\">just</span> <span style=\"background-color:rgba(135,206,250,0.024999999999999998);\">order</span> <span style=\"background-color:rgba(135,206,250,0.024999999999999998);\">everything</span> <span style=\"background-color:rgba(135,206,250,0.024999999999999998);\">on</span> <span style=\"background-color:rgba(135,206,250,0.049999999999999996);\">amazon</span> <span style=\"background-color:rgba(135,206,250,0.024999999999999998);\">.</span> <span style=\"background-color:rgba(135,206,250,0.024999999999999998);\">de</span> <span style=\"background-color:rgba(135,206,250,0.024999999999999998);\">or</span> <span style=\"background-color:rgba(135,206,250,0.075);\">coolblue</span> <span style=\"background-color:rgba(135,206,250,0.012499999999999999);\">and</span> <span style=\"background-color:rgba(135,206,250,0.012499999999999999);\">you</span> <span style=\"background-color:rgba(135,206,250,0.012499999999999999);\">will</span> <span style=\"background-color:rgba(135,206,250,0.012499999999999999);\">know</span> <span style=\"background-color:rgba(135,206,250,0.024999999999999998);\">that</span> <span style=\"background-color:rgba(135,206,250,0.012499999999999999);\">you</span> <span style=\"background-color:rgba(135,206,250,0.012499999999999999);\">are</span> <span style=\"background-color:rgba(135,206,250,0.024999999999999998);\">always</span> <span style=\"background-color:rgba(135,206,250,0.024999999999999998);\">right</span> <span style=\"background-color:rgba(135,206,250,0.0375);\">and</span> <span style=\"background-color:rgba(135,206,250,0.0375);\">you</span> <span style=\"background-color:rgba(135,206,250,0.08750000000000001);\">won</span> <span style=\"background-color:rgba(135,206,250,0.075);\">’</span> <span style=\"background-color:rgba(135,206,250,0.19999999999999998);\">t</span> <span style=\"background-color:rgba(135,206,250,0.075);\">pay</span> <span style=\"background-color:rgba(135,206,250,0.08750000000000001);\">for</span> <span style=\"background-color:rgba(135,206,250,0.09999999999999999);\">buggy</span> <span style=\"background-color:rgba(135,206,250,0.13749999999999998);\">software</span> <span style=\"background-color:rgba(135,206,250,0.18749999999999997);\">and</span> <span style=\"background-color:rgba(135,206,250,1.25);\">incompetent</span> <span style=\"background-color:rgba(135,206,250,0.1625);\">customer</span> <span style=\"background-color:rgba(135,206,250,0.13749999999999998);\">service</span> <span style=\"background-color:rgba(135,206,250,0.0375);\">.</span> <span style=\"background-color:rgba(135,206,250,0.024999999999999998);\">.</span> <span style=\"background-color:rgba(135,206,250,0.024999999999999998);\">.</span><br> <span style=\"background-color:rgba(180,180,180,0.47777777777777775);\">Importance 0.43</span> <span style=\"background-color:rgba(135,206,250,0.012499999999999999);\">just</span> <span style=\"background-color:rgba(135,206,250,0.012499999999999999);\">order</span> <span style=\"background-color:rgba(135,206,250,0.012499999999999999);\">everything</span> <span style=\"background-color:rgba(135,206,250,0.012499999999999999);\">on</span> <span style=\"background-color:rgba(135,206,250,0.012499999999999999);\">amazon</span> <span style=\"background-color:rgba(135,206,250,0.012499999999999999);\">.</span> <span style=\"background-color:rgba(135,206,250,0.012499999999999999);\">de</span> <span style=\"background-color:rgba(135,206,250,0.012499999999999999);\">or</span> <span style=\"background-color:rgba(135,206,250,0.012499999999999999);\">coolblue</span> <span style=\"background-color:rgba(135,206,250,0.012499999999999999);\">and</span> <span style=\"background-color:rgba(135,206,250,0.012499999999999999);\">you</span> <span style=\"background-color:rgba(135,206,250,0.012499999999999999);\">will</span> <span style=\"background-color:rgba(135,206,250,0.012499999999999999);\">know</span> <span style=\"background-color:rgba(135,206,250,0.012499999999999999);\">that</span> <span style=\"background-color:rgba(135,206,250,0.012499999999999999);\">you</span> <span style=\"background-color:rgba(135,206,250,0.012499999999999999);\">are</span> <span style=\"background-color:rgba(135,206,250,0.0375);\">always</span> <span style=\"background-color:rgba(135,206,250,0.012499999999999999);\">right</span> <span style=\"background-color:rgba(135,206,250,0.049999999999999996);\">and</span> <span style=\"background-color:rgba(135,206,250,0.024999999999999998);\">you</span> <span style=\"background-color:rgba(135,206,250,0.049999999999999996);\">won</span> <span style=\"background-color:rgba(135,206,250,0.024999999999999998);\">’</span> <span style=\"background-color:rgba(135,206,250,0.08750000000000001);\">t</span> <span style=\"background-color:rgba(135,206,250,0.049999999999999996);\">pay</span> <span style=\"background-color:rgba(135,206,250,0.08750000000000001);\">for</span> <span style=\"background-color:rgba(135,206,250,0.08750000000000001);\">buggy</span> <span style=\"background-color:rgba(135,206,250,0.13749999999999998);\">software</span> <span style=\"background-color:rgba(135,206,250,0.5375);\">and</span> <span style=\"background-color:rgba(135,206,250,0.5375);\">incompetent</span> <span style=\"background-color:rgba(135,206,250,0.09999999999999999);\">customer</span> <span style=\"background-color:rgba(135,206,250,0.17500000000000002);\">service</span> <span style=\"background-color:rgba(135,206,250,0.024999999999999998);\">.</span> <span style=\"background-color:rgba(135,206,250,0.012499999999999999);\">.</span> <span style=\"background-color:rgba(135,206,250,0.024999999999999998);\">.</span><br> <span style=\"background-color:rgba(180,180,180,0.2777777777777778);\">Importance 0.25</span> <span style=\"background-color:rgba(135,206,250,0.0625);\">just</span> <span style=\"background-color:rgba(135,206,250,0.0375);\">order</span> <span style=\"background-color:rgba(135,206,250,0.0375);\">everything</span> <span style=\"background-color:rgba(135,206,250,0.024999999999999998);\">on</span> <span style=\"background-color:rgba(135,206,250,0.0375);\">amazon</span> <span style=\"background-color:rgba(135,206,250,0.049999999999999996);\">.</span> <span style=\"background-color:rgba(135,206,250,0.024999999999999998);\">de</span> <span style=\"background-color:rgba(135,206,250,0.049999999999999996);\">or</span> <span style=\"background-color:rgba(135,206,250,0.0625);\">coolblue</span> <span style=\"background-color:rgba(135,206,250,0.08750000000000001);\">and</span> <span style=\"background-color:rgba(135,206,250,0.0375);\">you</span> <span style=\"background-color:rgba(135,206,250,0.0625);\">will</span> <span style=\"background-color:rgba(135,206,250,0.11249999999999999);\">know</span> <span style=\"background-color:rgba(135,206,250,0.17500000000000002);\">that</span> <span style=\"background-color:rgba(135,206,250,0.0625);\">you</span> <span style=\"background-color:rgba(135,206,250,0.15);\">are</span> <span style=\"background-color:rgba(135,206,250,0.2875);\">always</span> <span style=\"background-color:rgba(135,206,250,0.2125);\">right</span> <span style=\"background-color:rgba(135,206,250,0.3125);\">and</span> <span style=\"background-color:rgba(135,206,250,0.26249999999999996);\">you</span> <span style=\"background-color:rgba(135,206,250,0.3125);\">won</span> <span style=\"background-color:rgba(135,206,250,0.08750000000000001);\">’</span> <span style=\"background-color:rgba(135,206,250,0.2375);\">t</span> <span style=\"background-color:rgba(135,206,250,0.125);\">pay</span> <span style=\"background-color:rgba(135,206,250,0.0625);\">for</span> <span style=\"background-color:rgba(135,206,250,0.075);\">buggy</span> <span style=\"background-color:rgba(135,206,250,0.08750000000000001);\">software</span> <span style=\"background-color:rgba(135,206,250,0.075);\">and</span> <span style=\"background-color:rgba(135,206,250,0.2375);\">incompetent</span> <span style=\"background-color:rgba(135,206,250,0.1625);\">customer</span> <span style=\"background-color:rgba(135,206,250,0.11249999999999999);\">service</span> <span style=\"background-color:rgba(135,206,250,0.08750000000000001);\">.</span> <span style=\"background-color:rgba(135,206,250,0.049999999999999996);\">.</span> <span style=\"background-color:rgba(135,206,250,0.0625);\">.</span><br> <span style=\"background-color:rgba(180,180,180,0.25555555555555554);\">Importance 0.23</span> <span style=\"background-color:rgba(135,206,250,0.012499999999999999);\">just</span> <span style=\"background-color:rgba(135,206,250,0.0625);\">order</span> <span style=\"background-color:rgba(135,206,250,0.012499999999999999);\">everything</span> <span style=\"background-color:rgba(135,206,250,0.024999999999999998);\">on</span> <span style=\"background-color:rgba(135,206,250,0.024999999999999998);\">amazon</span> <span style=\"background-color:rgba(135,206,250,0.012499999999999999);\">.</span> <span style=\"background-color:rgba(135,206,250,0.012499999999999999);\">de</span> <span style=\"background-color:rgba(135,206,250,0.024999999999999998);\">or</span> <span style=\"background-color:rgba(135,206,250,0.0375);\">coolblue</span> <span style=\"background-color:rgba(135,206,250,0.012499999999999999);\">and</span> <span style=\"background-color:rgba(135,206,250,0.012499999999999999);\">you</span> <span style=\"background-color:rgba(135,206,250,0.012499999999999999);\">will</span> <span style=\"background-color:rgba(135,206,250,0.012499999999999999);\">know</span> <span style=\"background-color:rgba(135,206,250,0.012499999999999999);\">that</span> <span style=\"background-color:rgba(135,206,250,0.012499999999999999);\">you</span> <span style=\"background-color:rgba(135,206,250,0.012499999999999999);\">are</span> <span style=\"background-color:rgba(135,206,250,0.012499999999999999);\">always</span> <span style=\"background-color:rgba(135,206,250,0.012499999999999999);\">right</span> <span style=\"background-color:rgba(135,206,250,0.024999999999999998);\">and</span> <span style=\"background-color:rgba(135,206,250,0.024999999999999998);\">you</span> <span style=\"background-color:rgba(135,206,250,0.049999999999999996);\">won</span> <span style=\"background-color:rgba(135,206,250,0.024999999999999998);\">’</span> <span style=\"background-color:rgba(135,206,250,0.0625);\">t</span> <span style=\"background-color:rgba(135,206,250,0.049999999999999996);\">pay</span> <span style=\"background-color:rgba(135,206,250,0.0625);\">for</span> <span style=\"background-color:rgba(135,206,250,0.0625);\">buggy</span> <span style=\"background-color:rgba(135,206,250,0.0375);\">software</span> <span style=\"background-color:rgba(135,206,250,0.09999999999999999);\">and</span> <span style=\"background-color:rgba(135,206,250,0.2375);\">incompetent</span> <span style=\"background-color:rgba(135,206,250,0.2875);\">customer</span> <span style=\"background-color:rgba(135,206,250,0.2875);\">service</span> <span style=\"background-color:rgba(135,206,250,0.08750000000000001);\">.</span> <span style=\"background-color:rgba(135,206,250,0.0375);\">.</span> <span style=\"background-color:rgba(135,206,250,0.049999999999999996);\">.</span><br> <span style=\"background-color:rgba(180,180,180,0.14444444444444446);\">Importance 0.13</span> <span style=\"background-color:rgba(135,206,250,0.012499999999999999);\">just</span> <span style=\"background-color:rgba(135,206,250,0.012499999999999999);\">order</span> <span style=\"background-color:rgba(135,206,250,0.012499999999999999);\">everything</span> <span style=\"background-color:rgba(135,206,250,0.012499999999999999);\">on</span> <span style=\"background-color:rgba(135,206,250,0.012499999999999999);\">amazon</span> <span style=\"background-color:rgba(135,206,250,0.012499999999999999);\">.</span> <span style=\"background-color:rgba(135,206,250,0.012499999999999999);\">de</span> <span style=\"background-color:rgba(135,206,250,0.012499999999999999);\">or</span> <span style=\"background-color:rgba(135,206,250,0.024999999999999998);\">coolblue</span> <span style=\"background-color:rgba(135,206,250,0.012499999999999999);\">and</span> <span style=\"background-color:rgba(135,206,250,0.012499999999999999);\">you</span> <span style=\"background-color:rgba(135,206,250,0.024999999999999998);\">will</span> <span style=\"background-color:rgba(135,206,250,0.075);\">know</span> <span style=\"background-color:rgba(135,206,250,0.0375);\">that</span> <span style=\"background-color:rgba(135,206,250,0.049999999999999996);\">you</span> <span style=\"background-color:rgba(135,206,250,0.08750000000000001);\">are</span> <span style=\"background-color:rgba(135,206,250,0.1625);\">always</span> <span style=\"background-color:rgba(135,206,250,0.1625);\">right</span> <span style=\"background-color:rgba(135,206,250,0.049999999999999996);\">and</span> <span style=\"background-color:rgba(135,206,250,0.024999999999999998);\">you</span> <span style=\"background-color:rgba(135,206,250,0.0375);\">won</span> <span style=\"background-color:rgba(135,206,250,0.012499999999999999);\">’</span> <span style=\"background-color:rgba(135,206,250,0.012499999999999999);\">t</span> <span style=\"background-color:rgba(135,206,250,0.012499999999999999);\">pay</span> <span style=\"background-color:rgba(135,206,250,0.012499999999999999);\">for</span> <span style=\"background-color:rgba(135,206,250,0.012499999999999999);\">buggy</span> <span style=\"background-color:rgba(135,206,250,0.024999999999999998);\">software</span> <span style=\"background-color:rgba(135,206,250,0.012499999999999999);\">and</span> <span style=\"background-color:rgba(135,206,250,0.024999999999999998);\">incompetent</span> <span style=\"background-color:rgba(135,206,250,0.012499999999999999);\">customer</span> <span style=\"background-color:rgba(135,206,250,0.012499999999999999);\">service</span> <span style=\"background-color:rgba(135,206,250,0.012499999999999999);\">.</span> <span style=\"background-color:rgba(135,206,250,0.0);\">.</span> <span style=\"background-color:rgba(135,206,250,0.012499999999999999);\">.</span><br>"
      ],
      "text/plain": [
       "<IPython.core.display.HTML object>"
      ]
     },
     "metadata": {},
     "output_type": "display_data"
    },
    {
     "name": "stdout",
     "output_type": "stream",
     "text": [
      "Sentiment.negative for \"customer service\"\n",
      "Scores (neutral/negative/positive): [0.268 0.685 0.047]\n"
     ]
    },
    {
     "data": {
      "text/html": [
       "<span style=\"background-color:rgba(180,180,180,1.1111111111111112);\">Importance 1.00</span> <span style=\"background-color:rgba(135,206,250,0.09999999999999999);\">they</span> <span style=\"background-color:rgba(135,206,250,0.0375);\">always</span> <span style=\"background-color:rgba(135,206,250,0.1625);\">blame</span> <span style=\"background-color:rgba(135,206,250,0.0375);\">other</span> <span style=\"background-color:rgba(135,206,250,0.08750000000000001);\">parties</span> <span style=\"background-color:rgba(135,206,250,0.049999999999999996);\">and</span> <span style=\"background-color:rgba(135,206,250,0.08750000000000001);\">tell</span> <span style=\"background-color:rgba(135,206,250,0.024999999999999998);\">you</span> <span style=\"background-color:rgba(135,206,250,0.0375);\">to</span> <span style=\"background-color:rgba(135,206,250,0.024999999999999998);\">just</span> <span style=\"background-color:rgba(135,206,250,0.024999999999999998);\">wait</span> <span style=\"background-color:rgba(135,206,250,0.012499999999999999);\">a</span> <span style=\"background-color:rgba(135,206,250,0.012499999999999999);\">few</span> <span style=\"background-color:rgba(135,206,250,0.012499999999999999);\">more</span> <span style=\"background-color:rgba(135,206,250,0.024999999999999998);\">days</span> <span style=\"background-color:rgba(135,206,250,0.012499999999999999);\">and</span> <span style=\"background-color:rgba(135,206,250,0.075);\">hang</span> <span style=\"background-color:rgba(135,206,250,0.024999999999999998);\">up</span> <span style=\"background-color:rgba(135,206,250,0.049999999999999996);\">on</span> <span style=\"background-color:rgba(135,206,250,0.024999999999999998);\">you</span> <span style=\"background-color:rgba(135,206,250,0.049999999999999996);\">,</span> <span style=\"background-color:rgba(135,206,250,0.08750000000000001);\">they</span> <span style=\"background-color:rgba(135,206,250,0.0375);\">don</span> <span style=\"background-color:rgba(135,206,250,0.012499999999999999);\">&#x27;</span> <span style=\"background-color:rgba(135,206,250,0.0375);\">t</span> <span style=\"background-color:rgba(135,206,250,0.0625);\">take</span> <span style=\"background-color:rgba(135,206,250,0.0375);\">any</span> <span style=\"background-color:rgba(135,206,250,0.13749999999999998);\">responsibility</span> <span style=\"background-color:rgba(135,206,250,0.049999999999999996);\">,</span> <span style=\"background-color:rgba(135,206,250,0.0625);\">they</span> <span style=\"background-color:rgba(135,206,250,0.075);\">however</span> <span style=\"background-color:rgba(135,206,250,0.0625);\">definitely</span> <span style=\"background-color:rgba(135,206,250,0.049999999999999996);\">do</span> <span style=\"background-color:rgba(135,206,250,0.0625);\">take</span> <span style=\"background-color:rgba(135,206,250,0.0625);\">their</span> <span style=\"background-color:rgba(135,206,250,0.0625);\">premium</span> <span style=\"background-color:rgba(135,206,250,0.0375);\">for</span> <span style=\"background-color:rgba(135,206,250,0.075);\">the</span> <span style=\"background-color:rgba(135,206,250,0.18749999999999997);\">products</span> <span style=\"background-color:rgba(135,206,250,0.049999999999999996);\">,</span> <span style=\"background-color:rgba(135,206,250,0.075);\">so</span> <span style=\"background-color:rgba(135,206,250,0.0625);\">you</span> <span style=\"background-color:rgba(135,206,250,0.024999999999999998);\">&#x27;</span> <span style=\"background-color:rgba(135,206,250,0.049999999999999996);\">d</span> <span style=\"background-color:rgba(135,206,250,0.125);\">think</span> <span style=\"background-color:rgba(135,206,250,0.1625);\">they</span> <span style=\"background-color:rgba(135,206,250,0.1625);\">could</span> <span style=\"background-color:rgba(135,206,250,0.4875);\">give</span> <span style=\"background-color:rgba(135,206,250,0.5874999999999999);\">back</span> <span style=\"background-color:rgba(135,206,250,0.049999999999999996);\">at</span> <span style=\"background-color:rgba(135,206,250,0.36249999999999993);\">least</span> <span style=\"background-color:rgba(135,206,250,0.08750000000000001);\">a</span> <span style=\"background-color:rgba(135,206,250,0.125);\">little</span> <span style=\"background-color:rgba(135,206,250,0.3375);\">bit</span> <span style=\"background-color:rgba(135,206,250,0.8624999999999999);\">on</span> <span style=\"background-color:rgba(135,206,250,1.25);\">customer</span> <span style=\"background-color:rgba(135,206,250,1.25);\">service</span> <span style=\"background-color:rgba(135,206,250,0.38749999999999996);\">.</span> <span style=\"background-color:rgba(135,206,250,0.09999999999999999);\">.</span> <span style=\"background-color:rgba(135,206,250,0.13749999999999998);\">.</span><br> <span style=\"background-color:rgba(180,180,180,0.6777777777777777);\">Importance 0.61</span> <span style=\"background-color:rgba(135,206,250,0.09999999999999999);\">they</span> <span style=\"background-color:rgba(135,206,250,0.08750000000000001);\">always</span> <span style=\"background-color:rgba(135,206,250,0.0625);\">blame</span> <span style=\"background-color:rgba(135,206,250,0.012499999999999999);\">other</span> <span style=\"background-color:rgba(135,206,250,0.024999999999999998);\">parties</span> <span style=\"background-color:rgba(135,206,250,0.0375);\">and</span> <span style=\"background-color:rgba(135,206,250,0.049999999999999996);\">tell</span> <span style=\"background-color:rgba(135,206,250,0.012499999999999999);\">you</span> <span style=\"background-color:rgba(135,206,250,0.012499999999999999);\">to</span> <span style=\"background-color:rgba(135,206,250,0.012499999999999999);\">just</span> <span style=\"background-color:rgba(135,206,250,0.012499999999999999);\">wait</span> <span style=\"background-color:rgba(135,206,250,0.012499999999999999);\">a</span> <span style=\"background-color:rgba(135,206,250,0.012499999999999999);\">few</span> <span style=\"background-color:rgba(135,206,250,0.012499999999999999);\">more</span> <span style=\"background-color:rgba(135,206,250,0.012499999999999999);\">days</span> <span style=\"background-color:rgba(135,206,250,0.024999999999999998);\">and</span> <span style=\"background-color:rgba(135,206,250,0.012499999999999999);\">hang</span> <span style=\"background-color:rgba(135,206,250,0.012499999999999999);\">up</span> <span style=\"background-color:rgba(135,206,250,0.012499999999999999);\">on</span> <span style=\"background-color:rgba(135,206,250,0.012499999999999999);\">you</span> <span style=\"background-color:rgba(135,206,250,0.075);\">,</span> <span style=\"background-color:rgba(135,206,250,0.0375);\">they</span> <span style=\"background-color:rgba(135,206,250,0.012499999999999999);\">don</span> <span style=\"background-color:rgba(135,206,250,0.012499999999999999);\">&#x27;</span> <span style=\"background-color:rgba(135,206,250,0.024999999999999998);\">t</span> <span style=\"background-color:rgba(135,206,250,0.012499999999999999);\">take</span> <span style=\"background-color:rgba(135,206,250,0.012499999999999999);\">any</span> <span style=\"background-color:rgba(135,206,250,0.012499999999999999);\">responsibility</span> <span style=\"background-color:rgba(135,206,250,0.0625);\">,</span> <span style=\"background-color:rgba(135,206,250,0.049999999999999996);\">they</span> <span style=\"background-color:rgba(135,206,250,0.075);\">however</span> <span style=\"background-color:rgba(135,206,250,0.075);\">definitely</span> <span style=\"background-color:rgba(135,206,250,0.024999999999999998);\">do</span> <span style=\"background-color:rgba(135,206,250,0.012499999999999999);\">take</span> <span style=\"background-color:rgba(135,206,250,0.012499999999999999);\">their</span> <span style=\"background-color:rgba(135,206,250,0.024999999999999998);\">premium</span> <span style=\"background-color:rgba(135,206,250,0.012499999999999999);\">for</span> <span style=\"background-color:rgba(135,206,250,0.012499999999999999);\">the</span> <span style=\"background-color:rgba(135,206,250,0.0375);\">products</span> <span style=\"background-color:rgba(135,206,250,0.0625);\">,</span> <span style=\"background-color:rgba(135,206,250,0.0625);\">so</span> <span style=\"background-color:rgba(135,206,250,0.0375);\">you</span> <span style=\"background-color:rgba(135,206,250,0.024999999999999998);\">&#x27;</span> <span style=\"background-color:rgba(135,206,250,0.0375);\">d</span> <span style=\"background-color:rgba(135,206,250,0.075);\">think</span> <span style=\"background-color:rgba(135,206,250,0.049999999999999996);\">they</span> <span style=\"background-color:rgba(135,206,250,0.075);\">could</span> <span style=\"background-color:rgba(135,206,250,0.075);\">give</span> <span style=\"background-color:rgba(135,206,250,0.075);\">back</span> <span style=\"background-color:rgba(135,206,250,0.012499999999999999);\">at</span> <span style=\"background-color:rgba(135,206,250,0.075);\">least</span> <span style=\"background-color:rgba(135,206,250,0.0375);\">a</span> <span style=\"background-color:rgba(135,206,250,0.0625);\">little</span> <span style=\"background-color:rgba(135,206,250,0.09999999999999999);\">bit</span> <span style=\"background-color:rgba(135,206,250,0.22499999999999998);\">on</span> <span style=\"background-color:rgba(135,206,250,0.11249999999999999);\">customer</span> <span style=\"background-color:rgba(135,206,250,0.27499999999999997);\">service</span> <span style=\"background-color:rgba(135,206,250,0.3);\">.</span> <span style=\"background-color:rgba(135,206,250,0.7625);\">.</span> <span style=\"background-color:rgba(135,206,250,0.7625);\">.</span><br> <span style=\"background-color:rgba(180,180,180,0.6222222222222222);\">Importance 0.56</span> <span style=\"background-color:rgba(135,206,250,0.024999999999999998);\">they</span> <span style=\"background-color:rgba(135,206,250,0.012499999999999999);\">always</span> <span style=\"background-color:rgba(135,206,250,0.0625);\">blame</span> <span style=\"background-color:rgba(135,206,250,0.012499999999999999);\">other</span> <span style=\"background-color:rgba(135,206,250,0.024999999999999998);\">parties</span> <span style=\"background-color:rgba(135,206,250,0.012499999999999999);\">and</span> <span style=\"background-color:rgba(135,206,250,0.024999999999999998);\">tell</span> <span style=\"background-color:rgba(135,206,250,0.012499999999999999);\">you</span> <span style=\"background-color:rgba(135,206,250,0.012499999999999999);\">to</span> <span style=\"background-color:rgba(135,206,250,0.012499999999999999);\">just</span> <span style=\"background-color:rgba(135,206,250,0.012499999999999999);\">wait</span> <span style=\"background-color:rgba(135,206,250,0.012499999999999999);\">a</span> <span style=\"background-color:rgba(135,206,250,0.012499999999999999);\">few</span> <span style=\"background-color:rgba(135,206,250,0.012499999999999999);\">more</span> <span style=\"background-color:rgba(135,206,250,0.012499999999999999);\">days</span> <span style=\"background-color:rgba(135,206,250,0.012499999999999999);\">and</span> <span style=\"background-color:rgba(135,206,250,0.024999999999999998);\">hang</span> <span style=\"background-color:rgba(135,206,250,0.012499999999999999);\">up</span> <span style=\"background-color:rgba(135,206,250,0.0625);\">on</span> <span style=\"background-color:rgba(135,206,250,0.012499999999999999);\">you</span> <span style=\"background-color:rgba(135,206,250,0.012499999999999999);\">,</span> <span style=\"background-color:rgba(135,206,250,0.024999999999999998);\">they</span> <span style=\"background-color:rgba(135,206,250,0.012499999999999999);\">don</span> <span style=\"background-color:rgba(135,206,250,0.012499999999999999);\">&#x27;</span> <span style=\"background-color:rgba(135,206,250,0.024999999999999998);\">t</span> <span style=\"background-color:rgba(135,206,250,0.0375);\">take</span> <span style=\"background-color:rgba(135,206,250,0.024999999999999998);\">any</span> <span style=\"background-color:rgba(135,206,250,0.09999999999999999);\">responsibility</span> <span style=\"background-color:rgba(135,206,250,0.024999999999999998);\">,</span> <span style=\"background-color:rgba(135,206,250,0.024999999999999998);\">they</span> <span style=\"background-color:rgba(135,206,250,0.0375);\">however</span> <span style=\"background-color:rgba(135,206,250,0.0375);\">definitely</span> <span style=\"background-color:rgba(135,206,250,0.024999999999999998);\">do</span> <span style=\"background-color:rgba(135,206,250,0.0375);\">take</span> <span style=\"background-color:rgba(135,206,250,0.0375);\">their</span> <span style=\"background-color:rgba(135,206,250,0.0625);\">premium</span> <span style=\"background-color:rgba(135,206,250,0.0375);\">for</span> <span style=\"background-color:rgba(135,206,250,0.024999999999999998);\">the</span> <span style=\"background-color:rgba(135,206,250,0.049999999999999996);\">products</span> <span style=\"background-color:rgba(135,206,250,0.024999999999999998);\">,</span> <span style=\"background-color:rgba(135,206,250,0.049999999999999996);\">so</span> <span style=\"background-color:rgba(135,206,250,0.024999999999999998);\">you</span> <span style=\"background-color:rgba(135,206,250,0.012499999999999999);\">&#x27;</span> <span style=\"background-color:rgba(135,206,250,0.024999999999999998);\">d</span> <span style=\"background-color:rgba(135,206,250,0.09999999999999999);\">think</span> <span style=\"background-color:rgba(135,206,250,0.09999999999999999);\">they</span> <span style=\"background-color:rgba(135,206,250,0.15);\">could</span> <span style=\"background-color:rgba(135,206,250,0.5);\">give</span> <span style=\"background-color:rgba(135,206,250,0.37499999999999994);\">back</span> <span style=\"background-color:rgba(135,206,250,0.0375);\">at</span> <span style=\"background-color:rgba(135,206,250,0.35000000000000003);\">least</span> <span style=\"background-color:rgba(135,206,250,0.075);\">a</span> <span style=\"background-color:rgba(135,206,250,0.13749999999999998);\">little</span> <span style=\"background-color:rgba(135,206,250,0.7000000000000001);\">bit</span> <span style=\"background-color:rgba(135,206,250,0.7000000000000001);\">on</span> <span style=\"background-color:rgba(135,206,250,0.37499999999999994);\">customer</span> <span style=\"background-color:rgba(135,206,250,0.6375);\">service</span> <span style=\"background-color:rgba(135,206,250,0.125);\">.</span> <span style=\"background-color:rgba(135,206,250,0.049999999999999996);\">.</span> <span style=\"background-color:rgba(135,206,250,0.08750000000000001);\">.</span><br> <span style=\"background-color:rgba(180,180,180,0.6);\">Importance 0.54</span> <span style=\"background-color:rgba(135,206,250,0.0375);\">they</span> <span style=\"background-color:rgba(135,206,250,0.024999999999999998);\">always</span> <span style=\"background-color:rgba(135,206,250,0.049999999999999996);\">blame</span> <span style=\"background-color:rgba(135,206,250,0.012499999999999999);\">other</span> <span style=\"background-color:rgba(135,206,250,0.0375);\">parties</span> <span style=\"background-color:rgba(135,206,250,0.012499999999999999);\">and</span> <span style=\"background-color:rgba(135,206,250,0.024999999999999998);\">tell</span> <span style=\"background-color:rgba(135,206,250,0.012499999999999999);\">you</span> <span style=\"background-color:rgba(135,206,250,0.012499999999999999);\">to</span> <span style=\"background-color:rgba(135,206,250,0.012499999999999999);\">just</span> <span style=\"background-color:rgba(135,206,250,0.024999999999999998);\">wait</span> <span style=\"background-color:rgba(135,206,250,0.012499999999999999);\">a</span> <span style=\"background-color:rgba(135,206,250,0.012499999999999999);\">few</span> <span style=\"background-color:rgba(135,206,250,0.012499999999999999);\">more</span> <span style=\"background-color:rgba(135,206,250,0.024999999999999998);\">days</span> <span style=\"background-color:rgba(135,206,250,0.012499999999999999);\">and</span> <span style=\"background-color:rgba(135,206,250,0.0375);\">hang</span> <span style=\"background-color:rgba(135,206,250,0.012499999999999999);\">up</span> <span style=\"background-color:rgba(135,206,250,0.012499999999999999);\">on</span> <span style=\"background-color:rgba(135,206,250,0.012499999999999999);\">you</span> <span style=\"background-color:rgba(135,206,250,0.024999999999999998);\">,</span> <span style=\"background-color:rgba(135,206,250,0.049999999999999996);\">they</span> <span style=\"background-color:rgba(135,206,250,0.024999999999999998);\">don</span> <span style=\"background-color:rgba(135,206,250,0.012499999999999999);\">&#x27;</span> <span style=\"background-color:rgba(135,206,250,0.012499999999999999);\">t</span> <span style=\"background-color:rgba(135,206,250,0.024999999999999998);\">take</span> <span style=\"background-color:rgba(135,206,250,0.012499999999999999);\">any</span> <span style=\"background-color:rgba(135,206,250,0.0375);\">responsibility</span> <span style=\"background-color:rgba(135,206,250,0.0375);\">,</span> <span style=\"background-color:rgba(135,206,250,0.024999999999999998);\">they</span> <span style=\"background-color:rgba(135,206,250,0.0375);\">however</span> <span style=\"background-color:rgba(135,206,250,0.0375);\">definitely</span> <span style=\"background-color:rgba(135,206,250,0.012499999999999999);\">do</span> <span style=\"background-color:rgba(135,206,250,0.012499999999999999);\">take</span> <span style=\"background-color:rgba(135,206,250,0.024999999999999998);\">their</span> <span style=\"background-color:rgba(135,206,250,0.0375);\">premium</span> <span style=\"background-color:rgba(135,206,250,0.024999999999999998);\">for</span> <span style=\"background-color:rgba(135,206,250,0.0625);\">the</span> <span style=\"background-color:rgba(135,206,250,0.08750000000000001);\">products</span> <span style=\"background-color:rgba(135,206,250,0.0375);\">,</span> <span style=\"background-color:rgba(135,206,250,0.024999999999999998);\">so</span> <span style=\"background-color:rgba(135,206,250,0.0375);\">you</span> <span style=\"background-color:rgba(135,206,250,0.024999999999999998);\">&#x27;</span> <span style=\"background-color:rgba(135,206,250,0.024999999999999998);\">d</span> <span style=\"background-color:rgba(135,206,250,0.049999999999999996);\">think</span> <span style=\"background-color:rgba(135,206,250,0.075);\">they</span> <span style=\"background-color:rgba(135,206,250,0.0625);\">could</span> <span style=\"background-color:rgba(135,206,250,0.1625);\">give</span> <span style=\"background-color:rgba(135,206,250,0.26249999999999996);\">back</span> <span style=\"background-color:rgba(135,206,250,0.024999999999999998);\">at</span> <span style=\"background-color:rgba(135,206,250,0.13749999999999998);\">least</span> <span style=\"background-color:rgba(135,206,250,0.0375);\">a</span> <span style=\"background-color:rgba(135,206,250,0.049999999999999996);\">little</span> <span style=\"background-color:rgba(135,206,250,0.125);\">bit</span> <span style=\"background-color:rgba(135,206,250,0.38749999999999996);\">on</span> <span style=\"background-color:rgba(135,206,250,0.675);\">customer</span> <span style=\"background-color:rgba(135,206,250,0.675);\">service</span> <span style=\"background-color:rgba(135,206,250,0.11249999999999999);\">.</span> <span style=\"background-color:rgba(135,206,250,0.0375);\">.</span> <span style=\"background-color:rgba(135,206,250,0.049999999999999996);\">.</span><br> <span style=\"background-color:rgba(180,180,180,0.5111111111111111);\">Importance 0.46</span> <span style=\"background-color:rgba(135,206,250,0.0375);\">they</span> <span style=\"background-color:rgba(135,206,250,0.0625);\">always</span> <span style=\"background-color:rgba(135,206,250,0.0625);\">blame</span> <span style=\"background-color:rgba(135,206,250,0.024999999999999998);\">other</span> <span style=\"background-color:rgba(135,206,250,0.024999999999999998);\">parties</span> <span style=\"background-color:rgba(135,206,250,0.024999999999999998);\">and</span> <span style=\"background-color:rgba(135,206,250,0.0375);\">tell</span> <span style=\"background-color:rgba(135,206,250,0.012499999999999999);\">you</span> <span style=\"background-color:rgba(135,206,250,0.024999999999999998);\">to</span> <span style=\"background-color:rgba(135,206,250,0.024999999999999998);\">just</span> <span style=\"background-color:rgba(135,206,250,0.024999999999999998);\">wait</span> <span style=\"background-color:rgba(135,206,250,0.049999999999999996);\">a</span> <span style=\"background-color:rgba(135,206,250,0.0375);\">few</span> <span style=\"background-color:rgba(135,206,250,0.0375);\">more</span> <span style=\"background-color:rgba(135,206,250,0.024999999999999998);\">days</span> <span style=\"background-color:rgba(135,206,250,0.012499999999999999);\">and</span> <span style=\"background-color:rgba(135,206,250,0.024999999999999998);\">hang</span> <span style=\"background-color:rgba(135,206,250,0.012499999999999999);\">up</span> <span style=\"background-color:rgba(135,206,250,0.012499999999999999);\">on</span> <span style=\"background-color:rgba(135,206,250,0.012499999999999999);\">you</span> <span style=\"background-color:rgba(135,206,250,0.049999999999999996);\">,</span> <span style=\"background-color:rgba(135,206,250,0.0375);\">they</span> <span style=\"background-color:rgba(135,206,250,0.049999999999999996);\">don</span> <span style=\"background-color:rgba(135,206,250,0.0375);\">&#x27;</span> <span style=\"background-color:rgba(135,206,250,0.075);\">t</span> <span style=\"background-color:rgba(135,206,250,0.0375);\">take</span> <span style=\"background-color:rgba(135,206,250,0.049999999999999996);\">any</span> <span style=\"background-color:rgba(135,206,250,0.075);\">responsibility</span> <span style=\"background-color:rgba(135,206,250,0.049999999999999996);\">,</span> <span style=\"background-color:rgba(135,206,250,0.024999999999999998);\">they</span> <span style=\"background-color:rgba(135,206,250,0.11249999999999999);\">however</span> <span style=\"background-color:rgba(135,206,250,0.09999999999999999);\">definitely</span> <span style=\"background-color:rgba(135,206,250,0.049999999999999996);\">do</span> <span style=\"background-color:rgba(135,206,250,0.049999999999999996);\">take</span> <span style=\"background-color:rgba(135,206,250,0.0375);\">their</span> <span style=\"background-color:rgba(135,206,250,0.0625);\">premium</span> <span style=\"background-color:rgba(135,206,250,0.0375);\">for</span> <span style=\"background-color:rgba(135,206,250,0.024999999999999998);\">the</span> <span style=\"background-color:rgba(135,206,250,0.049999999999999996);\">products</span> <span style=\"background-color:rgba(135,206,250,0.049999999999999996);\">,</span> <span style=\"background-color:rgba(135,206,250,0.09999999999999999);\">so</span> <span style=\"background-color:rgba(135,206,250,0.049999999999999996);\">you</span> <span style=\"background-color:rgba(135,206,250,0.024999999999999998);\">&#x27;</span> <span style=\"background-color:rgba(135,206,250,0.0625);\">d</span> <span style=\"background-color:rgba(135,206,250,0.43749999999999994);\">think</span> <span style=\"background-color:rgba(135,206,250,0.13749999999999998);\">they</span> <span style=\"background-color:rgba(135,206,250,0.5125);\">could</span> <span style=\"background-color:rgba(135,206,250,0.425);\">give</span> <span style=\"background-color:rgba(135,206,250,0.475);\">back</span> <span style=\"background-color:rgba(135,206,250,0.575);\">at</span> <span style=\"background-color:rgba(135,206,250,0.575);\">least</span> <span style=\"background-color:rgba(135,206,250,0.36249999999999993);\">a</span> <span style=\"background-color:rgba(135,206,250,0.3);\">little</span> <span style=\"background-color:rgba(135,206,250,0.575);\">bit</span> <span style=\"background-color:rgba(135,206,250,0.5);\">on</span> <span style=\"background-color:rgba(135,206,250,0.46249999999999997);\">customer</span> <span style=\"background-color:rgba(135,206,250,0.39999999999999997);\">service</span> <span style=\"background-color:rgba(135,206,250,0.08750000000000001);\">.</span> <span style=\"background-color:rgba(135,206,250,0.049999999999999996);\">.</span> <span style=\"background-color:rgba(135,206,250,0.08750000000000001);\">.</span><br>"
      ],
      "text/plain": [
       "<IPython.core.display.HTML object>"
      ]
     },
     "metadata": {},
     "output_type": "display_data"
    },
    {
     "name": "stdout",
     "output_type": "stream",
     "text": [
      "Sentiment.negative for \"customer service\"\n",
      "Scores (neutral/negative/positive): [0.001 0.989 0.01 ]\n"
     ]
    },
    {
     "data": {
      "text/html": [
       "<span style=\"background-color:rgba(180,180,180,1.1111111111111112);\">Importance 1.00</span> <span style=\"background-color:rgba(135,206,250,0.0375);\">the</span> <span style=\"background-color:rgba(135,206,250,0.049999999999999996);\">actual</span> <span style=\"background-color:rgba(135,206,250,0.049999999999999996);\">website</span> <span style=\"background-color:rgba(135,206,250,0.08750000000000001);\">works</span> <span style=\"background-color:rgba(135,206,250,0.11249999999999999);\">well</span> <span style=\"background-color:rgba(135,206,250,0.0625);\">,</span> <span style=\"background-color:rgba(135,206,250,0.425);\">but</span> <span style=\"background-color:rgba(135,206,250,0.08750000000000001);\">bol</span> <span style=\"background-color:rgba(135,206,250,0.0375);\">.</span> <span style=\"background-color:rgba(135,206,250,0.09999999999999999);\">com</span> <span style=\"background-color:rgba(135,206,250,0.4125);\">have</span> <span style=\"background-color:rgba(135,206,250,0.6124999999999999);\">a</span> <span style=\"background-color:rgba(135,206,250,1.25);\">bad</span> <span style=\"background-color:rgba(135,206,250,0.5499999999999999);\">customer</span> <span style=\"background-color:rgba(135,206,250,0.9249999999999999);\">service</span> <span style=\"background-color:rgba(135,206,250,0.19999999999999998);\">.</span><br> <span style=\"background-color:rgba(180,180,180,0.3111111111111111);\">Importance 0.28</span> <span style=\"background-color:rgba(135,206,250,0.049999999999999996);\">the</span> <span style=\"background-color:rgba(135,206,250,0.0625);\">actual</span> <span style=\"background-color:rgba(135,206,250,0.049999999999999996);\">website</span> <span style=\"background-color:rgba(135,206,250,0.125);\">works</span> <span style=\"background-color:rgba(135,206,250,0.17500000000000002);\">well</span> <span style=\"background-color:rgba(135,206,250,0.11249999999999999);\">,</span> <span style=\"background-color:rgba(135,206,250,0.35000000000000003);\">but</span> <span style=\"background-color:rgba(135,206,250,0.075);\">bol</span> <span style=\"background-color:rgba(135,206,250,0.049999999999999996);\">.</span> <span style=\"background-color:rgba(135,206,250,0.0625);\">com</span> <span style=\"background-color:rgba(135,206,250,0.17500000000000002);\">have</span> <span style=\"background-color:rgba(135,206,250,0.15);\">a</span> <span style=\"background-color:rgba(135,206,250,0.3375);\">bad</span> <span style=\"background-color:rgba(135,206,250,0.0625);\">customer</span> <span style=\"background-color:rgba(135,206,250,0.13749999999999998);\">service</span> <span style=\"background-color:rgba(135,206,250,0.075);\">.</span><br> <span style=\"background-color:rgba(180,180,180,0.24444444444444444);\">Importance 0.22</span> <span style=\"background-color:rgba(135,206,250,0.012499999999999999);\">the</span> <span style=\"background-color:rgba(135,206,250,0.012499999999999999);\">actual</span> <span style=\"background-color:rgba(135,206,250,0.012499999999999999);\">website</span> <span style=\"background-color:rgba(135,206,250,0.012499999999999999);\">works</span> <span style=\"background-color:rgba(135,206,250,0.012499999999999999);\">well</span> <span style=\"background-color:rgba(135,206,250,0.012499999999999999);\">,</span> <span style=\"background-color:rgba(135,206,250,0.08750000000000001);\">but</span> <span style=\"background-color:rgba(135,206,250,0.012499999999999999);\">bol</span> <span style=\"background-color:rgba(135,206,250,0.012499999999999999);\">.</span> <span style=\"background-color:rgba(135,206,250,0.0375);\">com</span> <span style=\"background-color:rgba(135,206,250,0.08750000000000001);\">have</span> <span style=\"background-color:rgba(135,206,250,0.27499999999999997);\">a</span> <span style=\"background-color:rgba(135,206,250,0.27499999999999997);\">bad</span> <span style=\"background-color:rgba(135,206,250,0.0625);\">customer</span> <span style=\"background-color:rgba(135,206,250,0.15);\">service</span> <span style=\"background-color:rgba(135,206,250,0.024999999999999998);\">.</span><br> <span style=\"background-color:rgba(180,180,180,0.17777777777777778);\">Importance 0.16</span> <span style=\"background-color:rgba(135,206,250,0.012499999999999999);\">the</span> <span style=\"background-color:rgba(135,206,250,0.012499999999999999);\">actual</span> <span style=\"background-color:rgba(135,206,250,0.024999999999999998);\">website</span> <span style=\"background-color:rgba(135,206,250,0.024999999999999998);\">works</span> <span style=\"background-color:rgba(135,206,250,0.012499999999999999);\">well</span> <span style=\"background-color:rgba(135,206,250,0.012499999999999999);\">,</span> <span style=\"background-color:rgba(135,206,250,0.11249999999999999);\">but</span> <span style=\"background-color:rgba(135,206,250,0.0375);\">bol</span> <span style=\"background-color:rgba(135,206,250,0.049999999999999996);\">.</span> <span style=\"background-color:rgba(135,206,250,0.1625);\">com</span> <span style=\"background-color:rgba(135,206,250,0.19999999999999998);\">have</span> <span style=\"background-color:rgba(135,206,250,0.075);\">a</span> <span style=\"background-color:rgba(135,206,250,0.19999999999999998);\">bad</span> <span style=\"background-color:rgba(135,206,250,0.0625);\">customer</span> <span style=\"background-color:rgba(135,206,250,0.09999999999999999);\">service</span> <span style=\"background-color:rgba(135,206,250,0.0375);\">.</span><br> <span style=\"background-color:rgba(180,180,180,0.17777777777777778);\">Importance 0.16</span> <span style=\"background-color:rgba(135,206,250,0.012499999999999999);\">the</span> <span style=\"background-color:rgba(135,206,250,0.012499999999999999);\">actual</span> <span style=\"background-color:rgba(135,206,250,0.024999999999999998);\">website</span> <span style=\"background-color:rgba(135,206,250,0.012499999999999999);\">works</span> <span style=\"background-color:rgba(135,206,250,0.012499999999999999);\">well</span> <span style=\"background-color:rgba(135,206,250,0.012499999999999999);\">,</span> <span style=\"background-color:rgba(135,206,250,0.049999999999999996);\">but</span> <span style=\"background-color:rgba(135,206,250,0.012499999999999999);\">bol</span> <span style=\"background-color:rgba(135,206,250,0.012499999999999999);\">.</span> <span style=\"background-color:rgba(135,206,250,0.024999999999999998);\">com</span> <span style=\"background-color:rgba(135,206,250,0.049999999999999996);\">have</span> <span style=\"background-color:rgba(135,206,250,0.049999999999999996);\">a</span> <span style=\"background-color:rgba(135,206,250,0.19999999999999998);\">bad</span> <span style=\"background-color:rgba(135,206,250,0.15);\">customer</span> <span style=\"background-color:rgba(135,206,250,0.19999999999999998);\">service</span> <span style=\"background-color:rgba(135,206,250,0.0625);\">.</span><br>"
      ],
      "text/plain": [
       "<IPython.core.display.HTML object>"
      ]
     },
     "metadata": {},
     "output_type": "display_data"
    },
    {
     "name": "stdout",
     "output_type": "stream",
     "text": [
      "Sentiment.negative for \"customer service\"\n",
      "Scores (neutral/negative/positive): [0.025 0.969 0.007]\n"
     ]
    },
    {
     "data": {
      "text/html": [
       "<span style=\"background-color:rgba(180,180,180,1.1111111111111112);\">Importance 1.00</span> <span style=\"background-color:rgba(135,206,250,0.37499999999999994);\">the</span> <span style=\"background-color:rgba(135,206,250,0.5249999999999999);\">customer</span> <span style=\"background-color:rgba(135,206,250,0.6);\">service</span> <span style=\"background-color:rgba(135,206,250,1.0875);\">contact</span> <span style=\"background-color:rgba(135,206,250,1.25);\">is</span> <span style=\"background-color:rgba(135,206,250,0.95);\">non</span> <span style=\"background-color:rgba(135,206,250,1.25);\">existent</span> <span style=\"background-color:rgba(135,206,250,0.37499999999999994);\">.</span><br> <span style=\"background-color:rgba(180,180,180,0.9777777777777777);\">Importance 0.88</span> <span style=\"background-color:rgba(135,206,250,0.3375);\">the</span> <span style=\"background-color:rgba(135,206,250,0.35000000000000003);\">customer</span> <span style=\"background-color:rgba(135,206,250,0.675);\">service</span> <span style=\"background-color:rgba(135,206,250,0.5249999999999999);\">contact</span> <span style=\"background-color:rgba(135,206,250,0.44999999999999996);\">is</span> <span style=\"background-color:rgba(135,206,250,1.0999999999999999);\">non</span> <span style=\"background-color:rgba(135,206,250,1.0999999999999999);\">existent</span> <span style=\"background-color:rgba(135,206,250,0.7000000000000001);\">.</span><br> <span style=\"background-color:rgba(180,180,180,0.5444444444444444);\">Importance 0.49</span> <span style=\"background-color:rgba(135,206,250,0.6124999999999999);\">the</span> <span style=\"background-color:rgba(135,206,250,0.3);\">customer</span> <span style=\"background-color:rgba(135,206,250,0.39999999999999997);\">service</span> <span style=\"background-color:rgba(135,206,250,0.6124999999999999);\">contact</span> <span style=\"background-color:rgba(135,206,250,0.46249999999999997);\">is</span> <span style=\"background-color:rgba(135,206,250,0.3125);\">non</span> <span style=\"background-color:rgba(135,206,250,0.475);\">existent</span> <span style=\"background-color:rgba(135,206,250,0.17500000000000002);\">.</span><br> <span style=\"background-color:rgba(180,180,180,0.39999999999999997);\">Importance 0.36</span> <span style=\"background-color:rgba(135,206,250,0.18749999999999997);\">the</span> <span style=\"background-color:rgba(135,206,250,0.075);\">customer</span> <span style=\"background-color:rgba(135,206,250,0.075);\">service</span> <span style=\"background-color:rgba(135,206,250,0.13749999999999998);\">contact</span> <span style=\"background-color:rgba(135,206,250,0.18749999999999997);\">is</span> <span style=\"background-color:rgba(135,206,250,0.09999999999999999);\">non</span> <span style=\"background-color:rgba(135,206,250,0.22499999999999998);\">existent</span> <span style=\"background-color:rgba(135,206,250,0.44999999999999996);\">.</span><br> <span style=\"background-color:rgba(180,180,180,0.26666666666666666);\">Importance 0.24</span> <span style=\"background-color:rgba(135,206,250,0.1625);\">the</span> <span style=\"background-color:rgba(135,206,250,0.2875);\">customer</span> <span style=\"background-color:rgba(135,206,250,0.2375);\">service</span> <span style=\"background-color:rgba(135,206,250,0.3);\">contact</span> <span style=\"background-color:rgba(135,206,250,0.2875);\">is</span> <span style=\"background-color:rgba(135,206,250,0.125);\">non</span> <span style=\"background-color:rgba(135,206,250,0.3);\">existent</span> <span style=\"background-color:rgba(135,206,250,0.125);\">.</span><br>"
      ],
      "text/plain": [
       "<IPython.core.display.HTML object>"
      ]
     },
     "metadata": {},
     "output_type": "display_data"
    },
    {
     "name": "stdout",
     "output_type": "stream",
     "text": [
      "Sentiment.negative for \"customer service\"\n",
      "Scores (neutral/negative/positive): [0.025 0.967 0.008]\n"
     ]
    },
    {
     "data": {
      "text/html": [
       "<span style=\"background-color:rgba(180,180,180,1.1111111111111112);\">Importance 1.00</span> <span style=\"background-color:rgba(135,206,250,0.675);\">now</span> <span style=\"background-color:rgba(135,206,250,0.2875);\">i</span> <span style=\"background-color:rgba(135,206,250,1.25);\">cannot</span> <span style=\"background-color:rgba(135,206,250,0.26249999999999996);\">return</span> <span style=\"background-color:rgba(135,206,250,0.2125);\">the</span> <span style=\"background-color:rgba(135,206,250,0.38749999999999996);\">book</span> <span style=\"background-color:rgba(135,206,250,1.25);\">since</span> <span style=\"background-color:rgba(135,206,250,1.075);\">even</span> <span style=\"background-color:rgba(135,206,250,1.1375);\">though</span> <span style=\"background-color:rgba(135,206,250,0.19999999999999998);\">it</span> <span style=\"background-color:rgba(135,206,250,0.3);\">says</span> <span style=\"background-color:rgba(135,206,250,0.22499999999999998);\">in</span> <span style=\"background-color:rgba(135,206,250,0.13749999999999998);\">the</span> <span style=\"background-color:rgba(135,206,250,0.1625);\">app</span> <span style=\"background-color:rgba(135,206,250,0.3);\">contact</span> <span style=\"background-color:rgba(135,206,250,0.17500000000000002);\">customer</span> <span style=\"background-color:rgba(135,206,250,0.22499999999999998);\">service</span> <span style=\"background-color:rgba(135,206,250,0.11249999999999999);\">for</span> <span style=\"background-color:rgba(135,206,250,0.049999999999999996);\">a</span> <span style=\"background-color:rgba(135,206,250,0.075);\">return</span> <span style=\"background-color:rgba(135,206,250,0.125);\">when</span> <span style=\"background-color:rgba(135,206,250,0.08750000000000001);\">you</span> <span style=\"background-color:rgba(135,206,250,0.075);\">do</span> <span style=\"background-color:rgba(135,206,250,0.8375);\">they</span> <span style=\"background-color:rgba(135,206,250,0.18749999999999997);\">just</span> <span style=\"background-color:rgba(135,206,250,0.08750000000000001);\">tell</span> <span style=\"background-color:rgba(135,206,250,0.049999999999999996);\">you</span> <span style=\"background-color:rgba(135,206,250,0.049999999999999996);\">we</span> <span style=\"background-color:rgba(135,206,250,0.049999999999999996);\">don</span> <span style=\"background-color:rgba(135,206,250,0.024999999999999998);\">&#x27;</span> <span style=\"background-color:rgba(135,206,250,0.0625);\">t</span> <span style=\"background-color:rgba(135,206,250,0.075);\">that</span> <span style=\"background-color:rgba(135,206,250,0.3);\">.</span><br> <span style=\"background-color:rgba(180,180,180,0.6666666666666666);\">Importance 0.60</span> <span style=\"background-color:rgba(135,206,250,0.049999999999999996);\">now</span> <span style=\"background-color:rgba(135,206,250,0.024999999999999998);\">i</span> <span style=\"background-color:rgba(135,206,250,0.049999999999999996);\">cannot</span> <span style=\"background-color:rgba(135,206,250,0.13749999999999998);\">return</span> <span style=\"background-color:rgba(135,206,250,0.0375);\">the</span> <span style=\"background-color:rgba(135,206,250,0.075);\">book</span> <span style=\"background-color:rgba(135,206,250,0.22499999999999998);\">since</span> <span style=\"background-color:rgba(135,206,250,0.0375);\">even</span> <span style=\"background-color:rgba(135,206,250,0.08750000000000001);\">though</span> <span style=\"background-color:rgba(135,206,250,0.075);\">it</span> <span style=\"background-color:rgba(135,206,250,0.3125);\">says</span> <span style=\"background-color:rgba(135,206,250,0.27499999999999997);\">in</span> <span style=\"background-color:rgba(135,206,250,0.17500000000000002);\">the</span> <span style=\"background-color:rgba(135,206,250,0.5125);\">app</span> <span style=\"background-color:rgba(135,206,250,0.7499999999999999);\">contact</span> <span style=\"background-color:rgba(135,206,250,0.4875);\">customer</span> <span style=\"background-color:rgba(135,206,250,0.6);\">service</span> <span style=\"background-color:rgba(135,206,250,0.27499999999999997);\">for</span> <span style=\"background-color:rgba(135,206,250,0.08750000000000001);\">a</span> <span style=\"background-color:rgba(135,206,250,0.13749999999999998);\">return</span> <span style=\"background-color:rgba(135,206,250,0.11249999999999999);\">when</span> <span style=\"background-color:rgba(135,206,250,0.08750000000000001);\">you</span> <span style=\"background-color:rgba(135,206,250,0.0625);\">do</span> <span style=\"background-color:rgba(135,206,250,0.3125);\">they</span> <span style=\"background-color:rgba(135,206,250,0.0625);\">just</span> <span style=\"background-color:rgba(135,206,250,0.049999999999999996);\">tell</span> <span style=\"background-color:rgba(135,206,250,0.049999999999999996);\">you</span> <span style=\"background-color:rgba(135,206,250,0.049999999999999996);\">we</span> <span style=\"background-color:rgba(135,206,250,0.024999999999999998);\">don</span> <span style=\"background-color:rgba(135,206,250,0.012499999999999999);\">&#x27;</span> <span style=\"background-color:rgba(135,206,250,0.024999999999999998);\">t</span> <span style=\"background-color:rgba(135,206,250,0.125);\">that</span> <span style=\"background-color:rgba(135,206,250,0.09999999999999999);\">.</span><br> <span style=\"background-color:rgba(180,180,180,0.5555555555555556);\">Importance 0.50</span> <span style=\"background-color:rgba(135,206,250,0.012499999999999999);\">now</span> <span style=\"background-color:rgba(135,206,250,0.012499999999999999);\">i</span> <span style=\"background-color:rgba(135,206,250,0.0625);\">cannot</span> <span style=\"background-color:rgba(135,206,250,0.024999999999999998);\">return</span> <span style=\"background-color:rgba(135,206,250,0.012499999999999999);\">the</span> <span style=\"background-color:rgba(135,206,250,0.024999999999999998);\">book</span> <span style=\"background-color:rgba(135,206,250,0.024999999999999998);\">since</span> <span style=\"background-color:rgba(135,206,250,0.012499999999999999);\">even</span> <span style=\"background-color:rgba(135,206,250,0.024999999999999998);\">though</span> <span style=\"background-color:rgba(135,206,250,0.012499999999999999);\">it</span> <span style=\"background-color:rgba(135,206,250,0.0625);\">says</span> <span style=\"background-color:rgba(135,206,250,0.024999999999999998);\">in</span> <span style=\"background-color:rgba(135,206,250,0.012499999999999999);\">the</span> <span style=\"background-color:rgba(135,206,250,0.024999999999999998);\">app</span> <span style=\"background-color:rgba(135,206,250,0.09999999999999999);\">contact</span> <span style=\"background-color:rgba(135,206,250,0.024999999999999998);\">customer</span> <span style=\"background-color:rgba(135,206,250,0.0375);\">service</span> <span style=\"background-color:rgba(135,206,250,0.024999999999999998);\">for</span> <span style=\"background-color:rgba(135,206,250,0.012499999999999999);\">a</span> <span style=\"background-color:rgba(135,206,250,0.0375);\">return</span> <span style=\"background-color:rgba(135,206,250,0.0625);\">when</span> <span style=\"background-color:rgba(135,206,250,0.049999999999999996);\">you</span> <span style=\"background-color:rgba(135,206,250,0.11249999999999999);\">do</span> <span style=\"background-color:rgba(135,206,250,0.625);\">they</span> <span style=\"background-color:rgba(135,206,250,0.38749999999999996);\">just</span> <span style=\"background-color:rgba(135,206,250,0.625);\">tell</span> <span style=\"background-color:rgba(135,206,250,0.26249999999999996);\">you</span> <span style=\"background-color:rgba(135,206,250,0.3375);\">we</span> <span style=\"background-color:rgba(135,206,250,0.11249999999999999);\">don</span> <span style=\"background-color:rgba(135,206,250,0.0375);\">&#x27;</span> <span style=\"background-color:rgba(135,206,250,0.17500000000000002);\">t</span> <span style=\"background-color:rgba(135,206,250,0.125);\">that</span> <span style=\"background-color:rgba(135,206,250,0.0625);\">.</span><br> <span style=\"background-color:rgba(180,180,180,0.5111111111111111);\">Importance 0.46</span> <span style=\"background-color:rgba(135,206,250,0.27499999999999997);\">now</span> <span style=\"background-color:rgba(135,206,250,0.2875);\">i</span> <span style=\"background-color:rgba(135,206,250,0.575);\">cannot</span> <span style=\"background-color:rgba(135,206,250,0.575);\">return</span> <span style=\"background-color:rgba(135,206,250,0.15);\">the</span> <span style=\"background-color:rgba(135,206,250,0.13749999999999998);\">book</span> <span style=\"background-color:rgba(135,206,250,0.3125);\">since</span> <span style=\"background-color:rgba(135,206,250,0.049999999999999996);\">even</span> <span style=\"background-color:rgba(135,206,250,0.0625);\">though</span> <span style=\"background-color:rgba(135,206,250,0.024999999999999998);\">it</span> <span style=\"background-color:rgba(135,206,250,0.08750000000000001);\">says</span> <span style=\"background-color:rgba(135,206,250,0.0375);\">in</span> <span style=\"background-color:rgba(135,206,250,0.024999999999999998);\">the</span> <span style=\"background-color:rgba(135,206,250,0.0375);\">app</span> <span style=\"background-color:rgba(135,206,250,0.0625);\">contact</span> <span style=\"background-color:rgba(135,206,250,0.0375);\">customer</span> <span style=\"background-color:rgba(135,206,250,0.0375);\">service</span> <span style=\"background-color:rgba(135,206,250,0.024999999999999998);\">for</span> <span style=\"background-color:rgba(135,206,250,0.012499999999999999);\">a</span> <span style=\"background-color:rgba(135,206,250,0.024999999999999998);\">return</span> <span style=\"background-color:rgba(135,206,250,0.024999999999999998);\">when</span> <span style=\"background-color:rgba(135,206,250,0.012499999999999999);\">you</span> <span style=\"background-color:rgba(135,206,250,0.024999999999999998);\">do</span> <span style=\"background-color:rgba(135,206,250,0.024999999999999998);\">they</span> <span style=\"background-color:rgba(135,206,250,0.0375);\">just</span> <span style=\"background-color:rgba(135,206,250,0.0375);\">tell</span> <span style=\"background-color:rgba(135,206,250,0.024999999999999998);\">you</span> <span style=\"background-color:rgba(135,206,250,0.024999999999999998);\">we</span> <span style=\"background-color:rgba(135,206,250,0.024999999999999998);\">don</span> <span style=\"background-color:rgba(135,206,250,0.012499999999999999);\">&#x27;</span> <span style=\"background-color:rgba(135,206,250,0.024999999999999998);\">t</span> <span style=\"background-color:rgba(135,206,250,0.0375);\">that</span> <span style=\"background-color:rgba(135,206,250,0.0625);\">.</span><br> <span style=\"background-color:rgba(180,180,180,0.3666666666666667);\">Importance 0.33</span> <span style=\"background-color:rgba(135,206,250,0.4125);\">now</span> <span style=\"background-color:rgba(135,206,250,0.15);\">i</span> <span style=\"background-color:rgba(135,206,250,0.4125);\">cannot</span> <span style=\"background-color:rgba(135,206,250,0.125);\">return</span> <span style=\"background-color:rgba(135,206,250,0.0625);\">the</span> <span style=\"background-color:rgba(135,206,250,0.0625);\">book</span> <span style=\"background-color:rgba(135,206,250,0.15);\">since</span> <span style=\"background-color:rgba(135,206,250,0.0375);\">even</span> <span style=\"background-color:rgba(135,206,250,0.0375);\">though</span> <span style=\"background-color:rgba(135,206,250,0.024999999999999998);\">it</span> <span style=\"background-color:rgba(135,206,250,0.0375);\">says</span> <span style=\"background-color:rgba(135,206,250,0.012499999999999999);\">in</span> <span style=\"background-color:rgba(135,206,250,0.012499999999999999);\">the</span> <span style=\"background-color:rgba(135,206,250,0.024999999999999998);\">app</span> <span style=\"background-color:rgba(135,206,250,0.049999999999999996);\">contact</span> <span style=\"background-color:rgba(135,206,250,0.024999999999999998);\">customer</span> <span style=\"background-color:rgba(135,206,250,0.024999999999999998);\">service</span> <span style=\"background-color:rgba(135,206,250,0.012499999999999999);\">for</span> <span style=\"background-color:rgba(135,206,250,0.012499999999999999);\">a</span> <span style=\"background-color:rgba(135,206,250,0.012499999999999999);\">return</span> <span style=\"background-color:rgba(135,206,250,0.012499999999999999);\">when</span> <span style=\"background-color:rgba(135,206,250,0.012499999999999999);\">you</span> <span style=\"background-color:rgba(135,206,250,0.012499999999999999);\">do</span> <span style=\"background-color:rgba(135,206,250,0.024999999999999998);\">they</span> <span style=\"background-color:rgba(135,206,250,0.024999999999999998);\">just</span> <span style=\"background-color:rgba(135,206,250,0.024999999999999998);\">tell</span> <span style=\"background-color:rgba(135,206,250,0.012499999999999999);\">you</span> <span style=\"background-color:rgba(135,206,250,0.012499999999999999);\">we</span> <span style=\"background-color:rgba(135,206,250,0.012499999999999999);\">don</span> <span style=\"background-color:rgba(135,206,250,0.0);\">&#x27;</span> <span style=\"background-color:rgba(135,206,250,0.012499999999999999);\">t</span> <span style=\"background-color:rgba(135,206,250,0.012499999999999999);\">that</span> <span style=\"background-color:rgba(135,206,250,0.049999999999999996);\">.</span><br>"
      ],
      "text/plain": [
       "<IPython.core.display.HTML object>"
      ]
     },
     "metadata": {},
     "output_type": "display_data"
    },
    {
     "name": "stdout",
     "output_type": "stream",
     "text": [
      "Sentiment.negative for \"customer service\"\n",
      "Scores (neutral/negative/positive): [0.01  0.976 0.015]\n"
     ]
    },
    {
     "data": {
      "text/html": [
       "<span style=\"background-color:rgba(180,180,180,1.1111111111111112);\">Importance 1.00</span> <span style=\"background-color:rgba(135,206,250,0.625);\">c</span> <span style=\"background-color:rgba(135,206,250,0.27499999999999997);\">)</span> <span style=\"background-color:rgba(135,206,250,1.25);\">has</span> <span style=\"background-color:rgba(135,206,250,1.25);\">a</span> <span style=\"background-color:rgba(135,206,250,0.7124999999999999);\">customer</span> <span style=\"background-color:rgba(135,206,250,1.0875);\">service</span> <span style=\"background-color:rgba(135,206,250,0.8125);\">who</span> <span style=\"background-color:rgba(135,206,250,0.17500000000000002);\">gives</span> <span style=\"background-color:rgba(135,206,250,0.17500000000000002);\">you</span> <span style=\"background-color:rgba(135,206,250,0.17500000000000002);\">very</span> <span style=\"background-color:rgba(135,206,250,0.4125);\">generic</span> <span style=\"background-color:rgba(135,206,250,0.19999999999999998);\">answers</span> <span style=\"background-color:rgba(135,206,250,0.3125);\">without</span> <span style=\"background-color:rgba(135,206,250,0.2125);\">any</span> <span style=\"background-color:rgba(135,206,250,0.125);\">solutions</span> <span style=\"background-color:rgba(135,206,250,0.049999999999999996);\">or</span> <span style=\"background-color:rgba(135,206,250,0.024999999999999998);\">proposals</span> <span style=\"background-color:rgba(135,206,250,0.012499999999999999);\">on</span> <span style=\"background-color:rgba(135,206,250,0.024999999999999998);\">the</span> <span style=\"background-color:rgba(135,206,250,0.024999999999999998);\">issue</span> <span style=\"background-color:rgba(135,206,250,0.049999999999999996);\">or</span> <span style=\"background-color:rgba(135,206,250,0.024999999999999998);\">closing</span> <span style=\"background-color:rgba(135,206,250,0.049999999999999996);\">chat</span> <span style=\"background-color:rgba(135,206,250,0.049999999999999996);\">instead</span> <span style=\"background-color:rgba(135,206,250,0.024999999999999998);\">of</span> <span style=\"background-color:rgba(135,206,250,0.024999999999999998);\">answering</span> <span style=\"background-color:rgba(135,206,250,0.0375);\">your</span> <span style=\"background-color:rgba(135,206,250,0.024999999999999998);\">questions</span> <span style=\"background-color:rgba(135,206,250,0.0375);\">.</span> <span style=\"background-color:rgba(135,206,250,0.0375);\">.</span> <span style=\"background-color:rgba(135,206,250,0.0375);\">my</span> <span style=\"background-color:rgba(135,206,250,0.024999999999999998);\">money</span> <span style=\"background-color:rgba(135,206,250,0.0375);\">are</span> <span style=\"background-color:rgba(135,206,250,0.012499999999999999);\">still</span> <span style=\"background-color:rgba(135,206,250,0.012499999999999999);\">on</span> <span style=\"background-color:rgba(135,206,250,0.0625);\">hold</span> <span style=\"background-color:rgba(135,206,250,0.024999999999999998);\">,</span> <span style=\"background-color:rgba(135,206,250,0.012499999999999999);\">and</span> <span style=\"background-color:rgba(135,206,250,0.049999999999999996);\">not</span> <span style=\"background-color:rgba(135,206,250,0.0375);\">you</span> <span style=\"background-color:rgba(135,206,250,0.024999999999999998);\">only</span> <span style=\"background-color:rgba(135,206,250,0.024999999999999998);\">didn</span> <span style=\"background-color:rgba(135,206,250,0.0);\">&#x27;</span> <span style=\"background-color:rgba(135,206,250,0.012499999999999999);\">t</span> <span style=\"background-color:rgba(135,206,250,0.012499999999999999);\">fulfill</span> <span style=\"background-color:rgba(135,206,250,0.012499999999999999);\">the</span> <span style=\"background-color:rgba(135,206,250,0.024999999999999998);\">order</span> <span style=\"background-color:rgba(135,206,250,0.012499999999999999);\">but</span> <span style=\"background-color:rgba(135,206,250,0.024999999999999998);\">you</span> <span style=\"background-color:rgba(135,206,250,0.012499999999999999);\">don</span> <span style=\"background-color:rgba(135,206,250,0.0);\">&#x27;</span> <span style=\"background-color:rgba(135,206,250,0.012499999999999999);\">t</span> <span style=\"background-color:rgba(135,206,250,0.012499999999999999);\">allow</span> <span style=\"background-color:rgba(135,206,250,0.012499999999999999);\">me</span> <span style=\"background-color:rgba(135,206,250,0.012499999999999999);\">to</span> <span style=\"background-color:rgba(135,206,250,0.012499999999999999);\">place</span> <span style=\"background-color:rgba(135,206,250,0.012499999999999999);\">it</span> <span style=\"background-color:rgba(135,206,250,0.012499999999999999);\">somewhere</span> <span style=\"background-color:rgba(135,206,250,0.012499999999999999);\">else</span> <span style=\"background-color:rgba(135,206,250,0.012499999999999999);\">by</span> <span style=\"background-color:rgba(135,206,250,0.012499999999999999);\">holding</span> <span style=\"background-color:rgba(135,206,250,0.012499999999999999);\">my</span> <span style=\"background-color:rgba(135,206,250,0.012499999999999999);\">money</span> <span style=\"background-color:rgba(135,206,250,0.012499999999999999);\">!</span> <span style=\"background-color:rgba(135,206,250,0.012499999999999999);\">!</span> <span style=\"background-color:rgba(135,206,250,0.012499999999999999);\">!</span> <span style=\"background-color:rgba(135,206,250,0.08750000000000001);\">.</span><br> <span style=\"background-color:rgba(180,180,180,1.0444444444444443);\">Importance 0.94</span> <span style=\"background-color:rgba(135,206,250,0.2125);\">c</span> <span style=\"background-color:rgba(135,206,250,0.22499999999999998);\">)</span> <span style=\"background-color:rgba(135,206,250,0.575);\">has</span> <span style=\"background-color:rgba(135,206,250,0.5249999999999999);\">a</span> <span style=\"background-color:rgba(135,206,250,0.43749999999999994);\">customer</span> <span style=\"background-color:rgba(135,206,250,1.1749999999999998);\">service</span> <span style=\"background-color:rgba(135,206,250,1.1749999999999998);\">who</span> <span style=\"background-color:rgba(135,206,250,0.675);\">gives</span> <span style=\"background-color:rgba(135,206,250,0.3);\">you</span> <span style=\"background-color:rgba(135,206,250,0.18749999999999997);\">very</span> <span style=\"background-color:rgba(135,206,250,0.8749999999999999);\">generic</span> <span style=\"background-color:rgba(135,206,250,0.3125);\">answers</span> <span style=\"background-color:rgba(135,206,250,0.675);\">without</span> <span style=\"background-color:rgba(135,206,250,0.15);\">any</span> <span style=\"background-color:rgba(135,206,250,0.17500000000000002);\">solutions</span> <span style=\"background-color:rgba(135,206,250,0.08750000000000001);\">or</span> <span style=\"background-color:rgba(135,206,250,0.049999999999999996);\">proposals</span> <span style=\"background-color:rgba(135,206,250,0.024999999999999998);\">on</span> <span style=\"background-color:rgba(135,206,250,0.0375);\">the</span> <span style=\"background-color:rgba(135,206,250,0.0625);\">issue</span> <span style=\"background-color:rgba(135,206,250,0.049999999999999996);\">or</span> <span style=\"background-color:rgba(135,206,250,0.0375);\">closing</span> <span style=\"background-color:rgba(135,206,250,0.0625);\">chat</span> <span style=\"background-color:rgba(135,206,250,0.125);\">instead</span> <span style=\"background-color:rgba(135,206,250,0.024999999999999998);\">of</span> <span style=\"background-color:rgba(135,206,250,0.0375);\">answering</span> <span style=\"background-color:rgba(135,206,250,0.0625);\">your</span> <span style=\"background-color:rgba(135,206,250,0.0625);\">questions</span> <span style=\"background-color:rgba(135,206,250,0.0375);\">.</span> <span style=\"background-color:rgba(135,206,250,0.075);\">.</span> <span style=\"background-color:rgba(135,206,250,0.0375);\">my</span> <span style=\"background-color:rgba(135,206,250,0.0375);\">money</span> <span style=\"background-color:rgba(135,206,250,0.0375);\">are</span> <span style=\"background-color:rgba(135,206,250,0.024999999999999998);\">still</span> <span style=\"background-color:rgba(135,206,250,0.012499999999999999);\">on</span> <span style=\"background-color:rgba(135,206,250,0.024999999999999998);\">hold</span> <span style=\"background-color:rgba(135,206,250,0.049999999999999996);\">,</span> <span style=\"background-color:rgba(135,206,250,0.024999999999999998);\">and</span> <span style=\"background-color:rgba(135,206,250,0.0625);\">not</span> <span style=\"background-color:rgba(135,206,250,0.0375);\">you</span> <span style=\"background-color:rgba(135,206,250,0.024999999999999998);\">only</span> <span style=\"background-color:rgba(135,206,250,0.024999999999999998);\">didn</span> <span style=\"background-color:rgba(135,206,250,0.012499999999999999);\">&#x27;</span> <span style=\"background-color:rgba(135,206,250,0.012499999999999999);\">t</span> <span style=\"background-color:rgba(135,206,250,0.024999999999999998);\">fulfill</span> <span style=\"background-color:rgba(135,206,250,0.012499999999999999);\">the</span> <span style=\"background-color:rgba(135,206,250,0.0375);\">order</span> <span style=\"background-color:rgba(135,206,250,0.024999999999999998);\">but</span> <span style=\"background-color:rgba(135,206,250,0.0375);\">you</span> <span style=\"background-color:rgba(135,206,250,0.024999999999999998);\">don</span> <span style=\"background-color:rgba(135,206,250,0.012499999999999999);\">&#x27;</span> <span style=\"background-color:rgba(135,206,250,0.012499999999999999);\">t</span> <span style=\"background-color:rgba(135,206,250,0.024999999999999998);\">allow</span> <span style=\"background-color:rgba(135,206,250,0.024999999999999998);\">me</span> <span style=\"background-color:rgba(135,206,250,0.012499999999999999);\">to</span> <span style=\"background-color:rgba(135,206,250,0.012499999999999999);\">place</span> <span style=\"background-color:rgba(135,206,250,0.012499999999999999);\">it</span> <span style=\"background-color:rgba(135,206,250,0.012499999999999999);\">somewhere</span> <span style=\"background-color:rgba(135,206,250,0.012499999999999999);\">else</span> <span style=\"background-color:rgba(135,206,250,0.024999999999999998);\">by</span> <span style=\"background-color:rgba(135,206,250,0.012499999999999999);\">holding</span> <span style=\"background-color:rgba(135,206,250,0.024999999999999998);\">my</span> <span style=\"background-color:rgba(135,206,250,0.024999999999999998);\">money</span> <span style=\"background-color:rgba(135,206,250,0.024999999999999998);\">!</span> <span style=\"background-color:rgba(135,206,250,0.012499999999999999);\">!</span> <span style=\"background-color:rgba(135,206,250,0.012499999999999999);\">!</span> <span style=\"background-color:rgba(135,206,250,0.049999999999999996);\">.</span><br> <span style=\"background-color:rgba(180,180,180,0.8666666666666667);\">Importance 0.78</span> <span style=\"background-color:rgba(135,206,250,0.975);\">c</span> <span style=\"background-color:rgba(135,206,250,0.975);\">)</span> <span style=\"background-color:rgba(135,206,250,0.6124999999999999);\">has</span> <span style=\"background-color:rgba(135,206,250,0.125);\">a</span> <span style=\"background-color:rgba(135,206,250,0.125);\">customer</span> <span style=\"background-color:rgba(135,206,250,0.15);\">service</span> <span style=\"background-color:rgba(135,206,250,0.18749999999999997);\">who</span> <span style=\"background-color:rgba(135,206,250,0.049999999999999996);\">gives</span> <span style=\"background-color:rgba(135,206,250,0.0625);\">you</span> <span style=\"background-color:rgba(135,206,250,0.075);\">very</span> <span style=\"background-color:rgba(135,206,250,0.075);\">generic</span> <span style=\"background-color:rgba(135,206,250,0.049999999999999996);\">answers</span> <span style=\"background-color:rgba(135,206,250,0.049999999999999996);\">without</span> <span style=\"background-color:rgba(135,206,250,0.0375);\">any</span> <span style=\"background-color:rgba(135,206,250,0.024999999999999998);\">solutions</span> <span style=\"background-color:rgba(135,206,250,0.024999999999999998);\">or</span> <span style=\"background-color:rgba(135,206,250,0.012499999999999999);\">proposals</span> <span style=\"background-color:rgba(135,206,250,0.012499999999999999);\">on</span> <span style=\"background-color:rgba(135,206,250,0.012499999999999999);\">the</span> <span style=\"background-color:rgba(135,206,250,0.012499999999999999);\">issue</span> <span style=\"background-color:rgba(135,206,250,0.012499999999999999);\">or</span> <span style=\"background-color:rgba(135,206,250,0.012499999999999999);\">closing</span> <span style=\"background-color:rgba(135,206,250,0.012499999999999999);\">chat</span> <span style=\"background-color:rgba(135,206,250,0.012499999999999999);\">instead</span> <span style=\"background-color:rgba(135,206,250,0.012499999999999999);\">of</span> <span style=\"background-color:rgba(135,206,250,0.012499999999999999);\">answering</span> <span style=\"background-color:rgba(135,206,250,0.012499999999999999);\">your</span> <span style=\"background-color:rgba(135,206,250,0.012499999999999999);\">questions</span> <span style=\"background-color:rgba(135,206,250,0.075);\">.</span> <span style=\"background-color:rgba(135,206,250,0.075);\">.</span> <span style=\"background-color:rgba(135,206,250,0.012499999999999999);\">my</span> <span style=\"background-color:rgba(135,206,250,0.012499999999999999);\">money</span> <span style=\"background-color:rgba(135,206,250,0.024999999999999998);\">are</span> <span style=\"background-color:rgba(135,206,250,0.012499999999999999);\">still</span> <span style=\"background-color:rgba(135,206,250,0.012499999999999999);\">on</span> <span style=\"background-color:rgba(135,206,250,0.012499999999999999);\">hold</span> <span style=\"background-color:rgba(135,206,250,0.024999999999999998);\">,</span> <span style=\"background-color:rgba(135,206,250,0.012499999999999999);\">and</span> <span style=\"background-color:rgba(135,206,250,0.012499999999999999);\">not</span> <span style=\"background-color:rgba(135,206,250,0.024999999999999998);\">you</span> <span style=\"background-color:rgba(135,206,250,0.012499999999999999);\">only</span> <span style=\"background-color:rgba(135,206,250,0.012499999999999999);\">didn</span> <span style=\"background-color:rgba(135,206,250,0.0);\">&#x27;</span> <span style=\"background-color:rgba(135,206,250,0.012499999999999999);\">t</span> <span style=\"background-color:rgba(135,206,250,0.0);\">fulfill</span> <span style=\"background-color:rgba(135,206,250,0.0);\">the</span> <span style=\"background-color:rgba(135,206,250,0.012499999999999999);\">order</span> <span style=\"background-color:rgba(135,206,250,0.024999999999999998);\">but</span> <span style=\"background-color:rgba(135,206,250,0.012499999999999999);\">you</span> <span style=\"background-color:rgba(135,206,250,0.0);\">don</span> <span style=\"background-color:rgba(135,206,250,0.012499999999999999);\">&#x27;</span> <span style=\"background-color:rgba(135,206,250,0.0);\">t</span> <span style=\"background-color:rgba(135,206,250,0.0);\">allow</span> <span style=\"background-color:rgba(135,206,250,0.012499999999999999);\">me</span> <span style=\"background-color:rgba(135,206,250,0.012499999999999999);\">to</span> <span style=\"background-color:rgba(135,206,250,0.0);\">place</span> <span style=\"background-color:rgba(135,206,250,0.012499999999999999);\">it</span> <span style=\"background-color:rgba(135,206,250,0.012499999999999999);\">somewhere</span> <span style=\"background-color:rgba(135,206,250,0.0);\">else</span> <span style=\"background-color:rgba(135,206,250,0.012499999999999999);\">by</span> <span style=\"background-color:rgba(135,206,250,0.0);\">holding</span> <span style=\"background-color:rgba(135,206,250,0.012499999999999999);\">my</span> <span style=\"background-color:rgba(135,206,250,0.012499999999999999);\">money</span> <span style=\"background-color:rgba(135,206,250,0.024999999999999998);\">!</span> <span style=\"background-color:rgba(135,206,250,0.012499999999999999);\">!</span> <span style=\"background-color:rgba(135,206,250,0.024999999999999998);\">!</span> <span style=\"background-color:rgba(135,206,250,0.08750000000000001);\">.</span><br> <span style=\"background-color:rgba(180,180,180,0.7555555555555555);\">Importance 0.68</span> <span style=\"background-color:rgba(135,206,250,0.075);\">c</span> <span style=\"background-color:rgba(135,206,250,0.075);\">)</span> <span style=\"background-color:rgba(135,206,250,0.15);\">has</span> <span style=\"background-color:rgba(135,206,250,0.125);\">a</span> <span style=\"background-color:rgba(135,206,250,0.22499999999999998);\">customer</span> <span style=\"background-color:rgba(135,206,250,0.19999999999999998);\">service</span> <span style=\"background-color:rgba(135,206,250,0.26249999999999996);\">who</span> <span style=\"background-color:rgba(135,206,250,0.2375);\">gives</span> <span style=\"background-color:rgba(135,206,250,0.18749999999999997);\">you</span> <span style=\"background-color:rgba(135,206,250,0.85);\">very</span> <span style=\"background-color:rgba(135,206,250,0.85);\">generic</span> <span style=\"background-color:rgba(135,206,250,0.675);\">answers</span> <span style=\"background-color:rgba(135,206,250,0.325);\">without</span> <span style=\"background-color:rgba(135,206,250,0.17500000000000002);\">any</span> <span style=\"background-color:rgba(135,206,250,0.37499999999999994);\">solutions</span> <span style=\"background-color:rgba(135,206,250,0.11249999999999999);\">or</span> <span style=\"background-color:rgba(135,206,250,0.13749999999999998);\">proposals</span> <span style=\"background-color:rgba(135,206,250,0.08750000000000001);\">on</span> <span style=\"background-color:rgba(135,206,250,0.0625);\">the</span> <span style=\"background-color:rgba(135,206,250,0.09999999999999999);\">issue</span> <span style=\"background-color:rgba(135,206,250,0.075);\">or</span> <span style=\"background-color:rgba(135,206,250,0.075);\">closing</span> <span style=\"background-color:rgba(135,206,250,0.09999999999999999);\">chat</span> <span style=\"background-color:rgba(135,206,250,0.11249999999999999);\">instead</span> <span style=\"background-color:rgba(135,206,250,0.049999999999999996);\">of</span> <span style=\"background-color:rgba(135,206,250,0.0625);\">answering</span> <span style=\"background-color:rgba(135,206,250,0.0375);\">your</span> <span style=\"background-color:rgba(135,206,250,0.08750000000000001);\">questions</span> <span style=\"background-color:rgba(135,206,250,0.09999999999999999);\">.</span> <span style=\"background-color:rgba(135,206,250,0.0625);\">.</span> <span style=\"background-color:rgba(135,206,250,0.024999999999999998);\">my</span> <span style=\"background-color:rgba(135,206,250,0.049999999999999996);\">money</span> <span style=\"background-color:rgba(135,206,250,0.024999999999999998);\">are</span> <span style=\"background-color:rgba(135,206,250,0.024999999999999998);\">still</span> <span style=\"background-color:rgba(135,206,250,0.024999999999999998);\">on</span> <span style=\"background-color:rgba(135,206,250,0.0375);\">hold</span> <span style=\"background-color:rgba(135,206,250,0.0625);\">,</span> <span style=\"background-color:rgba(135,206,250,0.049999999999999996);\">and</span> <span style=\"background-color:rgba(135,206,250,0.0375);\">not</span> <span style=\"background-color:rgba(135,206,250,0.024999999999999998);\">you</span> <span style=\"background-color:rgba(135,206,250,0.024999999999999998);\">only</span> <span style=\"background-color:rgba(135,206,250,0.024999999999999998);\">didn</span> <span style=\"background-color:rgba(135,206,250,0.012499999999999999);\">&#x27;</span> <span style=\"background-color:rgba(135,206,250,0.012499999999999999);\">t</span> <span style=\"background-color:rgba(135,206,250,0.0375);\">fulfill</span> <span style=\"background-color:rgba(135,206,250,0.0375);\">the</span> <span style=\"background-color:rgba(135,206,250,0.049999999999999996);\">order</span> <span style=\"background-color:rgba(135,206,250,0.024999999999999998);\">but</span> <span style=\"background-color:rgba(135,206,250,0.024999999999999998);\">you</span> <span style=\"background-color:rgba(135,206,250,0.012499999999999999);\">don</span> <span style=\"background-color:rgba(135,206,250,0.012499999999999999);\">&#x27;</span> <span style=\"background-color:rgba(135,206,250,0.012499999999999999);\">t</span> <span style=\"background-color:rgba(135,206,250,0.024999999999999998);\">allow</span> <span style=\"background-color:rgba(135,206,250,0.024999999999999998);\">me</span> <span style=\"background-color:rgba(135,206,250,0.024999999999999998);\">to</span> <span style=\"background-color:rgba(135,206,250,0.012499999999999999);\">place</span> <span style=\"background-color:rgba(135,206,250,0.012499999999999999);\">it</span> <span style=\"background-color:rgba(135,206,250,0.024999999999999998);\">somewhere</span> <span style=\"background-color:rgba(135,206,250,0.012499999999999999);\">else</span> <span style=\"background-color:rgba(135,206,250,0.024999999999999998);\">by</span> <span style=\"background-color:rgba(135,206,250,0.0375);\">holding</span> <span style=\"background-color:rgba(135,206,250,0.024999999999999998);\">my</span> <span style=\"background-color:rgba(135,206,250,0.049999999999999996);\">money</span> <span style=\"background-color:rgba(135,206,250,0.0375);\">!</span> <span style=\"background-color:rgba(135,206,250,0.024999999999999998);\">!</span> <span style=\"background-color:rgba(135,206,250,0.0375);\">!</span> <span style=\"background-color:rgba(135,206,250,0.049999999999999996);\">.</span><br> <span style=\"background-color:rgba(180,180,180,0.5);\">Importance 0.45</span> <span style=\"background-color:rgba(135,206,250,0.26249999999999996);\">c</span> <span style=\"background-color:rgba(135,206,250,0.5);\">)</span> <span style=\"background-color:rgba(135,206,250,0.5625);\">has</span> <span style=\"background-color:rgba(135,206,250,0.46249999999999997);\">a</span> <span style=\"background-color:rgba(135,206,250,0.3375);\">customer</span> <span style=\"background-color:rgba(135,206,250,0.3375);\">service</span> <span style=\"background-color:rgba(135,206,250,0.5249999999999999);\">who</span> <span style=\"background-color:rgba(135,206,250,0.125);\">gives</span> <span style=\"background-color:rgba(135,206,250,0.1625);\">you</span> <span style=\"background-color:rgba(135,206,250,0.09999999999999999);\">very</span> <span style=\"background-color:rgba(135,206,250,0.5625);\">generic</span> <span style=\"background-color:rgba(135,206,250,0.11249999999999999);\">answers</span> <span style=\"background-color:rgba(135,206,250,0.2375);\">without</span> <span style=\"background-color:rgba(135,206,250,0.17500000000000002);\">any</span> <span style=\"background-color:rgba(135,206,250,0.08750000000000001);\">solutions</span> <span style=\"background-color:rgba(135,206,250,0.024999999999999998);\">or</span> <span style=\"background-color:rgba(135,206,250,0.024999999999999998);\">proposals</span> <span style=\"background-color:rgba(135,206,250,0.012499999999999999);\">on</span> <span style=\"background-color:rgba(135,206,250,0.012499999999999999);\">the</span> <span style=\"background-color:rgba(135,206,250,0.024999999999999998);\">issue</span> <span style=\"background-color:rgba(135,206,250,0.012499999999999999);\">or</span> <span style=\"background-color:rgba(135,206,250,0.012499999999999999);\">closing</span> <span style=\"background-color:rgba(135,206,250,0.024999999999999998);\">chat</span> <span style=\"background-color:rgba(135,206,250,0.0375);\">instead</span> <span style=\"background-color:rgba(135,206,250,0.012499999999999999);\">of</span> <span style=\"background-color:rgba(135,206,250,0.012499999999999999);\">answering</span> <span style=\"background-color:rgba(135,206,250,0.024999999999999998);\">your</span> <span style=\"background-color:rgba(135,206,250,0.024999999999999998);\">questions</span> <span style=\"background-color:rgba(135,206,250,0.024999999999999998);\">.</span> <span style=\"background-color:rgba(135,206,250,0.024999999999999998);\">.</span> <span style=\"background-color:rgba(135,206,250,0.0375);\">my</span> <span style=\"background-color:rgba(135,206,250,0.024999999999999998);\">money</span> <span style=\"background-color:rgba(135,206,250,0.0625);\">are</span> <span style=\"background-color:rgba(135,206,250,0.024999999999999998);\">still</span> <span style=\"background-color:rgba(135,206,250,0.012499999999999999);\">on</span> <span style=\"background-color:rgba(135,206,250,0.049999999999999996);\">hold</span> <span style=\"background-color:rgba(135,206,250,0.012499999999999999);\">,</span> <span style=\"background-color:rgba(135,206,250,0.012499999999999999);\">and</span> <span style=\"background-color:rgba(135,206,250,0.012499999999999999);\">not</span> <span style=\"background-color:rgba(135,206,250,0.0375);\">you</span> <span style=\"background-color:rgba(135,206,250,0.012499999999999999);\">only</span> <span style=\"background-color:rgba(135,206,250,0.024999999999999998);\">didn</span> <span style=\"background-color:rgba(135,206,250,0.0);\">&#x27;</span> <span style=\"background-color:rgba(135,206,250,0.012499999999999999);\">t</span> <span style=\"background-color:rgba(135,206,250,0.012499999999999999);\">fulfill</span> <span style=\"background-color:rgba(135,206,250,0.0);\">the</span> <span style=\"background-color:rgba(135,206,250,0.024999999999999998);\">order</span> <span style=\"background-color:rgba(135,206,250,0.012499999999999999);\">but</span> <span style=\"background-color:rgba(135,206,250,0.024999999999999998);\">you</span> <span style=\"background-color:rgba(135,206,250,0.012499999999999999);\">don</span> <span style=\"background-color:rgba(135,206,250,0.0);\">&#x27;</span> <span style=\"background-color:rgba(135,206,250,0.012499999999999999);\">t</span> <span style=\"background-color:rgba(135,206,250,0.012499999999999999);\">allow</span> <span style=\"background-color:rgba(135,206,250,0.012499999999999999);\">me</span> <span style=\"background-color:rgba(135,206,250,0.012499999999999999);\">to</span> <span style=\"background-color:rgba(135,206,250,0.012499999999999999);\">place</span> <span style=\"background-color:rgba(135,206,250,0.012499999999999999);\">it</span> <span style=\"background-color:rgba(135,206,250,0.012499999999999999);\">somewhere</span> <span style=\"background-color:rgba(135,206,250,0.012499999999999999);\">else</span> <span style=\"background-color:rgba(135,206,250,0.012499999999999999);\">by</span> <span style=\"background-color:rgba(135,206,250,0.012499999999999999);\">holding</span> <span style=\"background-color:rgba(135,206,250,0.012499999999999999);\">my</span> <span style=\"background-color:rgba(135,206,250,0.012499999999999999);\">money</span> <span style=\"background-color:rgba(135,206,250,0.024999999999999998);\">!</span> <span style=\"background-color:rgba(135,206,250,0.012499999999999999);\">!</span> <span style=\"background-color:rgba(135,206,250,0.012499999999999999);\">!</span> <span style=\"background-color:rgba(135,206,250,0.0375);\">.</span><br>"
      ],
      "text/plain": [
       "<IPython.core.display.HTML object>"
      ]
     },
     "metadata": {},
     "output_type": "display_data"
    },
    {
     "name": "stdout",
     "output_type": "stream",
     "text": [
      "Sentiment.negative for \"customer service\"\n",
      "Scores (neutral/negative/positive): [0.011 0.982 0.007]\n"
     ]
    },
    {
     "data": {
      "text/html": [
       "<span style=\"background-color:rgba(180,180,180,1.1111111111111112);\">Importance 1.00</span> <span style=\"background-color:rgba(135,206,250,0.0625);\">i</span> <span style=\"background-color:rgba(135,206,250,0.08750000000000001);\">called</span> <span style=\"background-color:rgba(135,206,250,0.08750000000000001);\">customer</span> <span style=\"background-color:rgba(135,206,250,0.09999999999999999);\">service</span> <span style=\"background-color:rgba(135,206,250,0.08750000000000001);\">and</span> <span style=\"background-color:rgba(135,206,250,0.09999999999999999);\">they</span> <span style=\"background-color:rgba(135,206,250,0.22499999999999998);\">explained</span> <span style=\"background-color:rgba(135,206,250,0.2125);\">that</span> <span style=\"background-color:rgba(135,206,250,0.049999999999999996);\">they</span> <span style=\"background-color:rgba(135,206,250,0.049999999999999996);\">don</span> <span style=\"background-color:rgba(135,206,250,0.0375);\">&#x27;</span> <span style=\"background-color:rgba(135,206,250,0.049999999999999996);\">t</span> <span style=\"background-color:rgba(135,206,250,0.075);\">have</span> <span style=\"background-color:rgba(135,206,250,0.08750000000000001);\">any</span> <span style=\"background-color:rgba(135,206,250,0.0375);\">in</span> <span style=\"background-color:rgba(135,206,250,0.13749999999999998);\">stock</span> <span style=\"background-color:rgba(135,206,250,0.13749999999999998);\">and</span> <span style=\"background-color:rgba(135,206,250,0.2125);\">offered</span> <span style=\"background-color:rgba(135,206,250,0.0625);\">me</span> <span style=\"background-color:rgba(135,206,250,0.09999999999999999);\">a</span> <span style=\"background-color:rgba(135,206,250,0.15);\">gift</span> <span style=\"background-color:rgba(135,206,250,0.2375);\">card</span> <span style=\"background-color:rgba(135,206,250,0.125);\">of</span> <span style=\"background-color:rgba(135,206,250,0.15);\">7</span> <span style=\"background-color:rgba(135,206,250,0.2125);\">euro</span> <span style=\"background-color:rgba(135,206,250,0.25);\">which</span> <span style=\"background-color:rgba(135,206,250,0.15);\">is</span> <span style=\"background-color:rgba(135,206,250,0.6);\">insulting</span> <span style=\"background-color:rgba(135,206,250,1.0374999999999999);\">considering</span> <span style=\"background-color:rgba(135,206,250,0.36249999999999993);\">missing</span> <span style=\"background-color:rgba(135,206,250,0.11249999999999999);\">out</span> <span style=\"background-color:rgba(135,206,250,0.125);\">on</span> <span style=\"background-color:rgba(135,206,250,0.38749999999999996);\">all</span> <span style=\"background-color:rgba(135,206,250,0.13749999999999998);\">black</span> <span style=\"background-color:rgba(135,206,250,0.1625);\">friday</span> <span style=\"background-color:rgba(135,206,250,0.325);\">deals</span> <span style=\"background-color:rgba(135,206,250,0.8875);\">,</span> <span style=\"background-color:rgba(135,206,250,0.975);\">im</span> <span style=\"background-color:rgba(135,206,250,1.25);\">pissed</span> <span style=\"background-color:rgba(135,206,250,0.7875);\">with</span> <span style=\"background-color:rgba(135,206,250,0.35000000000000003);\">their</span> <span style=\"background-color:rgba(135,206,250,1.2249999999999999);\">service</span> <span style=\"background-color:rgba(135,206,250,0.8375);\">.</span><br> <span style=\"background-color:rgba(180,180,180,0.5);\">Importance 0.45</span> <span style=\"background-color:rgba(135,206,250,0.2125);\">i</span> <span style=\"background-color:rgba(135,206,250,0.5625);\">called</span> <span style=\"background-color:rgba(135,206,250,0.5125);\">customer</span> <span style=\"background-color:rgba(135,206,250,0.5625);\">service</span> <span style=\"background-color:rgba(135,206,250,0.44999999999999996);\">and</span> <span style=\"background-color:rgba(135,206,250,0.27499999999999997);\">they</span> <span style=\"background-color:rgba(135,206,250,0.13749999999999998);\">explained</span> <span style=\"background-color:rgba(135,206,250,0.049999999999999996);\">that</span> <span style=\"background-color:rgba(135,206,250,0.0375);\">they</span> <span style=\"background-color:rgba(135,206,250,0.024999999999999998);\">don</span> <span style=\"background-color:rgba(135,206,250,0.012499999999999999);\">&#x27;</span> <span style=\"background-color:rgba(135,206,250,0.012499999999999999);\">t</span> <span style=\"background-color:rgba(135,206,250,0.0375);\">have</span> <span style=\"background-color:rgba(135,206,250,0.024999999999999998);\">any</span> <span style=\"background-color:rgba(135,206,250,0.012499999999999999);\">in</span> <span style=\"background-color:rgba(135,206,250,0.0375);\">stock</span> <span style=\"background-color:rgba(135,206,250,0.049999999999999996);\">and</span> <span style=\"background-color:rgba(135,206,250,0.13749999999999998);\">offered</span> <span style=\"background-color:rgba(135,206,250,0.024999999999999998);\">me</span> <span style=\"background-color:rgba(135,206,250,0.012499999999999999);\">a</span> <span style=\"background-color:rgba(135,206,250,0.0375);\">gift</span> <span style=\"background-color:rgba(135,206,250,0.024999999999999998);\">card</span> <span style=\"background-color:rgba(135,206,250,0.012499999999999999);\">of</span> <span style=\"background-color:rgba(135,206,250,0.012499999999999999);\">7</span> <span style=\"background-color:rgba(135,206,250,0.024999999999999998);\">euro</span> <span style=\"background-color:rgba(135,206,250,0.012499999999999999);\">which</span> <span style=\"background-color:rgba(135,206,250,0.024999999999999998);\">is</span> <span style=\"background-color:rgba(135,206,250,0.0625);\">insulting</span> <span style=\"background-color:rgba(135,206,250,0.024999999999999998);\">considering</span> <span style=\"background-color:rgba(135,206,250,0.012499999999999999);\">missing</span> <span style=\"background-color:rgba(135,206,250,0.012499999999999999);\">out</span> <span style=\"background-color:rgba(135,206,250,0.012499999999999999);\">on</span> <span style=\"background-color:rgba(135,206,250,0.012499999999999999);\">all</span> <span style=\"background-color:rgba(135,206,250,0.012499999999999999);\">black</span> <span style=\"background-color:rgba(135,206,250,0.012499999999999999);\">friday</span> <span style=\"background-color:rgba(135,206,250,0.024999999999999998);\">deals</span> <span style=\"background-color:rgba(135,206,250,0.024999999999999998);\">,</span> <span style=\"background-color:rgba(135,206,250,0.024999999999999998);\">im</span> <span style=\"background-color:rgba(135,206,250,0.09999999999999999);\">pissed</span> <span style=\"background-color:rgba(135,206,250,0.024999999999999998);\">with</span> <span style=\"background-color:rgba(135,206,250,0.024999999999999998);\">their</span> <span style=\"background-color:rgba(135,206,250,0.049999999999999996);\">service</span> <span style=\"background-color:rgba(135,206,250,0.049999999999999996);\">.</span><br> <span style=\"background-color:rgba(180,180,180,0.39999999999999997);\">Importance 0.36</span> <span style=\"background-color:rgba(135,206,250,0.0);\">i</span> <span style=\"background-color:rgba(135,206,250,0.012499999999999999);\">called</span> <span style=\"background-color:rgba(135,206,250,0.012499999999999999);\">customer</span> <span style=\"background-color:rgba(135,206,250,0.0375);\">service</span> <span style=\"background-color:rgba(135,206,250,0.012499999999999999);\">and</span> <span style=\"background-color:rgba(135,206,250,0.012499999999999999);\">they</span> <span style=\"background-color:rgba(135,206,250,0.012499999999999999);\">explained</span> <span style=\"background-color:rgba(135,206,250,0.012499999999999999);\">that</span> <span style=\"background-color:rgba(135,206,250,0.012499999999999999);\">they</span> <span style=\"background-color:rgba(135,206,250,0.0);\">don</span> <span style=\"background-color:rgba(135,206,250,0.0);\">&#x27;</span> <span style=\"background-color:rgba(135,206,250,0.0);\">t</span> <span style=\"background-color:rgba(135,206,250,0.012499999999999999);\">have</span> <span style=\"background-color:rgba(135,206,250,0.012499999999999999);\">any</span> <span style=\"background-color:rgba(135,206,250,0.012499999999999999);\">in</span> <span style=\"background-color:rgba(135,206,250,0.012499999999999999);\">stock</span> <span style=\"background-color:rgba(135,206,250,0.012499999999999999);\">and</span> <span style=\"background-color:rgba(135,206,250,0.024999999999999998);\">offered</span> <span style=\"background-color:rgba(135,206,250,0.012499999999999999);\">me</span> <span style=\"background-color:rgba(135,206,250,0.012499999999999999);\">a</span> <span style=\"background-color:rgba(135,206,250,0.012499999999999999);\">gift</span> <span style=\"background-color:rgba(135,206,250,0.024999999999999998);\">card</span> <span style=\"background-color:rgba(135,206,250,0.012499999999999999);\">of</span> <span style=\"background-color:rgba(135,206,250,0.012499999999999999);\">7</span> <span style=\"background-color:rgba(135,206,250,0.012499999999999999);\">euro</span> <span style=\"background-color:rgba(135,206,250,0.024999999999999998);\">which</span> <span style=\"background-color:rgba(135,206,250,0.012499999999999999);\">is</span> <span style=\"background-color:rgba(135,206,250,0.049999999999999996);\">insulting</span> <span style=\"background-color:rgba(135,206,250,0.024999999999999998);\">considering</span> <span style=\"background-color:rgba(135,206,250,0.024999999999999998);\">missing</span> <span style=\"background-color:rgba(135,206,250,0.012499999999999999);\">out</span> <span style=\"background-color:rgba(135,206,250,0.0375);\">on</span> <span style=\"background-color:rgba(135,206,250,0.024999999999999998);\">all</span> <span style=\"background-color:rgba(135,206,250,0.012499999999999999);\">black</span> <span style=\"background-color:rgba(135,206,250,0.012499999999999999);\">friday</span> <span style=\"background-color:rgba(135,206,250,0.0375);\">deals</span> <span style=\"background-color:rgba(135,206,250,0.075);\">,</span> <span style=\"background-color:rgba(135,206,250,0.11249999999999999);\">im</span> <span style=\"background-color:rgba(135,206,250,0.44999999999999996);\">pissed</span> <span style=\"background-color:rgba(135,206,250,0.44999999999999996);\">with</span> <span style=\"background-color:rgba(135,206,250,0.125);\">their</span> <span style=\"background-color:rgba(135,206,250,0.3);\">service</span> <span style=\"background-color:rgba(135,206,250,0.075);\">.</span><br> <span style=\"background-color:rgba(180,180,180,0.3);\">Importance 0.27</span> <span style=\"background-color:rgba(135,206,250,0.125);\">i</span> <span style=\"background-color:rgba(135,206,250,0.3375);\">called</span> <span style=\"background-color:rgba(135,206,250,0.1625);\">customer</span> <span style=\"background-color:rgba(135,206,250,0.3);\">service</span> <span style=\"background-color:rgba(135,206,250,0.3375);\">and</span> <span style=\"background-color:rgba(135,206,250,0.2125);\">they</span> <span style=\"background-color:rgba(135,206,250,0.25);\">explained</span> <span style=\"background-color:rgba(135,206,250,0.09999999999999999);\">that</span> <span style=\"background-color:rgba(135,206,250,0.049999999999999996);\">they</span> <span style=\"background-color:rgba(135,206,250,0.0375);\">don</span> <span style=\"background-color:rgba(135,206,250,0.024999999999999998);\">&#x27;</span> <span style=\"background-color:rgba(135,206,250,0.0375);\">t</span> <span style=\"background-color:rgba(135,206,250,0.024999999999999998);\">have</span> <span style=\"background-color:rgba(135,206,250,0.0375);\">any</span> <span style=\"background-color:rgba(135,206,250,0.012499999999999999);\">in</span> <span style=\"background-color:rgba(135,206,250,0.024999999999999998);\">stock</span> <span style=\"background-color:rgba(135,206,250,0.125);\">and</span> <span style=\"background-color:rgba(135,206,250,0.0625);\">offered</span> <span style=\"background-color:rgba(135,206,250,0.024999999999999998);\">me</span> <span style=\"background-color:rgba(135,206,250,0.0);\">a</span> <span style=\"background-color:rgba(135,206,250,0.012499999999999999);\">gift</span> <span style=\"background-color:rgba(135,206,250,0.012499999999999999);\">card</span> <span style=\"background-color:rgba(135,206,250,0.012499999999999999);\">of</span> <span style=\"background-color:rgba(135,206,250,0.012499999999999999);\">7</span> <span style=\"background-color:rgba(135,206,250,0.024999999999999998);\">euro</span> <span style=\"background-color:rgba(135,206,250,0.049999999999999996);\">which</span> <span style=\"background-color:rgba(135,206,250,0.012499999999999999);\">is</span> <span style=\"background-color:rgba(135,206,250,0.08750000000000001);\">insulting</span> <span style=\"background-color:rgba(135,206,250,0.0375);\">considering</span> <span style=\"background-color:rgba(135,206,250,0.012499999999999999);\">missing</span> <span style=\"background-color:rgba(135,206,250,0.0);\">out</span> <span style=\"background-color:rgba(135,206,250,0.012499999999999999);\">on</span> <span style=\"background-color:rgba(135,206,250,0.012499999999999999);\">all</span> <span style=\"background-color:rgba(135,206,250,0.012499999999999999);\">black</span> <span style=\"background-color:rgba(135,206,250,0.012499999999999999);\">friday</span> <span style=\"background-color:rgba(135,206,250,0.012499999999999999);\">deals</span> <span style=\"background-color:rgba(135,206,250,0.075);\">,</span> <span style=\"background-color:rgba(135,206,250,0.049999999999999996);\">im</span> <span style=\"background-color:rgba(135,206,250,0.1625);\">pissed</span> <span style=\"background-color:rgba(135,206,250,0.024999999999999998);\">with</span> <span style=\"background-color:rgba(135,206,250,0.012499999999999999);\">their</span> <span style=\"background-color:rgba(135,206,250,0.024999999999999998);\">service</span> <span style=\"background-color:rgba(135,206,250,0.0625);\">.</span><br> <span style=\"background-color:rgba(180,180,180,0.2888888888888889);\">Importance 0.26</span> <span style=\"background-color:rgba(135,206,250,0.012499999999999999);\">i</span> <span style=\"background-color:rgba(135,206,250,0.0375);\">called</span> <span style=\"background-color:rgba(135,206,250,0.049999999999999996);\">customer</span> <span style=\"background-color:rgba(135,206,250,0.325);\">service</span> <span style=\"background-color:rgba(135,206,250,0.012499999999999999);\">and</span> <span style=\"background-color:rgba(135,206,250,0.024999999999999998);\">they</span> <span style=\"background-color:rgba(135,206,250,0.012499999999999999);\">explained</span> <span style=\"background-color:rgba(135,206,250,0.012499999999999999);\">that</span> <span style=\"background-color:rgba(135,206,250,0.012499999999999999);\">they</span> <span style=\"background-color:rgba(135,206,250,0.0);\">don</span> <span style=\"background-color:rgba(135,206,250,0.0);\">&#x27;</span> <span style=\"background-color:rgba(135,206,250,0.0);\">t</span> <span style=\"background-color:rgba(135,206,250,0.012499999999999999);\">have</span> <span style=\"background-color:rgba(135,206,250,0.012499999999999999);\">any</span> <span style=\"background-color:rgba(135,206,250,0.012499999999999999);\">in</span> <span style=\"background-color:rgba(135,206,250,0.0375);\">stock</span> <span style=\"background-color:rgba(135,206,250,0.012499999999999999);\">and</span> <span style=\"background-color:rgba(135,206,250,0.024999999999999998);\">offered</span> <span style=\"background-color:rgba(135,206,250,0.012499999999999999);\">me</span> <span style=\"background-color:rgba(135,206,250,0.012499999999999999);\">a</span> <span style=\"background-color:rgba(135,206,250,0.0375);\">gift</span> <span style=\"background-color:rgba(135,206,250,0.0375);\">card</span> <span style=\"background-color:rgba(135,206,250,0.012499999999999999);\">of</span> <span style=\"background-color:rgba(135,206,250,0.012499999999999999);\">7</span> <span style=\"background-color:rgba(135,206,250,0.024999999999999998);\">euro</span> <span style=\"background-color:rgba(135,206,250,0.012499999999999999);\">which</span> <span style=\"background-color:rgba(135,206,250,0.012499999999999999);\">is</span> <span style=\"background-color:rgba(135,206,250,0.0375);\">insulting</span> <span style=\"background-color:rgba(135,206,250,0.012499999999999999);\">considering</span> <span style=\"background-color:rgba(135,206,250,0.024999999999999998);\">missing</span> <span style=\"background-color:rgba(135,206,250,0.012499999999999999);\">out</span> <span style=\"background-color:rgba(135,206,250,0.012499999999999999);\">on</span> <span style=\"background-color:rgba(135,206,250,0.012499999999999999);\">all</span> <span style=\"background-color:rgba(135,206,250,0.024999999999999998);\">black</span> <span style=\"background-color:rgba(135,206,250,0.024999999999999998);\">friday</span> <span style=\"background-color:rgba(135,206,250,0.0625);\">deals</span> <span style=\"background-color:rgba(135,206,250,0.049999999999999996);\">,</span> <span style=\"background-color:rgba(135,206,250,0.049999999999999996);\">im</span> <span style=\"background-color:rgba(135,206,250,0.18749999999999997);\">pissed</span> <span style=\"background-color:rgba(135,206,250,0.125);\">with</span> <span style=\"background-color:rgba(135,206,250,0.1625);\">their</span> <span style=\"background-color:rgba(135,206,250,0.325);\">service</span> <span style=\"background-color:rgba(135,206,250,0.15);\">.</span><br>"
      ],
      "text/plain": [
       "<IPython.core.display.HTML object>"
      ]
     },
     "metadata": {},
     "output_type": "display_data"
    },
    {
     "name": "stdout",
     "output_type": "stream",
     "text": [
      "Sentiment.negative for \"customer service\"\n",
      "Scores (neutral/negative/positive): [0.09  0.8   0.111]\n"
     ]
    },
    {
     "data": {
      "text/html": [
       "<span style=\"background-color:rgba(180,180,180,1.1111111111111112);\">Importance 1.00</span> <span style=\"background-color:rgba(135,206,250,0.0625);\">i</span> <span style=\"background-color:rgba(135,206,250,0.075);\">checked</span> <span style=\"background-color:rgba(135,206,250,0.0375);\">the</span> <span style=\"background-color:rgba(135,206,250,0.075);\">addresses</span> <span style=\"background-color:rgba(135,206,250,0.049999999999999996);\">i</span> <span style=\"background-color:rgba(135,206,250,0.049999999999999996);\">provided</span> <span style=\"background-color:rgba(135,206,250,0.0625);\">and</span> <span style=\"background-color:rgba(135,206,250,0.0375);\">i</span> <span style=\"background-color:rgba(135,206,250,0.0375);\">could</span> <span style=\"background-color:rgba(135,206,250,0.2375);\">see</span> <span style=\"background-color:rgba(135,206,250,0.049999999999999996);\">bol</span> <span style=\"background-color:rgba(135,206,250,0.09999999999999999);\">.</span> <span style=\"background-color:rgba(135,206,250,0.08750000000000001);\">com</span> <span style=\"background-color:rgba(135,206,250,0.25);\">failed</span> <span style=\"background-color:rgba(135,206,250,0.049999999999999996);\">to</span> <span style=\"background-color:rgba(135,206,250,0.049999999999999996);\">provide</span> <span style=\"background-color:rgba(135,206,250,0.08750000000000001);\">the</span> <span style=\"background-color:rgba(135,206,250,0.075);\">courier</span> <span style=\"background-color:rgba(135,206,250,0.049999999999999996);\">with</span> <span style=\"background-color:rgba(135,206,250,0.049999999999999996);\">the</span> <span style=\"background-color:rgba(135,206,250,0.0625);\">first</span> <span style=\"background-color:rgba(135,206,250,0.13749999999999998);\">lines</span> <span style=\"background-color:rgba(135,206,250,0.049999999999999996);\">of</span> <span style=\"background-color:rgba(135,206,250,0.0625);\">my</span> <span style=\"background-color:rgba(135,206,250,0.09999999999999999);\">address</span> <span style=\"background-color:rgba(135,206,250,0.95);\">i</span> <span style=\"background-color:rgba(135,206,250,0.26249999999999996);\">attempted</span> <span style=\"background-color:rgba(135,206,250,0.125);\">to</span> <span style=\"background-color:rgba(135,206,250,0.6124999999999999);\">call</span> <span style=\"background-color:rgba(135,206,250,1.25);\">their</span> <span style=\"background-color:rgba(135,206,250,1.0125);\">customer</span> <span style=\"background-color:rgba(135,206,250,1.25);\">service</span> <span style=\"background-color:rgba(135,206,250,0.17500000000000002);\">several</span> <span style=\"background-color:rgba(135,206,250,0.125);\">times</span> <span style=\"background-color:rgba(135,206,250,0.3);\">but</span> <span style=\"background-color:rgba(135,206,250,0.37499999999999994);\">couldn</span> <span style=\"background-color:rgba(135,206,250,0.1625);\">&#x27;</span> <span style=\"background-color:rgba(135,206,250,0.5249999999999999);\">t</span> <span style=\"background-color:rgba(135,206,250,0.0625);\">get</span> <span style=\"background-color:rgba(135,206,250,0.11249999999999999);\">through</span> <span style=\"background-color:rgba(135,206,250,0.13749999999999998);\">.</span><br> <span style=\"background-color:rgba(180,180,180,0.37777777777777777);\">Importance 0.34</span> <span style=\"background-color:rgba(135,206,250,0.0375);\">i</span> <span style=\"background-color:rgba(135,206,250,0.125);\">checked</span> <span style=\"background-color:rgba(135,206,250,0.024999999999999998);\">the</span> <span style=\"background-color:rgba(135,206,250,0.125);\">addresses</span> <span style=\"background-color:rgba(135,206,250,0.012499999999999999);\">i</span> <span style=\"background-color:rgba(135,206,250,0.049999999999999996);\">provided</span> <span style=\"background-color:rgba(135,206,250,0.15);\">and</span> <span style=\"background-color:rgba(135,206,250,0.11249999999999999);\">i</span> <span style=\"background-color:rgba(135,206,250,0.3125);\">could</span> <span style=\"background-color:rgba(135,206,250,0.425);\">see</span> <span style=\"background-color:rgba(135,206,250,0.17500000000000002);\">bol</span> <span style=\"background-color:rgba(135,206,250,0.15);\">.</span> <span style=\"background-color:rgba(135,206,250,0.15);\">com</span> <span style=\"background-color:rgba(135,206,250,0.425);\">failed</span> <span style=\"background-color:rgba(135,206,250,0.049999999999999996);\">to</span> <span style=\"background-color:rgba(135,206,250,0.049999999999999996);\">provide</span> <span style=\"background-color:rgba(135,206,250,0.024999999999999998);\">the</span> <span style=\"background-color:rgba(135,206,250,0.0375);\">courier</span> <span style=\"background-color:rgba(135,206,250,0.012499999999999999);\">with</span> <span style=\"background-color:rgba(135,206,250,0.012499999999999999);\">the</span> <span style=\"background-color:rgba(135,206,250,0.012499999999999999);\">first</span> <span style=\"background-color:rgba(135,206,250,0.024999999999999998);\">lines</span> <span style=\"background-color:rgba(135,206,250,0.012499999999999999);\">of</span> <span style=\"background-color:rgba(135,206,250,0.012499999999999999);\">my</span> <span style=\"background-color:rgba(135,206,250,0.024999999999999998);\">address</span> <span style=\"background-color:rgba(135,206,250,0.0375);\">i</span> <span style=\"background-color:rgba(135,206,250,0.0375);\">attempted</span> <span style=\"background-color:rgba(135,206,250,0.012499999999999999);\">to</span> <span style=\"background-color:rgba(135,206,250,0.0375);\">call</span> <span style=\"background-color:rgba(135,206,250,0.024999999999999998);\">their</span> <span style=\"background-color:rgba(135,206,250,0.024999999999999998);\">customer</span> <span style=\"background-color:rgba(135,206,250,0.012499999999999999);\">service</span> <span style=\"background-color:rgba(135,206,250,0.012499999999999999);\">several</span> <span style=\"background-color:rgba(135,206,250,0.012499999999999999);\">times</span> <span style=\"background-color:rgba(135,206,250,0.024999999999999998);\">but</span> <span style=\"background-color:rgba(135,206,250,0.012499999999999999);\">couldn</span> <span style=\"background-color:rgba(135,206,250,0.0);\">&#x27;</span> <span style=\"background-color:rgba(135,206,250,0.012499999999999999);\">t</span> <span style=\"background-color:rgba(135,206,250,0.012499999999999999);\">get</span> <span style=\"background-color:rgba(135,206,250,0.024999999999999998);\">through</span> <span style=\"background-color:rgba(135,206,250,0.024999999999999998);\">.</span><br> <span style=\"background-color:rgba(180,180,180,0.3);\">Importance 0.27</span> <span style=\"background-color:rgba(135,206,250,0.0375);\">i</span> <span style=\"background-color:rgba(135,206,250,0.09999999999999999);\">checked</span> <span style=\"background-color:rgba(135,206,250,0.012499999999999999);\">the</span> <span style=\"background-color:rgba(135,206,250,0.024999999999999998);\">addresses</span> <span style=\"background-color:rgba(135,206,250,0.012499999999999999);\">i</span> <span style=\"background-color:rgba(135,206,250,0.049999999999999996);\">provided</span> <span style=\"background-color:rgba(135,206,250,0.024999999999999998);\">and</span> <span style=\"background-color:rgba(135,206,250,0.012499999999999999);\">i</span> <span style=\"background-color:rgba(135,206,250,0.049999999999999996);\">could</span> <span style=\"background-color:rgba(135,206,250,0.049999999999999996);\">see</span> <span style=\"background-color:rgba(135,206,250,0.024999999999999998);\">bol</span> <span style=\"background-color:rgba(135,206,250,0.024999999999999998);\">.</span> <span style=\"background-color:rgba(135,206,250,0.024999999999999998);\">com</span> <span style=\"background-color:rgba(135,206,250,0.11249999999999999);\">failed</span> <span style=\"background-color:rgba(135,206,250,0.0375);\">to</span> <span style=\"background-color:rgba(135,206,250,0.11249999999999999);\">provide</span> <span style=\"background-color:rgba(135,206,250,0.024999999999999998);\">the</span> <span style=\"background-color:rgba(135,206,250,0.0375);\">courier</span> <span style=\"background-color:rgba(135,206,250,0.049999999999999996);\">with</span> <span style=\"background-color:rgba(135,206,250,0.0375);\">the</span> <span style=\"background-color:rgba(135,206,250,0.08750000000000001);\">first</span> <span style=\"background-color:rgba(135,206,250,0.09999999999999999);\">lines</span> <span style=\"background-color:rgba(135,206,250,0.08750000000000001);\">of</span> <span style=\"background-color:rgba(135,206,250,0.0375);\">my</span> <span style=\"background-color:rgba(135,206,250,0.08750000000000001);\">address</span> <span style=\"background-color:rgba(135,206,250,0.3375);\">i</span> <span style=\"background-color:rgba(135,206,250,0.3375);\">attempted</span> <span style=\"background-color:rgba(135,206,250,0.13749999999999998);\">to</span> <span style=\"background-color:rgba(135,206,250,0.25);\">call</span> <span style=\"background-color:rgba(135,206,250,0.11249999999999999);\">their</span> <span style=\"background-color:rgba(135,206,250,0.2375);\">customer</span> <span style=\"background-color:rgba(135,206,250,0.3);\">service</span> <span style=\"background-color:rgba(135,206,250,0.09999999999999999);\">several</span> <span style=\"background-color:rgba(135,206,250,0.125);\">times</span> <span style=\"background-color:rgba(135,206,250,0.17500000000000002);\">but</span> <span style=\"background-color:rgba(135,206,250,0.18749999999999997);\">couldn</span> <span style=\"background-color:rgba(135,206,250,0.0375);\">&#x27;</span> <span style=\"background-color:rgba(135,206,250,0.09999999999999999);\">t</span> <span style=\"background-color:rgba(135,206,250,0.075);\">get</span> <span style=\"background-color:rgba(135,206,250,0.049999999999999996);\">through</span> <span style=\"background-color:rgba(135,206,250,0.08750000000000001);\">.</span><br> <span style=\"background-color:rgba(180,180,180,0.2888888888888889);\">Importance 0.26</span> <span style=\"background-color:rgba(135,206,250,0.049999999999999996);\">i</span> <span style=\"background-color:rgba(135,206,250,0.075);\">checked</span> <span style=\"background-color:rgba(135,206,250,0.049999999999999996);\">the</span> <span style=\"background-color:rgba(135,206,250,0.0625);\">addresses</span> <span style=\"background-color:rgba(135,206,250,0.0375);\">i</span> <span style=\"background-color:rgba(135,206,250,0.049999999999999996);\">provided</span> <span style=\"background-color:rgba(135,206,250,0.0625);\">and</span> <span style=\"background-color:rgba(135,206,250,0.0375);\">i</span> <span style=\"background-color:rgba(135,206,250,0.024999999999999998);\">could</span> <span style=\"background-color:rgba(135,206,250,0.049999999999999996);\">see</span> <span style=\"background-color:rgba(135,206,250,0.08750000000000001);\">bol</span> <span style=\"background-color:rgba(135,206,250,0.11249999999999999);\">.</span> <span style=\"background-color:rgba(135,206,250,0.075);\">com</span> <span style=\"background-color:rgba(135,206,250,0.11249999999999999);\">failed</span> <span style=\"background-color:rgba(135,206,250,0.0375);\">to</span> <span style=\"background-color:rgba(135,206,250,0.049999999999999996);\">provide</span> <span style=\"background-color:rgba(135,206,250,0.049999999999999996);\">the</span> <span style=\"background-color:rgba(135,206,250,0.075);\">courier</span> <span style=\"background-color:rgba(135,206,250,0.0375);\">with</span> <span style=\"background-color:rgba(135,206,250,0.0375);\">the</span> <span style=\"background-color:rgba(135,206,250,0.0375);\">first</span> <span style=\"background-color:rgba(135,206,250,0.049999999999999996);\">lines</span> <span style=\"background-color:rgba(135,206,250,0.0375);\">of</span> <span style=\"background-color:rgba(135,206,250,0.0375);\">my</span> <span style=\"background-color:rgba(135,206,250,0.0625);\">address</span> <span style=\"background-color:rgba(135,206,250,0.0625);\">i</span> <span style=\"background-color:rgba(135,206,250,0.075);\">attempted</span> <span style=\"background-color:rgba(135,206,250,0.024999999999999998);\">to</span> <span style=\"background-color:rgba(135,206,250,0.075);\">call</span> <span style=\"background-color:rgba(135,206,250,0.049999999999999996);\">their</span> <span style=\"background-color:rgba(135,206,250,0.0375);\">customer</span> <span style=\"background-color:rgba(135,206,250,0.049999999999999996);\">service</span> <span style=\"background-color:rgba(135,206,250,0.0375);\">several</span> <span style=\"background-color:rgba(135,206,250,0.049999999999999996);\">times</span> <span style=\"background-color:rgba(135,206,250,0.125);\">but</span> <span style=\"background-color:rgba(135,206,250,0.075);\">couldn</span> <span style=\"background-color:rgba(135,206,250,0.0625);\">&#x27;</span> <span style=\"background-color:rgba(135,206,250,0.08750000000000001);\">t</span> <span style=\"background-color:rgba(135,206,250,0.0625);\">get</span> <span style=\"background-color:rgba(135,206,250,0.13749999999999998);\">through</span> <span style=\"background-color:rgba(135,206,250,0.325);\">.</span><br> <span style=\"background-color:rgba(180,180,180,0.24444444444444444);\">Importance 0.22</span> <span style=\"background-color:rgba(135,206,250,0.012499999999999999);\">i</span> <span style=\"background-color:rgba(135,206,250,0.024999999999999998);\">checked</span> <span style=\"background-color:rgba(135,206,250,0.012499999999999999);\">the</span> <span style=\"background-color:rgba(135,206,250,0.012499999999999999);\">addresses</span> <span style=\"background-color:rgba(135,206,250,0.012499999999999999);\">i</span> <span style=\"background-color:rgba(135,206,250,0.012499999999999999);\">provided</span> <span style=\"background-color:rgba(135,206,250,0.012499999999999999);\">and</span> <span style=\"background-color:rgba(135,206,250,0.012499999999999999);\">i</span> <span style=\"background-color:rgba(135,206,250,0.0375);\">could</span> <span style=\"background-color:rgba(135,206,250,0.024999999999999998);\">see</span> <span style=\"background-color:rgba(135,206,250,0.012499999999999999);\">bol</span> <span style=\"background-color:rgba(135,206,250,0.012499999999999999);\">.</span> <span style=\"background-color:rgba(135,206,250,0.012499999999999999);\">com</span> <span style=\"background-color:rgba(135,206,250,0.09999999999999999);\">failed</span> <span style=\"background-color:rgba(135,206,250,0.024999999999999998);\">to</span> <span style=\"background-color:rgba(135,206,250,0.0375);\">provide</span> <span style=\"background-color:rgba(135,206,250,0.024999999999999998);\">the</span> <span style=\"background-color:rgba(135,206,250,0.024999999999999998);\">courier</span> <span style=\"background-color:rgba(135,206,250,0.012499999999999999);\">with</span> <span style=\"background-color:rgba(135,206,250,0.012499999999999999);\">the</span> <span style=\"background-color:rgba(135,206,250,0.012499999999999999);\">first</span> <span style=\"background-color:rgba(135,206,250,0.0375);\">lines</span> <span style=\"background-color:rgba(135,206,250,0.012499999999999999);\">of</span> <span style=\"background-color:rgba(135,206,250,0.012499999999999999);\">my</span> <span style=\"background-color:rgba(135,206,250,0.024999999999999998);\">address</span> <span style=\"background-color:rgba(135,206,250,0.13749999999999998);\">i</span> <span style=\"background-color:rgba(135,206,250,0.22499999999999998);\">attempted</span> <span style=\"background-color:rgba(135,206,250,0.049999999999999996);\">to</span> <span style=\"background-color:rgba(135,206,250,0.09999999999999999);\">call</span> <span style=\"background-color:rgba(135,206,250,0.049999999999999996);\">their</span> <span style=\"background-color:rgba(135,206,250,0.049999999999999996);\">customer</span> <span style=\"background-color:rgba(135,206,250,0.125);\">service</span> <span style=\"background-color:rgba(135,206,250,0.049999999999999996);\">several</span> <span style=\"background-color:rgba(135,206,250,0.049999999999999996);\">times</span> <span style=\"background-color:rgba(135,206,250,0.27499999999999997);\">but</span> <span style=\"background-color:rgba(135,206,250,0.27499999999999997);\">couldn</span> <span style=\"background-color:rgba(135,206,250,0.15);\">&#x27;</span> <span style=\"background-color:rgba(135,206,250,0.18749999999999997);\">t</span> <span style=\"background-color:rgba(135,206,250,0.19999999999999998);\">get</span> <span style=\"background-color:rgba(135,206,250,0.1625);\">through</span> <span style=\"background-color:rgba(135,206,250,0.08750000000000001);\">.</span><br>"
      ],
      "text/plain": [
       "<IPython.core.display.HTML object>"
      ]
     },
     "metadata": {},
     "output_type": "display_data"
    },
    {
     "name": "stdout",
     "output_type": "stream",
     "text": [
      "Sentiment.negative for \"customer service\"\n",
      "Scores (neutral/negative/positive): [0.002 0.992 0.006]\n"
     ]
    },
    {
     "data": {
      "text/html": [
       "<span style=\"background-color:rgba(180,180,180,1.1111111111111112);\">Importance 1.00</span> <span style=\"background-color:rgba(135,206,250,0.11249999999999999);\">their</span> <span style=\"background-color:rgba(135,206,250,0.3);\">customer</span> <span style=\"background-color:rgba(135,206,250,0.25);\">service</span> <span style=\"background-color:rgba(135,206,250,0.2875);\">was</span> <span style=\"background-color:rgba(135,206,250,1.25);\">appalling</span> <span style=\"background-color:rgba(135,206,250,0.18749999999999997);\">and</span> <span style=\"background-color:rgba(135,206,250,0.049999999999999996);\">i</span> <span style=\"background-color:rgba(135,206,250,0.0375);\">am</span> <span style=\"background-color:rgba(135,206,250,0.2125);\">embarrassed</span> <span style=\"background-color:rgba(135,206,250,0.049999999999999996);\">for</span> <span style=\"background-color:rgba(135,206,250,0.0375);\">every</span> <span style=\"background-color:rgba(135,206,250,0.0375);\">single</span> <span style=\"background-color:rgba(135,206,250,0.0375);\">member</span> <span style=\"background-color:rgba(135,206,250,0.024999999999999998);\">of</span> <span style=\"background-color:rgba(135,206,250,0.0375);\">staff</span> <span style=\"background-color:rgba(135,206,250,0.024999999999999998);\">i</span> <span style=\"background-color:rgba(135,206,250,0.0375);\">spoke</span> <span style=\"background-color:rgba(135,206,250,0.024999999999999998);\">to</span> <span style=\"background-color:rgba(135,206,250,0.0375);\">as</span> <span style=\"background-color:rgba(135,206,250,0.024999999999999998);\">they</span> <span style=\"background-color:rgba(135,206,250,0.0375);\">were</span> <span style=\"background-color:rgba(135,206,250,0.024999999999999998);\">all</span> <span style=\"background-color:rgba(135,206,250,0.0375);\">so</span> <span style=\"background-color:rgba(135,206,250,0.18749999999999997);\">incompetent</span> <span style=\"background-color:rgba(135,206,250,0.024999999999999998);\">at</span> <span style=\"background-color:rgba(135,206,250,0.024999999999999998);\">such</span> <span style=\"background-color:rgba(135,206,250,0.012499999999999999);\">a</span> <span style=\"background-color:rgba(135,206,250,0.024999999999999998);\">simple</span> <span style=\"background-color:rgba(135,206,250,0.0375);\">job</span> <span style=\"background-color:rgba(135,206,250,0.0625);\">.</span><br> <span style=\"background-color:rgba(180,180,180,0.9666666666666667);\">Importance 0.87</span> <span style=\"background-color:rgba(135,206,250,0.4125);\">their</span> <span style=\"background-color:rgba(135,206,250,0.8624999999999999);\">customer</span> <span style=\"background-color:rgba(135,206,250,0.825);\">service</span> <span style=\"background-color:rgba(135,206,250,1.0875);\">was</span> <span style=\"background-color:rgba(135,206,250,1.0875);\">appalling</span> <span style=\"background-color:rgba(135,206,250,0.3375);\">and</span> <span style=\"background-color:rgba(135,206,250,0.08750000000000001);\">i</span> <span style=\"background-color:rgba(135,206,250,0.2125);\">am</span> <span style=\"background-color:rgba(135,206,250,0.7499999999999999);\">embarrassed</span> <span style=\"background-color:rgba(135,206,250,0.075);\">for</span> <span style=\"background-color:rgba(135,206,250,0.09999999999999999);\">every</span> <span style=\"background-color:rgba(135,206,250,0.049999999999999996);\">single</span> <span style=\"background-color:rgba(135,206,250,0.012499999999999999);\">member</span> <span style=\"background-color:rgba(135,206,250,0.012499999999999999);\">of</span> <span style=\"background-color:rgba(135,206,250,0.0375);\">staff</span> <span style=\"background-color:rgba(135,206,250,0.024999999999999998);\">i</span> <span style=\"background-color:rgba(135,206,250,0.075);\">spoke</span> <span style=\"background-color:rgba(135,206,250,0.024999999999999998);\">to</span> <span style=\"background-color:rgba(135,206,250,0.049999999999999996);\">as</span> <span style=\"background-color:rgba(135,206,250,0.024999999999999998);\">they</span> <span style=\"background-color:rgba(135,206,250,0.075);\">were</span> <span style=\"background-color:rgba(135,206,250,0.024999999999999998);\">all</span> <span style=\"background-color:rgba(135,206,250,0.11249999999999999);\">so</span> <span style=\"background-color:rgba(135,206,250,0.1625);\">incompetent</span> <span style=\"background-color:rgba(135,206,250,0.024999999999999998);\">at</span> <span style=\"background-color:rgba(135,206,250,0.049999999999999996);\">such</span> <span style=\"background-color:rgba(135,206,250,0.012499999999999999);\">a</span> <span style=\"background-color:rgba(135,206,250,0.024999999999999998);\">simple</span> <span style=\"background-color:rgba(135,206,250,0.024999999999999998);\">job</span> <span style=\"background-color:rgba(135,206,250,0.11249999999999999);\">.</span><br> <span style=\"background-color:rgba(180,180,180,0.37777777777777777);\">Importance 0.34</span> <span style=\"background-color:rgba(135,206,250,0.11249999999999999);\">their</span> <span style=\"background-color:rgba(135,206,250,0.13749999999999998);\">customer</span> <span style=\"background-color:rgba(135,206,250,0.09999999999999999);\">service</span> <span style=\"background-color:rgba(135,206,250,0.13749999999999998);\">was</span> <span style=\"background-color:rgba(135,206,250,0.25);\">appalling</span> <span style=\"background-color:rgba(135,206,250,0.425);\">and</span> <span style=\"background-color:rgba(135,206,250,0.1625);\">i</span> <span style=\"background-color:rgba(135,206,250,0.08750000000000001);\">am</span> <span style=\"background-color:rgba(135,206,250,0.425);\">embarrassed</span> <span style=\"background-color:rgba(135,206,250,0.0625);\">for</span> <span style=\"background-color:rgba(135,206,250,0.0375);\">every</span> <span style=\"background-color:rgba(135,206,250,0.024999999999999998);\">single</span> <span style=\"background-color:rgba(135,206,250,0.012499999999999999);\">member</span> <span style=\"background-color:rgba(135,206,250,0.012499999999999999);\">of</span> <span style=\"background-color:rgba(135,206,250,0.024999999999999998);\">staff</span> <span style=\"background-color:rgba(135,206,250,0.012499999999999999);\">i</span> <span style=\"background-color:rgba(135,206,250,0.024999999999999998);\">spoke</span> <span style=\"background-color:rgba(135,206,250,0.012499999999999999);\">to</span> <span style=\"background-color:rgba(135,206,250,0.075);\">as</span> <span style=\"background-color:rgba(135,206,250,0.012499999999999999);\">they</span> <span style=\"background-color:rgba(135,206,250,0.012499999999999999);\">were</span> <span style=\"background-color:rgba(135,206,250,0.012499999999999999);\">all</span> <span style=\"background-color:rgba(135,206,250,0.0375);\">so</span> <span style=\"background-color:rgba(135,206,250,0.0375);\">incompetent</span> <span style=\"background-color:rgba(135,206,250,0.012499999999999999);\">at</span> <span style=\"background-color:rgba(135,206,250,0.012499999999999999);\">such</span> <span style=\"background-color:rgba(135,206,250,0.0);\">a</span> <span style=\"background-color:rgba(135,206,250,0.012499999999999999);\">simple</span> <span style=\"background-color:rgba(135,206,250,0.012499999999999999);\">job</span> <span style=\"background-color:rgba(135,206,250,0.049999999999999996);\">.</span><br> <span style=\"background-color:rgba(180,180,180,0.3333333333333333);\">Importance 0.30</span> <span style=\"background-color:rgba(135,206,250,0.37499999999999994);\">their</span> <span style=\"background-color:rgba(135,206,250,0.325);\">customer</span> <span style=\"background-color:rgba(135,206,250,0.26249999999999996);\">service</span> <span style=\"background-color:rgba(135,206,250,0.18749999999999997);\">was</span> <span style=\"background-color:rgba(135,206,250,0.37499999999999994);\">appalling</span> <span style=\"background-color:rgba(135,206,250,0.11249999999999999);\">and</span> <span style=\"background-color:rgba(135,206,250,0.0625);\">i</span> <span style=\"background-color:rgba(135,206,250,0.0375);\">am</span> <span style=\"background-color:rgba(135,206,250,0.1625);\">embarrassed</span> <span style=\"background-color:rgba(135,206,250,0.024999999999999998);\">for</span> <span style=\"background-color:rgba(135,206,250,0.0375);\">every</span> <span style=\"background-color:rgba(135,206,250,0.049999999999999996);\">single</span> <span style=\"background-color:rgba(135,206,250,0.024999999999999998);\">member</span> <span style=\"background-color:rgba(135,206,250,0.012499999999999999);\">of</span> <span style=\"background-color:rgba(135,206,250,0.09999999999999999);\">staff</span> <span style=\"background-color:rgba(135,206,250,0.0375);\">i</span> <span style=\"background-color:rgba(135,206,250,0.0375);\">spoke</span> <span style=\"background-color:rgba(135,206,250,0.012499999999999999);\">to</span> <span style=\"background-color:rgba(135,206,250,0.024999999999999998);\">as</span> <span style=\"background-color:rgba(135,206,250,0.0375);\">they</span> <span style=\"background-color:rgba(135,206,250,0.024999999999999998);\">were</span> <span style=\"background-color:rgba(135,206,250,0.024999999999999998);\">all</span> <span style=\"background-color:rgba(135,206,250,0.0375);\">so</span> <span style=\"background-color:rgba(135,206,250,0.0625);\">incompetent</span> <span style=\"background-color:rgba(135,206,250,0.012499999999999999);\">at</span> <span style=\"background-color:rgba(135,206,250,0.024999999999999998);\">such</span> <span style=\"background-color:rgba(135,206,250,0.012499999999999999);\">a</span> <span style=\"background-color:rgba(135,206,250,0.024999999999999998);\">simple</span> <span style=\"background-color:rgba(135,206,250,0.024999999999999998);\">job</span> <span style=\"background-color:rgba(135,206,250,0.0625);\">.</span><br> <span style=\"background-color:rgba(180,180,180,0.2333333333333333);\">Importance 0.21</span> <span style=\"background-color:rgba(135,206,250,0.049999999999999996);\">their</span> <span style=\"background-color:rgba(135,206,250,0.08750000000000001);\">customer</span> <span style=\"background-color:rgba(135,206,250,0.09999999999999999);\">service</span> <span style=\"background-color:rgba(135,206,250,0.08750000000000001);\">was</span> <span style=\"background-color:rgba(135,206,250,0.18749999999999997);\">appalling</span> <span style=\"background-color:rgba(135,206,250,0.13749999999999998);\">and</span> <span style=\"background-color:rgba(135,206,250,0.13749999999999998);\">i</span> <span style=\"background-color:rgba(135,206,250,0.26249999999999996);\">am</span> <span style=\"background-color:rgba(135,206,250,0.26249999999999996);\">embarrassed</span> <span style=\"background-color:rgba(135,206,250,0.18749999999999997);\">for</span> <span style=\"background-color:rgba(135,206,250,0.17500000000000002);\">every</span> <span style=\"background-color:rgba(135,206,250,0.125);\">single</span> <span style=\"background-color:rgba(135,206,250,0.0625);\">member</span> <span style=\"background-color:rgba(135,206,250,0.049999999999999996);\">of</span> <span style=\"background-color:rgba(135,206,250,0.1625);\">staff</span> <span style=\"background-color:rgba(135,206,250,0.0625);\">i</span> <span style=\"background-color:rgba(135,206,250,0.0625);\">spoke</span> <span style=\"background-color:rgba(135,206,250,0.08750000000000001);\">to</span> <span style=\"background-color:rgba(135,206,250,0.11249999999999999);\">as</span> <span style=\"background-color:rgba(135,206,250,0.0375);\">they</span> <span style=\"background-color:rgba(135,206,250,0.0375);\">were</span> <span style=\"background-color:rgba(135,206,250,0.0375);\">all</span> <span style=\"background-color:rgba(135,206,250,0.049999999999999996);\">so</span> <span style=\"background-color:rgba(135,206,250,0.17500000000000002);\">incompetent</span> <span style=\"background-color:rgba(135,206,250,0.024999999999999998);\">at</span> <span style=\"background-color:rgba(135,206,250,0.0375);\">such</span> <span style=\"background-color:rgba(135,206,250,0.012499999999999999);\">a</span> <span style=\"background-color:rgba(135,206,250,0.049999999999999996);\">simple</span> <span style=\"background-color:rgba(135,206,250,0.0375);\">job</span> <span style=\"background-color:rgba(135,206,250,0.08750000000000001);\">.</span><br>"
      ],
      "text/plain": [
       "<IPython.core.display.HTML object>"
      ]
     },
     "metadata": {},
     "output_type": "display_data"
    }
   ],
   "source": [
    "for idx, _ in enumerate(examples):\n",
    "\n",
    "    absa.summary(examples[idx])\n",
    "\n",
    "    absa.display(examples[idx].review)"
   ]
  },
  {
   "cell_type": "markdown",
   "metadata": {},
   "source": [
    "### FIRST EXAMPLE"
   ]
  },
  {
   "cell_type": "code",
   "execution_count": 35,
   "metadata": {},
   "outputs": [],
   "source": [
    "import aspect_based_sentiment_analysis as absa\n",
    "\n",
    "recognizer = absa.aux_models.BasicPatternRecognizer()\n",
    "NLP = absa.load(pattern_recognizer=recognizer)\n",
    "\n",
    "print('Text to execute ABSA on:')\n",
    "print(bol['content'][4])\n",
    "\n",
    "test_run = NLP(text=bol['content'][4], aspects=['customer', 'price', 'delivery'])\n",
    "\n",
    "customer, price, delivery = test_run.examples"
   ]
  },
  {
   "cell_type": "code",
   "execution_count": 36,
   "metadata": {},
   "outputs": [
    {
     "name": "stdout",
     "output_type": "stream",
     "text": [
      "Sentiment.positive for \"customer\"\n",
      "Scores (neutral/negative/positive): [0.001 0.001 0.998]\n"
     ]
    },
    {
     "data": {
      "text/html": [
       "<span style=\"background-color:rgba(180,180,180,1.1111111111111112);\">Importance 1.00</span> <span style=\"background-color:rgba(135,206,250,0.3125);\">fast</span> <span style=\"background-color:rgba(135,206,250,0.22499999999999998);\">service</span> <span style=\"background-color:rgba(135,206,250,0.3375);\">,</span> <span style=\"background-color:rgba(135,206,250,1.25);\">excellent</span> <span style=\"background-color:rgba(135,206,250,1.25);\">customer</span> <span style=\"background-color:rgba(135,206,250,0.4125);\">support</span> <span style=\"background-color:rgba(135,206,250,0.22499999999999998);\">(</span> <span style=\"background-color:rgba(135,206,250,0.08750000000000001);\">they</span> <span style=\"background-color:rgba(135,206,250,0.2125);\">even</span> <span style=\"background-color:rgba(135,206,250,0.0625);\">sent</span> <span style=\"background-color:rgba(135,206,250,0.0375);\">me</span> <span style=\"background-color:rgba(135,206,250,0.049999999999999996);\">cookies</span> <span style=\"background-color:rgba(135,206,250,0.049999999999999996);\">home</span> <span style=\"background-color:rgba(135,206,250,0.0625);\">!</span> <span style=\"background-color:rgba(135,206,250,0.0625);\">)</span> <span style=\"background-color:rgba(135,206,250,0.25);\">,</span> <span style=\"background-color:rgba(135,206,250,0.1625);\">really</span> <span style=\"background-color:rgba(135,206,250,0.1625);\">good</span> <span style=\"background-color:rgba(135,206,250,0.0375);\">return</span> <span style=\"background-color:rgba(135,206,250,0.0625);\">service</span> <span style=\"background-color:rgba(135,206,250,0.024999999999999998);\">,</span> <span style=\"background-color:rgba(135,206,250,0.125);\">-</span> <span style=\"background-color:rgba(135,206,250,0.13749999999999998);\">1</span> <span style=\"background-color:rgba(135,206,250,0.09999999999999999);\">star</span> <span style=\"background-color:rgba(135,206,250,0.0375);\">for</span> <span style=\"background-color:rgba(135,206,250,0.012499999999999999);\">being</span> <span style=\"background-color:rgba(135,206,250,0.049999999999999996);\">pricier</span> <span style=\"background-color:rgba(135,206,250,0.012499999999999999);\">than</span> <span style=\"background-color:rgba(135,206,250,0.012499999999999999);\">other</span> <span style=\"background-color:rgba(135,206,250,0.024999999999999998);\">sites</span> <span style=\"background-color:rgba(135,206,250,0.0375);\">but</span> <span style=\"background-color:rgba(135,206,250,0.012499999999999999);\">you</span> <span style=\"background-color:rgba(135,206,250,0.0375);\">get</span> <span style=\"background-color:rgba(135,206,250,0.024999999999999998);\">what</span> <span style=\"background-color:rgba(135,206,250,0.012499999999999999);\">you</span> <span style=\"background-color:rgba(135,206,250,0.012499999999999999);\">pay</span> <span style=\"background-color:rgba(135,206,250,0.024999999999999998);\">i</span> <span style=\"background-color:rgba(135,206,250,0.012499999999999999);\">&#x27;</span> <span style=\"background-color:rgba(135,206,250,0.0375);\">d</span> <span style=\"background-color:rgba(135,206,250,0.0375);\">say</span> <span style=\"background-color:rgba(135,206,250,0.075);\">.</span><br> <span style=\"background-color:rgba(180,180,180,0.8555555555555555);\">Importance 0.77</span> <span style=\"background-color:rgba(135,206,250,0.2375);\">fast</span> <span style=\"background-color:rgba(135,206,250,0.09999999999999999);\">service</span> <span style=\"background-color:rgba(135,206,250,0.15);\">,</span> <span style=\"background-color:rgba(135,206,250,0.3375);\">excellent</span> <span style=\"background-color:rgba(135,206,250,0.9625);\">customer</span> <span style=\"background-color:rgba(135,206,250,0.9625);\">support</span> <span style=\"background-color:rgba(135,206,250,0.26249999999999996);\">(</span> <span style=\"background-color:rgba(135,206,250,0.08750000000000001);\">they</span> <span style=\"background-color:rgba(135,206,250,0.08750000000000001);\">even</span> <span style=\"background-color:rgba(135,206,250,0.0625);\">sent</span> <span style=\"background-color:rgba(135,206,250,0.024999999999999998);\">me</span> <span style=\"background-color:rgba(135,206,250,0.0625);\">cookies</span> <span style=\"background-color:rgba(135,206,250,0.0375);\">home</span> <span style=\"background-color:rgba(135,206,250,0.024999999999999998);\">!</span> <span style=\"background-color:rgba(135,206,250,0.024999999999999998);\">)</span> <span style=\"background-color:rgba(135,206,250,0.075);\">,</span> <span style=\"background-color:rgba(135,206,250,0.024999999999999998);\">really</span> <span style=\"background-color:rgba(135,206,250,0.0375);\">good</span> <span style=\"background-color:rgba(135,206,250,0.075);\">return</span> <span style=\"background-color:rgba(135,206,250,0.11249999999999999);\">service</span> <span style=\"background-color:rgba(135,206,250,0.024999999999999998);\">,</span> <span style=\"background-color:rgba(135,206,250,0.0375);\">-</span> <span style=\"background-color:rgba(135,206,250,0.0375);\">1</span> <span style=\"background-color:rgba(135,206,250,0.049999999999999996);\">star</span> <span style=\"background-color:rgba(135,206,250,0.012499999999999999);\">for</span> <span style=\"background-color:rgba(135,206,250,0.012499999999999999);\">being</span> <span style=\"background-color:rgba(135,206,250,0.049999999999999996);\">pricier</span> <span style=\"background-color:rgba(135,206,250,0.012499999999999999);\">than</span> <span style=\"background-color:rgba(135,206,250,0.012499999999999999);\">other</span> <span style=\"background-color:rgba(135,206,250,0.049999999999999996);\">sites</span> <span style=\"background-color:rgba(135,206,250,0.024999999999999998);\">but</span> <span style=\"background-color:rgba(135,206,250,0.012499999999999999);\">you</span> <span style=\"background-color:rgba(135,206,250,0.012499999999999999);\">get</span> <span style=\"background-color:rgba(135,206,250,0.012499999999999999);\">what</span> <span style=\"background-color:rgba(135,206,250,0.012499999999999999);\">you</span> <span style=\"background-color:rgba(135,206,250,0.024999999999999998);\">pay</span> <span style=\"background-color:rgba(135,206,250,0.012499999999999999);\">i</span> <span style=\"background-color:rgba(135,206,250,0.012499999999999999);\">&#x27;</span> <span style=\"background-color:rgba(135,206,250,0.012499999999999999);\">d</span> <span style=\"background-color:rgba(135,206,250,0.012499999999999999);\">say</span> <span style=\"background-color:rgba(135,206,250,0.0625);\">.</span><br> <span style=\"background-color:rgba(180,180,180,0.6222222222222222);\">Importance 0.56</span> <span style=\"background-color:rgba(135,206,250,0.7000000000000001);\">fast</span> <span style=\"background-color:rgba(135,206,250,0.4125);\">service</span> <span style=\"background-color:rgba(135,206,250,0.2375);\">,</span> <span style=\"background-color:rgba(135,206,250,0.39999999999999997);\">excellent</span> <span style=\"background-color:rgba(135,206,250,0.7000000000000001);\">customer</span> <span style=\"background-color:rgba(135,206,250,0.3375);\">support</span> <span style=\"background-color:rgba(135,206,250,0.11249999999999999);\">(</span> <span style=\"background-color:rgba(135,206,250,0.049999999999999996);\">they</span> <span style=\"background-color:rgba(135,206,250,0.08750000000000001);\">even</span> <span style=\"background-color:rgba(135,206,250,0.049999999999999996);\">sent</span> <span style=\"background-color:rgba(135,206,250,0.024999999999999998);\">me</span> <span style=\"background-color:rgba(135,206,250,0.049999999999999996);\">cookies</span> <span style=\"background-color:rgba(135,206,250,0.0375);\">home</span> <span style=\"background-color:rgba(135,206,250,0.0375);\">!</span> <span style=\"background-color:rgba(135,206,250,0.024999999999999998);\">)</span> <span style=\"background-color:rgba(135,206,250,0.1625);\">,</span> <span style=\"background-color:rgba(135,206,250,0.075);\">really</span> <span style=\"background-color:rgba(135,206,250,0.08750000000000001);\">good</span> <span style=\"background-color:rgba(135,206,250,0.049999999999999996);\">return</span> <span style=\"background-color:rgba(135,206,250,0.0625);\">service</span> <span style=\"background-color:rgba(135,206,250,0.024999999999999998);\">,</span> <span style=\"background-color:rgba(135,206,250,0.0625);\">-</span> <span style=\"background-color:rgba(135,206,250,0.075);\">1</span> <span style=\"background-color:rgba(135,206,250,0.08750000000000001);\">star</span> <span style=\"background-color:rgba(135,206,250,0.0375);\">for</span> <span style=\"background-color:rgba(135,206,250,0.012499999999999999);\">being</span> <span style=\"background-color:rgba(135,206,250,0.0375);\">pricier</span> <span style=\"background-color:rgba(135,206,250,0.012499999999999999);\">than</span> <span style=\"background-color:rgba(135,206,250,0.012499999999999999);\">other</span> <span style=\"background-color:rgba(135,206,250,0.0375);\">sites</span> <span style=\"background-color:rgba(135,206,250,0.024999999999999998);\">but</span> <span style=\"background-color:rgba(135,206,250,0.012499999999999999);\">you</span> <span style=\"background-color:rgba(135,206,250,0.012499999999999999);\">get</span> <span style=\"background-color:rgba(135,206,250,0.012499999999999999);\">what</span> <span style=\"background-color:rgba(135,206,250,0.012499999999999999);\">you</span> <span style=\"background-color:rgba(135,206,250,0.012499999999999999);\">pay</span> <span style=\"background-color:rgba(135,206,250,0.012499999999999999);\">i</span> <span style=\"background-color:rgba(135,206,250,0.012499999999999999);\">&#x27;</span> <span style=\"background-color:rgba(135,206,250,0.024999999999999998);\">d</span> <span style=\"background-color:rgba(135,206,250,0.024999999999999998);\">say</span> <span style=\"background-color:rgba(135,206,250,0.075);\">.</span><br> <span style=\"background-color:rgba(180,180,180,0.5333333333333333);\">Importance 0.48</span> <span style=\"background-color:rgba(135,206,250,0.18749999999999997);\">fast</span> <span style=\"background-color:rgba(135,206,250,0.049999999999999996);\">service</span> <span style=\"background-color:rgba(135,206,250,0.08750000000000001);\">,</span> <span style=\"background-color:rgba(135,206,250,0.17500000000000002);\">excellent</span> <span style=\"background-color:rgba(135,206,250,0.049999999999999996);\">customer</span> <span style=\"background-color:rgba(135,206,250,0.0625);\">support</span> <span style=\"background-color:rgba(135,206,250,0.125);\">(</span> <span style=\"background-color:rgba(135,206,250,0.0375);\">they</span> <span style=\"background-color:rgba(135,206,250,0.0625);\">even</span> <span style=\"background-color:rgba(135,206,250,0.0375);\">sent</span> <span style=\"background-color:rgba(135,206,250,0.0375);\">me</span> <span style=\"background-color:rgba(135,206,250,0.049999999999999996);\">cookies</span> <span style=\"background-color:rgba(135,206,250,0.0375);\">home</span> <span style=\"background-color:rgba(135,206,250,0.13749999999999998);\">!</span> <span style=\"background-color:rgba(135,206,250,0.075);\">)</span> <span style=\"background-color:rgba(135,206,250,0.09999999999999999);\">,</span> <span style=\"background-color:rgba(135,206,250,0.049999999999999996);\">really</span> <span style=\"background-color:rgba(135,206,250,0.0625);\">good</span> <span style=\"background-color:rgba(135,206,250,0.075);\">return</span> <span style=\"background-color:rgba(135,206,250,0.0625);\">service</span> <span style=\"background-color:rgba(135,206,250,0.08750000000000001);\">,</span> <span style=\"background-color:rgba(135,206,250,0.09999999999999999);\">-</span> <span style=\"background-color:rgba(135,206,250,0.075);\">1</span> <span style=\"background-color:rgba(135,206,250,0.1625);\">star</span> <span style=\"background-color:rgba(135,206,250,0.075);\">for</span> <span style=\"background-color:rgba(135,206,250,0.0375);\">being</span> <span style=\"background-color:rgba(135,206,250,0.075);\">pricier</span> <span style=\"background-color:rgba(135,206,250,0.0625);\">than</span> <span style=\"background-color:rgba(135,206,250,0.0375);\">other</span> <span style=\"background-color:rgba(135,206,250,0.08750000000000001);\">sites</span> <span style=\"background-color:rgba(135,206,250,0.13749999999999998);\">but</span> <span style=\"background-color:rgba(135,206,250,0.049999999999999996);\">you</span> <span style=\"background-color:rgba(135,206,250,0.075);\">get</span> <span style=\"background-color:rgba(135,206,250,0.075);\">what</span> <span style=\"background-color:rgba(135,206,250,0.049999999999999996);\">you</span> <span style=\"background-color:rgba(135,206,250,0.09999999999999999);\">pay</span> <span style=\"background-color:rgba(135,206,250,0.075);\">i</span> <span style=\"background-color:rgba(135,206,250,0.075);\">&#x27;</span> <span style=\"background-color:rgba(135,206,250,0.125);\">d</span> <span style=\"background-color:rgba(135,206,250,0.26249999999999996);\">say</span> <span style=\"background-color:rgba(135,206,250,0.6);\">.</span><br> <span style=\"background-color:rgba(180,180,180,0.4222222222222222);\">Importance 0.38</span> <span style=\"background-color:rgba(135,206,250,0.075);\">fast</span> <span style=\"background-color:rgba(135,206,250,0.049999999999999996);\">service</span> <span style=\"background-color:rgba(135,206,250,0.0375);\">,</span> <span style=\"background-color:rgba(135,206,250,0.09999999999999999);\">excellent</span> <span style=\"background-color:rgba(135,206,250,0.049999999999999996);\">customer</span> <span style=\"background-color:rgba(135,206,250,0.0375);\">support</span> <span style=\"background-color:rgba(135,206,250,0.024999999999999998);\">(</span> <span style=\"background-color:rgba(135,206,250,0.012499999999999999);\">they</span> <span style=\"background-color:rgba(135,206,250,0.024999999999999998);\">even</span> <span style=\"background-color:rgba(135,206,250,0.024999999999999998);\">sent</span> <span style=\"background-color:rgba(135,206,250,0.012499999999999999);\">me</span> <span style=\"background-color:rgba(135,206,250,0.0375);\">cookies</span> <span style=\"background-color:rgba(135,206,250,0.024999999999999998);\">home</span> <span style=\"background-color:rgba(135,206,250,0.024999999999999998);\">!</span> <span style=\"background-color:rgba(135,206,250,0.012499999999999999);\">)</span> <span style=\"background-color:rgba(135,206,250,0.049999999999999996);\">,</span> <span style=\"background-color:rgba(135,206,250,0.049999999999999996);\">really</span> <span style=\"background-color:rgba(135,206,250,0.049999999999999996);\">good</span> <span style=\"background-color:rgba(135,206,250,0.0375);\">return</span> <span style=\"background-color:rgba(135,206,250,0.08750000000000001);\">service</span> <span style=\"background-color:rgba(135,206,250,0.09999999999999999);\">,</span> <span style=\"background-color:rgba(135,206,250,0.22499999999999998);\">-</span> <span style=\"background-color:rgba(135,206,250,0.2875);\">1</span> <span style=\"background-color:rgba(135,206,250,0.475);\">star</span> <span style=\"background-color:rgba(135,206,250,0.475);\">for</span> <span style=\"background-color:rgba(135,206,250,0.08750000000000001);\">being</span> <span style=\"background-color:rgba(135,206,250,0.125);\">pricier</span> <span style=\"background-color:rgba(135,206,250,0.049999999999999996);\">than</span> <span style=\"background-color:rgba(135,206,250,0.0375);\">other</span> <span style=\"background-color:rgba(135,206,250,0.08750000000000001);\">sites</span> <span style=\"background-color:rgba(135,206,250,0.125);\">but</span> <span style=\"background-color:rgba(135,206,250,0.0375);\">you</span> <span style=\"background-color:rgba(135,206,250,0.0375);\">get</span> <span style=\"background-color:rgba(135,206,250,0.024999999999999998);\">what</span> <span style=\"background-color:rgba(135,206,250,0.024999999999999998);\">you</span> <span style=\"background-color:rgba(135,206,250,0.0625);\">pay</span> <span style=\"background-color:rgba(135,206,250,0.0375);\">i</span> <span style=\"background-color:rgba(135,206,250,0.012499999999999999);\">&#x27;</span> <span style=\"background-color:rgba(135,206,250,0.024999999999999998);\">d</span> <span style=\"background-color:rgba(135,206,250,0.024999999999999998);\">say</span> <span style=\"background-color:rgba(135,206,250,0.075);\">.</span><br>"
      ],
      "text/plain": [
       "<IPython.core.display.HTML object>"
      ]
     },
     "metadata": {},
     "output_type": "display_data"
    }
   ],
   "source": [
    "absa.summary(customer)\n",
    "absa.display(customer.review)"
   ]
  },
  {
   "cell_type": "code",
   "execution_count": 28,
   "metadata": {},
   "outputs": [
    {
     "name": "stdout",
     "output_type": "stream",
     "text": [
      "Sentiment.positive for \"price\"\n",
      "Scores (neutral/negative/positive): [0.162 0.336 0.502]\n"
     ]
    },
    {
     "data": {
      "text/html": [
       "<span style=\"background-color:rgba(180,180,180,1.1111111111111112);\">Importance 1.00</span> <span style=\"background-color:rgba(135,206,250,0.1625);\">fast</span> <span style=\"background-color:rgba(135,206,250,0.024999999999999998);\">service</span> <span style=\"background-color:rgba(135,206,250,0.0625);\">,</span> <span style=\"background-color:rgba(135,206,250,0.15);\">excellent</span> <span style=\"background-color:rgba(135,206,250,0.024999999999999998);\">customer</span> <span style=\"background-color:rgba(135,206,250,0.0375);\">support</span> <span style=\"background-color:rgba(135,206,250,0.0375);\">(</span> <span style=\"background-color:rgba(135,206,250,0.0375);\">they</span> <span style=\"background-color:rgba(135,206,250,0.0375);\">even</span> <span style=\"background-color:rgba(135,206,250,0.024999999999999998);\">sent</span> <span style=\"background-color:rgba(135,206,250,0.012499999999999999);\">me</span> <span style=\"background-color:rgba(135,206,250,0.0375);\">cookies</span> <span style=\"background-color:rgba(135,206,250,0.024999999999999998);\">home</span> <span style=\"background-color:rgba(135,206,250,0.049999999999999996);\">!</span> <span style=\"background-color:rgba(135,206,250,0.024999999999999998);\">)</span> <span style=\"background-color:rgba(135,206,250,0.08750000000000001);\">,</span> <span style=\"background-color:rgba(135,206,250,0.19999999999999998);\">really</span> <span style=\"background-color:rgba(135,206,250,0.19999999999999998);\">good</span> <span style=\"background-color:rgba(135,206,250,0.075);\">return</span> <span style=\"background-color:rgba(135,206,250,0.075);\">service</span> <span style=\"background-color:rgba(135,206,250,0.2125);\">,</span> <span style=\"background-color:rgba(135,206,250,0.5499999999999999);\">-</span> <span style=\"background-color:rgba(135,206,250,1.25);\">1</span> <span style=\"background-color:rgba(135,206,250,1.25);\">star</span> <span style=\"background-color:rgba(135,206,250,0.95);\">for</span> <span style=\"background-color:rgba(135,206,250,0.1625);\">being</span> <span style=\"background-color:rgba(135,206,250,0.3375);\">pricier</span> <span style=\"background-color:rgba(135,206,250,0.17500000000000002);\">than</span> <span style=\"background-color:rgba(135,206,250,0.11249999999999999);\">other</span> <span style=\"background-color:rgba(135,206,250,0.09999999999999999);\">sites</span> <span style=\"background-color:rgba(135,206,250,0.5);\">but</span> <span style=\"background-color:rgba(135,206,250,0.0625);\">you</span> <span style=\"background-color:rgba(135,206,250,0.0375);\">get</span> <span style=\"background-color:rgba(135,206,250,0.049999999999999996);\">what</span> <span style=\"background-color:rgba(135,206,250,0.024999999999999998);\">you</span> <span style=\"background-color:rgba(135,206,250,0.049999999999999996);\">pay</span> <span style=\"background-color:rgba(135,206,250,0.0625);\">i</span> <span style=\"background-color:rgba(135,206,250,0.0375);\">&#x27;</span> <span style=\"background-color:rgba(135,206,250,0.049999999999999996);\">d</span> <span style=\"background-color:rgba(135,206,250,0.049999999999999996);\">say</span> <span style=\"background-color:rgba(135,206,250,0.17500000000000002);\">.</span><br> <span style=\"background-color:rgba(180,180,180,0.8111111111111111);\">Importance 0.73</span> <span style=\"background-color:rgba(135,206,250,0.0375);\">fast</span> <span style=\"background-color:rgba(135,206,250,0.024999999999999998);\">service</span> <span style=\"background-color:rgba(135,206,250,0.024999999999999998);\">,</span> <span style=\"background-color:rgba(135,206,250,0.0625);\">excellent</span> <span style=\"background-color:rgba(135,206,250,0.024999999999999998);\">customer</span> <span style=\"background-color:rgba(135,206,250,0.024999999999999998);\">support</span> <span style=\"background-color:rgba(135,206,250,0.024999999999999998);\">(</span> <span style=\"background-color:rgba(135,206,250,0.012499999999999999);\">they</span> <span style=\"background-color:rgba(135,206,250,0.0375);\">even</span> <span style=\"background-color:rgba(135,206,250,0.0375);\">sent</span> <span style=\"background-color:rgba(135,206,250,0.012499999999999999);\">me</span> <span style=\"background-color:rgba(135,206,250,0.0375);\">cookies</span> <span style=\"background-color:rgba(135,206,250,0.024999999999999998);\">home</span> <span style=\"background-color:rgba(135,206,250,0.024999999999999998);\">!</span> <span style=\"background-color:rgba(135,206,250,0.012499999999999999);\">)</span> <span style=\"background-color:rgba(135,206,250,0.0375);\">,</span> <span style=\"background-color:rgba(135,206,250,0.049999999999999996);\">really</span> <span style=\"background-color:rgba(135,206,250,0.08750000000000001);\">good</span> <span style=\"background-color:rgba(135,206,250,0.049999999999999996);\">return</span> <span style=\"background-color:rgba(135,206,250,0.049999999999999996);\">service</span> <span style=\"background-color:rgba(135,206,250,0.0375);\">,</span> <span style=\"background-color:rgba(135,206,250,0.049999999999999996);\">-</span> <span style=\"background-color:rgba(135,206,250,0.075);\">1</span> <span style=\"background-color:rgba(135,206,250,0.11249999999999999);\">star</span> <span style=\"background-color:rgba(135,206,250,0.09999999999999999);\">for</span> <span style=\"background-color:rgba(135,206,250,0.08750000000000001);\">being</span> <span style=\"background-color:rgba(135,206,250,0.18749999999999997);\">pricier</span> <span style=\"background-color:rgba(135,206,250,0.11249999999999999);\">than</span> <span style=\"background-color:rgba(135,206,250,0.0625);\">other</span> <span style=\"background-color:rgba(135,206,250,0.08750000000000001);\">sites</span> <span style=\"background-color:rgba(135,206,250,0.475);\">but</span> <span style=\"background-color:rgba(135,206,250,0.7124999999999999);\">you</span> <span style=\"background-color:rgba(135,206,250,0.9125);\">get</span> <span style=\"background-color:rgba(135,206,250,0.9125);\">what</span> <span style=\"background-color:rgba(135,206,250,0.5);\">you</span> <span style=\"background-color:rgba(135,206,250,0.6);\">pay</span> <span style=\"background-color:rgba(135,206,250,0.13749999999999998);\">i</span> <span style=\"background-color:rgba(135,206,250,0.024999999999999998);\">&#x27;</span> <span style=\"background-color:rgba(135,206,250,0.11249999999999999);\">d</span> <span style=\"background-color:rgba(135,206,250,0.19999999999999998);\">say</span> <span style=\"background-color:rgba(135,206,250,0.15);\">.</span><br> <span style=\"background-color:rgba(180,180,180,0.6666666666666666);\">Importance 0.60</span> <span style=\"background-color:rgba(135,206,250,0.024999999999999998);\">fast</span> <span style=\"background-color:rgba(135,206,250,0.049999999999999996);\">service</span> <span style=\"background-color:rgba(135,206,250,0.024999999999999998);\">,</span> <span style=\"background-color:rgba(135,206,250,0.0375);\">excellent</span> <span style=\"background-color:rgba(135,206,250,0.0625);\">customer</span> <span style=\"background-color:rgba(135,206,250,0.049999999999999996);\">support</span> <span style=\"background-color:rgba(135,206,250,0.024999999999999998);\">(</span> <span style=\"background-color:rgba(135,206,250,0.024999999999999998);\">they</span> <span style=\"background-color:rgba(135,206,250,0.024999999999999998);\">even</span> <span style=\"background-color:rgba(135,206,250,0.075);\">sent</span> <span style=\"background-color:rgba(135,206,250,0.012499999999999999);\">me</span> <span style=\"background-color:rgba(135,206,250,0.049999999999999996);\">cookies</span> <span style=\"background-color:rgba(135,206,250,0.0625);\">home</span> <span style=\"background-color:rgba(135,206,250,0.0375);\">!</span> <span style=\"background-color:rgba(135,206,250,0.024999999999999998);\">)</span> <span style=\"background-color:rgba(135,206,250,0.0375);\">,</span> <span style=\"background-color:rgba(135,206,250,0.012499999999999999);\">really</span> <span style=\"background-color:rgba(135,206,250,0.0375);\">good</span> <span style=\"background-color:rgba(135,206,250,0.08750000000000001);\">return</span> <span style=\"background-color:rgba(135,206,250,0.075);\">service</span> <span style=\"background-color:rgba(135,206,250,0.049999999999999996);\">,</span> <span style=\"background-color:rgba(135,206,250,0.0375);\">-</span> <span style=\"background-color:rgba(135,206,250,0.0375);\">1</span> <span style=\"background-color:rgba(135,206,250,0.08750000000000001);\">star</span> <span style=\"background-color:rgba(135,206,250,0.075);\">for</span> <span style=\"background-color:rgba(135,206,250,0.049999999999999996);\">being</span> <span style=\"background-color:rgba(135,206,250,0.1625);\">pricier</span> <span style=\"background-color:rgba(135,206,250,0.049999999999999996);\">than</span> <span style=\"background-color:rgba(135,206,250,0.049999999999999996);\">other</span> <span style=\"background-color:rgba(135,206,250,0.09999999999999999);\">sites</span> <span style=\"background-color:rgba(135,206,250,0.1625);\">but</span> <span style=\"background-color:rgba(135,206,250,0.11249999999999999);\">you</span> <span style=\"background-color:rgba(135,206,250,0.35000000000000003);\">get</span> <span style=\"background-color:rgba(135,206,250,0.5874999999999999);\">what</span> <span style=\"background-color:rgba(135,206,250,0.39999999999999997);\">you</span> <span style=\"background-color:rgba(135,206,250,0.7499999999999999);\">pay</span> <span style=\"background-color:rgba(135,206,250,0.27499999999999997);\">i</span> <span style=\"background-color:rgba(135,206,250,0.049999999999999996);\">&#x27;</span> <span style=\"background-color:rgba(135,206,250,0.125);\">d</span> <span style=\"background-color:rgba(135,206,250,0.22499999999999998);\">say</span> <span style=\"background-color:rgba(135,206,250,0.1625);\">.</span><br> <span style=\"background-color:rgba(180,180,180,0.5);\">Importance 0.45</span> <span style=\"background-color:rgba(135,206,250,0.5625);\">fast</span> <span style=\"background-color:rgba(135,206,250,0.46249999999999997);\">service</span> <span style=\"background-color:rgba(135,206,250,0.26249999999999996);\">,</span> <span style=\"background-color:rgba(135,206,250,0.4125);\">excellent</span> <span style=\"background-color:rgba(135,206,250,0.18749999999999997);\">customer</span> <span style=\"background-color:rgba(135,206,250,0.5625);\">support</span> <span style=\"background-color:rgba(135,206,250,0.125);\">(</span> <span style=\"background-color:rgba(135,206,250,0.0625);\">they</span> <span style=\"background-color:rgba(135,206,250,0.13749999999999998);\">even</span> <span style=\"background-color:rgba(135,206,250,0.049999999999999996);\">sent</span> <span style=\"background-color:rgba(135,206,250,0.024999999999999998);\">me</span> <span style=\"background-color:rgba(135,206,250,0.0625);\">cookies</span> <span style=\"background-color:rgba(135,206,250,0.0375);\">home</span> <span style=\"background-color:rgba(135,206,250,0.0375);\">!</span> <span style=\"background-color:rgba(135,206,250,0.024999999999999998);\">)</span> <span style=\"background-color:rgba(135,206,250,0.13749999999999998);\">,</span> <span style=\"background-color:rgba(135,206,250,0.09999999999999999);\">really</span> <span style=\"background-color:rgba(135,206,250,0.13749999999999998);\">good</span> <span style=\"background-color:rgba(135,206,250,0.075);\">return</span> <span style=\"background-color:rgba(135,206,250,0.08750000000000001);\">service</span> <span style=\"background-color:rgba(135,206,250,0.0375);\">,</span> <span style=\"background-color:rgba(135,206,250,0.075);\">-</span> <span style=\"background-color:rgba(135,206,250,0.09999999999999999);\">1</span> <span style=\"background-color:rgba(135,206,250,0.08750000000000001);\">star</span> <span style=\"background-color:rgba(135,206,250,0.049999999999999996);\">for</span> <span style=\"background-color:rgba(135,206,250,0.024999999999999998);\">being</span> <span style=\"background-color:rgba(135,206,250,0.0375);\">pricier</span> <span style=\"background-color:rgba(135,206,250,0.012499999999999999);\">than</span> <span style=\"background-color:rgba(135,206,250,0.012499999999999999);\">other</span> <span style=\"background-color:rgba(135,206,250,0.049999999999999996);\">sites</span> <span style=\"background-color:rgba(135,206,250,0.024999999999999998);\">but</span> <span style=\"background-color:rgba(135,206,250,0.012499999999999999);\">you</span> <span style=\"background-color:rgba(135,206,250,0.012499999999999999);\">get</span> <span style=\"background-color:rgba(135,206,250,0.024999999999999998);\">what</span> <span style=\"background-color:rgba(135,206,250,0.012499999999999999);\">you</span> <span style=\"background-color:rgba(135,206,250,0.024999999999999998);\">pay</span> <span style=\"background-color:rgba(135,206,250,0.012499999999999999);\">i</span> <span style=\"background-color:rgba(135,206,250,0.012499999999999999);\">&#x27;</span> <span style=\"background-color:rgba(135,206,250,0.012499999999999999);\">d</span> <span style=\"background-color:rgba(135,206,250,0.024999999999999998);\">say</span> <span style=\"background-color:rgba(135,206,250,0.075);\">.</span><br> <span style=\"background-color:rgba(180,180,180,0.4888888888888889);\">Importance 0.44</span> <span style=\"background-color:rgba(135,206,250,0.08750000000000001);\">fast</span> <span style=\"background-color:rgba(135,206,250,0.049999999999999996);\">service</span> <span style=\"background-color:rgba(135,206,250,0.11249999999999999);\">,</span> <span style=\"background-color:rgba(135,206,250,0.11249999999999999);\">excellent</span> <span style=\"background-color:rgba(135,206,250,0.049999999999999996);\">customer</span> <span style=\"background-color:rgba(135,206,250,0.0625);\">support</span> <span style=\"background-color:rgba(135,206,250,0.11249999999999999);\">(</span> <span style=\"background-color:rgba(135,206,250,0.0375);\">they</span> <span style=\"background-color:rgba(135,206,250,0.049999999999999996);\">even</span> <span style=\"background-color:rgba(135,206,250,0.0375);\">sent</span> <span style=\"background-color:rgba(135,206,250,0.0375);\">me</span> <span style=\"background-color:rgba(135,206,250,0.0625);\">cookies</span> <span style=\"background-color:rgba(135,206,250,0.049999999999999996);\">home</span> <span style=\"background-color:rgba(135,206,250,0.1625);\">!</span> <span style=\"background-color:rgba(135,206,250,0.075);\">)</span> <span style=\"background-color:rgba(135,206,250,0.11249999999999999);\">,</span> <span style=\"background-color:rgba(135,206,250,0.075);\">really</span> <span style=\"background-color:rgba(135,206,250,0.049999999999999996);\">good</span> <span style=\"background-color:rgba(135,206,250,0.08750000000000001);\">return</span> <span style=\"background-color:rgba(135,206,250,0.075);\">service</span> <span style=\"background-color:rgba(135,206,250,0.09999999999999999);\">,</span> <span style=\"background-color:rgba(135,206,250,0.13749999999999998);\">-</span> <span style=\"background-color:rgba(135,206,250,0.075);\">1</span> <span style=\"background-color:rgba(135,206,250,0.13749999999999998);\">star</span> <span style=\"background-color:rgba(135,206,250,0.08750000000000001);\">for</span> <span style=\"background-color:rgba(135,206,250,0.0375);\">being</span> <span style=\"background-color:rgba(135,206,250,0.08750000000000001);\">pricier</span> <span style=\"background-color:rgba(135,206,250,0.0625);\">than</span> <span style=\"background-color:rgba(135,206,250,0.0375);\">other</span> <span style=\"background-color:rgba(135,206,250,0.11249999999999999);\">sites</span> <span style=\"background-color:rgba(135,206,250,0.13749999999999998);\">but</span> <span style=\"background-color:rgba(135,206,250,0.0625);\">you</span> <span style=\"background-color:rgba(135,206,250,0.075);\">get</span> <span style=\"background-color:rgba(135,206,250,0.09999999999999999);\">what</span> <span style=\"background-color:rgba(135,206,250,0.0625);\">you</span> <span style=\"background-color:rgba(135,206,250,0.19999999999999998);\">pay</span> <span style=\"background-color:rgba(135,206,250,0.13749999999999998);\">i</span> <span style=\"background-color:rgba(135,206,250,0.08750000000000001);\">&#x27;</span> <span style=\"background-color:rgba(135,206,250,0.15);\">d</span> <span style=\"background-color:rgba(135,206,250,0.19999999999999998);\">say</span> <span style=\"background-color:rgba(135,206,250,0.5499999999999999);\">.</span><br>"
      ],
      "text/plain": [
       "<IPython.core.display.HTML object>"
      ]
     },
     "metadata": {},
     "output_type": "display_data"
    }
   ],
   "source": [
    "absa.summary(price)\n",
    "absa.display(price.review)"
   ]
  },
  {
   "cell_type": "code",
   "execution_count": 29,
   "metadata": {},
   "outputs": [
    {
     "name": "stdout",
     "output_type": "stream",
     "text": [
      "Sentiment.negative for \"delivery\"\n",
      "Scores (neutral/negative/positive): [0.161 0.625 0.214]\n"
     ]
    },
    {
     "data": {
      "text/html": [
       "<span style=\"background-color:rgba(180,180,180,1.1111111111111112);\">Importance 1.00</span> <span style=\"background-color:rgba(135,206,250,0.15);\">fast</span> <span style=\"background-color:rgba(135,206,250,0.0375);\">service</span> <span style=\"background-color:rgba(135,206,250,0.08750000000000001);\">,</span> <span style=\"background-color:rgba(135,206,250,0.1625);\">excellent</span> <span style=\"background-color:rgba(135,206,250,0.0375);\">customer</span> <span style=\"background-color:rgba(135,206,250,0.049999999999999996);\">support</span> <span style=\"background-color:rgba(135,206,250,0.049999999999999996);\">(</span> <span style=\"background-color:rgba(135,206,250,0.049999999999999996);\">they</span> <span style=\"background-color:rgba(135,206,250,0.049999999999999996);\">even</span> <span style=\"background-color:rgba(135,206,250,0.024999999999999998);\">sent</span> <span style=\"background-color:rgba(135,206,250,0.024999999999999998);\">me</span> <span style=\"background-color:rgba(135,206,250,0.0625);\">cookies</span> <span style=\"background-color:rgba(135,206,250,0.0375);\">home</span> <span style=\"background-color:rgba(135,206,250,0.0625);\">!</span> <span style=\"background-color:rgba(135,206,250,0.0375);\">)</span> <span style=\"background-color:rgba(135,206,250,0.11249999999999999);\">,</span> <span style=\"background-color:rgba(135,206,250,0.2125);\">really</span> <span style=\"background-color:rgba(135,206,250,0.2125);\">good</span> <span style=\"background-color:rgba(135,206,250,0.09999999999999999);\">return</span> <span style=\"background-color:rgba(135,206,250,0.08750000000000001);\">service</span> <span style=\"background-color:rgba(135,206,250,0.2375);\">,</span> <span style=\"background-color:rgba(135,206,250,0.5874999999999999);\">-</span> <span style=\"background-color:rgba(135,206,250,1.25);\">1</span> <span style=\"background-color:rgba(135,206,250,1.25);\">star</span> <span style=\"background-color:rgba(135,206,250,0.8749999999999999);\">for</span> <span style=\"background-color:rgba(135,206,250,0.13749999999999998);\">being</span> <span style=\"background-color:rgba(135,206,250,0.2875);\">pricier</span> <span style=\"background-color:rgba(135,206,250,0.18749999999999997);\">than</span> <span style=\"background-color:rgba(135,206,250,0.11249999999999999);\">other</span> <span style=\"background-color:rgba(135,206,250,0.11249999999999999);\">sites</span> <span style=\"background-color:rgba(135,206,250,0.38749999999999996);\">but</span> <span style=\"background-color:rgba(135,206,250,0.0625);\">you</span> <span style=\"background-color:rgba(135,206,250,0.0375);\">get</span> <span style=\"background-color:rgba(135,206,250,0.049999999999999996);\">what</span> <span style=\"background-color:rgba(135,206,250,0.0375);\">you</span> <span style=\"background-color:rgba(135,206,250,0.049999999999999996);\">pay</span> <span style=\"background-color:rgba(135,206,250,0.075);\">i</span> <span style=\"background-color:rgba(135,206,250,0.049999999999999996);\">&#x27;</span> <span style=\"background-color:rgba(135,206,250,0.075);\">d</span> <span style=\"background-color:rgba(135,206,250,0.0625);\">say</span> <span style=\"background-color:rgba(135,206,250,0.19999999999999998);\">.</span><br> <span style=\"background-color:rgba(180,180,180,0.911111111111111);\">Importance 0.82</span> <span style=\"background-color:rgba(135,206,250,0.049999999999999996);\">fast</span> <span style=\"background-color:rgba(135,206,250,0.075);\">service</span> <span style=\"background-color:rgba(135,206,250,0.049999999999999996);\">,</span> <span style=\"background-color:rgba(135,206,250,0.0375);\">excellent</span> <span style=\"background-color:rgba(135,206,250,0.13749999999999998);\">customer</span> <span style=\"background-color:rgba(135,206,250,0.125);\">support</span> <span style=\"background-color:rgba(135,206,250,0.0375);\">(</span> <span style=\"background-color:rgba(135,206,250,0.0375);\">they</span> <span style=\"background-color:rgba(135,206,250,0.024999999999999998);\">even</span> <span style=\"background-color:rgba(135,206,250,0.0375);\">sent</span> <span style=\"background-color:rgba(135,206,250,0.0375);\">me</span> <span style=\"background-color:rgba(135,206,250,0.11249999999999999);\">cookies</span> <span style=\"background-color:rgba(135,206,250,0.08750000000000001);\">home</span> <span style=\"background-color:rgba(135,206,250,0.0375);\">!</span> <span style=\"background-color:rgba(135,206,250,0.024999999999999998);\">)</span> <span style=\"background-color:rgba(135,206,250,0.08750000000000001);\">,</span> <span style=\"background-color:rgba(135,206,250,0.024999999999999998);\">really</span> <span style=\"background-color:rgba(135,206,250,0.0375);\">good</span> <span style=\"background-color:rgba(135,206,250,0.3125);\">return</span> <span style=\"background-color:rgba(135,206,250,0.19999999999999998);\">service</span> <span style=\"background-color:rgba(135,206,250,0.13749999999999998);\">,</span> <span style=\"background-color:rgba(135,206,250,0.09999999999999999);\">-</span> <span style=\"background-color:rgba(135,206,250,0.0625);\">1</span> <span style=\"background-color:rgba(135,206,250,0.13749999999999998);\">star</span> <span style=\"background-color:rgba(135,206,250,0.11249999999999999);\">for</span> <span style=\"background-color:rgba(135,206,250,0.2125);\">being</span> <span style=\"background-color:rgba(135,206,250,0.7124999999999999);\">pricier</span> <span style=\"background-color:rgba(135,206,250,0.5625);\">than</span> <span style=\"background-color:rgba(135,206,250,0.7625);\">other</span> <span style=\"background-color:rgba(135,206,250,1.025);\">sites</span> <span style=\"background-color:rgba(135,206,250,0.3125);\">but</span> <span style=\"background-color:rgba(135,206,250,0.08750000000000001);\">you</span> <span style=\"background-color:rgba(135,206,250,0.075);\">get</span> <span style=\"background-color:rgba(135,206,250,0.08750000000000001);\">what</span> <span style=\"background-color:rgba(135,206,250,0.049999999999999996);\">you</span> <span style=\"background-color:rgba(135,206,250,0.15);\">pay</span> <span style=\"background-color:rgba(135,206,250,0.0375);\">i</span> <span style=\"background-color:rgba(135,206,250,0.024999999999999998);\">&#x27;</span> <span style=\"background-color:rgba(135,206,250,0.0375);\">d</span> <span style=\"background-color:rgba(135,206,250,0.049999999999999996);\">say</span> <span style=\"background-color:rgba(135,206,250,0.22499999999999998);\">.</span><br> <span style=\"background-color:rgba(180,180,180,0.911111111111111);\">Importance 0.82</span> <span style=\"background-color:rgba(135,206,250,0.11249999999999999);\">fast</span> <span style=\"background-color:rgba(135,206,250,0.0375);\">service</span> <span style=\"background-color:rgba(135,206,250,0.09999999999999999);\">,</span> <span style=\"background-color:rgba(135,206,250,0.125);\">excellent</span> <span style=\"background-color:rgba(135,206,250,0.024999999999999998);\">customer</span> <span style=\"background-color:rgba(135,206,250,0.0375);\">support</span> <span style=\"background-color:rgba(135,206,250,0.024999999999999998);\">(</span> <span style=\"background-color:rgba(135,206,250,0.024999999999999998);\">they</span> <span style=\"background-color:rgba(135,206,250,0.0375);\">even</span> <span style=\"background-color:rgba(135,206,250,0.024999999999999998);\">sent</span> <span style=\"background-color:rgba(135,206,250,0.012499999999999999);\">me</span> <span style=\"background-color:rgba(135,206,250,0.024999999999999998);\">cookies</span> <span style=\"background-color:rgba(135,206,250,0.024999999999999998);\">home</span> <span style=\"background-color:rgba(135,206,250,0.024999999999999998);\">!</span> <span style=\"background-color:rgba(135,206,250,0.024999999999999998);\">)</span> <span style=\"background-color:rgba(135,206,250,0.125);\">,</span> <span style=\"background-color:rgba(135,206,250,0.0625);\">really</span> <span style=\"background-color:rgba(135,206,250,0.13749999999999998);\">good</span> <span style=\"background-color:rgba(135,206,250,0.0375);\">return</span> <span style=\"background-color:rgba(135,206,250,0.049999999999999996);\">service</span> <span style=\"background-color:rgba(135,206,250,0.18749999999999997);\">,</span> <span style=\"background-color:rgba(135,206,250,0.43749999999999994);\">-</span> <span style=\"background-color:rgba(135,206,250,0.3375);\">1</span> <span style=\"background-color:rgba(135,206,250,1.025);\">star</span> <span style=\"background-color:rgba(135,206,250,1.025);\">for</span> <span style=\"background-color:rgba(135,206,250,0.6875);\">being</span> <span style=\"background-color:rgba(135,206,250,0.625);\">pricier</span> <span style=\"background-color:rgba(135,206,250,0.26249999999999996);\">than</span> <span style=\"background-color:rgba(135,206,250,0.15);\">other</span> <span style=\"background-color:rgba(135,206,250,0.125);\">sites</span> <span style=\"background-color:rgba(135,206,250,0.44999999999999996);\">but</span> <span style=\"background-color:rgba(135,206,250,0.08750000000000001);\">you</span> <span style=\"background-color:rgba(135,206,250,0.0375);\">get</span> <span style=\"background-color:rgba(135,206,250,0.049999999999999996);\">what</span> <span style=\"background-color:rgba(135,206,250,0.024999999999999998);\">you</span> <span style=\"background-color:rgba(135,206,250,0.049999999999999996);\">pay</span> <span style=\"background-color:rgba(135,206,250,0.0625);\">i</span> <span style=\"background-color:rgba(135,206,250,0.012499999999999999);\">&#x27;</span> <span style=\"background-color:rgba(135,206,250,0.0375);\">d</span> <span style=\"background-color:rgba(135,206,250,0.0375);\">say</span> <span style=\"background-color:rgba(135,206,250,0.125);\">.</span><br> <span style=\"background-color:rgba(180,180,180,0.8555555555555555);\">Importance 0.77</span> <span style=\"background-color:rgba(135,206,250,0.575);\">fast</span> <span style=\"background-color:rgba(135,206,250,0.4125);\">service</span> <span style=\"background-color:rgba(135,206,250,0.9625);\">,</span> <span style=\"background-color:rgba(135,206,250,0.9625);\">excellent</span> <span style=\"background-color:rgba(135,206,250,0.125);\">customer</span> <span style=\"background-color:rgba(135,206,250,0.44999999999999996);\">support</span> <span style=\"background-color:rgba(135,206,250,0.44999999999999996);\">(</span> <span style=\"background-color:rgba(135,206,250,0.08750000000000001);\">they</span> <span style=\"background-color:rgba(135,206,250,0.1625);\">even</span> <span style=\"background-color:rgba(135,206,250,0.075);\">sent</span> <span style=\"background-color:rgba(135,206,250,0.049999999999999996);\">me</span> <span style=\"background-color:rgba(135,206,250,0.0625);\">cookies</span> <span style=\"background-color:rgba(135,206,250,0.0375);\">home</span> <span style=\"background-color:rgba(135,206,250,0.125);\">!</span> <span style=\"background-color:rgba(135,206,250,0.125);\">)</span> <span style=\"background-color:rgba(135,206,250,0.5499999999999999);\">,</span> <span style=\"background-color:rgba(135,206,250,0.11249999999999999);\">really</span> <span style=\"background-color:rgba(135,206,250,0.13749999999999998);\">good</span> <span style=\"background-color:rgba(135,206,250,0.08750000000000001);\">return</span> <span style=\"background-color:rgba(135,206,250,0.1625);\">service</span> <span style=\"background-color:rgba(135,206,250,0.2375);\">,</span> <span style=\"background-color:rgba(135,206,250,0.3375);\">-</span> <span style=\"background-color:rgba(135,206,250,0.2375);\">1</span> <span style=\"background-color:rgba(135,206,250,0.15);\">star</span> <span style=\"background-color:rgba(135,206,250,0.09999999999999999);\">for</span> <span style=\"background-color:rgba(135,206,250,0.049999999999999996);\">being</span> <span style=\"background-color:rgba(135,206,250,0.049999999999999996);\">pricier</span> <span style=\"background-color:rgba(135,206,250,0.024999999999999998);\">than</span> <span style=\"background-color:rgba(135,206,250,0.024999999999999998);\">other</span> <span style=\"background-color:rgba(135,206,250,0.075);\">sites</span> <span style=\"background-color:rgba(135,206,250,0.0625);\">but</span> <span style=\"background-color:rgba(135,206,250,0.0375);\">you</span> <span style=\"background-color:rgba(135,206,250,0.024999999999999998);\">get</span> <span style=\"background-color:rgba(135,206,250,0.024999999999999998);\">what</span> <span style=\"background-color:rgba(135,206,250,0.012499999999999999);\">you</span> <span style=\"background-color:rgba(135,206,250,0.024999999999999998);\">pay</span> <span style=\"background-color:rgba(135,206,250,0.0375);\">i</span> <span style=\"background-color:rgba(135,206,250,0.012499999999999999);\">&#x27;</span> <span style=\"background-color:rgba(135,206,250,0.024999999999999998);\">d</span> <span style=\"background-color:rgba(135,206,250,0.024999999999999998);\">say</span> <span style=\"background-color:rgba(135,206,250,0.22499999999999998);\">.</span><br> <span style=\"background-color:rgba(180,180,180,0.7555555555555555);\">Importance 0.68</span> <span style=\"background-color:rgba(135,206,250,0.25);\">fast</span> <span style=\"background-color:rgba(135,206,250,0.11249999999999999);\">service</span> <span style=\"background-color:rgba(135,206,250,0.17500000000000002);\">,</span> <span style=\"background-color:rgba(135,206,250,0.2875);\">excellent</span> <span style=\"background-color:rgba(135,206,250,0.11249999999999999);\">customer</span> <span style=\"background-color:rgba(135,206,250,0.13749999999999998);\">support</span> <span style=\"background-color:rgba(135,206,250,0.18749999999999997);\">(</span> <span style=\"background-color:rgba(135,206,250,0.11249999999999999);\">they</span> <span style=\"background-color:rgba(135,206,250,0.15);\">even</span> <span style=\"background-color:rgba(135,206,250,0.09999999999999999);\">sent</span> <span style=\"background-color:rgba(135,206,250,0.08750000000000001);\">me</span> <span style=\"background-color:rgba(135,206,250,0.1625);\">cookies</span> <span style=\"background-color:rgba(135,206,250,0.09999999999999999);\">home</span> <span style=\"background-color:rgba(135,206,250,0.5249999999999999);\">!</span> <span style=\"background-color:rgba(135,206,250,0.26249999999999996);\">)</span> <span style=\"background-color:rgba(135,206,250,0.25);\">,</span> <span style=\"background-color:rgba(135,206,250,0.17500000000000002);\">really</span> <span style=\"background-color:rgba(135,206,250,0.125);\">good</span> <span style=\"background-color:rgba(135,206,250,0.18749999999999997);\">return</span> <span style=\"background-color:rgba(135,206,250,0.1625);\">service</span> <span style=\"background-color:rgba(135,206,250,0.26249999999999996);\">,</span> <span style=\"background-color:rgba(135,206,250,0.26249999999999996);\">-</span> <span style=\"background-color:rgba(135,206,250,0.15);\">1</span> <span style=\"background-color:rgba(135,206,250,0.43749999999999994);\">star</span> <span style=\"background-color:rgba(135,206,250,0.18749999999999997);\">for</span> <span style=\"background-color:rgba(135,206,250,0.08750000000000001);\">being</span> <span style=\"background-color:rgba(135,206,250,0.18749999999999997);\">pricier</span> <span style=\"background-color:rgba(135,206,250,0.09999999999999999);\">than</span> <span style=\"background-color:rgba(135,206,250,0.075);\">other</span> <span style=\"background-color:rgba(135,206,250,0.25);\">sites</span> <span style=\"background-color:rgba(135,206,250,0.3125);\">but</span> <span style=\"background-color:rgba(135,206,250,0.13749999999999998);\">you</span> <span style=\"background-color:rgba(135,206,250,0.15);\">get</span> <span style=\"background-color:rgba(135,206,250,0.15);\">what</span> <span style=\"background-color:rgba(135,206,250,0.08750000000000001);\">you</span> <span style=\"background-color:rgba(135,206,250,0.2125);\">pay</span> <span style=\"background-color:rgba(135,206,250,0.17500000000000002);\">i</span> <span style=\"background-color:rgba(135,206,250,0.1625);\">&#x27;</span> <span style=\"background-color:rgba(135,206,250,0.2875);\">d</span> <span style=\"background-color:rgba(135,206,250,0.5125);\">say</span> <span style=\"background-color:rgba(135,206,250,0.85);\">.</span><br>"
      ],
      "text/plain": [
       "<IPython.core.display.HTML object>"
      ]
     },
     "metadata": {},
     "output_type": "display_data"
    }
   ],
   "source": [
    "absa.summary(delivery)\n",
    "absa.display(delivery.review)"
   ]
  },
  {
   "cell_type": "code",
   "execution_count": null,
   "metadata": {},
   "outputs": [],
   "source": []
  },
  {
   "cell_type": "code",
   "execution_count": null,
   "metadata": {},
   "outputs": [],
   "source": []
  },
  {
   "cell_type": "markdown",
   "metadata": {},
   "source": [
    "### OLD CODE"
   ]
  },
  {
   "cell_type": "code",
   "execution_count": 9,
   "metadata": {},
   "outputs": [
    {
     "name": "stderr",
     "output_type": "stream",
     "text": [
      "2021-04-11 11:46:35 INFO: Loading these models for language: en (English):\n",
      "=========================\n",
      "| Processor | Package   |\n",
      "-------------------------\n",
      "| tokenize  | combined  |\n",
      "| pos       | combined  |\n",
      "| lemma     | combined  |\n",
      "| depparse  | combined  |\n",
      "| sentiment | sstplus   |\n",
      "| ner       | ontonotes |\n",
      "=========================\n",
      "\n",
      "2021-04-11 11:46:35 INFO: Use device: gpu\n",
      "2021-04-11 11:46:35 INFO: Loading: tokenize\n",
      "2021-04-11 11:46:36 INFO: Loading: pos\n",
      "2021-04-11 11:46:36 INFO: Loading: lemma\n",
      "2021-04-11 11:46:37 INFO: Loading: depparse\n",
      "2021-04-11 11:46:37 INFO: Loading: sentiment\n",
      "2021-04-11 11:46:37 INFO: Loading: ner\n",
      "2021-04-11 11:46:38 INFO: Done loading processors!\n"
     ]
    }
   ],
   "source": [
    "# Make sure you have downloaded the StanfordNLP English model and other essential tools using,\n",
    "# stanfordnlp.download('en')\n",
    "# nltk.download('stopwords')\n",
    "# nltk.download('punkt')\n",
    "# nltk.download('averaged_perceptron_tagger')\n",
    "\n",
    "def aspect_sentiment_analysis(txt, stop_words, nlp):\n",
    "    \n",
    "    txt = txt.lower() # LowerCasing the given Text\n",
    "    sentList = nltk.sent_tokenize(txt) # Splitting the text into sentences\n",
    "\n",
    "    fcluster = []\n",
    "    totalfeatureList = []\n",
    "    finalcluster = []\n",
    "    dic = {}\n",
    "\n",
    "    for line in sentList:\n",
    "        newtaggedList = []\n",
    "        txt_list = nltk.word_tokenize(line) # Splitting up into words\n",
    "        taggedList = nltk.pos_tag(txt_list) # Doing Part-of-Speech Tagging to each word\n",
    "\n",
    "        newwordList = []\n",
    "        flag = 0\n",
    "        for i in range(0,len(taggedList)-1):\n",
    "            if(taggedList[i][1]==\"NN\" and taggedList[i+1][1]==\"NN\"): # If two consecutive words are Nouns then they are joined together\n",
    "                newwordList.append(taggedList[i][0]+taggedList[i+1][0])\n",
    "                flag=1\n",
    "            else:\n",
    "                if(flag==1):\n",
    "                    flag=0\n",
    "                    continue\n",
    "                newwordList.append(taggedList[i][0])\n",
    "                if(i==len(taggedList)-2):\n",
    "                    newwordList.append(taggedList[i+1][0])\n",
    "\n",
    "        finaltxt = ' '.join(word for word in newwordList) \n",
    "        new_txt_list = nltk.word_tokenize(finaltxt)\n",
    "        wordsList = [w for w in new_txt_list if not w in stop_words]\n",
    "        taggedList = nltk.pos_tag(wordsList)\n",
    "\n",
    "        doc = nlp(finaltxt) # Object of Stanford NLP Pipeleine\n",
    "        \n",
    "        # Getting the dependency relations betwwen the words\n",
    "        dep_node = []\n",
    "\n",
    "        for dep_edge in doc.sentences[0].dependencies:\n",
    "            dep_node.append([dep_edge[2].text, dep_edge[0].id, dep_edge[1]])\n",
    "\n",
    "        # Coverting it into appropriate format\n",
    "        for i in range(0, len(dep_node)):\n",
    "            if (int(dep_node[i][1]) != 0):\n",
    "                dep_node[i][1] = newwordList[(int(dep_node[i][1]) - 1)]\n",
    "\n",
    "        featureList = []\n",
    "        categories = []\n",
    "        for i in taggedList:\n",
    "            if(i[1]=='JJ' or i[1]=='NN' or i[1]=='JJR' or i[1]=='NNS' or i[1]=='RB'):\n",
    "                featureList.append(list(i)) # For features for each sentence\n",
    "                totalfeatureList.append(list(i)) # Stores the features of all the sentences in the text\n",
    "                categories.append(i[0])\n",
    "\n",
    "        for i in featureList:\n",
    "            filist = []\n",
    "            for j in dep_node:\n",
    "                if((j[0]==i[0] or j[1]==i[0]) and (j[2] in [\"nsubj\", \"acl:relcl\", \"obj\", \"dobj\", \"agent\", \"advmod\", \"amod\", \"neg\", \"prep_of\", \"acomp\", \"xcomp\", \"compound\"])):\n",
    "                    if(j[0]==i[0]):\n",
    "                        filist.append(j[1])\n",
    "                    else:\n",
    "                        filist.append(j[0])\n",
    "            fcluster.append([i[0], filist])\n",
    "            \n",
    "    for i in totalfeatureList:\n",
    "        dic[i[0]] = i[1]\n",
    "    \n",
    "    for i in fcluster:\n",
    "        if(dic[i[0]]==\"NN\"):\n",
    "            finalcluster.append(i)\n",
    "        \n",
    "    return finalcluster\n",
    "\n",
    "nlp = stanza.Pipeline('en')\n",
    "stop_words = set(stopwords.words('english'))\n",
    "# txt = \"De muziek kwaliteit is erg goed maar de levensduur van de batterij is verschrikkelijk.\"\n",
    "txt = \"This is an super interesting testrun that has gone horribly wrong.\"\n",
    "\n",
    "\n",
    "test = aspect_sentiment_analysis(txt, stop_words, nlp)"
   ]
  }
 ],
 "metadata": {
  "kernelspec": {
   "display_name": "Python 3",
   "language": "python",
   "name": "python3"
  },
  "language_info": {
   "codemirror_mode": {
    "name": "ipython",
    "version": 3
   },
   "file_extension": ".py",
   "mimetype": "text/x-python",
   "name": "python",
   "nbconvert_exporter": "python",
   "pygments_lexer": "ipython3",
   "version": "3.7.9"
  }
 },
 "nbformat": 4,
 "nbformat_minor": 4
}
